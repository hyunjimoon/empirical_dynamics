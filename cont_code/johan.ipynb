{
 "cells": [
  {
   "cell_type": "markdown",
   "metadata": {
    "pycharm": {
     "name": "#%% md\n"
    }
   },
   "source": [
    "## functions in util module"
   ]
  },
  {
   "cell_type": "code",
   "execution_count": 1,
   "outputs": [],
   "source": [
    "# merging new's (movieID, title) with old's title so that detailed roles (crew information which old data seem to have??) can be added.\n",
    "# cinemagoer can be used for teh new's template ia.getmovieID()?"
   ],
   "metadata": {
    "collapsed": false,
    "pycharm": {
     "name": "#%%\n"
    }
   }
  },
  {
   "cell_type": "code",
   "execution_count": 3,
   "outputs": [],
   "source": [
    "import string\n",
    "import pandas as pd\n",
    "from src.match_format import txt2df, tsv2df\n",
    "from src.join_filter import movie, person, movie_person\n",
    "from src.check_consistent import print_shape, multi_col_unique, movie_compare\n",
    "import numpy\n",
    "from imdb import Cinemagoer\n",
    "import os\n",
    "# test data: old_movie = pd.read_pickle('data/movie/old_movie.pkl')"
   ],
   "metadata": {
    "collapsed": false,
    "pycharm": {
     "name": "#%%\n"
    }
   }
  },
  {
   "cell_type": "code",
   "execution_count": 53,
   "outputs": [],
   "source": [
    "#movie_person()\n",
    "pmc = pd.read_pickle(\"new_person_movie_character.pkl\")"
   ],
   "metadata": {
    "collapsed": false,
    "pycharm": {
     "name": "#%%\n"
    }
   }
  },
  {
   "cell_type": "code",
   "execution_count": 56,
   "outputs": [
    {
     "data": {
      "text/plain": "             nconst      tconst category          characters\n0         nm0000001   tt0025164    actor      [\"Guy Holden\"]\n1         nm0000001   tt0026942    actor     [\"Huck Haines\"]\n2         nm0000001   tt0027125    actor   [\"Jerry Travers\"]\n3         nm0000001   tt0027630    actor      [\"Bake Baker\"]\n4         nm0000001   tt0028333    actor   [\"Lucky Garnett\"]\n...             ...         ...      ...                 ...\n52467412  nm9993708  tt14508814  actress           [\"Extra\"]\n52467415  nm9993708  tt21028920  actress                  \\N\n52467420  nm9993709  tt11702702  actress  [\"Observant Poet\"]\n52467423  nm9993709  tt11772842  actress              [\"Lu\"]\n52467430  nm9993709  tt21028920  actress                  \\N\n\n[20533189 rows x 4 columns]",
      "text/html": "<div>\n<style scoped>\n    .dataframe tbody tr th:only-of-type {\n        vertical-align: middle;\n    }\n\n    .dataframe tbody tr th {\n        vertical-align: top;\n    }\n\n    .dataframe thead th {\n        text-align: right;\n    }\n</style>\n<table border=\"1\" class=\"dataframe\">\n  <thead>\n    <tr style=\"text-align: right;\">\n      <th></th>\n      <th>nconst</th>\n      <th>tconst</th>\n      <th>category</th>\n      <th>characters</th>\n    </tr>\n  </thead>\n  <tbody>\n    <tr>\n      <th>0</th>\n      <td>nm0000001</td>\n      <td>tt0025164</td>\n      <td>actor</td>\n      <td>[\"Guy Holden\"]</td>\n    </tr>\n    <tr>\n      <th>1</th>\n      <td>nm0000001</td>\n      <td>tt0026942</td>\n      <td>actor</td>\n      <td>[\"Huck Haines\"]</td>\n    </tr>\n    <tr>\n      <th>2</th>\n      <td>nm0000001</td>\n      <td>tt0027125</td>\n      <td>actor</td>\n      <td>[\"Jerry Travers\"]</td>\n    </tr>\n    <tr>\n      <th>3</th>\n      <td>nm0000001</td>\n      <td>tt0027630</td>\n      <td>actor</td>\n      <td>[\"Bake Baker\"]</td>\n    </tr>\n    <tr>\n      <th>4</th>\n      <td>nm0000001</td>\n      <td>tt0028333</td>\n      <td>actor</td>\n      <td>[\"Lucky Garnett\"]</td>\n    </tr>\n    <tr>\n      <th>...</th>\n      <td>...</td>\n      <td>...</td>\n      <td>...</td>\n      <td>...</td>\n    </tr>\n    <tr>\n      <th>52467412</th>\n      <td>nm9993708</td>\n      <td>tt14508814</td>\n      <td>actress</td>\n      <td>[\"Extra\"]</td>\n    </tr>\n    <tr>\n      <th>52467415</th>\n      <td>nm9993708</td>\n      <td>tt21028920</td>\n      <td>actress</td>\n      <td>\\N</td>\n    </tr>\n    <tr>\n      <th>52467420</th>\n      <td>nm9993709</td>\n      <td>tt11702702</td>\n      <td>actress</td>\n      <td>[\"Observant Poet\"]</td>\n    </tr>\n    <tr>\n      <th>52467423</th>\n      <td>nm9993709</td>\n      <td>tt11772842</td>\n      <td>actress</td>\n      <td>[\"Lu\"]</td>\n    </tr>\n    <tr>\n      <th>52467430</th>\n      <td>nm9993709</td>\n      <td>tt21028920</td>\n      <td>actress</td>\n      <td>\\N</td>\n    </tr>\n  </tbody>\n</table>\n<p>20533189 rows × 4 columns</p>\n</div>"
     },
     "execution_count": 56,
     "metadata": {},
     "output_type": "execute_result"
    }
   ],
   "source": [
    "pmc"
   ],
   "metadata": {
    "collapsed": false,
    "pycharm": {
     "name": "#%%\n"
    }
   }
  },
  {
   "cell_type": "code",
   "execution_count": 54,
   "outputs": [],
   "source": [
    "pmc_person = pmc.nconst.unique() # 2m -"
   ],
   "metadata": {
    "collapsed": false,
    "pycharm": {
     "name": "#%%\n"
    }
   }
  },
  {
   "cell_type": "code",
   "execution_count": 30,
   "outputs": [
    {
     "data": {
      "text/plain": "array(['tt0025164', 'tt0026942', 'tt0027125', ..., 'tt8743714',\n       'tt8744122', 'tt8744160'], dtype=object)"
     },
     "execution_count": 30,
     "metadata": {},
     "output_type": "execute_result"
    }
   ],
   "source": [
    "pmc_movie = pmc.tconst.unique() #filter only the us-based ones\n",
    "pmc_movie"
   ],
   "metadata": {
    "collapsed": false,
    "pycharm": {
     "name": "#%%\n"
    }
   }
  },
  {
   "cell_type": "code",
   "execution_count": 38,
   "outputs": [],
   "source": [
    "pmc_movie_df = pd.DataFrame(pmc_movie).rename({\"0\":\"pmc_titleId\"}, inplace = True)"
   ],
   "metadata": {
    "collapsed": false,
    "pycharm": {
     "name": "#%%\n"
    }
   }
  },
  {
   "cell_type": "code",
   "execution_count": 47,
   "outputs": [
    {
     "data": {
      "text/plain": "           titleId\n0        tt0025164\n1        tt0026942\n2        tt0027125\n3        tt0027630\n4        tt0028333\n...            ...\n5152576  tt8743674\n5152577  tt8743704\n5152578  tt8743714\n5152579  tt8744122\n5152580  tt8744160\n\n[5152581 rows x 1 columns]",
      "text/html": "<div>\n<style scoped>\n    .dataframe tbody tr th:only-of-type {\n        vertical-align: middle;\n    }\n\n    .dataframe tbody tr th {\n        vertical-align: top;\n    }\n\n    .dataframe thead th {\n        text-align: right;\n    }\n</style>\n<table border=\"1\" class=\"dataframe\">\n  <thead>\n    <tr style=\"text-align: right;\">\n      <th></th>\n      <th>titleId</th>\n    </tr>\n  </thead>\n  <tbody>\n    <tr>\n      <th>0</th>\n      <td>tt0025164</td>\n    </tr>\n    <tr>\n      <th>1</th>\n      <td>tt0026942</td>\n    </tr>\n    <tr>\n      <th>2</th>\n      <td>tt0027125</td>\n    </tr>\n    <tr>\n      <th>3</th>\n      <td>tt0027630</td>\n    </tr>\n    <tr>\n      <th>4</th>\n      <td>tt0028333</td>\n    </tr>\n    <tr>\n      <th>...</th>\n      <td>...</td>\n    </tr>\n    <tr>\n      <th>5152576</th>\n      <td>tt8743674</td>\n    </tr>\n    <tr>\n      <th>5152577</th>\n      <td>tt8743704</td>\n    </tr>\n    <tr>\n      <th>5152578</th>\n      <td>tt8743714</td>\n    </tr>\n    <tr>\n      <th>5152579</th>\n      <td>tt8744122</td>\n    </tr>\n    <tr>\n      <th>5152580</th>\n      <td>tt8744160</td>\n    </tr>\n  </tbody>\n</table>\n<p>5152581 rows × 1 columns</p>\n</div>"
     },
     "execution_count": 47,
     "metadata": {},
     "output_type": "execute_result"
    }
   ],
   "source": [
    "pmc_movie = pd.DataFrame(pmc_movie)\n",
    "pmc_movie.columns = [\"titleId\"] #rename({\"0\":\"pmc_titleId\"})\n",
    "pmc_movie"
   ],
   "metadata": {
    "collapsed": false,
    "pycharm": {
     "name": "#%%\n"
    }
   }
  },
  {
   "cell_type": "code",
   "execution_count": 60,
   "outputs": [
    {
     "data": {
      "text/plain": "          tconst      old_id  \\\n0      tt0808541       OLD60   \n1      tt0970184      OLD218   \n2      tt1819776     OLD2120   \n3      tt1564349     OLD2185   \n4      tt2133340     OLD2216   \n...          ...         ...   \n93277  tt0097994  OLD2544715   \n93278  tt0034166  OLD2544825   \n93279  tt0021078  OLD2544845   \n93280  tt0023539  OLD2544867   \n93281  tt0031968  OLD2545209   \n\n                                                   title  year  \n0                                                 Winter  2006  \n1      Operation Homecoming: Writing the Wartime Expe...  2007  \n2                                                  Virus  2011  \n3                                           Dolphin Tale  2011  \n4                                          The Foreigner  2011  \n...                                                  ...   ...  \n93277                                   Nobody's Perfect  1990  \n93278                           Secret of the Wastelands  1941  \n93279                                    Little Accident  1930  \n93280                                       Sunset Trail  1932  \n93281                                   The Spy in Black  1939  \n\n[93282 rows x 4 columns]",
      "text/html": "<div>\n<style scoped>\n    .dataframe tbody tr th:only-of-type {\n        vertical-align: middle;\n    }\n\n    .dataframe tbody tr th {\n        vertical-align: top;\n    }\n\n    .dataframe thead th {\n        text-align: right;\n    }\n</style>\n<table border=\"1\" class=\"dataframe\">\n  <thead>\n    <tr style=\"text-align: right;\">\n      <th></th>\n      <th>tconst</th>\n      <th>old_id</th>\n      <th>title</th>\n      <th>year</th>\n    </tr>\n  </thead>\n  <tbody>\n    <tr>\n      <th>0</th>\n      <td>tt0808541</td>\n      <td>OLD60</td>\n      <td>Winter</td>\n      <td>2006</td>\n    </tr>\n    <tr>\n      <th>1</th>\n      <td>tt0970184</td>\n      <td>OLD218</td>\n      <td>Operation Homecoming: Writing the Wartime Expe...</td>\n      <td>2007</td>\n    </tr>\n    <tr>\n      <th>2</th>\n      <td>tt1819776</td>\n      <td>OLD2120</td>\n      <td>Virus</td>\n      <td>2011</td>\n    </tr>\n    <tr>\n      <th>3</th>\n      <td>tt1564349</td>\n      <td>OLD2185</td>\n      <td>Dolphin Tale</td>\n      <td>2011</td>\n    </tr>\n    <tr>\n      <th>4</th>\n      <td>tt2133340</td>\n      <td>OLD2216</td>\n      <td>The Foreigner</td>\n      <td>2011</td>\n    </tr>\n    <tr>\n      <th>...</th>\n      <td>...</td>\n      <td>...</td>\n      <td>...</td>\n      <td>...</td>\n    </tr>\n    <tr>\n      <th>93277</th>\n      <td>tt0097994</td>\n      <td>OLD2544715</td>\n      <td>Nobody's Perfect</td>\n      <td>1990</td>\n    </tr>\n    <tr>\n      <th>93278</th>\n      <td>tt0034166</td>\n      <td>OLD2544825</td>\n      <td>Secret of the Wastelands</td>\n      <td>1941</td>\n    </tr>\n    <tr>\n      <th>93279</th>\n      <td>tt0021078</td>\n      <td>OLD2544845</td>\n      <td>Little Accident</td>\n      <td>1930</td>\n    </tr>\n    <tr>\n      <th>93280</th>\n      <td>tt0023539</td>\n      <td>OLD2544867</td>\n      <td>Sunset Trail</td>\n      <td>1932</td>\n    </tr>\n    <tr>\n      <th>93281</th>\n      <td>tt0031968</td>\n      <td>OLD2545209</td>\n      <td>The Spy in Black</td>\n      <td>1939</td>\n    </tr>\n  </tbody>\n</table>\n<p>93282 rows × 4 columns</p>\n</div>"
     },
     "execution_count": 60,
     "metadata": {},
     "output_type": "execute_result"
    }
   ],
   "source": [
    "mi = pd.read_csv(\"mi.tsv\", sep = \"\\t\")\n",
    "mi.rename(columns={\"titleId\": \"tconst\"}, inplace=True)\n",
    "mi"
   ],
   "metadata": {
    "collapsed": false,
    "pycharm": {
     "name": "#%%\n"
    }
   }
  },
  {
   "cell_type": "code",
   "execution_count": 61,
   "outputs": [],
   "source": [
    "df = pd.merge(pmc, mi, on = 'tconst')"
   ],
   "metadata": {
    "collapsed": false,
    "pycharm": {
     "name": "#%%\n"
    }
   }
  },
  {
   "cell_type": "code",
   "execution_count": 62,
   "outputs": [
    {
     "data": {
      "text/plain": "           nconst     tconst category                     characters  \\\n0       nm0000001  tt0025164    actor                 [\"Guy Holden\"]   \n1       nm0001677  tt0025164  actress               [\"Mimi Glossop\"]   \n2       nm0002143  tt0025164    actor  [\"Egbert 'Pinky' Fitzgerald\"]   \n3       nm0103567  tt0025164  actress              [\"Aunt Hortense\"]   \n4       nm0000001  tt0026942    actor                [\"Huck Haines\"]   \n...           ...        ...      ...                            ...   \n346239  nm9832080  tt1730714    actor                      [\"Topaz\"]   \n346240  nm9888177  tt2181837    actor                             \\N   \n346241  nm9953110  tt1418781    actor   [\"Guy sleeping in the Fire\"]   \n346242  nm9982556  tt8718492    actor                     [\"Vision\"]   \n346243  nm9982557  tt8718492    actor                    [\"Suspect\"]   \n\n            old_id                 title  year  \n0       OLD2390344      The Gay Divorcee  1934  \n1       OLD2390344      The Gay Divorcee  1934  \n2       OLD2390344      The Gay Divorcee  1934  \n3       OLD2390344      The Gay Divorcee  1934  \n4       OLD2242602               Roberta  1935  \n...            ...                   ...   ...  \n346239  OLD2224616          Rubble Kings  2010  \n346240  OLD1747385         Bending Steel  2013  \n346241  OLD1691083  A Family Underground  2009  \n346242  OLD2139024            Miles Away  2011  \n346243  OLD2139024            Miles Away  2011  \n\n[346244 rows x 7 columns]",
      "text/html": "<div>\n<style scoped>\n    .dataframe tbody tr th:only-of-type {\n        vertical-align: middle;\n    }\n\n    .dataframe tbody tr th {\n        vertical-align: top;\n    }\n\n    .dataframe thead th {\n        text-align: right;\n    }\n</style>\n<table border=\"1\" class=\"dataframe\">\n  <thead>\n    <tr style=\"text-align: right;\">\n      <th></th>\n      <th>nconst</th>\n      <th>tconst</th>\n      <th>category</th>\n      <th>characters</th>\n      <th>old_id</th>\n      <th>title</th>\n      <th>year</th>\n    </tr>\n  </thead>\n  <tbody>\n    <tr>\n      <th>0</th>\n      <td>nm0000001</td>\n      <td>tt0025164</td>\n      <td>actor</td>\n      <td>[\"Guy Holden\"]</td>\n      <td>OLD2390344</td>\n      <td>The Gay Divorcee</td>\n      <td>1934</td>\n    </tr>\n    <tr>\n      <th>1</th>\n      <td>nm0001677</td>\n      <td>tt0025164</td>\n      <td>actress</td>\n      <td>[\"Mimi Glossop\"]</td>\n      <td>OLD2390344</td>\n      <td>The Gay Divorcee</td>\n      <td>1934</td>\n    </tr>\n    <tr>\n      <th>2</th>\n      <td>nm0002143</td>\n      <td>tt0025164</td>\n      <td>actor</td>\n      <td>[\"Egbert 'Pinky' Fitzgerald\"]</td>\n      <td>OLD2390344</td>\n      <td>The Gay Divorcee</td>\n      <td>1934</td>\n    </tr>\n    <tr>\n      <th>3</th>\n      <td>nm0103567</td>\n      <td>tt0025164</td>\n      <td>actress</td>\n      <td>[\"Aunt Hortense\"]</td>\n      <td>OLD2390344</td>\n      <td>The Gay Divorcee</td>\n      <td>1934</td>\n    </tr>\n    <tr>\n      <th>4</th>\n      <td>nm0000001</td>\n      <td>tt0026942</td>\n      <td>actor</td>\n      <td>[\"Huck Haines\"]</td>\n      <td>OLD2242602</td>\n      <td>Roberta</td>\n      <td>1935</td>\n    </tr>\n    <tr>\n      <th>...</th>\n      <td>...</td>\n      <td>...</td>\n      <td>...</td>\n      <td>...</td>\n      <td>...</td>\n      <td>...</td>\n      <td>...</td>\n    </tr>\n    <tr>\n      <th>346239</th>\n      <td>nm9832080</td>\n      <td>tt1730714</td>\n      <td>actor</td>\n      <td>[\"Topaz\"]</td>\n      <td>OLD2224616</td>\n      <td>Rubble Kings</td>\n      <td>2010</td>\n    </tr>\n    <tr>\n      <th>346240</th>\n      <td>nm9888177</td>\n      <td>tt2181837</td>\n      <td>actor</td>\n      <td>\\N</td>\n      <td>OLD1747385</td>\n      <td>Bending Steel</td>\n      <td>2013</td>\n    </tr>\n    <tr>\n      <th>346241</th>\n      <td>nm9953110</td>\n      <td>tt1418781</td>\n      <td>actor</td>\n      <td>[\"Guy sleeping in the Fire\"]</td>\n      <td>OLD1691083</td>\n      <td>A Family Underground</td>\n      <td>2009</td>\n    </tr>\n    <tr>\n      <th>346242</th>\n      <td>nm9982556</td>\n      <td>tt8718492</td>\n      <td>actor</td>\n      <td>[\"Vision\"]</td>\n      <td>OLD2139024</td>\n      <td>Miles Away</td>\n      <td>2011</td>\n    </tr>\n    <tr>\n      <th>346243</th>\n      <td>nm9982557</td>\n      <td>tt8718492</td>\n      <td>actor</td>\n      <td>[\"Suspect\"]</td>\n      <td>OLD2139024</td>\n      <td>Miles Away</td>\n      <td>2011</td>\n    </tr>\n  </tbody>\n</table>\n<p>346244 rows × 7 columns</p>\n</div>"
     },
     "execution_count": 62,
     "metadata": {},
     "output_type": "execute_result"
    }
   ],
   "source": [
    "df #350k"
   ],
   "metadata": {
    "collapsed": false,
    "pycharm": {
     "name": "#%%\n"
    }
   }
  },
  {
   "cell_type": "code",
   "execution_count": 63,
   "outputs": [],
   "source": [
    "df_outer = pd.merge(pmc, mi, on = 'tconst', how = 'outer')"
   ],
   "metadata": {
    "collapsed": false,
    "pycharm": {
     "name": "#%%\n"
    }
   }
  },
  {
   "cell_type": "code",
   "execution_count": 64,
   "outputs": [
    {
     "data": {
      "text/plain": "             nconst     tconst category                     characters  \\\n0         nm0000001  tt0025164    actor                 [\"Guy Holden\"]   \n1         nm0001677  tt0025164  actress               [\"Mimi Glossop\"]   \n2         nm0002143  tt0025164    actor  [\"Egbert 'Pinky' Fitzgerald\"]   \n3         nm0103567  tt0025164  actress              [\"Aunt Hortense\"]   \n4         nm0000001  tt0026942    actor                [\"Huck Haines\"]   \n...             ...        ...      ...                            ...   \n20546700        NaN  tt2015531      NaN                            NaN   \n20546701        NaN  tt1533113      NaN                            NaN   \n20546702        NaN  tt0334700      NaN                            NaN   \n20546703        NaN  tt0194553      NaN                            NaN   \n20546704        NaN  tt2509922      NaN                            NaN   \n\n              old_id                                              title  \\\n0         OLD2390344                                   The Gay Divorcee   \n1         OLD2390344                                   The Gay Divorcee   \n2         OLD2390344                                   The Gay Divorcee   \n3         OLD2390344                                   The Gay Divorcee   \n4         OLD2242602                                            Roberta   \n...              ...                                                ...   \n20546700  OLD2542534                             Writing Down the River   \n20546701  OLD2542535  Where Do You Stand? Stories from an American Mill   \n20546702  OLD2542554                    What to Do About Upset Feelings   \n20546703  OLD2542672                                    World of Comedy   \n20546704  OLD2542890                               Where the Trail Ends   \n\n            year  \n0         1934.0  \n1         1934.0  \n2         1934.0  \n3         1934.0  \n4         1935.0  \n...          ...  \n20546700  2000.0  \n20546701  2004.0  \n20546702  1964.0  \n20546703  1962.0  \n20546704  2012.0  \n\n[20546705 rows x 7 columns]",
      "text/html": "<div>\n<style scoped>\n    .dataframe tbody tr th:only-of-type {\n        vertical-align: middle;\n    }\n\n    .dataframe tbody tr th {\n        vertical-align: top;\n    }\n\n    .dataframe thead th {\n        text-align: right;\n    }\n</style>\n<table border=\"1\" class=\"dataframe\">\n  <thead>\n    <tr style=\"text-align: right;\">\n      <th></th>\n      <th>nconst</th>\n      <th>tconst</th>\n      <th>category</th>\n      <th>characters</th>\n      <th>old_id</th>\n      <th>title</th>\n      <th>year</th>\n    </tr>\n  </thead>\n  <tbody>\n    <tr>\n      <th>0</th>\n      <td>nm0000001</td>\n      <td>tt0025164</td>\n      <td>actor</td>\n      <td>[\"Guy Holden\"]</td>\n      <td>OLD2390344</td>\n      <td>The Gay Divorcee</td>\n      <td>1934.0</td>\n    </tr>\n    <tr>\n      <th>1</th>\n      <td>nm0001677</td>\n      <td>tt0025164</td>\n      <td>actress</td>\n      <td>[\"Mimi Glossop\"]</td>\n      <td>OLD2390344</td>\n      <td>The Gay Divorcee</td>\n      <td>1934.0</td>\n    </tr>\n    <tr>\n      <th>2</th>\n      <td>nm0002143</td>\n      <td>tt0025164</td>\n      <td>actor</td>\n      <td>[\"Egbert 'Pinky' Fitzgerald\"]</td>\n      <td>OLD2390344</td>\n      <td>The Gay Divorcee</td>\n      <td>1934.0</td>\n    </tr>\n    <tr>\n      <th>3</th>\n      <td>nm0103567</td>\n      <td>tt0025164</td>\n      <td>actress</td>\n      <td>[\"Aunt Hortense\"]</td>\n      <td>OLD2390344</td>\n      <td>The Gay Divorcee</td>\n      <td>1934.0</td>\n    </tr>\n    <tr>\n      <th>4</th>\n      <td>nm0000001</td>\n      <td>tt0026942</td>\n      <td>actor</td>\n      <td>[\"Huck Haines\"]</td>\n      <td>OLD2242602</td>\n      <td>Roberta</td>\n      <td>1935.0</td>\n    </tr>\n    <tr>\n      <th>...</th>\n      <td>...</td>\n      <td>...</td>\n      <td>...</td>\n      <td>...</td>\n      <td>...</td>\n      <td>...</td>\n      <td>...</td>\n    </tr>\n    <tr>\n      <th>20546700</th>\n      <td>NaN</td>\n      <td>tt2015531</td>\n      <td>NaN</td>\n      <td>NaN</td>\n      <td>OLD2542534</td>\n      <td>Writing Down the River</td>\n      <td>2000.0</td>\n    </tr>\n    <tr>\n      <th>20546701</th>\n      <td>NaN</td>\n      <td>tt1533113</td>\n      <td>NaN</td>\n      <td>NaN</td>\n      <td>OLD2542535</td>\n      <td>Where Do You Stand? Stories from an American Mill</td>\n      <td>2004.0</td>\n    </tr>\n    <tr>\n      <th>20546702</th>\n      <td>NaN</td>\n      <td>tt0334700</td>\n      <td>NaN</td>\n      <td>NaN</td>\n      <td>OLD2542554</td>\n      <td>What to Do About Upset Feelings</td>\n      <td>1964.0</td>\n    </tr>\n    <tr>\n      <th>20546703</th>\n      <td>NaN</td>\n      <td>tt0194553</td>\n      <td>NaN</td>\n      <td>NaN</td>\n      <td>OLD2542672</td>\n      <td>World of Comedy</td>\n      <td>1962.0</td>\n    </tr>\n    <tr>\n      <th>20546704</th>\n      <td>NaN</td>\n      <td>tt2509922</td>\n      <td>NaN</td>\n      <td>NaN</td>\n      <td>OLD2542890</td>\n      <td>Where the Trail Ends</td>\n      <td>2012.0</td>\n    </tr>\n  </tbody>\n</table>\n<p>20546705 rows × 7 columns</p>\n</div>"
     },
     "execution_count": 64,
     "metadata": {},
     "output_type": "execute_result"
    }
   ],
   "source": [
    "df_outer"
   ],
   "metadata": {
    "collapsed": false,
    "pycharm": {
     "name": "#%%\n"
    }
   }
  },
  {
   "cell_type": "code",
   "execution_count": 51,
   "outputs": [
    {
     "data": {
      "text/plain": "         titleId      old_id  \\\n0      tt0808541       OLD60   \n1      tt0970184      OLD218   \n2      tt1819776     OLD2120   \n3      tt1564349     OLD2185   \n4      tt2133340     OLD2216   \n...          ...         ...   \n93277  tt0097994  OLD2544715   \n93278  tt0034166  OLD2544825   \n93279  tt0021078  OLD2544845   \n93280  tt0023539  OLD2544867   \n93281  tt0031968  OLD2545209   \n\n                                                   title  year  \n0                                                 Winter  2006  \n1      Operation Homecoming: Writing the Wartime Expe...  2007  \n2                                                  Virus  2011  \n3                                           Dolphin Tale  2011  \n4                                          The Foreigner  2011  \n...                                                  ...   ...  \n93277                                   Nobody's Perfect  1990  \n93278                           Secret of the Wastelands  1941  \n93279                                    Little Accident  1930  \n93280                                       Sunset Trail  1932  \n93281                                   The Spy in Black  1939  \n\n[93282 rows x 4 columns]",
      "text/html": "<div>\n<style scoped>\n    .dataframe tbody tr th:only-of-type {\n        vertical-align: middle;\n    }\n\n    .dataframe tbody tr th {\n        vertical-align: top;\n    }\n\n    .dataframe thead th {\n        text-align: right;\n    }\n</style>\n<table border=\"1\" class=\"dataframe\">\n  <thead>\n    <tr style=\"text-align: right;\">\n      <th></th>\n      <th>titleId</th>\n      <th>old_id</th>\n      <th>title</th>\n      <th>year</th>\n    </tr>\n  </thead>\n  <tbody>\n    <tr>\n      <th>0</th>\n      <td>tt0808541</td>\n      <td>OLD60</td>\n      <td>Winter</td>\n      <td>2006</td>\n    </tr>\n    <tr>\n      <th>1</th>\n      <td>tt0970184</td>\n      <td>OLD218</td>\n      <td>Operation Homecoming: Writing the Wartime Expe...</td>\n      <td>2007</td>\n    </tr>\n    <tr>\n      <th>2</th>\n      <td>tt1819776</td>\n      <td>OLD2120</td>\n      <td>Virus</td>\n      <td>2011</td>\n    </tr>\n    <tr>\n      <th>3</th>\n      <td>tt1564349</td>\n      <td>OLD2185</td>\n      <td>Dolphin Tale</td>\n      <td>2011</td>\n    </tr>\n    <tr>\n      <th>4</th>\n      <td>tt2133340</td>\n      <td>OLD2216</td>\n      <td>The Foreigner</td>\n      <td>2011</td>\n    </tr>\n    <tr>\n      <th>...</th>\n      <td>...</td>\n      <td>...</td>\n      <td>...</td>\n      <td>...</td>\n    </tr>\n    <tr>\n      <th>93277</th>\n      <td>tt0097994</td>\n      <td>OLD2544715</td>\n      <td>Nobody's Perfect</td>\n      <td>1990</td>\n    </tr>\n    <tr>\n      <th>93278</th>\n      <td>tt0034166</td>\n      <td>OLD2544825</td>\n      <td>Secret of the Wastelands</td>\n      <td>1941</td>\n    </tr>\n    <tr>\n      <th>93279</th>\n      <td>tt0021078</td>\n      <td>OLD2544845</td>\n      <td>Little Accident</td>\n      <td>1930</td>\n    </tr>\n    <tr>\n      <th>93280</th>\n      <td>tt0023539</td>\n      <td>OLD2544867</td>\n      <td>Sunset Trail</td>\n      <td>1932</td>\n    </tr>\n    <tr>\n      <th>93281</th>\n      <td>tt0031968</td>\n      <td>OLD2545209</td>\n      <td>The Spy in Black</td>\n      <td>1939</td>\n    </tr>\n  </tbody>\n</table>\n<p>93282 rows × 4 columns</p>\n</div>"
     },
     "execution_count": 51,
     "metadata": {},
     "output_type": "execute_result"
    }
   ],
   "source": [
    "# tt2951482, tt3081480 (Breaking Point 2013) both in?b"
   ],
   "metadata": {
    "collapsed": false,
    "pycharm": {
     "name": "#%%\n"
    }
   }
  },
  {
   "cell_type": "code",
   "execution_count": 65,
   "outputs": [
    {
     "data": {
      "text/plain": "           nconst     tconst category          characters    old_id  \\\n296461  nm1043487  tt2951482  actress   [\"News Reporter\"]  OLD12777   \n296462  nm2071296  tt2951482    actor  [\"Jimmy Stephens\"]  OLD12777   \n296463  nm4284309  tt2951482  actress    [\"Jen Stephens\"]  OLD12777   \n296464  nm4285118  tt2951482  actress   [\"Store Cashier\"]  OLD12777   \n296465  nm5225546  tt2951482    actor  [\"Jesse Stephens\"]  OLD12777   \n296466  nm5702978  tt2951482  actress  [\"Store Customer\"]  OLD12777   \n\n                 title  year  \n296461  Breaking Point  2013  \n296462  Breaking Point  2013  \n296463  Breaking Point  2013  \n296464  Breaking Point  2013  \n296465  Breaking Point  2013  \n296466  Breaking Point  2013  ",
      "text/html": "<div>\n<style scoped>\n    .dataframe tbody tr th:only-of-type {\n        vertical-align: middle;\n    }\n\n    .dataframe tbody tr th {\n        vertical-align: top;\n    }\n\n    .dataframe thead th {\n        text-align: right;\n    }\n</style>\n<table border=\"1\" class=\"dataframe\">\n  <thead>\n    <tr style=\"text-align: right;\">\n      <th></th>\n      <th>nconst</th>\n      <th>tconst</th>\n      <th>category</th>\n      <th>characters</th>\n      <th>old_id</th>\n      <th>title</th>\n      <th>year</th>\n    </tr>\n  </thead>\n  <tbody>\n    <tr>\n      <th>296461</th>\n      <td>nm1043487</td>\n      <td>tt2951482</td>\n      <td>actress</td>\n      <td>[\"News Reporter\"]</td>\n      <td>OLD12777</td>\n      <td>Breaking Point</td>\n      <td>2013</td>\n    </tr>\n    <tr>\n      <th>296462</th>\n      <td>nm2071296</td>\n      <td>tt2951482</td>\n      <td>actor</td>\n      <td>[\"Jimmy Stephens\"]</td>\n      <td>OLD12777</td>\n      <td>Breaking Point</td>\n      <td>2013</td>\n    </tr>\n    <tr>\n      <th>296463</th>\n      <td>nm4284309</td>\n      <td>tt2951482</td>\n      <td>actress</td>\n      <td>[\"Jen Stephens\"]</td>\n      <td>OLD12777</td>\n      <td>Breaking Point</td>\n      <td>2013</td>\n    </tr>\n    <tr>\n      <th>296464</th>\n      <td>nm4285118</td>\n      <td>tt2951482</td>\n      <td>actress</td>\n      <td>[\"Store Cashier\"]</td>\n      <td>OLD12777</td>\n      <td>Breaking Point</td>\n      <td>2013</td>\n    </tr>\n    <tr>\n      <th>296465</th>\n      <td>nm5225546</td>\n      <td>tt2951482</td>\n      <td>actor</td>\n      <td>[\"Jesse Stephens\"]</td>\n      <td>OLD12777</td>\n      <td>Breaking Point</td>\n      <td>2013</td>\n    </tr>\n    <tr>\n      <th>296466</th>\n      <td>nm5702978</td>\n      <td>tt2951482</td>\n      <td>actress</td>\n      <td>[\"Store Customer\"]</td>\n      <td>OLD12777</td>\n      <td>Breaking Point</td>\n      <td>2013</td>\n    </tr>\n  </tbody>\n</table>\n</div>"
     },
     "execution_count": 65,
     "metadata": {},
     "output_type": "execute_result"
    }
   ],
   "source": [
    "df[df.tconst == \"tt2951482\"]"
   ],
   "metadata": {
    "collapsed": false,
    "pycharm": {
     "name": "#%%\n"
    }
   }
  },
  {
   "cell_type": "code",
   "execution_count": 66,
   "outputs": [
    {
     "data": {
      "text/plain": "            nconst     tconst category           characters    old_id  \\\n301223  nm12056369  tt3081480  actress       [\"Girlfriend\"]  OLD12777   \n301224   nm2415387  tt3081480    actor  [\"Brandon Nichols\"]  OLD12777   \n301225   nm4390552  tt3081480  actress         [\"Michelle\"]  OLD12777   \n301226   nm5054020  tt3081480    actor             [\"DJay\"]  OLD12777   \n301227   nm5521927  tt3081480    actor         [\"Minister\"]  OLD12777   \n301228   nm5845571  tt3081480  actress        [\"Mary Anne\"]  OLD12777   \n\n                 title  year  \n301223  Breaking Point  2013  \n301224  Breaking Point  2013  \n301225  Breaking Point  2013  \n301226  Breaking Point  2013  \n301227  Breaking Point  2013  \n301228  Breaking Point  2013  ",
      "text/html": "<div>\n<style scoped>\n    .dataframe tbody tr th:only-of-type {\n        vertical-align: middle;\n    }\n\n    .dataframe tbody tr th {\n        vertical-align: top;\n    }\n\n    .dataframe thead th {\n        text-align: right;\n    }\n</style>\n<table border=\"1\" class=\"dataframe\">\n  <thead>\n    <tr style=\"text-align: right;\">\n      <th></th>\n      <th>nconst</th>\n      <th>tconst</th>\n      <th>category</th>\n      <th>characters</th>\n      <th>old_id</th>\n      <th>title</th>\n      <th>year</th>\n    </tr>\n  </thead>\n  <tbody>\n    <tr>\n      <th>301223</th>\n      <td>nm12056369</td>\n      <td>tt3081480</td>\n      <td>actress</td>\n      <td>[\"Girlfriend\"]</td>\n      <td>OLD12777</td>\n      <td>Breaking Point</td>\n      <td>2013</td>\n    </tr>\n    <tr>\n      <th>301224</th>\n      <td>nm2415387</td>\n      <td>tt3081480</td>\n      <td>actor</td>\n      <td>[\"Brandon Nichols\"]</td>\n      <td>OLD12777</td>\n      <td>Breaking Point</td>\n      <td>2013</td>\n    </tr>\n    <tr>\n      <th>301225</th>\n      <td>nm4390552</td>\n      <td>tt3081480</td>\n      <td>actress</td>\n      <td>[\"Michelle\"]</td>\n      <td>OLD12777</td>\n      <td>Breaking Point</td>\n      <td>2013</td>\n    </tr>\n    <tr>\n      <th>301226</th>\n      <td>nm5054020</td>\n      <td>tt3081480</td>\n      <td>actor</td>\n      <td>[\"DJay\"]</td>\n      <td>OLD12777</td>\n      <td>Breaking Point</td>\n      <td>2013</td>\n    </tr>\n    <tr>\n      <th>301227</th>\n      <td>nm5521927</td>\n      <td>tt3081480</td>\n      <td>actor</td>\n      <td>[\"Minister\"]</td>\n      <td>OLD12777</td>\n      <td>Breaking Point</td>\n      <td>2013</td>\n    </tr>\n    <tr>\n      <th>301228</th>\n      <td>nm5845571</td>\n      <td>tt3081480</td>\n      <td>actress</td>\n      <td>[\"Mary Anne\"]</td>\n      <td>OLD12777</td>\n      <td>Breaking Point</td>\n      <td>2013</td>\n    </tr>\n  </tbody>\n</table>\n</div>"
     },
     "execution_count": 66,
     "metadata": {},
     "output_type": "execute_result"
    }
   ],
   "source": [
    "df[df.tconst == \"tt3081480\"]"
   ],
   "metadata": {
    "collapsed": false,
    "pycharm": {
     "name": "#%%\n"
    }
   }
  },
  {
   "cell_type": "code",
   "execution_count": 50,
   "outputs": [
    {
     "data": {
      "text/plain": "          titleId      old_id                 title  year\n0       tt0025164  OLD2390344      The Gay Divorcee  1934\n1       tt0026942  OLD2242602               Roberta  1935\n2       tt0027125  OLD2465834               Top Hat  1935\n3       tt0027630  OLD1926061      Follow the Fleet  1936\n4       tt0028333  OLD2335959            Swing Time  1936\n...           ...         ...                   ...   ...\n79761  tt12239850  OLD2154954             Nightfall  2012\n79762   tt1730714  OLD2224616          Rubble Kings  2010\n79763   tt2181837  OLD1747385         Bending Steel  2013\n79764   tt1418781  OLD1691083  A Family Underground  2009\n79765   tt8718492  OLD2139024            Miles Away  2011\n\n[79766 rows x 4 columns]",
      "text/html": "<div>\n<style scoped>\n    .dataframe tbody tr th:only-of-type {\n        vertical-align: middle;\n    }\n\n    .dataframe tbody tr th {\n        vertical-align: top;\n    }\n\n    .dataframe thead th {\n        text-align: right;\n    }\n</style>\n<table border=\"1\" class=\"dataframe\">\n  <thead>\n    <tr style=\"text-align: right;\">\n      <th></th>\n      <th>titleId</th>\n      <th>old_id</th>\n      <th>title</th>\n      <th>year</th>\n    </tr>\n  </thead>\n  <tbody>\n    <tr>\n      <th>0</th>\n      <td>tt0025164</td>\n      <td>OLD2390344</td>\n      <td>The Gay Divorcee</td>\n      <td>1934</td>\n    </tr>\n    <tr>\n      <th>1</th>\n      <td>tt0026942</td>\n      <td>OLD2242602</td>\n      <td>Roberta</td>\n      <td>1935</td>\n    </tr>\n    <tr>\n      <th>2</th>\n      <td>tt0027125</td>\n      <td>OLD2465834</td>\n      <td>Top Hat</td>\n      <td>1935</td>\n    </tr>\n    <tr>\n      <th>3</th>\n      <td>tt0027630</td>\n      <td>OLD1926061</td>\n      <td>Follow the Fleet</td>\n      <td>1936</td>\n    </tr>\n    <tr>\n      <th>4</th>\n      <td>tt0028333</td>\n      <td>OLD2335959</td>\n      <td>Swing Time</td>\n      <td>1936</td>\n    </tr>\n    <tr>\n      <th>...</th>\n      <td>...</td>\n      <td>...</td>\n      <td>...</td>\n      <td>...</td>\n    </tr>\n    <tr>\n      <th>79761</th>\n      <td>tt12239850</td>\n      <td>OLD2154954</td>\n      <td>Nightfall</td>\n      <td>2012</td>\n    </tr>\n    <tr>\n      <th>79762</th>\n      <td>tt1730714</td>\n      <td>OLD2224616</td>\n      <td>Rubble Kings</td>\n      <td>2010</td>\n    </tr>\n    <tr>\n      <th>79763</th>\n      <td>tt2181837</td>\n      <td>OLD1747385</td>\n      <td>Bending Steel</td>\n      <td>2013</td>\n    </tr>\n    <tr>\n      <th>79764</th>\n      <td>tt1418781</td>\n      <td>OLD1691083</td>\n      <td>A Family Underground</td>\n      <td>2009</td>\n    </tr>\n    <tr>\n      <th>79765</th>\n      <td>tt8718492</td>\n      <td>OLD2139024</td>\n      <td>Miles Away</td>\n      <td>2011</td>\n    </tr>\n  </tbody>\n</table>\n<p>79766 rows × 4 columns</p>\n</div>"
     },
     "execution_count": 50,
     "metadata": {},
     "output_type": "execute_result"
    }
   ],
   "source": [
    "df"
   ],
   "metadata": {
    "collapsed": false,
    "pycharm": {
     "name": "#%%\n"
    }
   }
  },
  {
   "cell_type": "markdown",
   "source": [
    "## Movie titles\n",
    "- what is in old but not in new\n",
    "- what is in new but not in old\n",
    "how to compare strings with string?"
   ],
   "metadata": {
    "collapsed": false,
    "pycharm": {
     "name": "#%% md\n"
    }
   }
  },
  {
   "cell_type": "code",
   "execution_count": 4,
   "outputs": [
    {
     "name": "stderr",
     "output_type": "stream",
     "text": [
      "/Users/hyunjimoon/Dropbox/tolzul/BayesSD/ContinuousCode/3_Data4DM/durable_dominance/cont_code/src/join_filter.py:82: FutureWarning: In a future version, `df.iloc[:, i] = newvals` will attempt to set the values inplace instead of always setting a new array. To retain the old behavior, use either `df[df.columns[i]] = newvals` or, if columns are non-unique, `df.isetitem(i, newvals)`\n",
      "  df.loc[:, 'year'] = df.year.apply(lambda x: int(x) if str(x).isnumeric() else -1)\n"
     ]
    }
   ],
   "source": [
    "movie()"
   ],
   "metadata": {
    "collapsed": false,
    "pycharm": {
     "name": "#%%\n"
    }
   }
  },
  {
   "cell_type": "code",
   "execution_count": 5,
   "outputs": [],
   "source": [
    "old_movie = pd.read_pickle('old_movie_year_title.pkl')\n",
    "new_movie = pd.read_pickle('new_movie_year_title_typemovie.pkl').drop(['region'], axis = 1)"
   ],
   "metadata": {
    "collapsed": false,
    "pycharm": {
     "name": "#%%\n"
    }
   }
  },
  {
   "cell_type": "code",
   "execution_count": 30,
   "outputs": [
    {
     "data": {
      "text/plain": "(1776654, 168973)"
     },
     "execution_count": 30,
     "metadata": {},
     "output_type": "execute_result"
    }
   ],
   "source": [
    "print_shape(old_movie, new_movie)"
   ],
   "metadata": {
    "collapsed": false,
    "pycharm": {
     "name": "#%%\n"
    }
   }
  },
  {
   "cell_type": "code",
   "execution_count": 83,
   "outputs": [
    {
     "data": {
      "text/plain": "             old_id      old_id                               title  year\n0              OLD0        OLD0                     Cristián Campos  2010\n1              OLD1        OLD1                        Life & Death  2013\n2              OLD2        OLD2                 Disguise for Murder  2001\n3              OLD3        OLD3                         Anniversary  1971\n4              OLD4        OLD4  Angus Black/Lester Barrie/DC Curry  2009\n...             ...         ...                                 ...   ...\n2545514  OLD2417448  OLD2417448                      The Vanquished  1953\n2545518  OLD2545518  OLD2545518          V poiskakh kapitana Granta  1985\n2545524  OLD1549795  OLD1549795                         Winterwatch  2012\n2545525  OLD2545525  OLD2545525                          The Payoff  1942\n2545530  OLD2545530  OLD2545530                    Tomorrow's Youth  1935\n\n[1776654 rows x 4 columns]",
      "text/html": "<div>\n<style scoped>\n    .dataframe tbody tr th:only-of-type {\n        vertical-align: middle;\n    }\n\n    .dataframe tbody tr th {\n        vertical-align: top;\n    }\n\n    .dataframe thead th {\n        text-align: right;\n    }\n</style>\n<table border=\"1\" class=\"dataframe\">\n  <thead>\n    <tr style=\"text-align: right;\">\n      <th></th>\n      <th>old_id</th>\n      <th>old_id</th>\n      <th>title</th>\n      <th>year</th>\n    </tr>\n  </thead>\n  <tbody>\n    <tr>\n      <th>0</th>\n      <td>OLD0</td>\n      <td>OLD0</td>\n      <td>Cristián Campos</td>\n      <td>2010</td>\n    </tr>\n    <tr>\n      <th>1</th>\n      <td>OLD1</td>\n      <td>OLD1</td>\n      <td>Life &amp; Death</td>\n      <td>2013</td>\n    </tr>\n    <tr>\n      <th>2</th>\n      <td>OLD2</td>\n      <td>OLD2</td>\n      <td>Disguise for Murder</td>\n      <td>2001</td>\n    </tr>\n    <tr>\n      <th>3</th>\n      <td>OLD3</td>\n      <td>OLD3</td>\n      <td>Anniversary</td>\n      <td>1971</td>\n    </tr>\n    <tr>\n      <th>4</th>\n      <td>OLD4</td>\n      <td>OLD4</td>\n      <td>Angus Black/Lester Barrie/DC Curry</td>\n      <td>2009</td>\n    </tr>\n    <tr>\n      <th>...</th>\n      <td>...</td>\n      <td>...</td>\n      <td>...</td>\n      <td>...</td>\n    </tr>\n    <tr>\n      <th>2545514</th>\n      <td>OLD2417448</td>\n      <td>OLD2417448</td>\n      <td>The Vanquished</td>\n      <td>1953</td>\n    </tr>\n    <tr>\n      <th>2545518</th>\n      <td>OLD2545518</td>\n      <td>OLD2545518</td>\n      <td>V poiskakh kapitana Granta</td>\n      <td>1985</td>\n    </tr>\n    <tr>\n      <th>2545524</th>\n      <td>OLD1549795</td>\n      <td>OLD1549795</td>\n      <td>Winterwatch</td>\n      <td>2012</td>\n    </tr>\n    <tr>\n      <th>2545525</th>\n      <td>OLD2545525</td>\n      <td>OLD2545525</td>\n      <td>The Payoff</td>\n      <td>1942</td>\n    </tr>\n    <tr>\n      <th>2545530</th>\n      <td>OLD2545530</td>\n      <td>OLD2545530</td>\n      <td>Tomorrow's Youth</td>\n      <td>1935</td>\n    </tr>\n  </tbody>\n</table>\n<p>1776654 rows × 4 columns</p>\n</div>"
     },
     "execution_count": 83,
     "metadata": {},
     "output_type": "execute_result"
    }
   ],
   "source": [
    "ot = multi_col_unique(old_movie)\n",
    "ot"
   ],
   "metadata": {
    "collapsed": false,
    "pycharm": {
     "name": "#%%\n"
    }
   }
  },
  {
   "cell_type": "code",
   "execution_count": 87,
   "outputs": [],
   "source": [
    "old_movie = multi_col_unique(old_movie)\n",
    "join_movie(old_movie, new_movie)"
   ],
   "metadata": {
    "collapsed": false,
    "pycharm": {
     "name": "#%%\n"
    }
   }
  },
  {
   "cell_type": "code",
   "execution_count": 99,
   "outputs": [
    {
     "data": {
      "text/plain": "             old_id                               title  year\n0              OLD0                     Cristián Campos  2010\n1              OLD1                        Life & Death  2013\n2              OLD2                 Disguise for Murder  2001\n3              OLD3                         Anniversary  1971\n4              OLD4  Angus Black/Lester Barrie/DC Curry  2009\n...             ...                                 ...   ...\n2545514  OLD2417448                      The Vanquished  1953\n2545518  OLD2545518          V poiskakh kapitana Granta  1985\n2545524  OLD1549795                         Winterwatch  2012\n2545525  OLD2545525                          The Payoff  1942\n2545530  OLD2545530                    Tomorrow's Youth  1935\n\n[1776654 rows x 3 columns]",
      "text/html": "<div>\n<style scoped>\n    .dataframe tbody tr th:only-of-type {\n        vertical-align: middle;\n    }\n\n    .dataframe tbody tr th {\n        vertical-align: top;\n    }\n\n    .dataframe thead th {\n        text-align: right;\n    }\n</style>\n<table border=\"1\" class=\"dataframe\">\n  <thead>\n    <tr style=\"text-align: right;\">\n      <th></th>\n      <th>old_id</th>\n      <th>title</th>\n      <th>year</th>\n    </tr>\n  </thead>\n  <tbody>\n    <tr>\n      <th>0</th>\n      <td>OLD0</td>\n      <td>Cristián Campos</td>\n      <td>2010</td>\n    </tr>\n    <tr>\n      <th>1</th>\n      <td>OLD1</td>\n      <td>Life &amp; Death</td>\n      <td>2013</td>\n    </tr>\n    <tr>\n      <th>2</th>\n      <td>OLD2</td>\n      <td>Disguise for Murder</td>\n      <td>2001</td>\n    </tr>\n    <tr>\n      <th>3</th>\n      <td>OLD3</td>\n      <td>Anniversary</td>\n      <td>1971</td>\n    </tr>\n    <tr>\n      <th>4</th>\n      <td>OLD4</td>\n      <td>Angus Black/Lester Barrie/DC Curry</td>\n      <td>2009</td>\n    </tr>\n    <tr>\n      <th>...</th>\n      <td>...</td>\n      <td>...</td>\n      <td>...</td>\n    </tr>\n    <tr>\n      <th>2545514</th>\n      <td>OLD2417448</td>\n      <td>The Vanquished</td>\n      <td>1953</td>\n    </tr>\n    <tr>\n      <th>2545518</th>\n      <td>OLD2545518</td>\n      <td>V poiskakh kapitana Granta</td>\n      <td>1985</td>\n    </tr>\n    <tr>\n      <th>2545524</th>\n      <td>OLD1549795</td>\n      <td>Winterwatch</td>\n      <td>2012</td>\n    </tr>\n    <tr>\n      <th>2545525</th>\n      <td>OLD2545525</td>\n      <td>The Payoff</td>\n      <td>1942</td>\n    </tr>\n    <tr>\n      <th>2545530</th>\n      <td>OLD2545530</td>\n      <td>Tomorrow's Youth</td>\n      <td>1935</td>\n    </tr>\n  </tbody>\n</table>\n<p>1776654 rows × 3 columns</p>\n</div>"
     },
     "execution_count": 99,
     "metadata": {},
     "output_type": "execute_result"
    }
   ],
   "source": [
    "old_movie"
   ],
   "metadata": {
    "collapsed": false,
    "pycharm": {
     "name": "#%%\n"
    }
   }
  },
  {
   "cell_type": "code",
   "execution_count": 89,
   "outputs": [],
   "source": [
    "mo = pd.read_csv(\"mo.tsv\", sep='\\t', low_memory = False) #pd.merge(old_movie, new_movie, on = ('title', 'year'), how = 'inner') # 2m\n",
    "mi = pd.read_csv(\"mi.tsv\", sep='\\t', low_memory = False) #pd.merge(old_movie, new_movie, on = ('title', 'year'), how = 'outer') # 90k"
   ],
   "metadata": {
    "collapsed": false,
    "pycharm": {
     "name": "#%%\n"
    }
   }
  },
  {
   "cell_type": "code",
   "execution_count": 90,
   "outputs": [
    {
     "data": {
      "text/plain": "       index      old_id                                              title  \\\n0          0       OLD60                                             Winter   \n1          1      OLD218  Operation Homecoming: Writing the Wartime Expe...   \n2          2     OLD2120                                              Virus   \n3          3     OLD2185                                       Dolphin Tale   \n4          4     OLD2216                                      The Foreigner   \n...      ...         ...                                                ...   \n93277  93277  OLD2544715                                   Nobody's Perfect   \n93278  93278  OLD2544825                           Secret of the Wastelands   \n93279  93279  OLD2544845                                    Little Accident   \n93280  93280  OLD2544867                                       Sunset Trail   \n93281  93281  OLD2545209                                   The Spy in Black   \n\n       year    titleId  \n0      2006  tt0808541  \n1      2007  tt0970184  \n2      2011  tt1819776  \n3      2011  tt1564349  \n4      2011  tt2133340  \n...     ...        ...  \n93277  1990  tt0097994  \n93278  1941  tt0034166  \n93279  1930  tt0021078  \n93280  1932  tt0023539  \n93281  1939  tt0031968  \n\n[93282 rows x 5 columns]",
      "text/html": "<div>\n<style scoped>\n    .dataframe tbody tr th:only-of-type {\n        vertical-align: middle;\n    }\n\n    .dataframe tbody tr th {\n        vertical-align: top;\n    }\n\n    .dataframe thead th {\n        text-align: right;\n    }\n</style>\n<table border=\"1\" class=\"dataframe\">\n  <thead>\n    <tr style=\"text-align: right;\">\n      <th></th>\n      <th>index</th>\n      <th>old_id</th>\n      <th>title</th>\n      <th>year</th>\n      <th>titleId</th>\n    </tr>\n  </thead>\n  <tbody>\n    <tr>\n      <th>0</th>\n      <td>0</td>\n      <td>OLD60</td>\n      <td>Winter</td>\n      <td>2006</td>\n      <td>tt0808541</td>\n    </tr>\n    <tr>\n      <th>1</th>\n      <td>1</td>\n      <td>OLD218</td>\n      <td>Operation Homecoming: Writing the Wartime Expe...</td>\n      <td>2007</td>\n      <td>tt0970184</td>\n    </tr>\n    <tr>\n      <th>2</th>\n      <td>2</td>\n      <td>OLD2120</td>\n      <td>Virus</td>\n      <td>2011</td>\n      <td>tt1819776</td>\n    </tr>\n    <tr>\n      <th>3</th>\n      <td>3</td>\n      <td>OLD2185</td>\n      <td>Dolphin Tale</td>\n      <td>2011</td>\n      <td>tt1564349</td>\n    </tr>\n    <tr>\n      <th>4</th>\n      <td>4</td>\n      <td>OLD2216</td>\n      <td>The Foreigner</td>\n      <td>2011</td>\n      <td>tt2133340</td>\n    </tr>\n    <tr>\n      <th>...</th>\n      <td>...</td>\n      <td>...</td>\n      <td>...</td>\n      <td>...</td>\n      <td>...</td>\n    </tr>\n    <tr>\n      <th>93277</th>\n      <td>93277</td>\n      <td>OLD2544715</td>\n      <td>Nobody's Perfect</td>\n      <td>1990</td>\n      <td>tt0097994</td>\n    </tr>\n    <tr>\n      <th>93278</th>\n      <td>93278</td>\n      <td>OLD2544825</td>\n      <td>Secret of the Wastelands</td>\n      <td>1941</td>\n      <td>tt0034166</td>\n    </tr>\n    <tr>\n      <th>93279</th>\n      <td>93279</td>\n      <td>OLD2544845</td>\n      <td>Little Accident</td>\n      <td>1930</td>\n      <td>tt0021078</td>\n    </tr>\n    <tr>\n      <th>93280</th>\n      <td>93280</td>\n      <td>OLD2544867</td>\n      <td>Sunset Trail</td>\n      <td>1932</td>\n      <td>tt0023539</td>\n    </tr>\n    <tr>\n      <th>93281</th>\n      <td>93281</td>\n      <td>OLD2545209</td>\n      <td>The Spy in Black</td>\n      <td>1939</td>\n      <td>tt0031968</td>\n    </tr>\n  </tbody>\n</table>\n<p>93282 rows × 5 columns</p>\n</div>"
     },
     "execution_count": 90,
     "metadata": {},
     "output_type": "execute_result"
    }
   ],
   "source": [
    "mi #90k"
   ],
   "metadata": {
    "collapsed": false,
    "pycharm": {
     "name": "#%%\n"
    }
   }
  },
  {
   "cell_type": "code",
   "execution_count": 91,
   "outputs": [
    {
     "data": {
      "text/plain": "           index old_id                               title  year    titleId\n0              0   OLD0                     Cristián Campos  2010        NaN\n1              1   OLD1                        Life & Death  2013        NaN\n2              2   OLD2                 Disguise for Murder  2001        NaN\n3              3   OLD3                         Anniversary  1971        NaN\n4              4   OLD4  Angus Black/Lester Barrie/DC Curry  2009        NaN\n...          ...    ...                                 ...   ...        ...\n1780098  1780098    NaN                           Albatross  2017  tt9914642\n1780099  1780099    NaN        9/11: Escape from the Towers  2018  tt9914644\n1780100  1780100    NaN                 The War of Godzilla  2015  tt9914828\n1780101  1780101    NaN                      Blind Ambition  2021  tt9914972\n1780102  1780102    NaN                           Safeguard  2020  tt9916190\n\n[1780103 rows x 5 columns]",
      "text/html": "<div>\n<style scoped>\n    .dataframe tbody tr th:only-of-type {\n        vertical-align: middle;\n    }\n\n    .dataframe tbody tr th {\n        vertical-align: top;\n    }\n\n    .dataframe thead th {\n        text-align: right;\n    }\n</style>\n<table border=\"1\" class=\"dataframe\">\n  <thead>\n    <tr style=\"text-align: right;\">\n      <th></th>\n      <th>index</th>\n      <th>old_id</th>\n      <th>title</th>\n      <th>year</th>\n      <th>titleId</th>\n    </tr>\n  </thead>\n  <tbody>\n    <tr>\n      <th>0</th>\n      <td>0</td>\n      <td>OLD0</td>\n      <td>Cristián Campos</td>\n      <td>2010</td>\n      <td>NaN</td>\n    </tr>\n    <tr>\n      <th>1</th>\n      <td>1</td>\n      <td>OLD1</td>\n      <td>Life &amp; Death</td>\n      <td>2013</td>\n      <td>NaN</td>\n    </tr>\n    <tr>\n      <th>2</th>\n      <td>2</td>\n      <td>OLD2</td>\n      <td>Disguise for Murder</td>\n      <td>2001</td>\n      <td>NaN</td>\n    </tr>\n    <tr>\n      <th>3</th>\n      <td>3</td>\n      <td>OLD3</td>\n      <td>Anniversary</td>\n      <td>1971</td>\n      <td>NaN</td>\n    </tr>\n    <tr>\n      <th>4</th>\n      <td>4</td>\n      <td>OLD4</td>\n      <td>Angus Black/Lester Barrie/DC Curry</td>\n      <td>2009</td>\n      <td>NaN</td>\n    </tr>\n    <tr>\n      <th>...</th>\n      <td>...</td>\n      <td>...</td>\n      <td>...</td>\n      <td>...</td>\n      <td>...</td>\n    </tr>\n    <tr>\n      <th>1780098</th>\n      <td>1780098</td>\n      <td>NaN</td>\n      <td>Albatross</td>\n      <td>2017</td>\n      <td>tt9914642</td>\n    </tr>\n    <tr>\n      <th>1780099</th>\n      <td>1780099</td>\n      <td>NaN</td>\n      <td>9/11: Escape from the Towers</td>\n      <td>2018</td>\n      <td>tt9914644</td>\n    </tr>\n    <tr>\n      <th>1780100</th>\n      <td>1780100</td>\n      <td>NaN</td>\n      <td>The War of Godzilla</td>\n      <td>2015</td>\n      <td>tt9914828</td>\n    </tr>\n    <tr>\n      <th>1780101</th>\n      <td>1780101</td>\n      <td>NaN</td>\n      <td>Blind Ambition</td>\n      <td>2021</td>\n      <td>tt9914972</td>\n    </tr>\n    <tr>\n      <th>1780102</th>\n      <td>1780102</td>\n      <td>NaN</td>\n      <td>Safeguard</td>\n      <td>2020</td>\n      <td>tt9916190</td>\n    </tr>\n  </tbody>\n</table>\n<p>1780103 rows × 5 columns</p>\n</div>"
     },
     "execution_count": 91,
     "metadata": {},
     "output_type": "execute_result"
    }
   ],
   "source": [
    "mo #1.7m"
   ],
   "metadata": {
    "collapsed": false,
    "pycharm": {
     "name": "#%%\n"
    }
   }
  },
  {
   "cell_type": "code",
   "execution_count": 94,
   "outputs": [],
   "source": [
    "old_only = mo[mo.titleId.isnull()] # 1.6m is old\\new 1673488"
   ],
   "metadata": {
    "collapsed": false,
    "pycharm": {
     "name": "#%%\n"
    }
   }
  },
  {
   "cell_type": "code",
   "execution_count": 95,
   "outputs": [],
   "source": [
    "new_only = mo[mo.old_id.isnull()] # 75k is new\\old 75544"
   ],
   "metadata": {
    "collapsed": false,
    "pycharm": {
     "name": "#%%\n"
    }
   }
  },
  {
   "cell_type": "markdown",
   "source": [],
   "metadata": {
    "collapsed": false,
    "pycharm": {
     "name": "#%% md\n"
    }
   }
  },
  {
   "cell_type": "code",
   "execution_count": 98,
   "outputs": [
    {
     "data": {
      "text/plain": "(1731475, 123794)"
     },
     "execution_count": 98,
     "metadata": {},
     "output_type": "execute_result"
    }
   ],
   "source": [
    "old_only2 = old_movie[~old_movie.index.isin(new_movie.index)]\n",
    "new_only2 = new_movie[~new_movie.index.isin(old_movie.index)]\n",
    "print_shape(old_only2, new_only2)"
   ],
   "metadata": {
    "collapsed": false,
    "pycharm": {
     "name": "#%%\n"
    }
   }
  },
  {
   "cell_type": "code",
   "execution_count": 18,
   "outputs": [
    {
     "data": {
      "text/plain": "Empty DataFrame\nColumns: []\nIndex: [(Cristián Campos, 2010), (Life & Death, 2013), (Disguise for Murder, 2001), (Angus Black/Lester Barrie/DC Curry, 2009), (New Orleans, 2003), (Kiss Me Kate, 2011), (Ikiteita manmosu, 1976), (ActorsE Chat with Cody Deal and Judith Jones, 2011), (A Próxima Vítima, 1995), (Discriminación en el lenguaje, 1998), (When New Cars Hit Old Cars, 2004), (The Eye of Ra: Part 2, 1971), (Shinkai no akuma, 2011), (How the West Was Sung, 1999), (Game 2, 1951), (Only One Woof, 1988), (America's Sandiest Car?, 2013), (The 500 Percent Club, 2012), (Rettungsflug, 1990), (Tim Clark - President of Emirates Airlines, 2012), (Adventure Inc., 2002), (The Breaking Point/Working Class People/The Voter's Choice: Part 3, 1990), (The Weight: Part 1, 2004), (Osa 118. Kimonkylän taidekoti, 2003), (Montgomery Gentry, 2005), (Vertrauter Feind, 2004), (Guilt-Free Pub Grub, 2010), (The House Sitters Episode, 2011), (Cloned Puppies: A New Generation of 'Trakrs', 2009), (Adults Only 20 to 1: World's Sexiest Scandals, 2010), (All That Jasmine, 1994), (Baby Manning, 1998), (Blutsbande, 2006), (Bat Man, 2012), (The Next First Lady?/Here Comes the Girls/Toni Morrison, 1999), (ActorsE Chat with Judith Jones and Breanne Silvi, 2009), (Johnny Depp: The Ultimate Outsider, 2003), (Armando's Asian Twist, 2012), (Hard Choices, 2001), (Lunch Hour, 2009), (All Access Canelo vs Lopez Ep 2, 2012), (Mi amigo quiere, 2012), (Wish You Weren't Here, 1999), (Regina Versus Mini, 1970), (Evasión o victoria, 2000), (Wasted, 1991), (Fishing Challenge, 2011), (Joy's Out of Work, 2010), (Hostage/In Search of Bin Laden/The Captain, 2005), (Silence of the Clams, 2007), (Brennender Ehrgeiz, 1999), (Oahu, HI, 2003), (Sometimes That's Just the Way It Is, 1999), (Motivational Chat with Stevie D AndJaime Kalman, 2012), (Silenci, 2009), (Estranged Daddy Bails Again/Lost and Found Reward, 2010), (American Justice, 2004), (10 manieren om Hedwig te pesten, 2008), (The Man Who Loves Snakes, 1962), (The Man in the Crowd, 1961), (From Here to Maternity, 1981), (Andres Carefully Plans Out How to Tell Sophia the Truth about Her Real Parents, 2011), (Brian Eno: Another Green World, 2010), (¡Qué maravilla Gandía!, 2013), (Amor sin condiciones, 2006), (A tortas... con la depre, 2006), (Harold Pinter Part 2: Celebration, 2002), (Livet på en pinne, 1996), (Por amor a la verdad, 1999), (Borrón y cuenta nueva, 2002), (Let the Sunshine In: Part 1, 1986), (Hour 1, 2010), (The Lobbyist/Roberto Benigni/Choosing Life, 1999), (Samurai, 1997), (Malas noticias, 2004), (Cybersoldier, 1995), (The Legacy, 1998), (Money Makes the World Go Round, 1993), (Balloon Ride!, 2010), (Lätkän kannabiskohu, 2013), (Abenteuer Auto, 2000), (Letra pequeña, 2000), (Satmaran, 2001), (Mein fernes Kind - 33 Jahre Schuld und Sehnsucht, 2005), (Civismo y buenas prácticas, 2009), (De zon breekt door, 2001), (Tanya & Andrea: Glamorous Rehearsal Dinner, 2010), (Dead Family Robinson, 2004), (Kirsty's Biscuit, 1994), (Republic of Virtue, 2010), (The All-American Canal/Chef Jose Andres/Conan, 2010), (Aile Reisi, 2009), (Hungry Ghosts, 2006), (A Escolha de Bebel, 2002), (Acampamento de Férias 3, 2012), (Seared Pork Tenderloin, 2007), (War and Pieces, 2000), (Vain pappi puuttuu, 2001), (Lanhydrock House, 1997), (Only This Night, 1950), ...]\n\n[1254287 rows x 0 columns]",
      "text/html": "<div>\n<style scoped>\n    .dataframe tbody tr th:only-of-type {\n        vertical-align: middle;\n    }\n\n    .dataframe tbody tr th {\n        vertical-align: top;\n    }\n\n    .dataframe thead th {\n        text-align: right;\n    }\n</style>\n<table border=\"1\" class=\"dataframe\">\n  <thead>\n    <tr style=\"text-align: right;\">\n      <th></th>\n      <th></th>\n    </tr>\n    <tr>\n      <th>title</th>\n      <th>year</th>\n    </tr>\n  </thead>\n  <tbody>\n    <tr>\n      <th>Cristián Campos</th>\n      <th>2010</th>\n    </tr>\n    <tr>\n      <th>Life &amp; Death</th>\n      <th>2013</th>\n    </tr>\n    <tr>\n      <th>Disguise for Murder</th>\n      <th>2001</th>\n    </tr>\n    <tr>\n      <th>Angus Black/Lester Barrie/DC Curry</th>\n      <th>2009</th>\n    </tr>\n    <tr>\n      <th>New Orleans</th>\n      <th>2003</th>\n    </tr>\n    <tr>\n      <th>...</th>\n      <th>...</th>\n    </tr>\n    <tr>\n      <th>Western Spaghetti</th>\n      <th>2009</th>\n    </tr>\n    <tr>\n      <th>V poiskakh kapitana Granta</th>\n      <th>1985</th>\n    </tr>\n    <tr>\n      <th>Winterwatch</th>\n      <th>2012</th>\n    </tr>\n    <tr>\n      <th>The Payoff</th>\n      <th>1942</th>\n    </tr>\n    <tr>\n      <th>Tomorrow's Youth</th>\n      <th>1935</th>\n    </tr>\n  </tbody>\n</table>\n<p>1254287 rows × 0 columns</p>\n</div>"
     },
     "execution_count": 18,
     "metadata": {},
     "output_type": "execute_result"
    }
   ],
   "source": [
    "old_only"
   ],
   "metadata": {
    "collapsed": false,
    "pycharm": {
     "name": "#%%\n"
    }
   }
  },
  {
   "cell_type": "code",
   "execution_count": 19,
   "outputs": [
    {
     "data": {
      "text/plain": "                                                  titleId region\ntitle                                     year                  \nArrival of Immigrants, Ellis Island       1906  tt0000537     US\nThe Heart of O Yama                       1908  tt0000698     US\nThe Humpty Dumpty Circus                  1898  tt0000704     US\nBill Sharkey's Last Game                  1910  tt0000809     US\nNapoleon, the Man of Destiny              1908  tt0000979     US\n...                                                   ...    ...\nAncient World Exposed                     2019  tt9916348     US\nMarch of Dimes Presents: Once Upon a Dime 1963  tt9916560     US\nThe Nun 2                                 2019  tt9916720     US\nPretty Pretty Black Girl                  2019  tt9916756     US\n38                                        2018  tt9916764     US\n\n[580264 rows x 2 columns]",
      "text/html": "<div>\n<style scoped>\n    .dataframe tbody tr th:only-of-type {\n        vertical-align: middle;\n    }\n\n    .dataframe tbody tr th {\n        vertical-align: top;\n    }\n\n    .dataframe thead th {\n        text-align: right;\n    }\n</style>\n<table border=\"1\" class=\"dataframe\">\n  <thead>\n    <tr style=\"text-align: right;\">\n      <th></th>\n      <th></th>\n      <th>titleId</th>\n      <th>region</th>\n    </tr>\n    <tr>\n      <th>title</th>\n      <th>year</th>\n      <th></th>\n      <th></th>\n    </tr>\n  </thead>\n  <tbody>\n    <tr>\n      <th>Arrival of Immigrants, Ellis Island</th>\n      <th>1906</th>\n      <td>tt0000537</td>\n      <td>US</td>\n    </tr>\n    <tr>\n      <th>The Heart of O Yama</th>\n      <th>1908</th>\n      <td>tt0000698</td>\n      <td>US</td>\n    </tr>\n    <tr>\n      <th>The Humpty Dumpty Circus</th>\n      <th>1898</th>\n      <td>tt0000704</td>\n      <td>US</td>\n    </tr>\n    <tr>\n      <th>Bill Sharkey's Last Game</th>\n      <th>1910</th>\n      <td>tt0000809</td>\n      <td>US</td>\n    </tr>\n    <tr>\n      <th>Napoleon, the Man of Destiny</th>\n      <th>1908</th>\n      <td>tt0000979</td>\n      <td>US</td>\n    </tr>\n    <tr>\n      <th>...</th>\n      <th>...</th>\n      <td>...</td>\n      <td>...</td>\n    </tr>\n    <tr>\n      <th>Ancient World Exposed</th>\n      <th>2019</th>\n      <td>tt9916348</td>\n      <td>US</td>\n    </tr>\n    <tr>\n      <th>March of Dimes Presents: Once Upon a Dime</th>\n      <th>1963</th>\n      <td>tt9916560</td>\n      <td>US</td>\n    </tr>\n    <tr>\n      <th>The Nun 2</th>\n      <th>2019</th>\n      <td>tt9916720</td>\n      <td>US</td>\n    </tr>\n    <tr>\n      <th>Pretty Pretty Black Girl</th>\n      <th>2019</th>\n      <td>tt9916756</td>\n      <td>US</td>\n    </tr>\n    <tr>\n      <th>38</th>\n      <th>2018</th>\n      <td>tt9916764</td>\n      <td>US</td>\n    </tr>\n  </tbody>\n</table>\n<p>580264 rows × 2 columns</p>\n</div>"
     },
     "execution_count": 19,
     "metadata": {},
     "output_type": "execute_result"
    }
   ],
   "source": [
    "new_only"
   ],
   "metadata": {
    "collapsed": false,
    "pycharm": {
     "name": "#%%\n"
    }
   }
  },
  {
   "cell_type": "code",
   "execution_count": 96,
   "outputs": [
    {
     "name": "stdout",
     "output_type": "stream",
     "text": [
      "93282 + 1611538 = 1704820 VS 1776654\n",
      "93282 + 75283 = 168565 VS 168973\n"
     ]
    }
   ],
   "source": [
    "print(mi.shape[0], \"+\", old_only.shape[0] , \"=\", mi.shape[0] + old_only.shape[0], \"VS\", old_movie.shape[0])\n",
    "print(mi.shape[0], \"+\", new_only.shape[0], \"=\", mi.shape[0] + new_only.shape[0], \"VS\", new_movie.shape[0])"
   ],
   "metadata": {
    "collapsed": false,
    "pycharm": {
     "name": "#%%\n"
    }
   }
  },
  {
   "cell_type": "markdown",
   "source": [
    "## Person"
   ],
   "metadata": {
    "collapsed": false,
    "pycharm": {
     "name": "#%% md\n"
    }
   }
  },
  {
   "cell_type": "code",
   "execution_count": 9,
   "outputs": [],
   "source": [
    "new_person = person()"
   ],
   "metadata": {
    "collapsed": false,
    "pycharm": {
     "name": "#%%\n"
    }
   }
  },
  {
   "cell_type": "code",
   "execution_count": 15,
   "outputs": [
    {
     "data": {
      "text/plain": "              id                         name imdbIndex  imdbId gender  \\\n0            451                    A., David       NaN     NaN      m   \n1            129  -Alverio, Esteban Rodriguez       NaN     NaN      m   \n2           1688                 Abbas, Athar       NaN     NaN      m   \n3           3631                  Aberer, Leo       NaN     NaN      m   \n4            512                         A.J.        II     NaN      m   \n...          ...                          ...       ...     ...    ...   \n4193671  4193674               Öndemir, Önder       NaN     NaN    NaN   \n4193672  4193676                  Özgür, Lale       NaN     NaN    NaN   \n4193673  4193670                   Ôta, Akemi       NaN     NaN    NaN   \n4193674  4193675                 Östling, Kia       NaN     NaN    NaN   \n4193675  4193677              Þórisson, Jónas       NaN     NaN    NaN   \n\n        namePcodeCf namePcodeNf surnamePcode                            md5sum  \n0              A313         D13            A  cf45e7b42fbc800c61462988ad1156d2  \n1             A4162       E2315         A416  f5c410bff6839b545d04c531f776e8f2  \n2             A1236       A3612          A12  cf230f6ed718a330dc688c20b8d741d3  \n3              A164         L16          A16  05684f16b84db387e613d3de57eca5b7  \n4                A2         NaN          NaN  c63baf59b537e471b6ec4b68c5d1373e  \n...             ...         ...          ...                               ...  \n4193671       N3565       N3653         N356  4aaaea8e689c667e6f34023f16db5481  \n4193672        Z264        L426          Z26  0b7c397c3605fdc0afbf8220061c1579  \n4193673         T25        A253            T  ce24ccbc6f95737710b925cd66722d06  \n4193674       S3452       K2345          NaN  8c8b06b41b1639845317b12613b0a95b  \n4193675       R2525       J5262          R25  d51c4a95c9858e4aface1d835a79ee4d  \n\n[4193676 rows x 9 columns]",
      "text/html": "<div>\n<style scoped>\n    .dataframe tbody tr th:only-of-type {\n        vertical-align: middle;\n    }\n\n    .dataframe tbody tr th {\n        vertical-align: top;\n    }\n\n    .dataframe thead th {\n        text-align: right;\n    }\n</style>\n<table border=\"1\" class=\"dataframe\">\n  <thead>\n    <tr style=\"text-align: right;\">\n      <th></th>\n      <th>id</th>\n      <th>name</th>\n      <th>imdbIndex</th>\n      <th>imdbId</th>\n      <th>gender</th>\n      <th>namePcodeCf</th>\n      <th>namePcodeNf</th>\n      <th>surnamePcode</th>\n      <th>md5sum</th>\n    </tr>\n  </thead>\n  <tbody>\n    <tr>\n      <th>0</th>\n      <td>451</td>\n      <td>A., David</td>\n      <td>NaN</td>\n      <td>NaN</td>\n      <td>m</td>\n      <td>A313</td>\n      <td>D13</td>\n      <td>A</td>\n      <td>cf45e7b42fbc800c61462988ad1156d2</td>\n    </tr>\n    <tr>\n      <th>1</th>\n      <td>129</td>\n      <td>-Alverio, Esteban Rodriguez</td>\n      <td>NaN</td>\n      <td>NaN</td>\n      <td>m</td>\n      <td>A4162</td>\n      <td>E2315</td>\n      <td>A416</td>\n      <td>f5c410bff6839b545d04c531f776e8f2</td>\n    </tr>\n    <tr>\n      <th>2</th>\n      <td>1688</td>\n      <td>Abbas, Athar</td>\n      <td>NaN</td>\n      <td>NaN</td>\n      <td>m</td>\n      <td>A1236</td>\n      <td>A3612</td>\n      <td>A12</td>\n      <td>cf230f6ed718a330dc688c20b8d741d3</td>\n    </tr>\n    <tr>\n      <th>3</th>\n      <td>3631</td>\n      <td>Aberer, Leo</td>\n      <td>NaN</td>\n      <td>NaN</td>\n      <td>m</td>\n      <td>A164</td>\n      <td>L16</td>\n      <td>A16</td>\n      <td>05684f16b84db387e613d3de57eca5b7</td>\n    </tr>\n    <tr>\n      <th>4</th>\n      <td>512</td>\n      <td>A.J.</td>\n      <td>II</td>\n      <td>NaN</td>\n      <td>m</td>\n      <td>A2</td>\n      <td>NaN</td>\n      <td>NaN</td>\n      <td>c63baf59b537e471b6ec4b68c5d1373e</td>\n    </tr>\n    <tr>\n      <th>...</th>\n      <td>...</td>\n      <td>...</td>\n      <td>...</td>\n      <td>...</td>\n      <td>...</td>\n      <td>...</td>\n      <td>...</td>\n      <td>...</td>\n      <td>...</td>\n    </tr>\n    <tr>\n      <th>4193671</th>\n      <td>4193674</td>\n      <td>Öndemir, Önder</td>\n      <td>NaN</td>\n      <td>NaN</td>\n      <td>NaN</td>\n      <td>N3565</td>\n      <td>N3653</td>\n      <td>N356</td>\n      <td>4aaaea8e689c667e6f34023f16db5481</td>\n    </tr>\n    <tr>\n      <th>4193672</th>\n      <td>4193676</td>\n      <td>Özgür, Lale</td>\n      <td>NaN</td>\n      <td>NaN</td>\n      <td>NaN</td>\n      <td>Z264</td>\n      <td>L426</td>\n      <td>Z26</td>\n      <td>0b7c397c3605fdc0afbf8220061c1579</td>\n    </tr>\n    <tr>\n      <th>4193673</th>\n      <td>4193670</td>\n      <td>Ôta, Akemi</td>\n      <td>NaN</td>\n      <td>NaN</td>\n      <td>NaN</td>\n      <td>T25</td>\n      <td>A253</td>\n      <td>T</td>\n      <td>ce24ccbc6f95737710b925cd66722d06</td>\n    </tr>\n    <tr>\n      <th>4193674</th>\n      <td>4193675</td>\n      <td>Östling, Kia</td>\n      <td>NaN</td>\n      <td>NaN</td>\n      <td>NaN</td>\n      <td>S3452</td>\n      <td>K2345</td>\n      <td>NaN</td>\n      <td>8c8b06b41b1639845317b12613b0a95b</td>\n    </tr>\n    <tr>\n      <th>4193675</th>\n      <td>4193677</td>\n      <td>Þórisson, Jónas</td>\n      <td>NaN</td>\n      <td>NaN</td>\n      <td>NaN</td>\n      <td>R2525</td>\n      <td>J5262</td>\n      <td>R25</td>\n      <td>d51c4a95c9858e4aface1d835a79ee4d</td>\n    </tr>\n  </tbody>\n</table>\n<p>4193676 rows × 9 columns</p>\n</div>"
     },
     "execution_count": 15,
     "metadata": {},
     "output_type": "execute_result"
    }
   ],
   "source": [
    "old_person"
   ],
   "metadata": {
    "collapsed": false,
    "pycharm": {
     "name": "#%%\n"
    }
   }
  },
  {
   "cell_type": "code",
   "execution_count": 12,
   "outputs": [
    {
     "data": {
      "text/plain": "             nconst         primaryName birthYear deathYear  \\\n0         nm0000001        Fred Astaire      1899      1987   \n1         nm0000001        Fred Astaire      1899      1987   \n2         nm0000001        Fred Astaire      1899      1987   \n3         nm0000001        Fred Astaire      1899      1987   \n4         nm0000001        Fred Astaire      1899      1987   \n...             ...                 ...       ...       ...   \n52467457  nm9993713       Sambit Mishra        \\N        \\N   \n52467458  nm9993713       Sambit Mishra        \\N        \\N   \n52467459  nm9993713       Sambit Mishra        \\N        \\N   \n52467460  nm9993717  Harikrishnan Rajan        \\N        \\N   \n52467461  nm9993718         Aayush Nair        \\N        \\N   \n\n                       primaryProfession  \\\n0         soundtrack,actor,miscellaneous   \n1         soundtrack,actor,miscellaneous   \n2         soundtrack,actor,miscellaneous   \n3         soundtrack,actor,miscellaneous   \n4         soundtrack,actor,miscellaneous   \n...                                  ...   \n52467457                 writer,producer   \n52467458                 writer,producer   \n52467459                 writer,producer   \n52467460                 cinematographer   \n52467461                 cinematographer   \n\n                                       knownForTitles      tconst  ordering  \\\n0             tt0072308,tt0053137,tt0050419,tt0031983   tt0025164         1   \n1             tt0072308,tt0053137,tt0050419,tt0031983   tt0026942         2   \n2             tt0072308,tt0053137,tt0050419,tt0031983   tt0027125         1   \n3             tt0072308,tt0053137,tt0050419,tt0031983   tt0027630         1   \n4             tt0072308,tt0053137,tt0050419,tt0031983   tt0028333         1   \n...                                               ...         ...       ...   \n52467457  tt15134202,tt10449366,tt10709066,tt21147342  tt15186906         6   \n52467458  tt15134202,tt10449366,tt10709066,tt21147342  tt15187068         6   \n52467459  tt15134202,tt10449366,tt10709066,tt21147342  tt15204446         6   \n52467460                                    tt8736744   tt8736744         7   \n52467461                                           \\N   tt8736744         6   \n\n                 category job         characters  \n0                   actor  \\N     [\"Guy Holden\"]  \n1                   actor  \\N    [\"Huck Haines\"]  \n2                   actor  \\N  [\"Jerry Travers\"]  \n3                   actor  \\N     [\"Bake Baker\"]  \n4                   actor  \\N  [\"Lucky Garnett\"]  \n...                   ...  ..                ...  \n52467457           writer  \\N                 \\N  \n52467458           writer  \\N                 \\N  \n52467459           writer  \\N                 \\N  \n52467460  cinematographer  \\N                 \\N  \n52467461  cinematographer  \\N                 \\N  \n\n[52467462 rows x 11 columns]",
      "text/html": "<div>\n<style scoped>\n    .dataframe tbody tr th:only-of-type {\n        vertical-align: middle;\n    }\n\n    .dataframe tbody tr th {\n        vertical-align: top;\n    }\n\n    .dataframe thead th {\n        text-align: right;\n    }\n</style>\n<table border=\"1\" class=\"dataframe\">\n  <thead>\n    <tr style=\"text-align: right;\">\n      <th></th>\n      <th>nconst</th>\n      <th>primaryName</th>\n      <th>birthYear</th>\n      <th>deathYear</th>\n      <th>primaryProfession</th>\n      <th>knownForTitles</th>\n      <th>tconst</th>\n      <th>ordering</th>\n      <th>category</th>\n      <th>job</th>\n      <th>characters</th>\n    </tr>\n  </thead>\n  <tbody>\n    <tr>\n      <th>0</th>\n      <td>nm0000001</td>\n      <td>Fred Astaire</td>\n      <td>1899</td>\n      <td>1987</td>\n      <td>soundtrack,actor,miscellaneous</td>\n      <td>tt0072308,tt0053137,tt0050419,tt0031983</td>\n      <td>tt0025164</td>\n      <td>1</td>\n      <td>actor</td>\n      <td>\\N</td>\n      <td>[\"Guy Holden\"]</td>\n    </tr>\n    <tr>\n      <th>1</th>\n      <td>nm0000001</td>\n      <td>Fred Astaire</td>\n      <td>1899</td>\n      <td>1987</td>\n      <td>soundtrack,actor,miscellaneous</td>\n      <td>tt0072308,tt0053137,tt0050419,tt0031983</td>\n      <td>tt0026942</td>\n      <td>2</td>\n      <td>actor</td>\n      <td>\\N</td>\n      <td>[\"Huck Haines\"]</td>\n    </tr>\n    <tr>\n      <th>2</th>\n      <td>nm0000001</td>\n      <td>Fred Astaire</td>\n      <td>1899</td>\n      <td>1987</td>\n      <td>soundtrack,actor,miscellaneous</td>\n      <td>tt0072308,tt0053137,tt0050419,tt0031983</td>\n      <td>tt0027125</td>\n      <td>1</td>\n      <td>actor</td>\n      <td>\\N</td>\n      <td>[\"Jerry Travers\"]</td>\n    </tr>\n    <tr>\n      <th>3</th>\n      <td>nm0000001</td>\n      <td>Fred Astaire</td>\n      <td>1899</td>\n      <td>1987</td>\n      <td>soundtrack,actor,miscellaneous</td>\n      <td>tt0072308,tt0053137,tt0050419,tt0031983</td>\n      <td>tt0027630</td>\n      <td>1</td>\n      <td>actor</td>\n      <td>\\N</td>\n      <td>[\"Bake Baker\"]</td>\n    </tr>\n    <tr>\n      <th>4</th>\n      <td>nm0000001</td>\n      <td>Fred Astaire</td>\n      <td>1899</td>\n      <td>1987</td>\n      <td>soundtrack,actor,miscellaneous</td>\n      <td>tt0072308,tt0053137,tt0050419,tt0031983</td>\n      <td>tt0028333</td>\n      <td>1</td>\n      <td>actor</td>\n      <td>\\N</td>\n      <td>[\"Lucky Garnett\"]</td>\n    </tr>\n    <tr>\n      <th>...</th>\n      <td>...</td>\n      <td>...</td>\n      <td>...</td>\n      <td>...</td>\n      <td>...</td>\n      <td>...</td>\n      <td>...</td>\n      <td>...</td>\n      <td>...</td>\n      <td>...</td>\n      <td>...</td>\n    </tr>\n    <tr>\n      <th>52467457</th>\n      <td>nm9993713</td>\n      <td>Sambit Mishra</td>\n      <td>\\N</td>\n      <td>\\N</td>\n      <td>writer,producer</td>\n      <td>tt15134202,tt10449366,tt10709066,tt21147342</td>\n      <td>tt15186906</td>\n      <td>6</td>\n      <td>writer</td>\n      <td>\\N</td>\n      <td>\\N</td>\n    </tr>\n    <tr>\n      <th>52467458</th>\n      <td>nm9993713</td>\n      <td>Sambit Mishra</td>\n      <td>\\N</td>\n      <td>\\N</td>\n      <td>writer,producer</td>\n      <td>tt15134202,tt10449366,tt10709066,tt21147342</td>\n      <td>tt15187068</td>\n      <td>6</td>\n      <td>writer</td>\n      <td>\\N</td>\n      <td>\\N</td>\n    </tr>\n    <tr>\n      <th>52467459</th>\n      <td>nm9993713</td>\n      <td>Sambit Mishra</td>\n      <td>\\N</td>\n      <td>\\N</td>\n      <td>writer,producer</td>\n      <td>tt15134202,tt10449366,tt10709066,tt21147342</td>\n      <td>tt15204446</td>\n      <td>6</td>\n      <td>writer</td>\n      <td>\\N</td>\n      <td>\\N</td>\n    </tr>\n    <tr>\n      <th>52467460</th>\n      <td>nm9993717</td>\n      <td>Harikrishnan Rajan</td>\n      <td>\\N</td>\n      <td>\\N</td>\n      <td>cinematographer</td>\n      <td>tt8736744</td>\n      <td>tt8736744</td>\n      <td>7</td>\n      <td>cinematographer</td>\n      <td>\\N</td>\n      <td>\\N</td>\n    </tr>\n    <tr>\n      <th>52467461</th>\n      <td>nm9993718</td>\n      <td>Aayush Nair</td>\n      <td>\\N</td>\n      <td>\\N</td>\n      <td>cinematographer</td>\n      <td>\\N</td>\n      <td>tt8736744</td>\n      <td>6</td>\n      <td>cinematographer</td>\n      <td>\\N</td>\n      <td>\\N</td>\n    </tr>\n  </tbody>\n</table>\n<p>52467462 rows × 11 columns</p>\n</div>"
     },
     "execution_count": 12,
     "metadata": {},
     "output_type": "execute_result"
    }
   ],
   "source": [
    "pmc_raw"
   ],
   "metadata": {
    "collapsed": false,
    "pycharm": {
     "name": "#%%\n"
    }
   }
  },
  {
   "cell_type": "code",
   "execution_count": 22,
   "outputs": [
    {
     "data": {
      "text/plain": "             tconst  ordering      nconst         category  \\\n0         tt0000001         1   nm1588970             self   \n1         tt0000001         2   nm0005690         director   \n2         tt0000001         3   nm0374658  cinematographer   \n3         tt0000002         1   nm0721526         director   \n4         tt0000002         2   nm1335271         composer   \n...             ...       ...         ...              ...   \n52475552  tt9916880         4  nm10535738          actress   \n52475553  tt9916880         5   nm0996406         director   \n52475554  tt9916880         6   nm1482639           writer   \n52475555  tt9916880         7   nm2586970           writer   \n52475556  tt9916880         8   nm1594058         producer   \n\n                              job        characters  \n0                              \\N          [\"Self\"]  \n1                              \\N                \\N  \n2         director of photography                \\N  \n3                              \\N                \\N  \n4                              \\N                \\N  \n...                           ...               ...  \n52475552                       \\N  [\"Horrid Henry\"]  \n52475553       principal director                \\N  \n52475554                       \\N                \\N  \n52475555                    books                \\N  \n52475556                 producer                \\N  \n\n[52475557 rows x 6 columns]",
      "text/html": "<div>\n<style scoped>\n    .dataframe tbody tr th:only-of-type {\n        vertical-align: middle;\n    }\n\n    .dataframe tbody tr th {\n        vertical-align: top;\n    }\n\n    .dataframe thead th {\n        text-align: right;\n    }\n</style>\n<table border=\"1\" class=\"dataframe\">\n  <thead>\n    <tr style=\"text-align: right;\">\n      <th></th>\n      <th>tconst</th>\n      <th>ordering</th>\n      <th>nconst</th>\n      <th>category</th>\n      <th>job</th>\n      <th>characters</th>\n    </tr>\n  </thead>\n  <tbody>\n    <tr>\n      <th>0</th>\n      <td>tt0000001</td>\n      <td>1</td>\n      <td>nm1588970</td>\n      <td>self</td>\n      <td>\\N</td>\n      <td>[\"Self\"]</td>\n    </tr>\n    <tr>\n      <th>1</th>\n      <td>tt0000001</td>\n      <td>2</td>\n      <td>nm0005690</td>\n      <td>director</td>\n      <td>\\N</td>\n      <td>\\N</td>\n    </tr>\n    <tr>\n      <th>2</th>\n      <td>tt0000001</td>\n      <td>3</td>\n      <td>nm0374658</td>\n      <td>cinematographer</td>\n      <td>director of photography</td>\n      <td>\\N</td>\n    </tr>\n    <tr>\n      <th>3</th>\n      <td>tt0000002</td>\n      <td>1</td>\n      <td>nm0721526</td>\n      <td>director</td>\n      <td>\\N</td>\n      <td>\\N</td>\n    </tr>\n    <tr>\n      <th>4</th>\n      <td>tt0000002</td>\n      <td>2</td>\n      <td>nm1335271</td>\n      <td>composer</td>\n      <td>\\N</td>\n      <td>\\N</td>\n    </tr>\n    <tr>\n      <th>...</th>\n      <td>...</td>\n      <td>...</td>\n      <td>...</td>\n      <td>...</td>\n      <td>...</td>\n      <td>...</td>\n    </tr>\n    <tr>\n      <th>52475552</th>\n      <td>tt9916880</td>\n      <td>4</td>\n      <td>nm10535738</td>\n      <td>actress</td>\n      <td>\\N</td>\n      <td>[\"Horrid Henry\"]</td>\n    </tr>\n    <tr>\n      <th>52475553</th>\n      <td>tt9916880</td>\n      <td>5</td>\n      <td>nm0996406</td>\n      <td>director</td>\n      <td>principal director</td>\n      <td>\\N</td>\n    </tr>\n    <tr>\n      <th>52475554</th>\n      <td>tt9916880</td>\n      <td>6</td>\n      <td>nm1482639</td>\n      <td>writer</td>\n      <td>\\N</td>\n      <td>\\N</td>\n    </tr>\n    <tr>\n      <th>52475555</th>\n      <td>tt9916880</td>\n      <td>7</td>\n      <td>nm2586970</td>\n      <td>writer</td>\n      <td>books</td>\n      <td>\\N</td>\n    </tr>\n    <tr>\n      <th>52475556</th>\n      <td>tt9916880</td>\n      <td>8</td>\n      <td>nm1594058</td>\n      <td>producer</td>\n      <td>producer</td>\n      <td>\\N</td>\n    </tr>\n  </tbody>\n</table>\n<p>52475557 rows × 6 columns</p>\n</div>"
     },
     "execution_count": 22,
     "metadata": {},
     "output_type": "execute_result"
    }
   ],
   "source": [
    "pmc."
   ],
   "metadata": {
    "collapsed": false,
    "pycharm": {
     "name": "#%%\n"
    }
   }
  },
  {
   "cell_type": "code",
   "execution_count": 27,
   "outputs": [
    {
     "data": {
      "text/plain": "             nconst      tconst category          characters\n0         nm0000001   tt0025164    actor      [\"Guy Holden\"]\n1         nm0000001   tt0026942    actor     [\"Huck Haines\"]\n2         nm0000001   tt0027125    actor   [\"Jerry Travers\"]\n3         nm0000001   tt0027630    actor      [\"Bake Baker\"]\n4         nm0000001   tt0028333    actor   [\"Lucky Garnett\"]\n...             ...         ...      ...                 ...\n52467412  nm9993708  tt14508814  actress           [\"Extra\"]\n52467415  nm9993708  tt21028920  actress                  \\N\n52467420  nm9993709  tt11702702  actress  [\"Observant Poet\"]\n52467423  nm9993709  tt11772842  actress              [\"Lu\"]\n52467430  nm9993709  tt21028920  actress                  \\N\n\n[20533189 rows x 4 columns]",
      "text/html": "<div>\n<style scoped>\n    .dataframe tbody tr th:only-of-type {\n        vertical-align: middle;\n    }\n\n    .dataframe tbody tr th {\n        vertical-align: top;\n    }\n\n    .dataframe thead th {\n        text-align: right;\n    }\n</style>\n<table border=\"1\" class=\"dataframe\">\n  <thead>\n    <tr style=\"text-align: right;\">\n      <th></th>\n      <th>nconst</th>\n      <th>tconst</th>\n      <th>category</th>\n      <th>characters</th>\n    </tr>\n  </thead>\n  <tbody>\n    <tr>\n      <th>0</th>\n      <td>nm0000001</td>\n      <td>tt0025164</td>\n      <td>actor</td>\n      <td>[\"Guy Holden\"]</td>\n    </tr>\n    <tr>\n      <th>1</th>\n      <td>nm0000001</td>\n      <td>tt0026942</td>\n      <td>actor</td>\n      <td>[\"Huck Haines\"]</td>\n    </tr>\n    <tr>\n      <th>2</th>\n      <td>nm0000001</td>\n      <td>tt0027125</td>\n      <td>actor</td>\n      <td>[\"Jerry Travers\"]</td>\n    </tr>\n    <tr>\n      <th>3</th>\n      <td>nm0000001</td>\n      <td>tt0027630</td>\n      <td>actor</td>\n      <td>[\"Bake Baker\"]</td>\n    </tr>\n    <tr>\n      <th>4</th>\n      <td>nm0000001</td>\n      <td>tt0028333</td>\n      <td>actor</td>\n      <td>[\"Lucky Garnett\"]</td>\n    </tr>\n    <tr>\n      <th>...</th>\n      <td>...</td>\n      <td>...</td>\n      <td>...</td>\n      <td>...</td>\n    </tr>\n    <tr>\n      <th>52467412</th>\n      <td>nm9993708</td>\n      <td>tt14508814</td>\n      <td>actress</td>\n      <td>[\"Extra\"]</td>\n    </tr>\n    <tr>\n      <th>52467415</th>\n      <td>nm9993708</td>\n      <td>tt21028920</td>\n      <td>actress</td>\n      <td>\\N</td>\n    </tr>\n    <tr>\n      <th>52467420</th>\n      <td>nm9993709</td>\n      <td>tt11702702</td>\n      <td>actress</td>\n      <td>[\"Observant Poet\"]</td>\n    </tr>\n    <tr>\n      <th>52467423</th>\n      <td>nm9993709</td>\n      <td>tt11772842</td>\n      <td>actress</td>\n      <td>[\"Lu\"]</td>\n    </tr>\n    <tr>\n      <th>52467430</th>\n      <td>nm9993709</td>\n      <td>tt21028920</td>\n      <td>actress</td>\n      <td>\\N</td>\n    </tr>\n  </tbody>\n</table>\n<p>20533189 rows × 4 columns</p>\n</div>"
     },
     "execution_count": 27,
     "metadata": {},
     "output_type": "execute_result"
    }
   ],
   "source": [
    "pmc"
   ],
   "metadata": {
    "collapsed": false,
    "pycharm": {
     "name": "#%%\n"
    }
   }
  },
  {
   "cell_type": "code",
   "execution_count": 104,
   "outputs": [],
   "source": [
    "\n",
    "\n",
    "old_person.columns = ['id', 'personID','infoTypeID','info', 'note']"
   ],
   "metadata": {
    "collapsed": false,
    "pycharm": {
     "name": "#%%\n"
    }
   }
  },
  {
   "cell_type": "code",
   "execution_count": 109,
   "outputs": [],
   "source": [
    "old_person = pd.read_pickle(\"old_person.pkl\")\n",
    "#new_person = pd.read_pickle('new_person_basics.p6yhn     kl')"
   ],
   "metadata": {
    "collapsed": false,
    "pycharm": {
     "name": "#%%\n"
    }
   }
  },
  {
   "cell_type": "code",
   "execution_count": 9,
   "outputs": [
    {
     "ename": "FileNotFoundError",
     "evalue": "[Errno 2] No such file or directory: 'test.pkl'",
     "output_type": "error",
     "traceback": [
      "\u001B[0;31m---------------------------------------------------------------------------\u001B[0m",
      "\u001B[0;31mFileNotFoundError\u001B[0m                         Traceback (most recent call last)",
      "Cell \u001B[0;32mIn [9], line 1\u001B[0m\n\u001B[0;32m----> 1\u001B[0m new_person_movie \u001B[38;5;241m=\u001B[39m \u001B[43mpd\u001B[49m\u001B[38;5;241;43m.\u001B[39;49m\u001B[43mread_pickle\u001B[49m\u001B[43m(\u001B[49m\u001B[38;5;124;43m'\u001B[39;49m\u001B[38;5;124;43mtest.pkl\u001B[39;49m\u001B[38;5;124;43m'\u001B[39;49m\u001B[43m)\u001B[49m\n",
      "File \u001B[0;32m~/Dropbox/tolzul/BayesSD/ContinuousCode/3_Data4DM/empirical_dynamics/venv/lib/python3.9/site-packages/pandas/io/pickle.py:190\u001B[0m, in \u001B[0;36mread_pickle\u001B[0;34m(filepath_or_buffer, compression, storage_options)\u001B[0m\n\u001B[1;32m    124\u001B[0m \u001B[38;5;124;03m\"\"\"\u001B[39;00m\n\u001B[1;32m    125\u001B[0m \u001B[38;5;124;03mLoad pickled pandas object (or any object) from file.\u001B[39;00m\n\u001B[1;32m    126\u001B[0m \n\u001B[0;32m   (...)\u001B[0m\n\u001B[1;32m    187\u001B[0m \u001B[38;5;124;03m4    4    9\u001B[39;00m\n\u001B[1;32m    188\u001B[0m \u001B[38;5;124;03m\"\"\"\u001B[39;00m\n\u001B[1;32m    189\u001B[0m excs_to_catch \u001B[38;5;241m=\u001B[39m (\u001B[38;5;167;01mAttributeError\u001B[39;00m, \u001B[38;5;167;01mImportError\u001B[39;00m, \u001B[38;5;167;01mModuleNotFoundError\u001B[39;00m, \u001B[38;5;167;01mTypeError\u001B[39;00m)\n\u001B[0;32m--> 190\u001B[0m \u001B[38;5;28;01mwith\u001B[39;00m \u001B[43mget_handle\u001B[49m\u001B[43m(\u001B[49m\n\u001B[1;32m    191\u001B[0m \u001B[43m    \u001B[49m\u001B[43mfilepath_or_buffer\u001B[49m\u001B[43m,\u001B[49m\n\u001B[1;32m    192\u001B[0m \u001B[43m    \u001B[49m\u001B[38;5;124;43m\"\u001B[39;49m\u001B[38;5;124;43mrb\u001B[39;49m\u001B[38;5;124;43m\"\u001B[39;49m\u001B[43m,\u001B[49m\n\u001B[1;32m    193\u001B[0m \u001B[43m    \u001B[49m\u001B[43mcompression\u001B[49m\u001B[38;5;241;43m=\u001B[39;49m\u001B[43mcompression\u001B[49m\u001B[43m,\u001B[49m\n\u001B[1;32m    194\u001B[0m \u001B[43m    \u001B[49m\u001B[43mis_text\u001B[49m\u001B[38;5;241;43m=\u001B[39;49m\u001B[38;5;28;43;01mFalse\u001B[39;49;00m\u001B[43m,\u001B[49m\n\u001B[1;32m    195\u001B[0m \u001B[43m    \u001B[49m\u001B[43mstorage_options\u001B[49m\u001B[38;5;241;43m=\u001B[39;49m\u001B[43mstorage_options\u001B[49m\u001B[43m,\u001B[49m\n\u001B[1;32m    196\u001B[0m \u001B[43m\u001B[49m\u001B[43m)\u001B[49m \u001B[38;5;28;01mas\u001B[39;00m handles:\n\u001B[1;32m    197\u001B[0m \n\u001B[1;32m    198\u001B[0m     \u001B[38;5;66;03m# 1) try standard library Pickle\u001B[39;00m\n\u001B[1;32m    199\u001B[0m     \u001B[38;5;66;03m# 2) try pickle_compat (older pandas version) to handle subclass changes\u001B[39;00m\n\u001B[1;32m    200\u001B[0m     \u001B[38;5;66;03m# 3) try pickle_compat with latin-1 encoding upon a UnicodeDecodeError\u001B[39;00m\n\u001B[1;32m    202\u001B[0m     \u001B[38;5;28;01mtry\u001B[39;00m:\n\u001B[1;32m    203\u001B[0m         \u001B[38;5;66;03m# TypeError for Cython complaints about object.__new__ vs Tick.__new__\u001B[39;00m\n\u001B[1;32m    204\u001B[0m         \u001B[38;5;28;01mtry\u001B[39;00m:\n",
      "File \u001B[0;32m~/Dropbox/tolzul/BayesSD/ContinuousCode/3_Data4DM/empirical_dynamics/venv/lib/python3.9/site-packages/pandas/io/common.py:865\u001B[0m, in \u001B[0;36mget_handle\u001B[0;34m(path_or_buf, mode, encoding, compression, memory_map, is_text, errors, storage_options)\u001B[0m\n\u001B[1;32m    856\u001B[0m         handle \u001B[38;5;241m=\u001B[39m \u001B[38;5;28mopen\u001B[39m(\n\u001B[1;32m    857\u001B[0m             handle,\n\u001B[1;32m    858\u001B[0m             ioargs\u001B[38;5;241m.\u001B[39mmode,\n\u001B[0;32m   (...)\u001B[0m\n\u001B[1;32m    861\u001B[0m             newline\u001B[38;5;241m=\u001B[39m\u001B[38;5;124m\"\u001B[39m\u001B[38;5;124m\"\u001B[39m,\n\u001B[1;32m    862\u001B[0m         )\n\u001B[1;32m    863\u001B[0m     \u001B[38;5;28;01melse\u001B[39;00m:\n\u001B[1;32m    864\u001B[0m         \u001B[38;5;66;03m# Binary mode\u001B[39;00m\n\u001B[0;32m--> 865\u001B[0m         handle \u001B[38;5;241m=\u001B[39m \u001B[38;5;28;43mopen\u001B[39;49m\u001B[43m(\u001B[49m\u001B[43mhandle\u001B[49m\u001B[43m,\u001B[49m\u001B[43m \u001B[49m\u001B[43mioargs\u001B[49m\u001B[38;5;241;43m.\u001B[39;49m\u001B[43mmode\u001B[49m\u001B[43m)\u001B[49m\n\u001B[1;32m    866\u001B[0m     handles\u001B[38;5;241m.\u001B[39mappend(handle)\n\u001B[1;32m    868\u001B[0m \u001B[38;5;66;03m# Convert BytesIO or file objects passed with an encoding\u001B[39;00m\n",
      "\u001B[0;31mFileNotFoundError\u001B[0m: [Errno 2] No such file or directory: 'test.pkl'"
     ]
    }
   ],
   "source": [
    "new_person_movie = pd.read_pickle('test.pkl')"
   ],
   "metadata": {
    "collapsed": false,
    "pycharm": {
     "name": "#%%\n"
    }
   }
  },
  {
   "cell_type": "code",
   "execution_count": 22,
   "outputs": [
    {
     "data": {
      "text/plain": "'/Users/hyunjimoon/Dropbox/tolzul/BayesSD/ContinuousCode/3_Data4DM/empirical_dynamics/cont_code/data/movie'"
     },
     "execution_count": 22,
     "metadata": {},
     "output_type": "execute_result"
    }
   ],
   "source": [
    "os.getcwd()"
   ],
   "metadata": {
    "collapsed": false,
    "pycharm": {
     "name": "#%%\n"
    }
   }
  },
  {
   "cell_type": "code",
   "execution_count": 18,
   "outputs": [
    {
     "data": {
      "text/plain": "              id                         name\n0            451                    A., David\n1            129  -Alverio, Esteban Rodriguez\n2           1688                 Abbas, Athar\n3           3631                  Aberer, Leo\n4            512                         A.J.\n...          ...                          ...\n4193671  4193674               Öndemir, Önder\n4193672  4193676                  Özgür, Lale\n4193673  4193670                   Ôta, Akemi\n4193674  4193675                 Östling, Kia\n4193675  4193677              Þórisson, Jónas\n\n[4193676 rows x 2 columns]",
      "text/html": "<div>\n<style scoped>\n    .dataframe tbody tr th:only-of-type {\n        vertical-align: middle;\n    }\n\n    .dataframe tbody tr th {\n        vertical-align: top;\n    }\n\n    .dataframe thead th {\n        text-align: right;\n    }\n</style>\n<table border=\"1\" class=\"dataframe\">\n  <thead>\n    <tr style=\"text-align: right;\">\n      <th></th>\n      <th>id</th>\n      <th>name</th>\n    </tr>\n  </thead>\n  <tbody>\n    <tr>\n      <th>0</th>\n      <td>451</td>\n      <td>A., David</td>\n    </tr>\n    <tr>\n      <th>1</th>\n      <td>129</td>\n      <td>-Alverio, Esteban Rodriguez</td>\n    </tr>\n    <tr>\n      <th>2</th>\n      <td>1688</td>\n      <td>Abbas, Athar</td>\n    </tr>\n    <tr>\n      <th>3</th>\n      <td>3631</td>\n      <td>Aberer, Leo</td>\n    </tr>\n    <tr>\n      <th>4</th>\n      <td>512</td>\n      <td>A.J.</td>\n    </tr>\n    <tr>\n      <th>...</th>\n      <td>...</td>\n      <td>...</td>\n    </tr>\n    <tr>\n      <th>4193671</th>\n      <td>4193674</td>\n      <td>Öndemir, Önder</td>\n    </tr>\n    <tr>\n      <th>4193672</th>\n      <td>4193676</td>\n      <td>Özgür, Lale</td>\n    </tr>\n    <tr>\n      <th>4193673</th>\n      <td>4193670</td>\n      <td>Ôta, Akemi</td>\n    </tr>\n    <tr>\n      <th>4193674</th>\n      <td>4193675</td>\n      <td>Östling, Kia</td>\n    </tr>\n    <tr>\n      <th>4193675</th>\n      <td>4193677</td>\n      <td>Þórisson, Jónas</td>\n    </tr>\n  </tbody>\n</table>\n<p>4193676 rows × 2 columns</p>\n</div>"
     },
     "execution_count": 18,
     "metadata": {},
     "output_type": "execute_result"
    }
   ],
   "source": [
    "old_person.columns = ['id', 'name', 'imdbIndex', 'imdbId', 'gender', 'namePcodeCf', 'namePcodeNf', 'surnamePcode', 'md5sum']\n",
    "old_person[['id', 'name']] #4m"
   ],
   "metadata": {
    "collapsed": false,
    "pycharm": {
     "name": "#%%\n"
    }
   }
  },
  {
   "cell_type": "code",
   "execution_count": 10,
   "outputs": [
    {
     "ename": "FileNotFoundError",
     "evalue": "[Errno 2] No such file or directory: 'cast_info.csv'",
     "output_type": "error",
     "traceback": [
      "\u001B[0;31m---------------------------------------------------------------------------\u001B[0m",
      "\u001B[0;31mFileNotFoundError\u001B[0m                         Traceback (most recent call last)",
      "Cell \u001B[0;32mIn [10], line 1\u001B[0m\n\u001B[0;32m----> 1\u001B[0m \u001B[43mpd\u001B[49m\u001B[38;5;241;43m.\u001B[39;49m\u001B[43mread_csv\u001B[49m\u001B[43m(\u001B[49m\u001B[38;5;124;43m\"\u001B[39;49m\u001B[38;5;124;43mcast_info.csv\u001B[39;49m\u001B[38;5;124;43m\"\u001B[39;49m\u001B[43m)\u001B[49m\u001B[38;5;241m.\u001B[39mto_pickle(\u001B[38;5;124m\"\u001B[39m\u001B[38;5;124mold_cast_info.pkl\u001B[39m\u001B[38;5;124m\"\u001B[39m)\n",
      "File \u001B[0;32m~/Dropbox/tolzul/BayesSD/ContinuousCode/3_Data4DM/empirical_dynamics/venv/lib/python3.9/site-packages/pandas/util/_decorators.py:211\u001B[0m, in \u001B[0;36mdeprecate_kwarg.<locals>._deprecate_kwarg.<locals>.wrapper\u001B[0;34m(*args, **kwargs)\u001B[0m\n\u001B[1;32m    209\u001B[0m     \u001B[38;5;28;01melse\u001B[39;00m:\n\u001B[1;32m    210\u001B[0m         kwargs[new_arg_name] \u001B[38;5;241m=\u001B[39m new_arg_value\n\u001B[0;32m--> 211\u001B[0m \u001B[38;5;28;01mreturn\u001B[39;00m \u001B[43mfunc\u001B[49m\u001B[43m(\u001B[49m\u001B[38;5;241;43m*\u001B[39;49m\u001B[43margs\u001B[49m\u001B[43m,\u001B[49m\u001B[43m \u001B[49m\u001B[38;5;241;43m*\u001B[39;49m\u001B[38;5;241;43m*\u001B[39;49m\u001B[43mkwargs\u001B[49m\u001B[43m)\u001B[49m\n",
      "File \u001B[0;32m~/Dropbox/tolzul/BayesSD/ContinuousCode/3_Data4DM/empirical_dynamics/venv/lib/python3.9/site-packages/pandas/util/_decorators.py:331\u001B[0m, in \u001B[0;36mdeprecate_nonkeyword_arguments.<locals>.decorate.<locals>.wrapper\u001B[0;34m(*args, **kwargs)\u001B[0m\n\u001B[1;32m    325\u001B[0m \u001B[38;5;28;01mif\u001B[39;00m \u001B[38;5;28mlen\u001B[39m(args) \u001B[38;5;241m>\u001B[39m num_allow_args:\n\u001B[1;32m    326\u001B[0m     warnings\u001B[38;5;241m.\u001B[39mwarn(\n\u001B[1;32m    327\u001B[0m         msg\u001B[38;5;241m.\u001B[39mformat(arguments\u001B[38;5;241m=\u001B[39m_format_argument_list(allow_args)),\n\u001B[1;32m    328\u001B[0m         \u001B[38;5;167;01mFutureWarning\u001B[39;00m,\n\u001B[1;32m    329\u001B[0m         stacklevel\u001B[38;5;241m=\u001B[39mfind_stack_level(),\n\u001B[1;32m    330\u001B[0m     )\n\u001B[0;32m--> 331\u001B[0m \u001B[38;5;28;01mreturn\u001B[39;00m \u001B[43mfunc\u001B[49m\u001B[43m(\u001B[49m\u001B[38;5;241;43m*\u001B[39;49m\u001B[43margs\u001B[49m\u001B[43m,\u001B[49m\u001B[43m \u001B[49m\u001B[38;5;241;43m*\u001B[39;49m\u001B[38;5;241;43m*\u001B[39;49m\u001B[43mkwargs\u001B[49m\u001B[43m)\u001B[49m\n",
      "File \u001B[0;32m~/Dropbox/tolzul/BayesSD/ContinuousCode/3_Data4DM/empirical_dynamics/venv/lib/python3.9/site-packages/pandas/io/parsers/readers.py:950\u001B[0m, in \u001B[0;36mread_csv\u001B[0;34m(filepath_or_buffer, sep, delimiter, header, names, index_col, usecols, squeeze, prefix, mangle_dupe_cols, dtype, engine, converters, true_values, false_values, skipinitialspace, skiprows, skipfooter, nrows, na_values, keep_default_na, na_filter, verbose, skip_blank_lines, parse_dates, infer_datetime_format, keep_date_col, date_parser, dayfirst, cache_dates, iterator, chunksize, compression, thousands, decimal, lineterminator, quotechar, quoting, doublequote, escapechar, comment, encoding, encoding_errors, dialect, error_bad_lines, warn_bad_lines, on_bad_lines, delim_whitespace, low_memory, memory_map, float_precision, storage_options)\u001B[0m\n\u001B[1;32m    935\u001B[0m kwds_defaults \u001B[38;5;241m=\u001B[39m _refine_defaults_read(\n\u001B[1;32m    936\u001B[0m     dialect,\n\u001B[1;32m    937\u001B[0m     delimiter,\n\u001B[0;32m   (...)\u001B[0m\n\u001B[1;32m    946\u001B[0m     defaults\u001B[38;5;241m=\u001B[39m{\u001B[38;5;124m\"\u001B[39m\u001B[38;5;124mdelimiter\u001B[39m\u001B[38;5;124m\"\u001B[39m: \u001B[38;5;124m\"\u001B[39m\u001B[38;5;124m,\u001B[39m\u001B[38;5;124m\"\u001B[39m},\n\u001B[1;32m    947\u001B[0m )\n\u001B[1;32m    948\u001B[0m kwds\u001B[38;5;241m.\u001B[39mupdate(kwds_defaults)\n\u001B[0;32m--> 950\u001B[0m \u001B[38;5;28;01mreturn\u001B[39;00m \u001B[43m_read\u001B[49m\u001B[43m(\u001B[49m\u001B[43mfilepath_or_buffer\u001B[49m\u001B[43m,\u001B[49m\u001B[43m \u001B[49m\u001B[43mkwds\u001B[49m\u001B[43m)\u001B[49m\n",
      "File \u001B[0;32m~/Dropbox/tolzul/BayesSD/ContinuousCode/3_Data4DM/empirical_dynamics/venv/lib/python3.9/site-packages/pandas/io/parsers/readers.py:605\u001B[0m, in \u001B[0;36m_read\u001B[0;34m(filepath_or_buffer, kwds)\u001B[0m\n\u001B[1;32m    602\u001B[0m _validate_names(kwds\u001B[38;5;241m.\u001B[39mget(\u001B[38;5;124m\"\u001B[39m\u001B[38;5;124mnames\u001B[39m\u001B[38;5;124m\"\u001B[39m, \u001B[38;5;28;01mNone\u001B[39;00m))\n\u001B[1;32m    604\u001B[0m \u001B[38;5;66;03m# Create the parser.\u001B[39;00m\n\u001B[0;32m--> 605\u001B[0m parser \u001B[38;5;241m=\u001B[39m \u001B[43mTextFileReader\u001B[49m\u001B[43m(\u001B[49m\u001B[43mfilepath_or_buffer\u001B[49m\u001B[43m,\u001B[49m\u001B[43m \u001B[49m\u001B[38;5;241;43m*\u001B[39;49m\u001B[38;5;241;43m*\u001B[39;49m\u001B[43mkwds\u001B[49m\u001B[43m)\u001B[49m\n\u001B[1;32m    607\u001B[0m \u001B[38;5;28;01mif\u001B[39;00m chunksize \u001B[38;5;129;01mor\u001B[39;00m iterator:\n\u001B[1;32m    608\u001B[0m     \u001B[38;5;28;01mreturn\u001B[39;00m parser\n",
      "File \u001B[0;32m~/Dropbox/tolzul/BayesSD/ContinuousCode/3_Data4DM/empirical_dynamics/venv/lib/python3.9/site-packages/pandas/io/parsers/readers.py:1442\u001B[0m, in \u001B[0;36mTextFileReader.__init__\u001B[0;34m(self, f, engine, **kwds)\u001B[0m\n\u001B[1;32m   1439\u001B[0m     \u001B[38;5;28mself\u001B[39m\u001B[38;5;241m.\u001B[39moptions[\u001B[38;5;124m\"\u001B[39m\u001B[38;5;124mhas_index_names\u001B[39m\u001B[38;5;124m\"\u001B[39m] \u001B[38;5;241m=\u001B[39m kwds[\u001B[38;5;124m\"\u001B[39m\u001B[38;5;124mhas_index_names\u001B[39m\u001B[38;5;124m\"\u001B[39m]\n\u001B[1;32m   1441\u001B[0m \u001B[38;5;28mself\u001B[39m\u001B[38;5;241m.\u001B[39mhandles: IOHandles \u001B[38;5;241m|\u001B[39m \u001B[38;5;28;01mNone\u001B[39;00m \u001B[38;5;241m=\u001B[39m \u001B[38;5;28;01mNone\u001B[39;00m\n\u001B[0;32m-> 1442\u001B[0m \u001B[38;5;28mself\u001B[39m\u001B[38;5;241m.\u001B[39m_engine \u001B[38;5;241m=\u001B[39m \u001B[38;5;28;43mself\u001B[39;49m\u001B[38;5;241;43m.\u001B[39;49m\u001B[43m_make_engine\u001B[49m\u001B[43m(\u001B[49m\u001B[43mf\u001B[49m\u001B[43m,\u001B[49m\u001B[43m \u001B[49m\u001B[38;5;28;43mself\u001B[39;49m\u001B[38;5;241;43m.\u001B[39;49m\u001B[43mengine\u001B[49m\u001B[43m)\u001B[49m\n",
      "File \u001B[0;32m~/Dropbox/tolzul/BayesSD/ContinuousCode/3_Data4DM/empirical_dynamics/venv/lib/python3.9/site-packages/pandas/io/parsers/readers.py:1735\u001B[0m, in \u001B[0;36mTextFileReader._make_engine\u001B[0;34m(self, f, engine)\u001B[0m\n\u001B[1;32m   1733\u001B[0m     \u001B[38;5;28;01mif\u001B[39;00m \u001B[38;5;124m\"\u001B[39m\u001B[38;5;124mb\u001B[39m\u001B[38;5;124m\"\u001B[39m \u001B[38;5;129;01mnot\u001B[39;00m \u001B[38;5;129;01min\u001B[39;00m mode:\n\u001B[1;32m   1734\u001B[0m         mode \u001B[38;5;241m+\u001B[39m\u001B[38;5;241m=\u001B[39m \u001B[38;5;124m\"\u001B[39m\u001B[38;5;124mb\u001B[39m\u001B[38;5;124m\"\u001B[39m\n\u001B[0;32m-> 1735\u001B[0m \u001B[38;5;28mself\u001B[39m\u001B[38;5;241m.\u001B[39mhandles \u001B[38;5;241m=\u001B[39m \u001B[43mget_handle\u001B[49m\u001B[43m(\u001B[49m\n\u001B[1;32m   1736\u001B[0m \u001B[43m    \u001B[49m\u001B[43mf\u001B[49m\u001B[43m,\u001B[49m\n\u001B[1;32m   1737\u001B[0m \u001B[43m    \u001B[49m\u001B[43mmode\u001B[49m\u001B[43m,\u001B[49m\n\u001B[1;32m   1738\u001B[0m \u001B[43m    \u001B[49m\u001B[43mencoding\u001B[49m\u001B[38;5;241;43m=\u001B[39;49m\u001B[38;5;28;43mself\u001B[39;49m\u001B[38;5;241;43m.\u001B[39;49m\u001B[43moptions\u001B[49m\u001B[38;5;241;43m.\u001B[39;49m\u001B[43mget\u001B[49m\u001B[43m(\u001B[49m\u001B[38;5;124;43m\"\u001B[39;49m\u001B[38;5;124;43mencoding\u001B[39;49m\u001B[38;5;124;43m\"\u001B[39;49m\u001B[43m,\u001B[49m\u001B[43m \u001B[49m\u001B[38;5;28;43;01mNone\u001B[39;49;00m\u001B[43m)\u001B[49m\u001B[43m,\u001B[49m\n\u001B[1;32m   1739\u001B[0m \u001B[43m    \u001B[49m\u001B[43mcompression\u001B[49m\u001B[38;5;241;43m=\u001B[39;49m\u001B[38;5;28;43mself\u001B[39;49m\u001B[38;5;241;43m.\u001B[39;49m\u001B[43moptions\u001B[49m\u001B[38;5;241;43m.\u001B[39;49m\u001B[43mget\u001B[49m\u001B[43m(\u001B[49m\u001B[38;5;124;43m\"\u001B[39;49m\u001B[38;5;124;43mcompression\u001B[39;49m\u001B[38;5;124;43m\"\u001B[39;49m\u001B[43m,\u001B[49m\u001B[43m \u001B[49m\u001B[38;5;28;43;01mNone\u001B[39;49;00m\u001B[43m)\u001B[49m\u001B[43m,\u001B[49m\n\u001B[1;32m   1740\u001B[0m \u001B[43m    \u001B[49m\u001B[43mmemory_map\u001B[49m\u001B[38;5;241;43m=\u001B[39;49m\u001B[38;5;28;43mself\u001B[39;49m\u001B[38;5;241;43m.\u001B[39;49m\u001B[43moptions\u001B[49m\u001B[38;5;241;43m.\u001B[39;49m\u001B[43mget\u001B[49m\u001B[43m(\u001B[49m\u001B[38;5;124;43m\"\u001B[39;49m\u001B[38;5;124;43mmemory_map\u001B[39;49m\u001B[38;5;124;43m\"\u001B[39;49m\u001B[43m,\u001B[49m\u001B[43m \u001B[49m\u001B[38;5;28;43;01mFalse\u001B[39;49;00m\u001B[43m)\u001B[49m\u001B[43m,\u001B[49m\n\u001B[1;32m   1741\u001B[0m \u001B[43m    \u001B[49m\u001B[43mis_text\u001B[49m\u001B[38;5;241;43m=\u001B[39;49m\u001B[43mis_text\u001B[49m\u001B[43m,\u001B[49m\n\u001B[1;32m   1742\u001B[0m \u001B[43m    \u001B[49m\u001B[43merrors\u001B[49m\u001B[38;5;241;43m=\u001B[39;49m\u001B[38;5;28;43mself\u001B[39;49m\u001B[38;5;241;43m.\u001B[39;49m\u001B[43moptions\u001B[49m\u001B[38;5;241;43m.\u001B[39;49m\u001B[43mget\u001B[49m\u001B[43m(\u001B[49m\u001B[38;5;124;43m\"\u001B[39;49m\u001B[38;5;124;43mencoding_errors\u001B[39;49m\u001B[38;5;124;43m\"\u001B[39;49m\u001B[43m,\u001B[49m\u001B[43m \u001B[49m\u001B[38;5;124;43m\"\u001B[39;49m\u001B[38;5;124;43mstrict\u001B[39;49m\u001B[38;5;124;43m\"\u001B[39;49m\u001B[43m)\u001B[49m\u001B[43m,\u001B[49m\n\u001B[1;32m   1743\u001B[0m \u001B[43m    \u001B[49m\u001B[43mstorage_options\u001B[49m\u001B[38;5;241;43m=\u001B[39;49m\u001B[38;5;28;43mself\u001B[39;49m\u001B[38;5;241;43m.\u001B[39;49m\u001B[43moptions\u001B[49m\u001B[38;5;241;43m.\u001B[39;49m\u001B[43mget\u001B[49m\u001B[43m(\u001B[49m\u001B[38;5;124;43m\"\u001B[39;49m\u001B[38;5;124;43mstorage_options\u001B[39;49m\u001B[38;5;124;43m\"\u001B[39;49m\u001B[43m,\u001B[49m\u001B[43m \u001B[49m\u001B[38;5;28;43;01mNone\u001B[39;49;00m\u001B[43m)\u001B[49m\u001B[43m,\u001B[49m\n\u001B[1;32m   1744\u001B[0m \u001B[43m\u001B[49m\u001B[43m)\u001B[49m\n\u001B[1;32m   1745\u001B[0m \u001B[38;5;28;01massert\u001B[39;00m \u001B[38;5;28mself\u001B[39m\u001B[38;5;241m.\u001B[39mhandles \u001B[38;5;129;01mis\u001B[39;00m \u001B[38;5;129;01mnot\u001B[39;00m \u001B[38;5;28;01mNone\u001B[39;00m\n\u001B[1;32m   1746\u001B[0m f \u001B[38;5;241m=\u001B[39m \u001B[38;5;28mself\u001B[39m\u001B[38;5;241m.\u001B[39mhandles\u001B[38;5;241m.\u001B[39mhandle\n",
      "File \u001B[0;32m~/Dropbox/tolzul/BayesSD/ContinuousCode/3_Data4DM/empirical_dynamics/venv/lib/python3.9/site-packages/pandas/io/common.py:856\u001B[0m, in \u001B[0;36mget_handle\u001B[0;34m(path_or_buf, mode, encoding, compression, memory_map, is_text, errors, storage_options)\u001B[0m\n\u001B[1;32m    851\u001B[0m \u001B[38;5;28;01melif\u001B[39;00m \u001B[38;5;28misinstance\u001B[39m(handle, \u001B[38;5;28mstr\u001B[39m):\n\u001B[1;32m    852\u001B[0m     \u001B[38;5;66;03m# Check whether the filename is to be opened in binary mode.\u001B[39;00m\n\u001B[1;32m    853\u001B[0m     \u001B[38;5;66;03m# Binary mode does not support 'encoding' and 'newline'.\u001B[39;00m\n\u001B[1;32m    854\u001B[0m     \u001B[38;5;28;01mif\u001B[39;00m ioargs\u001B[38;5;241m.\u001B[39mencoding \u001B[38;5;129;01mand\u001B[39;00m \u001B[38;5;124m\"\u001B[39m\u001B[38;5;124mb\u001B[39m\u001B[38;5;124m\"\u001B[39m \u001B[38;5;129;01mnot\u001B[39;00m \u001B[38;5;129;01min\u001B[39;00m ioargs\u001B[38;5;241m.\u001B[39mmode:\n\u001B[1;32m    855\u001B[0m         \u001B[38;5;66;03m# Encoding\u001B[39;00m\n\u001B[0;32m--> 856\u001B[0m         handle \u001B[38;5;241m=\u001B[39m \u001B[38;5;28;43mopen\u001B[39;49m\u001B[43m(\u001B[49m\n\u001B[1;32m    857\u001B[0m \u001B[43m            \u001B[49m\u001B[43mhandle\u001B[49m\u001B[43m,\u001B[49m\n\u001B[1;32m    858\u001B[0m \u001B[43m            \u001B[49m\u001B[43mioargs\u001B[49m\u001B[38;5;241;43m.\u001B[39;49m\u001B[43mmode\u001B[49m\u001B[43m,\u001B[49m\n\u001B[1;32m    859\u001B[0m \u001B[43m            \u001B[49m\u001B[43mencoding\u001B[49m\u001B[38;5;241;43m=\u001B[39;49m\u001B[43mioargs\u001B[49m\u001B[38;5;241;43m.\u001B[39;49m\u001B[43mencoding\u001B[49m\u001B[43m,\u001B[49m\n\u001B[1;32m    860\u001B[0m \u001B[43m            \u001B[49m\u001B[43merrors\u001B[49m\u001B[38;5;241;43m=\u001B[39;49m\u001B[43merrors\u001B[49m\u001B[43m,\u001B[49m\n\u001B[1;32m    861\u001B[0m \u001B[43m            \u001B[49m\u001B[43mnewline\u001B[49m\u001B[38;5;241;43m=\u001B[39;49m\u001B[38;5;124;43m\"\u001B[39;49m\u001B[38;5;124;43m\"\u001B[39;49m\u001B[43m,\u001B[49m\n\u001B[1;32m    862\u001B[0m \u001B[43m        \u001B[49m\u001B[43m)\u001B[49m\n\u001B[1;32m    863\u001B[0m     \u001B[38;5;28;01melse\u001B[39;00m:\n\u001B[1;32m    864\u001B[0m         \u001B[38;5;66;03m# Binary mode\u001B[39;00m\n\u001B[1;32m    865\u001B[0m         handle \u001B[38;5;241m=\u001B[39m \u001B[38;5;28mopen\u001B[39m(handle, ioargs\u001B[38;5;241m.\u001B[39mmode)\n",
      "\u001B[0;31mFileNotFoundError\u001B[0m: [Errno 2] No such file or directory: 'cast_info.csv'"
     ]
    }
   ],
   "source": [
    "pd.read_csv(\"cast_info.csv\").to_pickle(\"old_cast_info.pkl\")"
   ],
   "metadata": {
    "collapsed": false,
    "pycharm": {
     "name": "#%%\n"
    }
   }
  },
  {
   "cell_type": "code",
   "execution_count": 1,
   "outputs": [
    {
     "ename": "NameError",
     "evalue": "name 'pd' is not defined",
     "output_type": "error",
     "traceback": [
      "\u001B[0;31m---------------------------------------------------------------------------\u001B[0m",
      "\u001B[0;31mNameError\u001B[0m                                 Traceback (most recent call last)",
      "Cell \u001B[0;32mIn [1], line 1\u001B[0m\n\u001B[0;32m----> 1\u001B[0m \u001B[43mpd\u001B[49m\u001B[38;5;241m.\u001B[39mread_csv(\u001B[38;5;124m\"\u001B[39m\u001B[38;5;124mdata/movie/new_movie_princ.pkl\u001B[39m\u001B[38;5;124m\"\u001B[39m)\n",
      "\u001B[0;31mNameError\u001B[0m: name 'pd' is not defined"
     ]
    }
   ],
   "source": [
    "pd.read_csv(\"data/movie/new_movie_princ.pkl\")"
   ],
   "metadata": {
    "collapsed": false,
    "pycharm": {
     "name": "#%%\n"
    }
   }
  },
  {
   "cell_type": "code",
   "execution_count": 19,
   "outputs": [],
   "source": [
    "new_person.rename(columns = {'primaryName': 'name', 'birthYear': 'year'}, inplace=True)"
   ],
   "metadata": {
    "collapsed": false,
    "pycharm": {
     "name": "#%%\n"
    }
   }
  },
  {
   "cell_type": "code",
   "execution_count": 20,
   "outputs": [
    {
     "data": {
      "text/plain": "             nconst                name  year deathYear  \\\n0         nm0000001        Fred Astaire  1899      1987   \n1         nm0000002       Lauren Bacall  1924      2014   \n2         nm0000003     Brigitte Bardot  1934        \\N   \n3         nm0000004        John Belushi  1949      1982   \n4         nm0000005      Ingmar Bergman  1918      2007   \n...             ...                 ...   ...       ...   \n11988018  nm9993714   Romeo del Rosario    \\N        \\N   \n11988019  nm9993716       Essias Loberg    \\N        \\N   \n11988020  nm9993717  Harikrishnan Rajan    \\N        \\N   \n11988021  nm9993718         Aayush Nair    \\N        \\N   \n11988022  nm9993719          Andre Hill    \\N        \\N   \n\n                            primaryProfession  \\\n0              soundtrack,actor,miscellaneous   \n1                          actress,soundtrack   \n2         actress,soundtrack,music_department   \n3                     actor,soundtrack,writer   \n4                       writer,director,actor   \n...                                       ...   \n11988018  animation_department,art_department   \n11988019                                  NaN   \n11988020                      cinematographer   \n11988021                      cinematographer   \n11988022                                  NaN   \n\n                                   knownForTitles  \n0         tt0072308,tt0053137,tt0050419,tt0031983  \n1         tt0038355,tt0037382,tt0117057,tt0071877  \n2         tt0054452,tt0057345,tt0056404,tt0049189  \n3         tt0078723,tt0072562,tt0080455,tt0077975  \n4         tt0083922,tt0050986,tt0069467,tt0060827  \n...                                           ...  \n11988018          tt2455546,tt11657662,tt14069590  \n11988019                                       \\N  \n11988020                                tt8736744  \n11988021                                       \\N  \n11988022                                       \\N  \n\n[11988023 rows x 6 columns]",
      "text/html": "<div>\n<style scoped>\n    .dataframe tbody tr th:only-of-type {\n        vertical-align: middle;\n    }\n\n    .dataframe tbody tr th {\n        vertical-align: top;\n    }\n\n    .dataframe thead th {\n        text-align: right;\n    }\n</style>\n<table border=\"1\" class=\"dataframe\">\n  <thead>\n    <tr style=\"text-align: right;\">\n      <th></th>\n      <th>nconst</th>\n      <th>name</th>\n      <th>year</th>\n      <th>deathYear</th>\n      <th>primaryProfession</th>\n      <th>knownForTitles</th>\n    </tr>\n  </thead>\n  <tbody>\n    <tr>\n      <th>0</th>\n      <td>nm0000001</td>\n      <td>Fred Astaire</td>\n      <td>1899</td>\n      <td>1987</td>\n      <td>soundtrack,actor,miscellaneous</td>\n      <td>tt0072308,tt0053137,tt0050419,tt0031983</td>\n    </tr>\n    <tr>\n      <th>1</th>\n      <td>nm0000002</td>\n      <td>Lauren Bacall</td>\n      <td>1924</td>\n      <td>2014</td>\n      <td>actress,soundtrack</td>\n      <td>tt0038355,tt0037382,tt0117057,tt0071877</td>\n    </tr>\n    <tr>\n      <th>2</th>\n      <td>nm0000003</td>\n      <td>Brigitte Bardot</td>\n      <td>1934</td>\n      <td>\\N</td>\n      <td>actress,soundtrack,music_department</td>\n      <td>tt0054452,tt0057345,tt0056404,tt0049189</td>\n    </tr>\n    <tr>\n      <th>3</th>\n      <td>nm0000004</td>\n      <td>John Belushi</td>\n      <td>1949</td>\n      <td>1982</td>\n      <td>actor,soundtrack,writer</td>\n      <td>tt0078723,tt0072562,tt0080455,tt0077975</td>\n    </tr>\n    <tr>\n      <th>4</th>\n      <td>nm0000005</td>\n      <td>Ingmar Bergman</td>\n      <td>1918</td>\n      <td>2007</td>\n      <td>writer,director,actor</td>\n      <td>tt0083922,tt0050986,tt0069467,tt0060827</td>\n    </tr>\n    <tr>\n      <th>...</th>\n      <td>...</td>\n      <td>...</td>\n      <td>...</td>\n      <td>...</td>\n      <td>...</td>\n      <td>...</td>\n    </tr>\n    <tr>\n      <th>11988018</th>\n      <td>nm9993714</td>\n      <td>Romeo del Rosario</td>\n      <td>\\N</td>\n      <td>\\N</td>\n      <td>animation_department,art_department</td>\n      <td>tt2455546,tt11657662,tt14069590</td>\n    </tr>\n    <tr>\n      <th>11988019</th>\n      <td>nm9993716</td>\n      <td>Essias Loberg</td>\n      <td>\\N</td>\n      <td>\\N</td>\n      <td>NaN</td>\n      <td>\\N</td>\n    </tr>\n    <tr>\n      <th>11988020</th>\n      <td>nm9993717</td>\n      <td>Harikrishnan Rajan</td>\n      <td>\\N</td>\n      <td>\\N</td>\n      <td>cinematographer</td>\n      <td>tt8736744</td>\n    </tr>\n    <tr>\n      <th>11988021</th>\n      <td>nm9993718</td>\n      <td>Aayush Nair</td>\n      <td>\\N</td>\n      <td>\\N</td>\n      <td>cinematographer</td>\n      <td>\\N</td>\n    </tr>\n    <tr>\n      <th>11988022</th>\n      <td>nm9993719</td>\n      <td>Andre Hill</td>\n      <td>\\N</td>\n      <td>\\N</td>\n      <td>NaN</td>\n      <td>\\N</td>\n    </tr>\n  </tbody>\n</table>\n<p>11988023 rows × 6 columns</p>\n</div>"
     },
     "execution_count": 20,
     "metadata": {},
     "output_type": "execute_result"
    }
   ],
   "source": [
    "new_person"
   ],
   "metadata": {
    "collapsed": false,
    "pycharm": {
     "name": "#%%\n"
    }
   }
  },
  {
   "cell_type": "markdown",
   "source": [
    "## Cinemagoer"
   ],
   "metadata": {
    "collapsed": false,
    "pycharm": {
     "name": "#%% md\n"
    }
   }
  },
  {
   "cell_type": "code",
   "execution_count": null,
   "outputs": [],
   "source": [
    "from imdb import Cinemagoer\n",
    "ia = Cinemagoer()\n",
    "object = ia\n",
    "filehandler = open(\"Cinemagoer2.pkl\", 'w')\n",
    "\n",
    "import pickle, copyreg, ssl\n",
    "\n",
    "def save_sslcontext(obj):\n",
    "    return obj.__class__, (obj.protocol,)\n",
    "\n",
    "copyreg.pickle(ssl.SSLContext, save_sslcontext)\n",
    "context = ssl.create_default_context()\n",
    "foo = pickle.dumps(context, protocol=3)\n",
    "# _foo = pickle.loads(foo)\n",
    "# print(_foo)\n",
    "# #<ssl.SSLContext object at 0x1011812a8>\n",
    "# print(_foo.protocol)\n",
    "\n",
    "# when working with engagingdb, mindful of protocol (conda can be of aid)\n",
    "#pickle.dump(object, filehandler, protocol = 3)"
   ],
   "metadata": {
    "collapsed": false,
    "pycharm": {
     "name": "#%%\n"
    }
   }
  },
  {
   "cell_type": "code",
   "execution_count": null,
   "outputs": [],
   "source": [
    "ia = Cinemagoer()\n",
    "movie = ia.get_movie('0133093')\n",
    "for director in movie['directors']:\n",
    "    print(director['name'])\n",
    "for genre in movie['genres']:\n",
    "    print(genre)"
   ],
   "metadata": {
    "collapsed": false,
    "pycharm": {
     "name": "#%%\n"
    }
   }
  },
  {
   "cell_type": "code",
   "execution_count": 383,
   "metadata": {
    "pycharm": {
     "name": "#%%\n"
    }
   },
   "outputs": [
    {
     "name": "stdout",
     "output_type": "stream",
     "text": [
      "0000154 Mel Gibson\n",
      "12550288 Mel Gibson\n",
      "2153167 Mel Gibson\n",
      "0317112 Mel Gibson\n",
      "3323885 Adam Taylor\n",
      "2800055 Mel Gibson\n",
      "3742421 Melina Mari Bryant   nickname\n",
      "0317195 Terel Gibson\n",
      "0316945 Donal Gibson\n",
      "4047961 Noel Gibson\n",
      "0316878 Cal Gibson\n",
      "13996602 Joel Gibson\n",
      "3912400 Jamel Gibson\n",
      "2106809 Raquel Gibson\n",
      "0316950 E.L. Gibson\n",
      "12479102 Gel Gibson\n",
      "2798174 Daniel Gibson\n",
      "6928816 Christel Gibson\n",
      "0316915 Daniel Gibson\n",
      "1863978 Ethel Gibson\n"
     ]
    }
   ],
   "source": [
    "people = ia.search_person('Mel Gibson')\n",
    "for person in people:\n",
    "   print(person.personID, person['name'])\n",
    "person = ia.get_person('0000206')\n",
    "print(person)"
   ]
  }
 ],
 "metadata": {
  "kernelspec": {
   "display_name": "Python 3 (ipykernel)",
   "language": "python",
   "name": "python3"
  },
  "language_info": {
   "codemirror_mode": {
    "name": "ipython",
    "version": 2
   },
   "file_extension": ".py",
   "mimetype": "text/x-python",
   "name": "python",
   "nbconvert_exporter": "python",
   "pygments_lexer": "ipython2",
   "version": "2.7.6"
  }
 },
 "nbformat": 4,
 "nbformat_minor": 1
}