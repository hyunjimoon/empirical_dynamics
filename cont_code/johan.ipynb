{
 "cells": [
  {
   "cell_type": "markdown",
   "metadata": {
    "pycharm": {
     "name": "#%% md\n"
    }
   },
   "source": [
    "## functions in util module"
   ]
  },
  {
   "cell_type": "code",
   "execution_count": 1,
   "outputs": [],
   "source": [
    "# merging new's (movieID, title) with old's title so that detailed roles (crew information which old data seem to have??) can be added.\n",
    "# cinemagoer can be used for teh new's template ia.getmovieID()?"
   ],
   "metadata": {
    "collapsed": false,
    "pycharm": {
     "name": "#%%\n"
    }
   }
  },
  {
   "cell_type": "code",
   "execution_count": null,
   "outputs": [
    {
     "name": "stdout",
     "output_type": "stream",
     "text": [
      "Collecting cinemagoer\r\n",
      "  Using cached cinemagoer-2022.2.11-py3-none-any.whl (301 kB)\r\n",
      "Collecting lxml\r\n",
      "  Using cached lxml-4.9.1.tar.gz (3.4 MB)\r\n",
      "  Preparing metadata (setup.py) ... \u001B[?25ldone\r\n",
      "\u001B[?25hCollecting SQLAlchemy\r\n",
      "  Using cached SQLAlchemy-1.4.44.tar.gz (8.5 MB)\r\n",
      "  Preparing metadata (setup.py) ... \u001B[?25ldone\r\n",
      "\u001B[?25hUsing legacy 'setup.py install' for lxml, since package 'wheel' is not installed.\r\n",
      "Using legacy 'setup.py install' for SQLAlchemy, since package 'wheel' is not installed.\r\n",
      "Installing collected packages: SQLAlchemy, lxml, cinemagoer\r\n",
      "  Running setup.py install for SQLAlchemy ... \u001B[?25ldone\r\n",
      "\u001B[?25h  Running setup.py install for lxml ... \u001B[?25l\\"
     ]
    }
   ],
   "source": [
    "!pip3 install cinemagoer"
   ],
   "metadata": {
    "collapsed": false,
    "pycharm": {
     "name": "#%%\n",
     "is_executing": true
    }
   }
  },
  {
   "cell_type": "code",
   "execution_count": null,
   "outputs": [],
   "source": [
    "import string\n",
    "import pandas as pd\n",
    "from src.match_format import txt2df, tsv2df\n",
    "from src.join_filter import movie, person, filter_year, filter_title, filter_movie_others, join_movie, filter_rows_random\n",
    "from src.check_consistent import print_shape, multi_col_unique, movie_compare\n",
    "import numpy\n",
    "from imdb import Cinemagoer\n",
    "import os\n",
    "# test data: old_movie = pd.read_pickle('data/movie/old_movie.pkl')"
   ],
   "metadata": {
    "collapsed": false,
    "pycharm": {
     "name": "#%%\n",
     "is_executing": true
    }
   }
  },
  {
   "cell_type": "markdown",
   "source": [
    "## Movie titles\n",
    "- what is in old but not in new\n",
    "- what is in new but not in old\n",
    "how to compare strings with string?"
   ],
   "metadata": {
    "collapsed": false,
    "pycharm": {
     "name": "#%% md\n"
    }
   }
  },
  {
   "cell_type": "code",
   "execution_count": 4,
   "outputs": [
    {
     "name": "stderr",
     "output_type": "stream",
     "text": [
      "/Users/hyunjimoon/Dropbox/tolzul/BayesSD/ContinuousCode/3_Data4DM/durable_dominance/cont_code/src/join_filter.py:82: FutureWarning: In a future version, `df.iloc[:, i] = newvals` will attempt to set the values inplace instead of always setting a new array. To retain the old behavior, use either `df[df.columns[i]] = newvals` or, if columns are non-unique, `df.isetitem(i, newvals)`\n",
      "  df.loc[:, 'year'] = df.year.apply(lambda x: int(x) if str(x).isnumeric() else -1)\n"
     ]
    }
   ],
   "source": [
    "movie()"
   ],
   "metadata": {
    "collapsed": false,
    "pycharm": {
     "name": "#%%\n"
    }
   }
  },
  {
   "cell_type": "code",
   "execution_count": 5,
   "outputs": [],
   "source": [
    "old_movie = pd.read_pickle('old_movie_year_title.pkl')\n",
    "new_movie = pd.read_pickle('new_movie_year_title_typemovie.pkl').drop(['region'], axis = 1)"
   ],
   "metadata": {
    "collapsed": false,
    "pycharm": {
     "name": "#%%\n"
    }
   }
  },
  {
   "cell_type": "code",
   "execution_count": 30,
   "outputs": [
    {
     "data": {
      "text/plain": "(1776654, 168973)"
     },
     "execution_count": 30,
     "metadata": {},
     "output_type": "execute_result"
    }
   ],
   "source": [
    "print_shape(old_movie, new_movie)"
   ],
   "metadata": {
    "collapsed": false,
    "pycharm": {
     "name": "#%%\n"
    }
   }
  },
  {
   "cell_type": "code",
   "execution_count": 83,
   "outputs": [
    {
     "data": {
      "text/plain": "             old_id      old_id                               title  year\n0              OLD0        OLD0                     Cristián Campos  2010\n1              OLD1        OLD1                        Life & Death  2013\n2              OLD2        OLD2                 Disguise for Murder  2001\n3              OLD3        OLD3                         Anniversary  1971\n4              OLD4        OLD4  Angus Black/Lester Barrie/DC Curry  2009\n...             ...         ...                                 ...   ...\n2545514  OLD2417448  OLD2417448                      The Vanquished  1953\n2545518  OLD2545518  OLD2545518          V poiskakh kapitana Granta  1985\n2545524  OLD1549795  OLD1549795                         Winterwatch  2012\n2545525  OLD2545525  OLD2545525                          The Payoff  1942\n2545530  OLD2545530  OLD2545530                    Tomorrow's Youth  1935\n\n[1776654 rows x 4 columns]",
      "text/html": "<div>\n<style scoped>\n    .dataframe tbody tr th:only-of-type {\n        vertical-align: middle;\n    }\n\n    .dataframe tbody tr th {\n        vertical-align: top;\n    }\n\n    .dataframe thead th {\n        text-align: right;\n    }\n</style>\n<table border=\"1\" class=\"dataframe\">\n  <thead>\n    <tr style=\"text-align: right;\">\n      <th></th>\n      <th>old_id</th>\n      <th>old_id</th>\n      <th>title</th>\n      <th>year</th>\n    </tr>\n  </thead>\n  <tbody>\n    <tr>\n      <th>0</th>\n      <td>OLD0</td>\n      <td>OLD0</td>\n      <td>Cristián Campos</td>\n      <td>2010</td>\n    </tr>\n    <tr>\n      <th>1</th>\n      <td>OLD1</td>\n      <td>OLD1</td>\n      <td>Life &amp; Death</td>\n      <td>2013</td>\n    </tr>\n    <tr>\n      <th>2</th>\n      <td>OLD2</td>\n      <td>OLD2</td>\n      <td>Disguise for Murder</td>\n      <td>2001</td>\n    </tr>\n    <tr>\n      <th>3</th>\n      <td>OLD3</td>\n      <td>OLD3</td>\n      <td>Anniversary</td>\n      <td>1971</td>\n    </tr>\n    <tr>\n      <th>4</th>\n      <td>OLD4</td>\n      <td>OLD4</td>\n      <td>Angus Black/Lester Barrie/DC Curry</td>\n      <td>2009</td>\n    </tr>\n    <tr>\n      <th>...</th>\n      <td>...</td>\n      <td>...</td>\n      <td>...</td>\n      <td>...</td>\n    </tr>\n    <tr>\n      <th>2545514</th>\n      <td>OLD2417448</td>\n      <td>OLD2417448</td>\n      <td>The Vanquished</td>\n      <td>1953</td>\n    </tr>\n    <tr>\n      <th>2545518</th>\n      <td>OLD2545518</td>\n      <td>OLD2545518</td>\n      <td>V poiskakh kapitana Granta</td>\n      <td>1985</td>\n    </tr>\n    <tr>\n      <th>2545524</th>\n      <td>OLD1549795</td>\n      <td>OLD1549795</td>\n      <td>Winterwatch</td>\n      <td>2012</td>\n    </tr>\n    <tr>\n      <th>2545525</th>\n      <td>OLD2545525</td>\n      <td>OLD2545525</td>\n      <td>The Payoff</td>\n      <td>1942</td>\n    </tr>\n    <tr>\n      <th>2545530</th>\n      <td>OLD2545530</td>\n      <td>OLD2545530</td>\n      <td>Tomorrow's Youth</td>\n      <td>1935</td>\n    </tr>\n  </tbody>\n</table>\n<p>1776654 rows × 4 columns</p>\n</div>"
     },
     "execution_count": 83,
     "metadata": {},
     "output_type": "execute_result"
    }
   ],
   "source": [
    "ot = multi_col_unique(old_movie)\n",
    "ot"
   ],
   "metadata": {
    "collapsed": false,
    "pycharm": {
     "name": "#%%\n"
    }
   }
  },
  {
   "cell_type": "code",
   "execution_count": 87,
   "outputs": [],
   "source": [
    "old_movie = multi_col_unique(old_movie)\n",
    "join_movie(old_movie, new_movie)"
   ],
   "metadata": {
    "collapsed": false,
    "pycharm": {
     "name": "#%%\n"
    }
   }
  },
  {
   "cell_type": "code",
   "execution_count": 99,
   "outputs": [
    {
     "data": {
      "text/plain": "             old_id                               title  year\n0              OLD0                     Cristián Campos  2010\n1              OLD1                        Life & Death  2013\n2              OLD2                 Disguise for Murder  2001\n3              OLD3                         Anniversary  1971\n4              OLD4  Angus Black/Lester Barrie/DC Curry  2009\n...             ...                                 ...   ...\n2545514  OLD2417448                      The Vanquished  1953\n2545518  OLD2545518          V poiskakh kapitana Granta  1985\n2545524  OLD1549795                         Winterwatch  2012\n2545525  OLD2545525                          The Payoff  1942\n2545530  OLD2545530                    Tomorrow's Youth  1935\n\n[1776654 rows x 3 columns]",
      "text/html": "<div>\n<style scoped>\n    .dataframe tbody tr th:only-of-type {\n        vertical-align: middle;\n    }\n\n    .dataframe tbody tr th {\n        vertical-align: top;\n    }\n\n    .dataframe thead th {\n        text-align: right;\n    }\n</style>\n<table border=\"1\" class=\"dataframe\">\n  <thead>\n    <tr style=\"text-align: right;\">\n      <th></th>\n      <th>old_id</th>\n      <th>title</th>\n      <th>year</th>\n    </tr>\n  </thead>\n  <tbody>\n    <tr>\n      <th>0</th>\n      <td>OLD0</td>\n      <td>Cristián Campos</td>\n      <td>2010</td>\n    </tr>\n    <tr>\n      <th>1</th>\n      <td>OLD1</td>\n      <td>Life &amp; Death</td>\n      <td>2013</td>\n    </tr>\n    <tr>\n      <th>2</th>\n      <td>OLD2</td>\n      <td>Disguise for Murder</td>\n      <td>2001</td>\n    </tr>\n    <tr>\n      <th>3</th>\n      <td>OLD3</td>\n      <td>Anniversary</td>\n      <td>1971</td>\n    </tr>\n    <tr>\n      <th>4</th>\n      <td>OLD4</td>\n      <td>Angus Black/Lester Barrie/DC Curry</td>\n      <td>2009</td>\n    </tr>\n    <tr>\n      <th>...</th>\n      <td>...</td>\n      <td>...</td>\n      <td>...</td>\n    </tr>\n    <tr>\n      <th>2545514</th>\n      <td>OLD2417448</td>\n      <td>The Vanquished</td>\n      <td>1953</td>\n    </tr>\n    <tr>\n      <th>2545518</th>\n      <td>OLD2545518</td>\n      <td>V poiskakh kapitana Granta</td>\n      <td>1985</td>\n    </tr>\n    <tr>\n      <th>2545524</th>\n      <td>OLD1549795</td>\n      <td>Winterwatch</td>\n      <td>2012</td>\n    </tr>\n    <tr>\n      <th>2545525</th>\n      <td>OLD2545525</td>\n      <td>The Payoff</td>\n      <td>1942</td>\n    </tr>\n    <tr>\n      <th>2545530</th>\n      <td>OLD2545530</td>\n      <td>Tomorrow's Youth</td>\n      <td>1935</td>\n    </tr>\n  </tbody>\n</table>\n<p>1776654 rows × 3 columns</p>\n</div>"
     },
     "execution_count": 99,
     "metadata": {},
     "output_type": "execute_result"
    }
   ],
   "source": [
    "old_movie"
   ],
   "metadata": {
    "collapsed": false,
    "pycharm": {
     "name": "#%%\n"
    }
   }
  },
  {
   "cell_type": "code",
   "execution_count": 89,
   "outputs": [],
   "source": [
    "mo = pd.read_csv(\"mo.tsv\", sep='\\t', low_memory = False) #pd.merge(old_movie, new_movie, on = ('title', 'year'), how = 'inner') # 2m\n",
    "mi = pd.read_csv(\"mi.tsv\", sep='\\t', low_memory = False) #pd.merge(old_movie, new_movie, on = ('title', 'year'), how = 'outer') # 90k"
   ],
   "metadata": {
    "collapsed": false,
    "pycharm": {
     "name": "#%%\n"
    }
   }
  },
  {
   "cell_type": "code",
   "execution_count": 90,
   "outputs": [
    {
     "data": {
      "text/plain": "       index      old_id                                              title  \\\n0          0       OLD60                                             Winter   \n1          1      OLD218  Operation Homecoming: Writing the Wartime Expe...   \n2          2     OLD2120                                              Virus   \n3          3     OLD2185                                       Dolphin Tale   \n4          4     OLD2216                                      The Foreigner   \n...      ...         ...                                                ...   \n93277  93277  OLD2544715                                   Nobody's Perfect   \n93278  93278  OLD2544825                           Secret of the Wastelands   \n93279  93279  OLD2544845                                    Little Accident   \n93280  93280  OLD2544867                                       Sunset Trail   \n93281  93281  OLD2545209                                   The Spy in Black   \n\n       year    titleId  \n0      2006  tt0808541  \n1      2007  tt0970184  \n2      2011  tt1819776  \n3      2011  tt1564349  \n4      2011  tt2133340  \n...     ...        ...  \n93277  1990  tt0097994  \n93278  1941  tt0034166  \n93279  1930  tt0021078  \n93280  1932  tt0023539  \n93281  1939  tt0031968  \n\n[93282 rows x 5 columns]",
      "text/html": "<div>\n<style scoped>\n    .dataframe tbody tr th:only-of-type {\n        vertical-align: middle;\n    }\n\n    .dataframe tbody tr th {\n        vertical-align: top;\n    }\n\n    .dataframe thead th {\n        text-align: right;\n    }\n</style>\n<table border=\"1\" class=\"dataframe\">\n  <thead>\n    <tr style=\"text-align: right;\">\n      <th></th>\n      <th>index</th>\n      <th>old_id</th>\n      <th>title</th>\n      <th>year</th>\n      <th>titleId</th>\n    </tr>\n  </thead>\n  <tbody>\n    <tr>\n      <th>0</th>\n      <td>0</td>\n      <td>OLD60</td>\n      <td>Winter</td>\n      <td>2006</td>\n      <td>tt0808541</td>\n    </tr>\n    <tr>\n      <th>1</th>\n      <td>1</td>\n      <td>OLD218</td>\n      <td>Operation Homecoming: Writing the Wartime Expe...</td>\n      <td>2007</td>\n      <td>tt0970184</td>\n    </tr>\n    <tr>\n      <th>2</th>\n      <td>2</td>\n      <td>OLD2120</td>\n      <td>Virus</td>\n      <td>2011</td>\n      <td>tt1819776</td>\n    </tr>\n    <tr>\n      <th>3</th>\n      <td>3</td>\n      <td>OLD2185</td>\n      <td>Dolphin Tale</td>\n      <td>2011</td>\n      <td>tt1564349</td>\n    </tr>\n    <tr>\n      <th>4</th>\n      <td>4</td>\n      <td>OLD2216</td>\n      <td>The Foreigner</td>\n      <td>2011</td>\n      <td>tt2133340</td>\n    </tr>\n    <tr>\n      <th>...</th>\n      <td>...</td>\n      <td>...</td>\n      <td>...</td>\n      <td>...</td>\n      <td>...</td>\n    </tr>\n    <tr>\n      <th>93277</th>\n      <td>93277</td>\n      <td>OLD2544715</td>\n      <td>Nobody's Perfect</td>\n      <td>1990</td>\n      <td>tt0097994</td>\n    </tr>\n    <tr>\n      <th>93278</th>\n      <td>93278</td>\n      <td>OLD2544825</td>\n      <td>Secret of the Wastelands</td>\n      <td>1941</td>\n      <td>tt0034166</td>\n    </tr>\n    <tr>\n      <th>93279</th>\n      <td>93279</td>\n      <td>OLD2544845</td>\n      <td>Little Accident</td>\n      <td>1930</td>\n      <td>tt0021078</td>\n    </tr>\n    <tr>\n      <th>93280</th>\n      <td>93280</td>\n      <td>OLD2544867</td>\n      <td>Sunset Trail</td>\n      <td>1932</td>\n      <td>tt0023539</td>\n    </tr>\n    <tr>\n      <th>93281</th>\n      <td>93281</td>\n      <td>OLD2545209</td>\n      <td>The Spy in Black</td>\n      <td>1939</td>\n      <td>tt0031968</td>\n    </tr>\n  </tbody>\n</table>\n<p>93282 rows × 5 columns</p>\n</div>"
     },
     "execution_count": 90,
     "metadata": {},
     "output_type": "execute_result"
    }
   ],
   "source": [
    "mi #90k"
   ],
   "metadata": {
    "collapsed": false,
    "pycharm": {
     "name": "#%%\n"
    }
   }
  },
  {
   "cell_type": "code",
   "execution_count": 91,
   "outputs": [
    {
     "data": {
      "text/plain": "           index old_id                               title  year    titleId\n0              0   OLD0                     Cristián Campos  2010        NaN\n1              1   OLD1                        Life & Death  2013        NaN\n2              2   OLD2                 Disguise for Murder  2001        NaN\n3              3   OLD3                         Anniversary  1971        NaN\n4              4   OLD4  Angus Black/Lester Barrie/DC Curry  2009        NaN\n...          ...    ...                                 ...   ...        ...\n1780098  1780098    NaN                           Albatross  2017  tt9914642\n1780099  1780099    NaN        9/11: Escape from the Towers  2018  tt9914644\n1780100  1780100    NaN                 The War of Godzilla  2015  tt9914828\n1780101  1780101    NaN                      Blind Ambition  2021  tt9914972\n1780102  1780102    NaN                           Safeguard  2020  tt9916190\n\n[1780103 rows x 5 columns]",
      "text/html": "<div>\n<style scoped>\n    .dataframe tbody tr th:only-of-type {\n        vertical-align: middle;\n    }\n\n    .dataframe tbody tr th {\n        vertical-align: top;\n    }\n\n    .dataframe thead th {\n        text-align: right;\n    }\n</style>\n<table border=\"1\" class=\"dataframe\">\n  <thead>\n    <tr style=\"text-align: right;\">\n      <th></th>\n      <th>index</th>\n      <th>old_id</th>\n      <th>title</th>\n      <th>year</th>\n      <th>titleId</th>\n    </tr>\n  </thead>\n  <tbody>\n    <tr>\n      <th>0</th>\n      <td>0</td>\n      <td>OLD0</td>\n      <td>Cristián Campos</td>\n      <td>2010</td>\n      <td>NaN</td>\n    </tr>\n    <tr>\n      <th>1</th>\n      <td>1</td>\n      <td>OLD1</td>\n      <td>Life &amp; Death</td>\n      <td>2013</td>\n      <td>NaN</td>\n    </tr>\n    <tr>\n      <th>2</th>\n      <td>2</td>\n      <td>OLD2</td>\n      <td>Disguise for Murder</td>\n      <td>2001</td>\n      <td>NaN</td>\n    </tr>\n    <tr>\n      <th>3</th>\n      <td>3</td>\n      <td>OLD3</td>\n      <td>Anniversary</td>\n      <td>1971</td>\n      <td>NaN</td>\n    </tr>\n    <tr>\n      <th>4</th>\n      <td>4</td>\n      <td>OLD4</td>\n      <td>Angus Black/Lester Barrie/DC Curry</td>\n      <td>2009</td>\n      <td>NaN</td>\n    </tr>\n    <tr>\n      <th>...</th>\n      <td>...</td>\n      <td>...</td>\n      <td>...</td>\n      <td>...</td>\n      <td>...</td>\n    </tr>\n    <tr>\n      <th>1780098</th>\n      <td>1780098</td>\n      <td>NaN</td>\n      <td>Albatross</td>\n      <td>2017</td>\n      <td>tt9914642</td>\n    </tr>\n    <tr>\n      <th>1780099</th>\n      <td>1780099</td>\n      <td>NaN</td>\n      <td>9/11: Escape from the Towers</td>\n      <td>2018</td>\n      <td>tt9914644</td>\n    </tr>\n    <tr>\n      <th>1780100</th>\n      <td>1780100</td>\n      <td>NaN</td>\n      <td>The War of Godzilla</td>\n      <td>2015</td>\n      <td>tt9914828</td>\n    </tr>\n    <tr>\n      <th>1780101</th>\n      <td>1780101</td>\n      <td>NaN</td>\n      <td>Blind Ambition</td>\n      <td>2021</td>\n      <td>tt9914972</td>\n    </tr>\n    <tr>\n      <th>1780102</th>\n      <td>1780102</td>\n      <td>NaN</td>\n      <td>Safeguard</td>\n      <td>2020</td>\n      <td>tt9916190</td>\n    </tr>\n  </tbody>\n</table>\n<p>1780103 rows × 5 columns</p>\n</div>"
     },
     "execution_count": 91,
     "metadata": {},
     "output_type": "execute_result"
    }
   ],
   "source": [
    "mo #1.7m"
   ],
   "metadata": {
    "collapsed": false,
    "pycharm": {
     "name": "#%%\n"
    }
   }
  },
  {
   "cell_type": "code",
   "execution_count": 94,
   "outputs": [],
   "source": [
    "old_only = mo[mo.titleId.isnull()] # 1.6m is old\\new 1673488"
   ],
   "metadata": {
    "collapsed": false,
    "pycharm": {
     "name": "#%%\n"
    }
   }
  },
  {
   "cell_type": "code",
   "execution_count": 95,
   "outputs": [],
   "source": [
    "new_only = mo[mo.old_id.isnull()] # 75k is new\\old 75544"
   ],
   "metadata": {
    "collapsed": false,
    "pycharm": {
     "name": "#%%\n"
    }
   }
  },
  {
   "cell_type": "markdown",
   "source": [],
   "metadata": {
    "collapsed": false,
    "pycharm": {
     "name": "#%% md\n"
    }
   }
  },
  {
   "cell_type": "code",
   "execution_count": 98,
   "outputs": [
    {
     "data": {
      "text/plain": "(1731475, 123794)"
     },
     "execution_count": 98,
     "metadata": {},
     "output_type": "execute_result"
    }
   ],
   "source": [
    "old_only2 = old_movie[~old_movie.index.isin(new_movie.index)]\n",
    "new_only2 = new_movie[~new_movie.index.isin(old_movie.index)]\n",
    "print_shape(old_only2, new_only2)"
   ],
   "metadata": {
    "collapsed": false,
    "pycharm": {
     "name": "#%%\n"
    }
   }
  },
  {
   "cell_type": "code",
   "execution_count": 18,
   "outputs": [
    {
     "data": {
      "text/plain": "Empty DataFrame\nColumns: []\nIndex: [(Cristián Campos, 2010), (Life & Death, 2013), (Disguise for Murder, 2001), (Angus Black/Lester Barrie/DC Curry, 2009), (New Orleans, 2003), (Kiss Me Kate, 2011), (Ikiteita manmosu, 1976), (ActorsE Chat with Cody Deal and Judith Jones, 2011), (A Próxima Vítima, 1995), (Discriminación en el lenguaje, 1998), (When New Cars Hit Old Cars, 2004), (The Eye of Ra: Part 2, 1971), (Shinkai no akuma, 2011), (How the West Was Sung, 1999), (Game 2, 1951), (Only One Woof, 1988), (America's Sandiest Car?, 2013), (The 500 Percent Club, 2012), (Rettungsflug, 1990), (Tim Clark - President of Emirates Airlines, 2012), (Adventure Inc., 2002), (The Breaking Point/Working Class People/The Voter's Choice: Part 3, 1990), (The Weight: Part 1, 2004), (Osa 118. Kimonkylän taidekoti, 2003), (Montgomery Gentry, 2005), (Vertrauter Feind, 2004), (Guilt-Free Pub Grub, 2010), (The House Sitters Episode, 2011), (Cloned Puppies: A New Generation of 'Trakrs', 2009), (Adults Only 20 to 1: World's Sexiest Scandals, 2010), (All That Jasmine, 1994), (Baby Manning, 1998), (Blutsbande, 2006), (Bat Man, 2012), (The Next First Lady?/Here Comes the Girls/Toni Morrison, 1999), (ActorsE Chat with Judith Jones and Breanne Silvi, 2009), (Johnny Depp: The Ultimate Outsider, 2003), (Armando's Asian Twist, 2012), (Hard Choices, 2001), (Lunch Hour, 2009), (All Access Canelo vs Lopez Ep 2, 2012), (Mi amigo quiere, 2012), (Wish You Weren't Here, 1999), (Regina Versus Mini, 1970), (Evasión o victoria, 2000), (Wasted, 1991), (Fishing Challenge, 2011), (Joy's Out of Work, 2010), (Hostage/In Search of Bin Laden/The Captain, 2005), (Silence of the Clams, 2007), (Brennender Ehrgeiz, 1999), (Oahu, HI, 2003), (Sometimes That's Just the Way It Is, 1999), (Motivational Chat with Stevie D AndJaime Kalman, 2012), (Silenci, 2009), (Estranged Daddy Bails Again/Lost and Found Reward, 2010), (American Justice, 2004), (10 manieren om Hedwig te pesten, 2008), (The Man Who Loves Snakes, 1962), (The Man in the Crowd, 1961), (From Here to Maternity, 1981), (Andres Carefully Plans Out How to Tell Sophia the Truth about Her Real Parents, 2011), (Brian Eno: Another Green World, 2010), (¡Qué maravilla Gandía!, 2013), (Amor sin condiciones, 2006), (A tortas... con la depre, 2006), (Harold Pinter Part 2: Celebration, 2002), (Livet på en pinne, 1996), (Por amor a la verdad, 1999), (Borrón y cuenta nueva, 2002), (Let the Sunshine In: Part 1, 1986), (Hour 1, 2010), (The Lobbyist/Roberto Benigni/Choosing Life, 1999), (Samurai, 1997), (Malas noticias, 2004), (Cybersoldier, 1995), (The Legacy, 1998), (Money Makes the World Go Round, 1993), (Balloon Ride!, 2010), (Lätkän kannabiskohu, 2013), (Abenteuer Auto, 2000), (Letra pequeña, 2000), (Satmaran, 2001), (Mein fernes Kind - 33 Jahre Schuld und Sehnsucht, 2005), (Civismo y buenas prácticas, 2009), (De zon breekt door, 2001), (Tanya & Andrea: Glamorous Rehearsal Dinner, 2010), (Dead Family Robinson, 2004), (Kirsty's Biscuit, 1994), (Republic of Virtue, 2010), (The All-American Canal/Chef Jose Andres/Conan, 2010), (Aile Reisi, 2009), (Hungry Ghosts, 2006), (A Escolha de Bebel, 2002), (Acampamento de Férias 3, 2012), (Seared Pork Tenderloin, 2007), (War and Pieces, 2000), (Vain pappi puuttuu, 2001), (Lanhydrock House, 1997), (Only This Night, 1950), ...]\n\n[1254287 rows x 0 columns]",
      "text/html": "<div>\n<style scoped>\n    .dataframe tbody tr th:only-of-type {\n        vertical-align: middle;\n    }\n\n    .dataframe tbody tr th {\n        vertical-align: top;\n    }\n\n    .dataframe thead th {\n        text-align: right;\n    }\n</style>\n<table border=\"1\" class=\"dataframe\">\n  <thead>\n    <tr style=\"text-align: right;\">\n      <th></th>\n      <th></th>\n    </tr>\n    <tr>\n      <th>title</th>\n      <th>year</th>\n    </tr>\n  </thead>\n  <tbody>\n    <tr>\n      <th>Cristián Campos</th>\n      <th>2010</th>\n    </tr>\n    <tr>\n      <th>Life &amp; Death</th>\n      <th>2013</th>\n    </tr>\n    <tr>\n      <th>Disguise for Murder</th>\n      <th>2001</th>\n    </tr>\n    <tr>\n      <th>Angus Black/Lester Barrie/DC Curry</th>\n      <th>2009</th>\n    </tr>\n    <tr>\n      <th>New Orleans</th>\n      <th>2003</th>\n    </tr>\n    <tr>\n      <th>...</th>\n      <th>...</th>\n    </tr>\n    <tr>\n      <th>Western Spaghetti</th>\n      <th>2009</th>\n    </tr>\n    <tr>\n      <th>V poiskakh kapitana Granta</th>\n      <th>1985</th>\n    </tr>\n    <tr>\n      <th>Winterwatch</th>\n      <th>2012</th>\n    </tr>\n    <tr>\n      <th>The Payoff</th>\n      <th>1942</th>\n    </tr>\n    <tr>\n      <th>Tomorrow's Youth</th>\n      <th>1935</th>\n    </tr>\n  </tbody>\n</table>\n<p>1254287 rows × 0 columns</p>\n</div>"
     },
     "execution_count": 18,
     "metadata": {},
     "output_type": "execute_result"
    }
   ],
   "source": [
    "old_only"
   ],
   "metadata": {
    "collapsed": false,
    "pycharm": {
     "name": "#%%\n"
    }
   }
  },
  {
   "cell_type": "code",
   "execution_count": 19,
   "outputs": [
    {
     "data": {
      "text/plain": "                                                  titleId region\ntitle                                     year                  \nArrival of Immigrants, Ellis Island       1906  tt0000537     US\nThe Heart of O Yama                       1908  tt0000698     US\nThe Humpty Dumpty Circus                  1898  tt0000704     US\nBill Sharkey's Last Game                  1910  tt0000809     US\nNapoleon, the Man of Destiny              1908  tt0000979     US\n...                                                   ...    ...\nAncient World Exposed                     2019  tt9916348     US\nMarch of Dimes Presents: Once Upon a Dime 1963  tt9916560     US\nThe Nun 2                                 2019  tt9916720     US\nPretty Pretty Black Girl                  2019  tt9916756     US\n38                                        2018  tt9916764     US\n\n[580264 rows x 2 columns]",
      "text/html": "<div>\n<style scoped>\n    .dataframe tbody tr th:only-of-type {\n        vertical-align: middle;\n    }\n\n    .dataframe tbody tr th {\n        vertical-align: top;\n    }\n\n    .dataframe thead th {\n        text-align: right;\n    }\n</style>\n<table border=\"1\" class=\"dataframe\">\n  <thead>\n    <tr style=\"text-align: right;\">\n      <th></th>\n      <th></th>\n      <th>titleId</th>\n      <th>region</th>\n    </tr>\n    <tr>\n      <th>title</th>\n      <th>year</th>\n      <th></th>\n      <th></th>\n    </tr>\n  </thead>\n  <tbody>\n    <tr>\n      <th>Arrival of Immigrants, Ellis Island</th>\n      <th>1906</th>\n      <td>tt0000537</td>\n      <td>US</td>\n    </tr>\n    <tr>\n      <th>The Heart of O Yama</th>\n      <th>1908</th>\n      <td>tt0000698</td>\n      <td>US</td>\n    </tr>\n    <tr>\n      <th>The Humpty Dumpty Circus</th>\n      <th>1898</th>\n      <td>tt0000704</td>\n      <td>US</td>\n    </tr>\n    <tr>\n      <th>Bill Sharkey's Last Game</th>\n      <th>1910</th>\n      <td>tt0000809</td>\n      <td>US</td>\n    </tr>\n    <tr>\n      <th>Napoleon, the Man of Destiny</th>\n      <th>1908</th>\n      <td>tt0000979</td>\n      <td>US</td>\n    </tr>\n    <tr>\n      <th>...</th>\n      <th>...</th>\n      <td>...</td>\n      <td>...</td>\n    </tr>\n    <tr>\n      <th>Ancient World Exposed</th>\n      <th>2019</th>\n      <td>tt9916348</td>\n      <td>US</td>\n    </tr>\n    <tr>\n      <th>March of Dimes Presents: Once Upon a Dime</th>\n      <th>1963</th>\n      <td>tt9916560</td>\n      <td>US</td>\n    </tr>\n    <tr>\n      <th>The Nun 2</th>\n      <th>2019</th>\n      <td>tt9916720</td>\n      <td>US</td>\n    </tr>\n    <tr>\n      <th>Pretty Pretty Black Girl</th>\n      <th>2019</th>\n      <td>tt9916756</td>\n      <td>US</td>\n    </tr>\n    <tr>\n      <th>38</th>\n      <th>2018</th>\n      <td>tt9916764</td>\n      <td>US</td>\n    </tr>\n  </tbody>\n</table>\n<p>580264 rows × 2 columns</p>\n</div>"
     },
     "execution_count": 19,
     "metadata": {},
     "output_type": "execute_result"
    }
   ],
   "source": [
    "new_only"
   ],
   "metadata": {
    "collapsed": false,
    "pycharm": {
     "name": "#%%\n"
    }
   }
  },
  {
   "cell_type": "code",
   "execution_count": 96,
   "outputs": [
    {
     "name": "stdout",
     "output_type": "stream",
     "text": [
      "93282 + 1611538 = 1704820 VS 1776654\n",
      "93282 + 75283 = 168565 VS 168973\n"
     ]
    }
   ],
   "source": [
    "print(mi.shape[0], \"+\", old_only.shape[0] , \"=\", mi.shape[0] + old_only.shape[0], \"VS\", old_movie.shape[0])\n",
    "print(mi.shape[0], \"+\", new_only.shape[0], \"=\", mi.shape[0] + new_only.shape[0], \"VS\", new_movie.shape[0])"
   ],
   "metadata": {
    "collapsed": false,
    "pycharm": {
     "name": "#%%\n"
    }
   }
  },
  {
   "cell_type": "markdown",
   "source": [
    "## Person"
   ],
   "metadata": {
    "collapsed": false,
    "pycharm": {
     "name": "#%% md\n"
    }
   }
  },
  {
   "cell_type": "code",
   "execution_count": null,
   "outputs": [],
   "source": [
    "def person(old_columns = ['id', 'name'] , new_columns = ):\n",
    "    os.chdir(os.getcwd() + \"/data/movie\")\n",
    "    old_person = pd.read_pickle(\"old_person.pkl\")\n",
    "    old_person.columns = ['id', 'name', 'imdbIndex', 'imdbId', 'gender', 'namePcodeCf', 'namePcodeNf', 'surnamePcode', 'md5sum']\n",
    "    #old_person.columns = ['id', 'personID','infoTypeID','info', 'note']\n",
    "    #                     'phoneticCode', 'episodeOfID', 'seasonNr', 'episodeNr', 'seriesYears', 'md5sum']\n",
    "\n",
    "    new_person = pd.read_pickle('new_person_basics.pkl')\n",
    "    # new_movie_basic = pd.read_pickle('new_movie_basics.pkl')\n",
    "    # new_movie_basic = new_movie_basic.rename(columns = {\"tconst\": \"titleId\", 'originalTitle': 'title', 'startYear': 'year'})\n",
    "\n",
    "    #new_movie_director = pd.read_pickle(\"data/imdb22/22title_crew.pkl\")\n",
    "    #newtitle_id.columns = ['titleId', 'directors', 'writers']\n",
    "\n",
    "    return old_person, new_person"
   ],
   "metadata": {
    "collapsed": false,
    "pycharm": {
     "name": "#%%\n"
    }
   }
  },
  {
   "cell_type": "code",
   "execution_count": null,
   "outputs": [],
   "source": [
    "old_person, new_person = person()"
   ],
   "metadata": {
    "collapsed": false,
    "pycharm": {
     "name": "#%%\n"
    }
   }
  },
  {
   "cell_type": "code",
   "execution_count": 104,
   "outputs": [],
   "source": [
    "old_person.columns = ['id', 'personID','infoTypeID','info', 'note']"
   ],
   "metadata": {
    "collapsed": false,
    "pycharm": {
     "name": "#%%\n"
    }
   }
  },
  {
   "cell_type": "code",
   "execution_count": 109,
   "outputs": [],
   "source": [
    "old_person = pd.read_pickle(\"old_person.pkl\")\n",
    "#new_person = pd.read_pickle('new_person_basics.p6yhn     kl')"
   ],
   "metadata": {
    "collapsed": false,
    "pycharm": {
     "name": "#%%\n"
    }
   }
  },
  {
   "cell_type": "code",
   "execution_count": 112,
   "outputs": [
    {
     "data": {
      "text/plain": "              id                         name imdbIndex  imdbId gender  \\\n0            451                    A., David       NaN     NaN      m   \n1            129  -Alverio, Esteban Rodriguez       NaN     NaN      m   \n2           1688                 Abbas, Athar       NaN     NaN      m   \n3           3631                  Aberer, Leo       NaN     NaN      m   \n4            512                         A.J.        II     NaN      m   \n...          ...                          ...       ...     ...    ...   \n4193671  4193674               Öndemir, Önder       NaN     NaN    NaN   \n4193672  4193676                  Özgür, Lale       NaN     NaN    NaN   \n4193673  4193670                   Ôta, Akemi       NaN     NaN    NaN   \n4193674  4193675                 Östling, Kia       NaN     NaN    NaN   \n4193675  4193677              Þórisson, Jónas       NaN     NaN    NaN   \n\n        namePcodeCf namePcodeNf surnamePcode                            md5sum  \n0              A313         D13            A  cf45e7b42fbc800c61462988ad1156d2  \n1             A4162       E2315         A416  f5c410bff6839b545d04c531f776e8f2  \n2             A1236       A3612          A12  cf230f6ed718a330dc688c20b8d741d3  \n3              A164         L16          A16  05684f16b84db387e613d3de57eca5b7  \n4                A2         NaN          NaN  c63baf59b537e471b6ec4b68c5d1373e  \n...             ...         ...          ...                               ...  \n4193671       N3565       N3653         N356  4aaaea8e689c667e6f34023f16db5481  \n4193672        Z264        L426          Z26  0b7c397c3605fdc0afbf8220061c1579  \n4193673         T25        A253            T  ce24ccbc6f95737710b925cd66722d06  \n4193674       S3452       K2345          NaN  8c8b06b41b1639845317b12613b0a95b  \n4193675       R2525       J5262          R25  d51c4a95c9858e4aface1d835a79ee4d  \n\n[4193676 rows x 9 columns]",
      "text/html": "<div>\n<style scoped>\n    .dataframe tbody tr th:only-of-type {\n        vertical-align: middle;\n    }\n\n    .dataframe tbody tr th {\n        vertical-align: top;\n    }\n\n    .dataframe thead th {\n        text-align: right;\n    }\n</style>\n<table border=\"1\" class=\"dataframe\">\n  <thead>\n    <tr style=\"text-align: right;\">\n      <th></th>\n      <th>id</th>\n      <th>name</th>\n      <th>imdbIndex</th>\n      <th>imdbId</th>\n      <th>gender</th>\n      <th>namePcodeCf</th>\n      <th>namePcodeNf</th>\n      <th>surnamePcode</th>\n      <th>md5sum</th>\n    </tr>\n  </thead>\n  <tbody>\n    <tr>\n      <th>0</th>\n      <td>451</td>\n      <td>A., David</td>\n      <td>NaN</td>\n      <td>NaN</td>\n      <td>m</td>\n      <td>A313</td>\n      <td>D13</td>\n      <td>A</td>\n      <td>cf45e7b42fbc800c61462988ad1156d2</td>\n    </tr>\n    <tr>\n      <th>1</th>\n      <td>129</td>\n      <td>-Alverio, Esteban Rodriguez</td>\n      <td>NaN</td>\n      <td>NaN</td>\n      <td>m</td>\n      <td>A4162</td>\n      <td>E2315</td>\n      <td>A416</td>\n      <td>f5c410bff6839b545d04c531f776e8f2</td>\n    </tr>\n    <tr>\n      <th>2</th>\n      <td>1688</td>\n      <td>Abbas, Athar</td>\n      <td>NaN</td>\n      <td>NaN</td>\n      <td>m</td>\n      <td>A1236</td>\n      <td>A3612</td>\n      <td>A12</td>\n      <td>cf230f6ed718a330dc688c20b8d741d3</td>\n    </tr>\n    <tr>\n      <th>3</th>\n      <td>3631</td>\n      <td>Aberer, Leo</td>\n      <td>NaN</td>\n      <td>NaN</td>\n      <td>m</td>\n      <td>A164</td>\n      <td>L16</td>\n      <td>A16</td>\n      <td>05684f16b84db387e613d3de57eca5b7</td>\n    </tr>\n    <tr>\n      <th>4</th>\n      <td>512</td>\n      <td>A.J.</td>\n      <td>II</td>\n      <td>NaN</td>\n      <td>m</td>\n      <td>A2</td>\n      <td>NaN</td>\n      <td>NaN</td>\n      <td>c63baf59b537e471b6ec4b68c5d1373e</td>\n    </tr>\n    <tr>\n      <th>...</th>\n      <td>...</td>\n      <td>...</td>\n      <td>...</td>\n      <td>...</td>\n      <td>...</td>\n      <td>...</td>\n      <td>...</td>\n      <td>...</td>\n      <td>...</td>\n    </tr>\n    <tr>\n      <th>4193671</th>\n      <td>4193674</td>\n      <td>Öndemir, Önder</td>\n      <td>NaN</td>\n      <td>NaN</td>\n      <td>NaN</td>\n      <td>N3565</td>\n      <td>N3653</td>\n      <td>N356</td>\n      <td>4aaaea8e689c667e6f34023f16db5481</td>\n    </tr>\n    <tr>\n      <th>4193672</th>\n      <td>4193676</td>\n      <td>Özgür, Lale</td>\n      <td>NaN</td>\n      <td>NaN</td>\n      <td>NaN</td>\n      <td>Z264</td>\n      <td>L426</td>\n      <td>Z26</td>\n      <td>0b7c397c3605fdc0afbf8220061c1579</td>\n    </tr>\n    <tr>\n      <th>4193673</th>\n      <td>4193670</td>\n      <td>Ôta, Akemi</td>\n      <td>NaN</td>\n      <td>NaN</td>\n      <td>NaN</td>\n      <td>T25</td>\n      <td>A253</td>\n      <td>T</td>\n      <td>ce24ccbc6f95737710b925cd66722d06</td>\n    </tr>\n    <tr>\n      <th>4193674</th>\n      <td>4193675</td>\n      <td>Östling, Kia</td>\n      <td>NaN</td>\n      <td>NaN</td>\n      <td>NaN</td>\n      <td>S3452</td>\n      <td>K2345</td>\n      <td>NaN</td>\n      <td>8c8b06b41b1639845317b12613b0a95b</td>\n    </tr>\n    <tr>\n      <th>4193675</th>\n      <td>4193677</td>\n      <td>Þórisson, Jónas</td>\n      <td>NaN</td>\n      <td>NaN</td>\n      <td>NaN</td>\n      <td>R2525</td>\n      <td>J5262</td>\n      <td>R25</td>\n      <td>d51c4a95c9858e4aface1d835a79ee4d</td>\n    </tr>\n  </tbody>\n</table>\n<p>4193676 rows × 9 columns</p>\n</div>"
     },
     "execution_count": 112,
     "metadata": {},
     "output_type": "execute_result"
    }
   ],
   "source": [
    "old_person.columns = ['id', 'name', 'imdbIndex', 'imdbId', 'gender', 'namePcodeCf', 'namePcodeNf', 'surnamePcode', 'md5sum']\n",
    "old_person['id', 'name'] #4m"
   ],
   "metadata": {
    "collapsed": false,
    "pycharm": {
     "name": "#%%\n"
    }
   }
  },
  {
   "cell_type": "code",
   "execution_count": 106,
   "outputs": [
    {
     "data": {
      "text/plain": "                id   moviID  infoTypeID  \\\n0                2     3065          11   \n1                3     4297          11   \n2                4     4317          11   \n3                5     4491          11   \n4                6     8436          11   \n...            ...      ...         ...   \n14928385  14928387  2542730           9   \n14928386  14928388  2542734           9   \n14928387  14928389  2542738           9   \n14928388  14928390  2542744           9   \n14928389  14928391  2531803           9   \n\n                                                       info note  \n0         The show was rerun on Swedish television in 19...  NaN  \n1         The 12 oz. Mouse Volume One DVD presents the e...  NaN  \n2         Another version aired immediately after the pr...  NaN  \n3         Several episodes from this series were edited ...  NaN  \n4         In the DVD releases by Anchor Bay Entertainmen...  NaN  \n...                                                     ...  ...  \n14928385  Die Extreme, die Widersprüche, die Grausamkeit...  NaN  \n14928386  Survival strategies for the new millennium is ...  NaN  \n14928387  An animated documentary of a woman's wartime m...  NaN  \n14928388                            loneliness is dangerous  NaN  \n14928389           Everyone gets old. Not everyone grows up  NaN  \n\n[14928390 rows x 5 columns]",
      "text/html": "<div>\n<style scoped>\n    .dataframe tbody tr th:only-of-type {\n        vertical-align: middle;\n    }\n\n    .dataframe tbody tr th {\n        vertical-align: top;\n    }\n\n    .dataframe thead th {\n        text-align: right;\n    }\n</style>\n<table border=\"1\" class=\"dataframe\">\n  <thead>\n    <tr style=\"text-align: right;\">\n      <th></th>\n      <th>id</th>\n      <th>moviID</th>\n      <th>infoTypeID</th>\n      <th>info</th>\n      <th>note</th>\n    </tr>\n  </thead>\n  <tbody>\n    <tr>\n      <th>0</th>\n      <td>2</td>\n      <td>3065</td>\n      <td>11</td>\n      <td>The show was rerun on Swedish television in 19...</td>\n      <td>NaN</td>\n    </tr>\n    <tr>\n      <th>1</th>\n      <td>3</td>\n      <td>4297</td>\n      <td>11</td>\n      <td>The 12 oz. Mouse Volume One DVD presents the e...</td>\n      <td>NaN</td>\n    </tr>\n    <tr>\n      <th>2</th>\n      <td>4</td>\n      <td>4317</td>\n      <td>11</td>\n      <td>Another version aired immediately after the pr...</td>\n      <td>NaN</td>\n    </tr>\n    <tr>\n      <th>3</th>\n      <td>5</td>\n      <td>4491</td>\n      <td>11</td>\n      <td>Several episodes from this series were edited ...</td>\n      <td>NaN</td>\n    </tr>\n    <tr>\n      <th>4</th>\n      <td>6</td>\n      <td>8436</td>\n      <td>11</td>\n      <td>In the DVD releases by Anchor Bay Entertainmen...</td>\n      <td>NaN</td>\n    </tr>\n    <tr>\n      <th>...</th>\n      <td>...</td>\n      <td>...</td>\n      <td>...</td>\n      <td>...</td>\n      <td>...</td>\n    </tr>\n    <tr>\n      <th>14928385</th>\n      <td>14928387</td>\n      <td>2542730</td>\n      <td>9</td>\n      <td>Die Extreme, die Widersprüche, die Grausamkeit...</td>\n      <td>NaN</td>\n    </tr>\n    <tr>\n      <th>14928386</th>\n      <td>14928388</td>\n      <td>2542734</td>\n      <td>9</td>\n      <td>Survival strategies for the new millennium is ...</td>\n      <td>NaN</td>\n    </tr>\n    <tr>\n      <th>14928387</th>\n      <td>14928389</td>\n      <td>2542738</td>\n      <td>9</td>\n      <td>An animated documentary of a woman's wartime m...</td>\n      <td>NaN</td>\n    </tr>\n    <tr>\n      <th>14928388</th>\n      <td>14928390</td>\n      <td>2542744</td>\n      <td>9</td>\n      <td>loneliness is dangerous</td>\n      <td>NaN</td>\n    </tr>\n    <tr>\n      <th>14928389</th>\n      <td>14928391</td>\n      <td>2531803</td>\n      <td>9</td>\n      <td>Everyone gets old. Not everyone grows up</td>\n      <td>NaN</td>\n    </tr>\n  </tbody>\n</table>\n<p>14928390 rows × 5 columns</p>\n</div>"
     },
     "execution_count": 106,
     "metadata": {},
     "output_type": "execute_result"
    }
   ],
   "source": [
    "old_movie_info = pd.read_pickle(\"old_movie_info.pkl\")\n",
    "old_movie_info.columns = ['id', 'movieID', 'infoTypeID', 'info', 'note']\n",
    "old_movie_info"
   ],
   "metadata": {
    "collapsed": false,
    "pycharm": {
     "name": "#%%\n"
    }
   }
  },
  {
   "cell_type": "code",
   "execution_count": null,
   "outputs": [],
   "source": [
    "old_movie_person ="
   ],
   "metadata": {
    "collapsed": false,
    "pycharm": {
     "name": "#%%\n"
    }
   }
  },
  {
   "cell_type": "code",
   "execution_count": 103,
   "outputs": [
    {
     "data": {
      "text/plain": "             nconst         primaryName birthYear deathYear  \\\n0         nm0000001        Fred Astaire      1899      1987   \n1         nm0000002       Lauren Bacall      1924      2014   \n2         nm0000003     Brigitte Bardot      1934        \\N   \n3         nm0000004        John Belushi      1949      1982   \n4         nm0000005      Ingmar Bergman      1918      2007   \n...             ...                 ...       ...       ...   \n11988018  nm9993714   Romeo del Rosario        \\N        \\N   \n11988019  nm9993716       Essias Loberg        \\N        \\N   \n11988020  nm9993717  Harikrishnan Rajan        \\N        \\N   \n11988021  nm9993718         Aayush Nair        \\N        \\N   \n11988022  nm9993719          Andre Hill        \\N        \\N   \n\n                            primaryProfession  \\\n0              soundtrack,actor,miscellaneous   \n1                          actress,soundtrack   \n2         actress,soundtrack,music_department   \n3                     actor,soundtrack,writer   \n4                       writer,director,actor   \n...                                       ...   \n11988018  animation_department,art_department   \n11988019                                  NaN   \n11988020                      cinematographer   \n11988021                      cinematographer   \n11988022                                  NaN   \n\n                                   knownForTitles  \n0         tt0072308,tt0053137,tt0050419,tt0031983  \n1         tt0038355,tt0037382,tt0117057,tt0071877  \n2         tt0054452,tt0057345,tt0056404,tt0049189  \n3         tt0078723,tt0072562,tt0080455,tt0077975  \n4         tt0083922,tt0050986,tt0069467,tt0060827  \n...                                           ...  \n11988018          tt2455546,tt11657662,tt14069590  \n11988019                                       \\N  \n11988020                                tt8736744  \n11988021                                       \\N  \n11988022                                       \\N  \n\n[11988023 rows x 6 columns]",
      "text/html": "<div>\n<style scoped>\n    .dataframe tbody tr th:only-of-type {\n        vertical-align: middle;\n    }\n\n    .dataframe tbody tr th {\n        vertical-align: top;\n    }\n\n    .dataframe thead th {\n        text-align: right;\n    }\n</style>\n<table border=\"1\" class=\"dataframe\">\n  <thead>\n    <tr style=\"text-align: right;\">\n      <th></th>\n      <th>nconst</th>\n      <th>primaryName</th>\n      <th>birthYear</th>\n      <th>deathYear</th>\n      <th>primaryProfession</th>\n      <th>knownForTitles</th>\n    </tr>\n  </thead>\n  <tbody>\n    <tr>\n      <th>0</th>\n      <td>nm0000001</td>\n      <td>Fred Astaire</td>\n      <td>1899</td>\n      <td>1987</td>\n      <td>soundtrack,actor,miscellaneous</td>\n      <td>tt0072308,tt0053137,tt0050419,tt0031983</td>\n    </tr>\n    <tr>\n      <th>1</th>\n      <td>nm0000002</td>\n      <td>Lauren Bacall</td>\n      <td>1924</td>\n      <td>2014</td>\n      <td>actress,soundtrack</td>\n      <td>tt0038355,tt0037382,tt0117057,tt0071877</td>\n    </tr>\n    <tr>\n      <th>2</th>\n      <td>nm0000003</td>\n      <td>Brigitte Bardot</td>\n      <td>1934</td>\n      <td>\\N</td>\n      <td>actress,soundtrack,music_department</td>\n      <td>tt0054452,tt0057345,tt0056404,tt0049189</td>\n    </tr>\n    <tr>\n      <th>3</th>\n      <td>nm0000004</td>\n      <td>John Belushi</td>\n      <td>1949</td>\n      <td>1982</td>\n      <td>actor,soundtrack,writer</td>\n      <td>tt0078723,tt0072562,tt0080455,tt0077975</td>\n    </tr>\n    <tr>\n      <th>4</th>\n      <td>nm0000005</td>\n      <td>Ingmar Bergman</td>\n      <td>1918</td>\n      <td>2007</td>\n      <td>writer,director,actor</td>\n      <td>tt0083922,tt0050986,tt0069467,tt0060827</td>\n    </tr>\n    <tr>\n      <th>...</th>\n      <td>...</td>\n      <td>...</td>\n      <td>...</td>\n      <td>...</td>\n      <td>...</td>\n      <td>...</td>\n    </tr>\n    <tr>\n      <th>11988018</th>\n      <td>nm9993714</td>\n      <td>Romeo del Rosario</td>\n      <td>\\N</td>\n      <td>\\N</td>\n      <td>animation_department,art_department</td>\n      <td>tt2455546,tt11657662,tt14069590</td>\n    </tr>\n    <tr>\n      <th>11988019</th>\n      <td>nm9993716</td>\n      <td>Essias Loberg</td>\n      <td>\\N</td>\n      <td>\\N</td>\n      <td>NaN</td>\n      <td>\\N</td>\n    </tr>\n    <tr>\n      <th>11988020</th>\n      <td>nm9993717</td>\n      <td>Harikrishnan Rajan</td>\n      <td>\\N</td>\n      <td>\\N</td>\n      <td>cinematographer</td>\n      <td>tt8736744</td>\n    </tr>\n    <tr>\n      <th>11988021</th>\n      <td>nm9993718</td>\n      <td>Aayush Nair</td>\n      <td>\\N</td>\n      <td>\\N</td>\n      <td>cinematographer</td>\n      <td>\\N</td>\n    </tr>\n    <tr>\n      <th>11988022</th>\n      <td>nm9993719</td>\n      <td>Andre Hill</td>\n      <td>\\N</td>\n      <td>\\N</td>\n      <td>NaN</td>\n      <td>\\N</td>\n    </tr>\n  </tbody>\n</table>\n<p>11988023 rows × 6 columns</p>\n</div>"
     },
     "execution_count": 103,
     "metadata": {},
     "output_type": "execute_result"
    }
   ],
   "source": [
    "new_person ['nconst', 'primaryName': 'name', 'birthYear': 'year', 'knowForTitles': 'titles']"
   ],
   "metadata": {
    "collapsed": false,
    "pycharm": {
     "name": "#%%\n"
    }
   }
  },
  {
   "cell_type": "code",
   "execution_count": null,
   "outputs": [],
   "source": [
    "old_person"
   ],
   "metadata": {
    "collapsed": false,
    "pycharm": {
     "name": "#%%\n"
    }
   }
  },
  {
   "cell_type": "markdown",
   "source": [
    "## Cinemagoer"
   ],
   "metadata": {
    "collapsed": false,
    "pycharm": {
     "name": "#%% md\n"
    }
   }
  },
  {
   "cell_type": "code",
   "execution_count": null,
   "outputs": [],
   "source": [
    "from imdb import Cinemagoer\n",
    "ia = Cinemagoer()\n",
    "object = ia\n",
    "filehandler = open(\"Cinemagoer2.pkl\", 'w')\n",
    "\n",
    "import pickle, copyreg, ssl\n",
    "\n",
    "def save_sslcontext(obj):\n",
    "    return obj.__class__, (obj.protocol,)\n",
    "\n",
    "copyreg.pickle(ssl.SSLContext, save_sslcontext)\n",
    "context = ssl.create_default_context()\n",
    "foo = pickle.dumps(context, protocol=3)\n",
    "# _foo = pickle.loads(foo)\n",
    "# print(_foo)\n",
    "# #<ssl.SSLContext object at 0x1011812a8>\n",
    "# print(_foo.protocol)\n",
    "\n",
    "# when working with engagingdb, mindful of protocol (conda can be of aid)\n",
    "#pickle.dump(object, filehandler, protocol = 3)"
   ],
   "metadata": {
    "collapsed": false,
    "pycharm": {
     "name": "#%%\n"
    }
   }
  },
  {
   "cell_type": "code",
   "execution_count": null,
   "outputs": [],
   "source": [
    "ia = Cinemagoer()\n",
    "movie = ia.get_movie('0133093')\n",
    "for director in movie['directors']:\n",
    "    print(director['name'])\n",
    "for genre in movie['genres']:\n",
    "    print(genre)"
   ],
   "metadata": {
    "collapsed": false,
    "pycharm": {
     "name": "#%%\n"
    }
   }
  },
  {
   "cell_type": "code",
   "execution_count": 383,
   "metadata": {
    "pycharm": {
     "name": "#%%\n"
    }
   },
   "outputs": [
    {
     "name": "stdout",
     "output_type": "stream",
     "text": [
      "0000154 Mel Gibson\n",
      "12550288 Mel Gibson\n",
      "2153167 Mel Gibson\n",
      "0317112 Mel Gibson\n",
      "3323885 Adam Taylor\n",
      "2800055 Mel Gibson\n",
      "3742421 Melina Mari Bryant   nickname\n",
      "0317195 Terel Gibson\n",
      "0316945 Donal Gibson\n",
      "4047961 Noel Gibson\n",
      "0316878 Cal Gibson\n",
      "13996602 Joel Gibson\n",
      "3912400 Jamel Gibson\n",
      "2106809 Raquel Gibson\n",
      "0316950 E.L. Gibson\n",
      "12479102 Gel Gibson\n",
      "2798174 Daniel Gibson\n",
      "6928816 Christel Gibson\n",
      "0316915 Daniel Gibson\n",
      "1863978 Ethel Gibson\n"
     ]
    }
   ],
   "source": [
    "people = ia.search_person('Mel Gibson')\n",
    "for person in people:\n",
    "   print(person.personID, person['name'])\n",
    "person = ia.get_person('0000206')\n",
    "print(person)"
   ]
  }
 ],
 "metadata": {
  "kernelspec": {
   "display_name": "Python 3 (ipykernel)",
   "language": "python",
   "name": "python3"
  },
  "language_info": {
   "codemirror_mode": {
    "name": "ipython",
    "version": 2
   },
   "file_extension": ".py",
   "mimetype": "text/x-python",
   "name": "python",
   "nbconvert_exporter": "python",
   "pygments_lexer": "ipython2",
   "version": "2.7.6"
  }
 },
 "nbformat": 4,
 "nbformat_minor": 1
}