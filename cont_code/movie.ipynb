{
 "cells": [
  {
   "cell_type": "markdown",
   "metadata": {
    "pycharm": {
     "name": "#%% md\n"
    }
   },
   "source": [
    "## functions in util module"
   ]
  },
  {
   "cell_type": "code",
   "execution_count": 1,
   "outputs": [],
   "source": [
    "# merging new's (movieID, title) with old's title so that detailed roles (crew information which old data seem to have??) can be added.\n",
    "# cinemagoer can be used for teh new's template ia.getmovieID()?"
   ],
   "metadata": {
    "collapsed": false,
    "pycharm": {
     "name": "#%%\n"
    }
   }
  },
  {
   "cell_type": "code",
   "execution_count": 1,
   "outputs": [],
   "source": [
    "import os\n",
    "import string\n",
    "import pandas as pd\n",
    "from src.match_format import set_dir_moviedata\n",
    "from src.join_filter import movie, person, movie_person, join_movie, filter_year\n",
    "from src.check_consistent import print_shape, multi_col_unique, movie_compare\n",
    "import numpy as np\n",
    "from imdb import Cinemagoer\n",
    "# import os\n",
    "# os.chdir(os.getcwd() + \"/data/movie\")\n",
    "# test data: old_movie = pd.read_pickle('data/movie/old_movie.pkl')\n",
    "set_dir_moviedata()"
   ],
   "metadata": {
    "collapsed": false,
    "pycharm": {
     "name": "#%%\n"
    }
   }
  },
  {
   "cell_type": "code",
   "execution_count": 143,
   "outputs": [
    {
     "data": {
      "text/plain": "[\"#filter_year(mi, 2000)\\nmi_1 = mi.loc[:, 'year' == 2000]\",\n '#filter_year(mi, 2000)\\nmi_1 = mi.[mi.year == 2000]',\n '#filter_year(mi, 2000)\\nmi_1 = mi[mi.year == 2000]',\n 'mo_lang',\n 'a = \"Livet på en pinne\"\\nif reg.match(a):\\n    print(\"yes\")',\n 'reg',\n 'def is_english(word):\\n    eng_charc = f\"{string.ascii_lowercase + string.ascii_uppercase}\" + \" 0123456789\" + \"!@#$%&*()/?+\"\\n    return len(set([i for i in word] + [e for e in eng_charc])) == 52 + 10 + 12\\nis_english(a)',\n 'a = \"Cristián Campos\"\\nif reg.match(a):\\n    print(\"yes\")',\n 'def is_english(word):\\n    eng_charc = f\"{string.ascii_lowercase + string.ascii_uppercase}\" + \" 0123456789\" + \"!@#$%&*()/?+\"\\n    return len(set([i for i in word] + [e for e in eng_charc])) == 52 + 10 + 12\\nis_english(a)',\n 'def is_english(word):\\n    eng_charc = f\"{string.ascii_lowercase + string.ascii_uppercase}\" + \" 0123456789\" + \"!@#$%&*()/?+\"\\n    return len(set([i for i in word] + [e for e in eng_charc])) == 52 + 10 + 12\\nis_english(a)',\n 'a = \"Cristin Campos\"\\nif reg.match(a):\\n    print(\"yes\")',\n 'def is_english(word):\\n    eng_charc = f\"{string.ascii_lowercase + string.ascii_uppercase}\" + \" 0123456789\" + \"!@#$%&*()/?+\"\\n    return len(set([i for i in word] + [e for e in eng_charc])) == 52 + 10 + 12\\nis_english(a)',\n 'def is_english(word):\\n    eng_charc = f\"{string.ascii_lowercase + string.ascii_uppercase}\" + \" 0123456789\" + \"!@#$%&*()/?+\"\\n    return len(set([i for i in word] + [e for e in eng_charc])) == 52 + 10 + 12\\nis_english(a)',\n 'def is_english(word):\\n    eng_charc = f\"{string.ascii_lowercase + string.ascii_uppercase}\" + \" 0123456789\" + \"!@#$%&*()/?+\"\\n    return len(set([i for i in word] + [e for e in eng_charc])) == 52 + 10 + 12\\nis_english(\"n\")',\n 'def is_english(word):\\n    eng_charc = f\"{string.ascii_lowercase + string.ascii_uppercase}\" + \" 0123456789\" + \"!@#$%&*()/?+\"\\n    print(len(set([i for i in word] + [e for e in eng_charc])))\\n    return len(set([i for i in word] + [e for e in eng_charc])) == 52 + 10 + 12\\nis_english(\"n\")',\n 'def is_english(word):\\n    eng_charc = f\"{string.ascii_lowercase + string.ascii_uppercase}\" + \" 0123456789\" + \"!@#$%&*()/?+\"\\n    print(len(set([i for i in word] + [e for e in eng_charc])))\\n    return len(set([i for i in word] + [e for e in eng_charc])) == 52 + 10 + 13\\nis_english(\"n\")',\n 'a = \"Cristin Campos\"\\nif reg.match(a):\\n    print(\"yes\")',\n 'def is_english(word):\\n    eng_charc = f\"{string.ascii_lowercase + string.ascii_uppercase}\" + \" 0123456789\" + \"!@#$%&*()/?+\"\\n    print(len(set([i for i in word] + [e for e in eng_charc])))\\n    return len(set([i for i in word] + [e for e in eng_charc])) == 52 + 10 + 13\\nis_english(\"Cristián Campos\")',\n 'def is_english(word):\\n    eng_charc = f\"{string.ascii_lowercase + string.ascii_uppercase}\" + \" 0123456789\" + \"!@#$%&*()/?+\"\\n    print(len(set([i for i in word] + [e for e in eng_charc])))\\n    return len(set([i for i in word] + [e for e in eng_charc])) == 52 + 10 + 13\\nis_english(\"Cristin Campos\")',\n \"mo['lang'] = mo.title.apply(lambda x: is_english(x))\",\n 'mo',\n \"mo_lang = pd.merge(old_only_2000, mo.loc[:, ['old_id', 'lang']], on = 'old_id')\",\n 'mo_lang',\n 'mo_lang',\n 'mo_type',\n \"pd.merge(mo_lang, mo_type, on = 'old_id')\",\n \"mo_lang_type = pd.merge(mo_lang, mo_type, on = 'old_id')\",\n 'mo_lang_type[mo_lang_type.titleId.isnull()]',\n 'mo_lang_type[mo_lang_type.titleId.isnull()].titleType.unique()',\n 'mo',\n 'mo_old = pd.read_csv(\"mo.tsv\", sep = \\'\\\\t\\')',\n 'mo',\n 'mo_old',\n 'mo_lang_type',\n 'mo_lang_type = pd.merge(old_only, )',\n \"mo_lang = pd.merge(old_only, mo.loc[:, ['old_id', 'lang']], on = 'old_id')\",\n \"mo_lang_type = pd.merge(mo_lang, mo_type, on = 'old_id')\",\n 'mo_lang_type',\n \"mo_lang_type[mo_lang_type.titleType == 'movie']\",\n 'mo_lang',\n 'old_only_movie.year.hist()',\n \"old_only_movie = mo_lang_type[mo_lang_type.titleType == 'movie']\",\n 'old_only_movie.year.hist()',\n 'old_only_movie',\n \"old_only_movie = mo_lang_type[mo_lang_type.titleType == 'movie', lang == True]\",\n \"old_only_movie = mo_lang_type[mo_lang_type.titleType == 'movie', mo_lang_type.lang == True]\",\n 'old_only_movie.year.hist()',\n 'mo_lang_type[mo_lang_type.lang == True]',\n \"old_only_movie = mo_lang_type[mo_lang_type.titleType == 'movie'& mo_lang_type.lang == True]\",\n \"old_only_movie = mo_lang_type[(mo_lang_type.titleType == 'movie')& (mo_lang_type.lang == True)]\",\n 'old_only_movie.year.hist()',\n 'old_only_movie',\n \"old_only_movie[old_only_move.title == 'Pretty Woman']\",\n \"old_only_movie[old_only_movie.title == 'Pretty Woman']\",\n 'old_only_movie',\n \"old_only_movie[old_only_movie.year =='2015']\",\n \"old_only_movie[old_only_movie.year =='201']\",\n \"old_only_movie_90 =old_only_movie[old_only_movie.year =='1990']\\nold_only_movie_00 =old_only_movie[old_only_movie.year =='2000']\\nold_only_movie_10 =old_only_movie[old_only_movie.year == '2010']\",\n 'old_only_movie_10',\n 'old_only_movie_00',\n 'old_only_movie.year.scatter()',\n 'old_only_movie.year.plot()',\n 'old_only_movie.year',\n \"get_ipython().run_line_magic('pinfo', 'old_only_movie.year.hist')\",\n 'old_only_movie.year.hist(bins = 1)',\n 'old_only_movie.year.hist(bins = 30)',\n 'old_only_movie.year.hist(bins = 100)',\n 'old_only_movie.year.hist(bins = 200)',\n 'old_only_movie.year.hist(bins = len(old_only_movie.year.unique()))',\n 'old_only_movie_90',\n 'old_only_movie.year',\n 'old_only_movie_90 =old_only_movie[old_only_movie.year ==1990]\\nold_only_movie_00 =old_only_movie[old_only_movie.year ==2000]\\nold_only_movie_10 =old_only_movie[old_only_movie.year == 2010]\\nold_only_movie_10',\n \"ia = Cinemagoer()\\nia.get_movie('tt1527788')\\n\\n# people = ia.search_person('Mel Gibson')\\n# for person in people:\\n#    print(person.personID, person['name'])\\n# person = ia.get_person('0000206')\\n# print(person)\",\n \"ia = Cinemagoer()\\nia.get_movie('1527788')\\n\\n# people = ia.search_person('Mel Gibson')\\n# for person in people:\\n#    print(person.personID, person['name'])\\n# person = ia.get_person('0000206')\\n# print(person)\",\n 'old_only_movie',\n 'old_only_movie_90',\n 'old_only_movie_00',\n 'old_only = dict()\\nfor year in [1920, 1970, 1980, 2000, 2010]:\\n   old_only[year] =old_only_movie[old_only_movie.year ==year]\\n   print(old_only[year].shape[0])',\n \"old_only = dict()\\nfor year in [1920, 1921, 1969, 1970, 1971, 1989, 1990, 1991, 2010]:\\n   old_only[year] =old_only_movie[old_only_movie.year ==year]\\n   print(f'{year}:' , old_only[year].shape[0])\",\n 'old_only_movie.year.sort()',\n \"old_only_movie.groupby('year').sort_values()\",\n \"old_only_movie.groupby('year').count()\",\n \"old_only_movie.groupby('year').count().sort()\",\n \"old_only_movie.groupby('year').count().sort_values()\",\n \"old_only_movie.groupby('year').count()\",\n \"old_only_movie.groupby('year').count().sort_values(by = 'index')\",\n \"old_only_movie.groupby('year').count().sort_values(by = 'index',ascending=False)\",\n 'old_only = dict()\\nfor year in [1990, 1984, 1968, 1991]:\\n   old_only[year] =old_only_movie[old_only_movie.year ==year]',\n \"old_only['1990']\",\n 'old_only[1990]',\n 'old_only',\n 'old_only[1990]',\n 'old_only[1968]',\n 'detect(\"Anajigoku)',\n 'detect(\"Anajigoku\")',\n \"get_ipython().run_line_magic('pinfo', 'detect')\",\n 'is_english()?',\n 'is_english()',\n '_ih[-10:]',\n '_ih[-100:]']"
     },
     "execution_count": 143,
     "metadata": {},
     "output_type": "execute_result"
    }
   ],
   "source": [
    "_ih[-100:]"
   ],
   "metadata": {
    "collapsed": false,
    "pycharm": {
     "name": "#%%\n"
    }
   }
  },
  {
   "cell_type": "code",
   "execution_count": 141,
   "outputs": [
    {
     "ename": "TypeError",
     "evalue": "is_english() missing 1 required positional argument: 'word'",
     "output_type": "error",
     "traceback": [
      "\u001B[0;31m---------------------------------------------------------------------------\u001B[0m",
      "\u001B[0;31mTypeError\u001B[0m                                 Traceback (most recent call last)",
      "Cell \u001B[0;32mIn [141], line 1\u001B[0m\n\u001B[0;32m----> 1\u001B[0m \u001B[43mis_english\u001B[49m\u001B[43m(\u001B[49m\u001B[43m)\u001B[49m\n",
      "\u001B[0;31mTypeError\u001B[0m: is_english() missing 1 required positional argument: 'word'"
     ]
    }
   ],
   "source": [
    "is_english()"
   ],
   "metadata": {
    "collapsed": false,
    "pycharm": {
     "name": "#%%\n"
    }
   }
  },
  {
   "cell_type": "markdown",
   "source": [
    "## Movie titles\n",
    "- what is in old but not in new\n",
    "- what is in new but not in old\n",
    "how to compare strings with string?"
   ],
   "metadata": {
    "collapsed": false,
    "pycharm": {
     "name": "#%% md\n"
    }
   }
  },
  {
   "cell_type": "code",
   "execution_count": 20,
   "outputs": [],
   "source": [
    "from langdetect import detect, DetectorFactory\n",
    "DetectorFactory.seed = 0\n",
    "# filter out pilot, finale titles, filter in region == us, type == movie\n",
    "#movie()"
   ],
   "metadata": {
    "collapsed": false,
    "pycharm": {
     "name": "#%%\n"
    }
   }
  },
  {
   "cell_type": "code",
   "execution_count": 3,
   "outputs": [],
   "source": [
    "old_movie = pd.read_pickle('old_movie_year_title.pkl')\n",
    "new_movie = pd.read_pickle('new_movie_year_title_typemovie.pkl').drop(['region'], axis = 1)"
   ],
   "metadata": {
    "collapsed": false,
    "pycharm": {
     "name": "#%%\n"
    }
   }
  },
  {
   "cell_type": "code",
   "execution_count": 16,
   "outputs": [
    {
     "data": {
      "text/plain": "            titleId                           title  year titleType\n20        tt0000009                      Miss Jerry  1894     movie\n1165      tt0000574     The Story of the Kelly Gang  1906     movie\n1372      tt0000679  The Fairylogue and Radio-Plays  1908     movie\n2104      tt0001038              Sherlock Holmes VI  1910     movie\n2231      tt0001101      Abraham Lincoln's Clemency  1910     movie\n...             ...                             ...   ...       ...\n11577017  tt9914642                       Albatross  2017     movie\n11577021  tt9914644    9/11: Escape from the Towers  2018     movie\n11577123  tt9914828             The War of Godzilla  2015     movie\n11577207  tt9914972                  Blind Ambition  2021     movie\n11577830  tt9916190                       Safeguard  2020     movie\n\n[168973 rows x 4 columns]",
      "text/html": "<div>\n<style scoped>\n    .dataframe tbody tr th:only-of-type {\n        vertical-align: middle;\n    }\n\n    .dataframe tbody tr th {\n        vertical-align: top;\n    }\n\n    .dataframe thead th {\n        text-align: right;\n    }\n</style>\n<table border=\"1\" class=\"dataframe\">\n  <thead>\n    <tr style=\"text-align: right;\">\n      <th></th>\n      <th>titleId</th>\n      <th>title</th>\n      <th>year</th>\n      <th>titleType</th>\n    </tr>\n  </thead>\n  <tbody>\n    <tr>\n      <th>20</th>\n      <td>tt0000009</td>\n      <td>Miss Jerry</td>\n      <td>1894</td>\n      <td>movie</td>\n    </tr>\n    <tr>\n      <th>1165</th>\n      <td>tt0000574</td>\n      <td>The Story of the Kelly Gang</td>\n      <td>1906</td>\n      <td>movie</td>\n    </tr>\n    <tr>\n      <th>1372</th>\n      <td>tt0000679</td>\n      <td>The Fairylogue and Radio-Plays</td>\n      <td>1908</td>\n      <td>movie</td>\n    </tr>\n    <tr>\n      <th>2104</th>\n      <td>tt0001038</td>\n      <td>Sherlock Holmes VI</td>\n      <td>1910</td>\n      <td>movie</td>\n    </tr>\n    <tr>\n      <th>2231</th>\n      <td>tt0001101</td>\n      <td>Abraham Lincoln's Clemency</td>\n      <td>1910</td>\n      <td>movie</td>\n    </tr>\n    <tr>\n      <th>...</th>\n      <td>...</td>\n      <td>...</td>\n      <td>...</td>\n      <td>...</td>\n    </tr>\n    <tr>\n      <th>11577017</th>\n      <td>tt9914642</td>\n      <td>Albatross</td>\n      <td>2017</td>\n      <td>movie</td>\n    </tr>\n    <tr>\n      <th>11577021</th>\n      <td>tt9914644</td>\n      <td>9/11: Escape from the Towers</td>\n      <td>2018</td>\n      <td>movie</td>\n    </tr>\n    <tr>\n      <th>11577123</th>\n      <td>tt9914828</td>\n      <td>The War of Godzilla</td>\n      <td>2015</td>\n      <td>movie</td>\n    </tr>\n    <tr>\n      <th>11577207</th>\n      <td>tt9914972</td>\n      <td>Blind Ambition</td>\n      <td>2021</td>\n      <td>movie</td>\n    </tr>\n    <tr>\n      <th>11577830</th>\n      <td>tt9916190</td>\n      <td>Safeguard</td>\n      <td>2020</td>\n      <td>movie</td>\n    </tr>\n  </tbody>\n</table>\n<p>168973 rows × 4 columns</p>\n</div>"
     },
     "execution_count": 16,
     "metadata": {},
     "output_type": "execute_result"
    }
   ],
   "source": [
    "print_shape(old_movie, new_movie)\n",
    "new_movie"
   ],
   "metadata": {
    "collapsed": false,
    "pycharm": {
     "name": "#%%\n"
    }
   }
  },
  {
   "cell_type": "code",
   "execution_count": 4,
   "outputs": [],
   "source": [
    "# make movie title and year as old_id\n",
    "old_movie = multi_col_unique(old_movie)\n",
    "\n",
    "# join and save result in mo, mi tsv\n",
    "join_movie(old_movie, new_movie)"
   ],
   "metadata": {
    "collapsed": false,
    "pycharm": {
     "name": "#%%\n"
    }
   }
  },
  {
   "cell_type": "code",
   "execution_count": 5,
   "outputs": [
    {
     "data": {
      "text/plain": "             old_id                               title  year\n0              OLD0                     Cristián Campos  2010\n1              OLD1                        Life & Death  2013\n2              OLD2                 Disguise for Murder  2001\n3              OLD3                         Anniversary  1971\n4              OLD4  Angus Black/Lester Barrie/DC Curry  2009\n...             ...                                 ...   ...\n2545514  OLD2417448                      The Vanquished  1953\n2545518  OLD2545518          V poiskakh kapitana Granta  1985\n2545524  OLD1549795                         Winterwatch  2012\n2545525  OLD2545525                          The Payoff  1942\n2545530  OLD2545530                    Tomorrow's Youth  1935\n\n[1776654 rows x 3 columns]",
      "text/html": "<div>\n<style scoped>\n    .dataframe tbody tr th:only-of-type {\n        vertical-align: middle;\n    }\n\n    .dataframe tbody tr th {\n        vertical-align: top;\n    }\n\n    .dataframe thead th {\n        text-align: right;\n    }\n</style>\n<table border=\"1\" class=\"dataframe\">\n  <thead>\n    <tr style=\"text-align: right;\">\n      <th></th>\n      <th>old_id</th>\n      <th>title</th>\n      <th>year</th>\n    </tr>\n  </thead>\n  <tbody>\n    <tr>\n      <th>0</th>\n      <td>OLD0</td>\n      <td>Cristián Campos</td>\n      <td>2010</td>\n    </tr>\n    <tr>\n      <th>1</th>\n      <td>OLD1</td>\n      <td>Life &amp; Death</td>\n      <td>2013</td>\n    </tr>\n    <tr>\n      <th>2</th>\n      <td>OLD2</td>\n      <td>Disguise for Murder</td>\n      <td>2001</td>\n    </tr>\n    <tr>\n      <th>3</th>\n      <td>OLD3</td>\n      <td>Anniversary</td>\n      <td>1971</td>\n    </tr>\n    <tr>\n      <th>4</th>\n      <td>OLD4</td>\n      <td>Angus Black/Lester Barrie/DC Curry</td>\n      <td>2009</td>\n    </tr>\n    <tr>\n      <th>...</th>\n      <td>...</td>\n      <td>...</td>\n      <td>...</td>\n    </tr>\n    <tr>\n      <th>2545514</th>\n      <td>OLD2417448</td>\n      <td>The Vanquished</td>\n      <td>1953</td>\n    </tr>\n    <tr>\n      <th>2545518</th>\n      <td>OLD2545518</td>\n      <td>V poiskakh kapitana Granta</td>\n      <td>1985</td>\n    </tr>\n    <tr>\n      <th>2545524</th>\n      <td>OLD1549795</td>\n      <td>Winterwatch</td>\n      <td>2012</td>\n    </tr>\n    <tr>\n      <th>2545525</th>\n      <td>OLD2545525</td>\n      <td>The Payoff</td>\n      <td>1942</td>\n    </tr>\n    <tr>\n      <th>2545530</th>\n      <td>OLD2545530</td>\n      <td>Tomorrow's Youth</td>\n      <td>1935</td>\n    </tr>\n  </tbody>\n</table>\n<p>1776654 rows × 3 columns</p>\n</div>"
     },
     "execution_count": 5,
     "metadata": {},
     "output_type": "execute_result"
    }
   ],
   "source": [
    "old_movie"
   ],
   "metadata": {
    "collapsed": false,
    "pycharm": {
     "name": "#%%\n"
    }
   }
  },
  {
   "cell_type": "code",
   "execution_count": 100,
   "outputs": [],
   "source": [
    "mo = pd.read_csv(\"mo.tsv\", sep='\\t', low_memory = False, index_col='index') #pd.merge(old_movie, new_movie, on = ('title', 'year'), how = 'inner')\n",
    "mi = pd.read_csv(\"mi.tsv\", sep='\\t', low_memory = False, index_col = 'old_id') #pd.merge(old_movie, new_movie, on = ('title', 'year'), how = 'outer')"
   ],
   "metadata": {
    "collapsed": false,
    "pycharm": {
     "name": "#%%\n"
    }
   }
  },
  {
   "cell_type": "code",
   "execution_count": 101,
   "outputs": [
    {
     "data": {
      "text/plain": "              titleId                                              title  year\nold_id                                                                        \nOLD60       tt0808541                                             Winter  2006\nOLD218      tt0970184  Operation Homecoming: Writing the Wartime Expe...  2007\nOLD2120     tt1819776                                              Virus  2011\nOLD2185     tt1564349                                       Dolphin Tale  2011\nOLD2216     tt2133340                                      The Foreigner  2011\n...               ...                                                ...   ...\nOLD2544715  tt0097994                                   Nobody's Perfect  1990\nOLD2544825  tt0034166                           Secret of the Wastelands  1941\nOLD2544845  tt0021078                                    Little Accident  1930\nOLD2544867  tt0023539                                       Sunset Trail  1932\nOLD2545209  tt0031968                                   The Spy in Black  1939\n\n[93282 rows x 3 columns]",
      "text/html": "<div>\n<style scoped>\n    .dataframe tbody tr th:only-of-type {\n        vertical-align: middle;\n    }\n\n    .dataframe tbody tr th {\n        vertical-align: top;\n    }\n\n    .dataframe thead th {\n        text-align: right;\n    }\n</style>\n<table border=\"1\" class=\"dataframe\">\n  <thead>\n    <tr style=\"text-align: right;\">\n      <th></th>\n      <th>titleId</th>\n      <th>title</th>\n      <th>year</th>\n    </tr>\n    <tr>\n      <th>old_id</th>\n      <th></th>\n      <th></th>\n      <th></th>\n    </tr>\n  </thead>\n  <tbody>\n    <tr>\n      <th>OLD60</th>\n      <td>tt0808541</td>\n      <td>Winter</td>\n      <td>2006</td>\n    </tr>\n    <tr>\n      <th>OLD218</th>\n      <td>tt0970184</td>\n      <td>Operation Homecoming: Writing the Wartime Expe...</td>\n      <td>2007</td>\n    </tr>\n    <tr>\n      <th>OLD2120</th>\n      <td>tt1819776</td>\n      <td>Virus</td>\n      <td>2011</td>\n    </tr>\n    <tr>\n      <th>OLD2185</th>\n      <td>tt1564349</td>\n      <td>Dolphin Tale</td>\n      <td>2011</td>\n    </tr>\n    <tr>\n      <th>OLD2216</th>\n      <td>tt2133340</td>\n      <td>The Foreigner</td>\n      <td>2011</td>\n    </tr>\n    <tr>\n      <th>...</th>\n      <td>...</td>\n      <td>...</td>\n      <td>...</td>\n    </tr>\n    <tr>\n      <th>OLD2544715</th>\n      <td>tt0097994</td>\n      <td>Nobody's Perfect</td>\n      <td>1990</td>\n    </tr>\n    <tr>\n      <th>OLD2544825</th>\n      <td>tt0034166</td>\n      <td>Secret of the Wastelands</td>\n      <td>1941</td>\n    </tr>\n    <tr>\n      <th>OLD2544845</th>\n      <td>tt0021078</td>\n      <td>Little Accident</td>\n      <td>1930</td>\n    </tr>\n    <tr>\n      <th>OLD2544867</th>\n      <td>tt0023539</td>\n      <td>Sunset Trail</td>\n      <td>1932</td>\n    </tr>\n    <tr>\n      <th>OLD2545209</th>\n      <td>tt0031968</td>\n      <td>The Spy in Black</td>\n      <td>1939</td>\n    </tr>\n  </tbody>\n</table>\n<p>93282 rows × 3 columns</p>\n</div>"
     },
     "execution_count": 101,
     "metadata": {},
     "output_type": "execute_result"
    }
   ],
   "source": [
    "mi #90k"
   ],
   "metadata": {
    "collapsed": false,
    "pycharm": {
     "name": "#%%\n"
    }
   }
  },
  {
   "cell_type": "code",
   "execution_count": 102,
   "outputs": [
    {
     "name": "stdout",
     "output_type": "stream",
     "text": [
      "402\n"
     ]
    }
   ],
   "source": [
    "mi_drop = mi.reset_index().drop_duplicates('old_id')\n",
    "print(mi.shape[0] - mi_drop.shape[0])"
   ],
   "metadata": {
    "collapsed": false,
    "pycharm": {
     "name": "#%%\n"
    }
   }
  },
  {
   "cell_type": "code",
   "execution_count": 2,
   "outputs": [],
   "source": [
    "# new_columns = ['titleId', 'title', 'year', 'region', 'titleType']\n",
    "# new_movie_raw = pd.read_pickle('new_movie.pkl').loc[:, new_columns]\n",
    "# new_movie_raw = filter_year(new_movie_raw, is_old = False)\n",
    "# mo_type = pd.merge(old_movie, new_movie_raw, on=('title', 'year'), how='outer') # 2m\n",
    "# mo_type.drop_duplicates('old_id', inplace=True)\n",
    "#mo_type.to_pickle(\"mo_type.pkl\")\n",
    "mo_type = pd.read_pickle(\"mo_type.pkl\")\n",
    "mo_type = mo_type.loc[:, ('old_id', 'titleType')]\n",
    "mo = pd.read_csv(\"mo.tsv\", sep = '\\t')\n",
    "mi = pd.read_csv(\"mi.tsv\", sep = '\\t')\n",
    "old_only = mo[mo.titleId.isnull()]\n",
    "new_only = mo[mo.old_id.isnull()]\n",
    "old_only_2000 = old_only[old_only.year == 2000]"
   ],
   "metadata": {
    "collapsed": false,
    "pycharm": {
     "name": "#%%\n"
    }
   }
  },
  {
   "cell_type": "code",
   "execution_count": 79,
   "outputs": [],
   "source": [
    "mo_lang = pd.merge(old_only, mo.loc[:, ['old_id', 'lang']], on = 'old_id')\n",
    "mo_lang_type = pd.merge(mo_lang, mo_type, on = 'old_id')"
   ],
   "metadata": {
    "collapsed": false,
    "pycharm": {
     "name": "#%%\n"
    }
   }
  },
  {
   "cell_type": "code",
   "execution_count": 93,
   "outputs": [],
   "source": [
    "old_only_movie = mo_lang_type[(mo_lang_type.titleType == 'movie')& (mo_lang_type.lang == True)]"
   ],
   "metadata": {
    "collapsed": false,
    "pycharm": {
     "name": "#%%\n"
    }
   }
  },
  {
   "cell_type": "code",
   "execution_count": 118,
   "outputs": [
    {
     "data": {
      "text/plain": "           index      old_id                                      title  year  \\\n153          155      OLD270                         Love Is in the Air  2004   \n783          785     OLD1346                            Corazones rotos  2001   \n1704        1713     OLD2963                                       Elle  1995   \n3064        3076     OLD5381                           In the Beginning  1985   \n3737        3756     OLD6567                                     A Life  2008   \n...          ...         ...                                        ...   ...   \n1611278  1704556  OLD2544727                               Night Friend  1987   \n1611319  1704597  OLD2544809                       Razzia sur la chnouf  1955   \n1611378  1704659  OLD2545058                       Sky West and Crooked  1966   \n1611408  1704689  OLD2545157  Terror! Il castello delle donne maledette  1974   \n1611501  1704783  OLD2545388                            Tutto suo padre  1978   \n\n        titleId  lang titleType  \n153         NaN  True     movie  \n783         NaN  True     movie  \n1704        NaN  True     movie  \n3064        NaN  True     movie  \n3737        NaN  True     movie  \n...         ...   ...       ...  \n1611278     NaN  True     movie  \n1611319     NaN  True     movie  \n1611378     NaN  True     movie  \n1611408     NaN  True     movie  \n1611501     NaN  True     movie  \n\n[136015 rows x 7 columns]",
      "text/html": "<div>\n<style scoped>\n    .dataframe tbody tr th:only-of-type {\n        vertical-align: middle;\n    }\n\n    .dataframe tbody tr th {\n        vertical-align: top;\n    }\n\n    .dataframe thead th {\n        text-align: right;\n    }\n</style>\n<table border=\"1\" class=\"dataframe\">\n  <thead>\n    <tr style=\"text-align: right;\">\n      <th></th>\n      <th>index</th>\n      <th>old_id</th>\n      <th>title</th>\n      <th>year</th>\n      <th>titleId</th>\n      <th>lang</th>\n      <th>titleType</th>\n    </tr>\n  </thead>\n  <tbody>\n    <tr>\n      <th>153</th>\n      <td>155</td>\n      <td>OLD270</td>\n      <td>Love Is in the Air</td>\n      <td>2004</td>\n      <td>NaN</td>\n      <td>True</td>\n      <td>movie</td>\n    </tr>\n    <tr>\n      <th>783</th>\n      <td>785</td>\n      <td>OLD1346</td>\n      <td>Corazones rotos</td>\n      <td>2001</td>\n      <td>NaN</td>\n      <td>True</td>\n      <td>movie</td>\n    </tr>\n    <tr>\n      <th>1704</th>\n      <td>1713</td>\n      <td>OLD2963</td>\n      <td>Elle</td>\n      <td>1995</td>\n      <td>NaN</td>\n      <td>True</td>\n      <td>movie</td>\n    </tr>\n    <tr>\n      <th>3064</th>\n      <td>3076</td>\n      <td>OLD5381</td>\n      <td>In the Beginning</td>\n      <td>1985</td>\n      <td>NaN</td>\n      <td>True</td>\n      <td>movie</td>\n    </tr>\n    <tr>\n      <th>3737</th>\n      <td>3756</td>\n      <td>OLD6567</td>\n      <td>A Life</td>\n      <td>2008</td>\n      <td>NaN</td>\n      <td>True</td>\n      <td>movie</td>\n    </tr>\n    <tr>\n      <th>...</th>\n      <td>...</td>\n      <td>...</td>\n      <td>...</td>\n      <td>...</td>\n      <td>...</td>\n      <td>...</td>\n      <td>...</td>\n    </tr>\n    <tr>\n      <th>1611278</th>\n      <td>1704556</td>\n      <td>OLD2544727</td>\n      <td>Night Friend</td>\n      <td>1987</td>\n      <td>NaN</td>\n      <td>True</td>\n      <td>movie</td>\n    </tr>\n    <tr>\n      <th>1611319</th>\n      <td>1704597</td>\n      <td>OLD2544809</td>\n      <td>Razzia sur la chnouf</td>\n      <td>1955</td>\n      <td>NaN</td>\n      <td>True</td>\n      <td>movie</td>\n    </tr>\n    <tr>\n      <th>1611378</th>\n      <td>1704659</td>\n      <td>OLD2545058</td>\n      <td>Sky West and Crooked</td>\n      <td>1966</td>\n      <td>NaN</td>\n      <td>True</td>\n      <td>movie</td>\n    </tr>\n    <tr>\n      <th>1611408</th>\n      <td>1704689</td>\n      <td>OLD2545157</td>\n      <td>Terror! Il castello delle donne maledette</td>\n      <td>1974</td>\n      <td>NaN</td>\n      <td>True</td>\n      <td>movie</td>\n    </tr>\n    <tr>\n      <th>1611501</th>\n      <td>1704783</td>\n      <td>OLD2545388</td>\n      <td>Tutto suo padre</td>\n      <td>1978</td>\n      <td>NaN</td>\n      <td>True</td>\n      <td>movie</td>\n    </tr>\n  </tbody>\n</table>\n<p>136015 rows × 7 columns</p>\n</div>"
     },
     "execution_count": 118,
     "metadata": {},
     "output_type": "execute_result"
    }
   ],
   "source": [
    "old_only_movie"
   ],
   "metadata": {
    "collapsed": false,
    "pycharm": {
     "name": "#%%\n"
    }
   }
  },
  {
   "cell_type": "code",
   "execution_count": 112,
   "outputs": [
    {
     "data": {
      "text/plain": "<AxesSubplot: >"
     },
     "execution_count": 112,
     "metadata": {},
     "output_type": "execute_result"
    },
    {
     "data": {
      "text/plain": "<Figure size 640x480 with 1 Axes>",
      "image/png": "[encoded data removed]"
     },
     "metadata": {},
     "output_type": "display_data"
    }
   ],
   "source": [
    "old_only_movie.year.hist(bins = len(old_only_movie.year.unique()))"
   ],
   "metadata": {
    "collapsed": false,
    "pycharm": {
     "name": "#%%\n"
    }
   }
  },
  {
   "cell_type": "markdown",
   "source": [
    "What happened in peaks 1990, 1984, 1968, 1991,"
   ],
   "metadata": {
    "collapsed": false,
    "pycharm": {
     "name": "#%% md\n"
    }
   }
  },
  {
   "cell_type": "code",
   "execution_count": 130,
   "outputs": [
    {
     "data": {
      "text/plain": "      index  old_id  title  titleId  lang  titleType\nyear                                                \n2011   3687    3687   3687        0  3687       3687\n2010   3507    3507   3507        0  3507       3507\n2012   3471    3471   3471        0  3471       3471\n2009   3252    3252   3252        0  3252       3252\n2008   2869    2869   2869        0  2869       2869\n...     ...     ...    ...      ...   ...        ...\n1907      7       7      7        0     7          7\n1898      3       3      3        0     3          3\n1896      1       1      1        0     1          1\n1903      1       1      1        0     1          1\n2016      1       1      1        0     1          1\n\n[115 rows x 6 columns]",
      "text/html": "<div>\n<style scoped>\n    .dataframe tbody tr th:only-of-type {\n        vertical-align: middle;\n    }\n\n    .dataframe tbody tr th {\n        vertical-align: top;\n    }\n\n    .dataframe thead th {\n        text-align: right;\n    }\n</style>\n<table border=\"1\" class=\"dataframe\">\n  <thead>\n    <tr style=\"text-align: right;\">\n      <th></th>\n      <th>index</th>\n      <th>old_id</th>\n      <th>title</th>\n      <th>titleId</th>\n      <th>lang</th>\n      <th>titleType</th>\n    </tr>\n    <tr>\n      <th>year</th>\n      <th></th>\n      <th></th>\n      <th></th>\n      <th></th>\n      <th></th>\n      <th></th>\n    </tr>\n  </thead>\n  <tbody>\n    <tr>\n      <th>2011</th>\n      <td>3687</td>\n      <td>3687</td>\n      <td>3687</td>\n      <td>0</td>\n      <td>3687</td>\n      <td>3687</td>\n    </tr>\n    <tr>\n      <th>2010</th>\n      <td>3507</td>\n      <td>3507</td>\n      <td>3507</td>\n      <td>0</td>\n      <td>3507</td>\n      <td>3507</td>\n    </tr>\n    <tr>\n      <th>2012</th>\n      <td>3471</td>\n      <td>3471</td>\n      <td>3471</td>\n      <td>0</td>\n      <td>3471</td>\n      <td>3471</td>\n    </tr>\n    <tr>\n      <th>2009</th>\n      <td>3252</td>\n      <td>3252</td>\n      <td>3252</td>\n      <td>0</td>\n      <td>3252</td>\n      <td>3252</td>\n    </tr>\n    <tr>\n      <th>2008</th>\n      <td>2869</td>\n      <td>2869</td>\n      <td>2869</td>\n      <td>0</td>\n      <td>2869</td>\n      <td>2869</td>\n    </tr>\n    <tr>\n      <th>...</th>\n      <td>...</td>\n      <td>...</td>\n      <td>...</td>\n      <td>...</td>\n      <td>...</td>\n      <td>...</td>\n    </tr>\n    <tr>\n      <th>1907</th>\n      <td>7</td>\n      <td>7</td>\n      <td>7</td>\n      <td>0</td>\n      <td>7</td>\n      <td>7</td>\n    </tr>\n    <tr>\n      <th>1898</th>\n      <td>3</td>\n      <td>3</td>\n      <td>3</td>\n      <td>0</td>\n      <td>3</td>\n      <td>3</td>\n    </tr>\n    <tr>\n      <th>1896</th>\n      <td>1</td>\n      <td>1</td>\n      <td>1</td>\n      <td>0</td>\n      <td>1</td>\n      <td>1</td>\n    </tr>\n    <tr>\n      <th>1903</th>\n      <td>1</td>\n      <td>1</td>\n      <td>1</td>\n      <td>0</td>\n      <td>1</td>\n      <td>1</td>\n    </tr>\n    <tr>\n      <th>2016</th>\n      <td>1</td>\n      <td>1</td>\n      <td>1</td>\n      <td>0</td>\n      <td>1</td>\n      <td>1</td>\n    </tr>\n  </tbody>\n</table>\n<p>115 rows × 6 columns</p>\n</div>"
     },
     "execution_count": 130,
     "metadata": {},
     "output_type": "execute_result"
    }
   ],
   "source": [
    "old_only_movie.groupby('year').count().sort_values(by = 'index',ascending=False)"
   ],
   "metadata": {
    "collapsed": false,
    "pycharm": {
     "name": "#%%\n"
    }
   }
  },
  {
   "cell_type": "code",
   "execution_count": 131,
   "outputs": [],
   "source": [
    "old_only = dict()\n",
    "for year in [1990, 1984, 1968, 1991]:\n",
    "   old_only[year] =old_only_movie[old_only_movie.year ==year]"
   ],
   "metadata": {
    "collapsed": false,
    "pycharm": {
     "name": "#%%\n"
    }
   }
  },
  {
   "cell_type": "code",
   "execution_count": 135,
   "outputs": [
    {
     "data": {
      "text/plain": "           index      old_id                title  year titleId  lang  \\\n123788    124522   OLD226370     Thick as Thieves  1990     NaN  True   \n124052    124790   OLD226922           Temptation  1990     NaN  True   \n148595    149506   OLD282383            Countdown  1990     NaN  True   \n206022    207236   OLD389111       After Midnight  1990     NaN  True   \n232610    233959   OLD448413               Crisis  1990     NaN  True   \n...          ...         ...                  ...   ...     ...   ...   \n1609671  1702817  OLD2541637  Winckelmanns Reisen  1990     NaN  True   \n1609853  1703017  OLD2541847               Wu niu  1990     NaN  True   \n1610233  1703432  OLD2542286     Weiningers Nacht  1990     NaN  True   \n1610569  1703813  OLD2542690      Yamadharma Raju  1990     NaN  True   \n1610699  1703952  OLD2542831        Yuvabharatham  1990     NaN  True   \n\n        titleType  \n123788      movie  \n124052      movie  \n148595      movie  \n206022      movie  \n232610      movie  \n...           ...  \n1609671     movie  \n1609853     movie  \n1610233     movie  \n1610569     movie  \n1610699     movie  \n\n[1926 rows x 7 columns]",
      "text/html": "<div>\n<style scoped>\n    .dataframe tbody tr th:only-of-type {\n        vertical-align: middle;\n    }\n\n    .dataframe tbody tr th {\n        vertical-align: top;\n    }\n\n    .dataframe thead th {\n        text-align: right;\n    }\n</style>\n<table border=\"1\" class=\"dataframe\">\n  <thead>\n    <tr style=\"text-align: right;\">\n      <th></th>\n      <th>index</th>\n      <th>old_id</th>\n      <th>title</th>\n      <th>year</th>\n      <th>titleId</th>\n      <th>lang</th>\n      <th>titleType</th>\n    </tr>\n  </thead>\n  <tbody>\n    <tr>\n      <th>123788</th>\n      <td>124522</td>\n      <td>OLD226370</td>\n      <td>Thick as Thieves</td>\n      <td>1990</td>\n      <td>NaN</td>\n      <td>True</td>\n      <td>movie</td>\n    </tr>\n    <tr>\n      <th>124052</th>\n      <td>124790</td>\n      <td>OLD226922</td>\n      <td>Temptation</td>\n      <td>1990</td>\n      <td>NaN</td>\n      <td>True</td>\n      <td>movie</td>\n    </tr>\n    <tr>\n      <th>148595</th>\n      <td>149506</td>\n      <td>OLD282383</td>\n      <td>Countdown</td>\n      <td>1990</td>\n      <td>NaN</td>\n      <td>True</td>\n      <td>movie</td>\n    </tr>\n    <tr>\n      <th>206022</th>\n      <td>207236</td>\n      <td>OLD389111</td>\n      <td>After Midnight</td>\n      <td>1990</td>\n      <td>NaN</td>\n      <td>True</td>\n      <td>movie</td>\n    </tr>\n    <tr>\n      <th>232610</th>\n      <td>233959</td>\n      <td>OLD448413</td>\n      <td>Crisis</td>\n      <td>1990</td>\n      <td>NaN</td>\n      <td>True</td>\n      <td>movie</td>\n    </tr>\n    <tr>\n      <th>...</th>\n      <td>...</td>\n      <td>...</td>\n      <td>...</td>\n      <td>...</td>\n      <td>...</td>\n      <td>...</td>\n      <td>...</td>\n    </tr>\n    <tr>\n      <th>1609671</th>\n      <td>1702817</td>\n      <td>OLD2541637</td>\n      <td>Winckelmanns Reisen</td>\n      <td>1990</td>\n      <td>NaN</td>\n      <td>True</td>\n      <td>movie</td>\n    </tr>\n    <tr>\n      <th>1609853</th>\n      <td>1703017</td>\n      <td>OLD2541847</td>\n      <td>Wu niu</td>\n      <td>1990</td>\n      <td>NaN</td>\n      <td>True</td>\n      <td>movie</td>\n    </tr>\n    <tr>\n      <th>1610233</th>\n      <td>1703432</td>\n      <td>OLD2542286</td>\n      <td>Weiningers Nacht</td>\n      <td>1990</td>\n      <td>NaN</td>\n      <td>True</td>\n      <td>movie</td>\n    </tr>\n    <tr>\n      <th>1610569</th>\n      <td>1703813</td>\n      <td>OLD2542690</td>\n      <td>Yamadharma Raju</td>\n      <td>1990</td>\n      <td>NaN</td>\n      <td>True</td>\n      <td>movie</td>\n    </tr>\n    <tr>\n      <th>1610699</th>\n      <td>1703952</td>\n      <td>OLD2542831</td>\n      <td>Yuvabharatham</td>\n      <td>1990</td>\n      <td>NaN</td>\n      <td>True</td>\n      <td>movie</td>\n    </tr>\n  </tbody>\n</table>\n<p>1926 rows × 7 columns</p>\n</div>"
     },
     "execution_count": 135,
     "metadata": {},
     "output_type": "execute_result"
    }
   ],
   "source": [
    "old_only[1990]"
   ],
   "metadata": {
    "collapsed": false,
    "pycharm": {
     "name": "#%%\n"
    }
   }
  },
  {
   "cell_type": "code",
   "execution_count": 120,
   "outputs": [
    {
     "data": {
      "text/plain": "           index      old_id                                 title  year  \\\n48594      48852    OLD87184                   William Shakespeare  2000   \n54712      54996    OLD98287                 A Death in the Family  2000   \n69311      69688   OLD124444                             Moving On  2000   \n69421      69798   OLD124635                                 Joker  2000   \n81454      81907   OLD145821                                   Max  2000   \n...          ...         ...                                   ...   ...   \n1608153  1701149  OLD2539892  Xiao Li fei dao zi Fei dao wai chuan  2000   \n1608885  1701958  OLD2540739                   Wang shang guai tan  2000   \n1608957  1702035  OLD2540819                                   Zhi  2000   \n1609110  1702203  OLD2540994                          Zavist bogov  2000   \n1609334  1702448  OLD2541252                   Xiang ban yong yuan  2000   \n\n        titleId  lang titleType  \n48594       NaN  True     movie  \n54712       NaN  True     movie  \n69311       NaN  True     movie  \n69421       NaN  True     movie  \n81454       NaN  True     movie  \n...         ...   ...       ...  \n1608153     NaN  True     movie  \n1608885     NaN  True     movie  \n1608957     NaN  True     movie  \n1609110     NaN  True     movie  \n1609334     NaN  True     movie  \n\n[1738 rows x 7 columns]",
      "text/html": "<div>\n<style scoped>\n    .dataframe tbody tr th:only-of-type {\n        vertical-align: middle;\n    }\n\n    .dataframe tbody tr th {\n        vertical-align: top;\n    }\n\n    .dataframe thead th {\n        text-align: right;\n    }\n</style>\n<table border=\"1\" class=\"dataframe\">\n  <thead>\n    <tr style=\"text-align: right;\">\n      <th></th>\n      <th>index</th>\n      <th>old_id</th>\n      <th>title</th>\n      <th>year</th>\n      <th>titleId</th>\n      <th>lang</th>\n      <th>titleType</th>\n    </tr>\n  </thead>\n  <tbody>\n    <tr>\n      <th>48594</th>\n      <td>48852</td>\n      <td>OLD87184</td>\n      <td>William Shakespeare</td>\n      <td>2000</td>\n      <td>NaN</td>\n      <td>True</td>\n      <td>movie</td>\n    </tr>\n    <tr>\n      <th>54712</th>\n      <td>54996</td>\n      <td>OLD98287</td>\n      <td>A Death in the Family</td>\n      <td>2000</td>\n      <td>NaN</td>\n      <td>True</td>\n      <td>movie</td>\n    </tr>\n    <tr>\n      <th>69311</th>\n      <td>69688</td>\n      <td>OLD124444</td>\n      <td>Moving On</td>\n      <td>2000</td>\n      <td>NaN</td>\n      <td>True</td>\n      <td>movie</td>\n    </tr>\n    <tr>\n      <th>69421</th>\n      <td>69798</td>\n      <td>OLD124635</td>\n      <td>Joker</td>\n      <td>2000</td>\n      <td>NaN</td>\n      <td>True</td>\n      <td>movie</td>\n    </tr>\n    <tr>\n      <th>81454</th>\n      <td>81907</td>\n      <td>OLD145821</td>\n      <td>Max</td>\n      <td>2000</td>\n      <td>NaN</td>\n      <td>True</td>\n      <td>movie</td>\n    </tr>\n    <tr>\n      <th>...</th>\n      <td>...</td>\n      <td>...</td>\n      <td>...</td>\n      <td>...</td>\n      <td>...</td>\n      <td>...</td>\n      <td>...</td>\n    </tr>\n    <tr>\n      <th>1608153</th>\n      <td>1701149</td>\n      <td>OLD2539892</td>\n      <td>Xiao Li fei dao zi Fei dao wai chuan</td>\n      <td>2000</td>\n      <td>NaN</td>\n      <td>True</td>\n      <td>movie</td>\n    </tr>\n    <tr>\n      <th>1608885</th>\n      <td>1701958</td>\n      <td>OLD2540739</td>\n      <td>Wang shang guai tan</td>\n      <td>2000</td>\n      <td>NaN</td>\n      <td>True</td>\n      <td>movie</td>\n    </tr>\n    <tr>\n      <th>1608957</th>\n      <td>1702035</td>\n      <td>OLD2540819</td>\n      <td>Zhi</td>\n      <td>2000</td>\n      <td>NaN</td>\n      <td>True</td>\n      <td>movie</td>\n    </tr>\n    <tr>\n      <th>1609110</th>\n      <td>1702203</td>\n      <td>OLD2540994</td>\n      <td>Zavist bogov</td>\n      <td>2000</td>\n      <td>NaN</td>\n      <td>True</td>\n      <td>movie</td>\n    </tr>\n    <tr>\n      <th>1609334</th>\n      <td>1702448</td>\n      <td>OLD2541252</td>\n      <td>Xiang ban yong yuan</td>\n      <td>2000</td>\n      <td>NaN</td>\n      <td>True</td>\n      <td>movie</td>\n    </tr>\n  </tbody>\n</table>\n<p>1738 rows × 7 columns</p>\n</div>"
     },
     "execution_count": 120,
     "metadata": {},
     "output_type": "execute_result"
    }
   ],
   "source": [
    "old_only[1984]"
   ],
   "metadata": {
    "collapsed": false,
    "pycharm": {
     "name": "#%%\n"
    }
   }
  },
  {
   "cell_type": "code",
   "execution_count": 136,
   "outputs": [
    {
     "data": {
      "text/plain": "           index      old_id                     title  year titleId  lang  \\\n286100    287784   OLD556195      Hana no koibitotachi  1968     NaN  True   \n435353    437794   OLD842068                   Mariana  1968     NaN  True   \n457356    459924   OLD882019           The Mercenaries  1968     NaN  True   \n502646    505399   OLD966548           Still a Brother  1968     NaN  True   \n712408    716075  OLD1367908                   Revenge  1968     NaN  True   \n...          ...         ...                       ...   ...     ...   ...   \n1608659  1701711  OLD2540481              Yukcheui kil  1968     NaN  True   \n1608751  1701815  OLD2540589   Zuckerbrot und Peitsche  1968     NaN  True   \n1609675  1702821  OLD2541641                    Yan nu  1968     NaN  True   \n1609831  1702994  OLD2541823  Yabu no naka no kuroneko  1968     NaN  True   \n1610361  1703578  OLD2542440           Yu nu tian ding  1968     NaN  True   \n\n        titleType  \n286100      movie  \n435353      movie  \n457356      movie  \n502646      movie  \n712408      movie  \n...           ...  \n1608659     movie  \n1608751     movie  \n1609675     movie  \n1609831     movie  \n1610361     movie  \n\n[1870 rows x 7 columns]",
      "text/html": "<div>\n<style scoped>\n    .dataframe tbody tr th:only-of-type {\n        vertical-align: middle;\n    }\n\n    .dataframe tbody tr th {\n        vertical-align: top;\n    }\n\n    .dataframe thead th {\n        text-align: right;\n    }\n</style>\n<table border=\"1\" class=\"dataframe\">\n  <thead>\n    <tr style=\"text-align: right;\">\n      <th></th>\n      <th>index</th>\n      <th>old_id</th>\n      <th>title</th>\n      <th>year</th>\n      <th>titleId</th>\n      <th>lang</th>\n      <th>titleType</th>\n    </tr>\n  </thead>\n  <tbody>\n    <tr>\n      <th>286100</th>\n      <td>287784</td>\n      <td>OLD556195</td>\n      <td>Hana no koibitotachi</td>\n      <td>1968</td>\n      <td>NaN</td>\n      <td>True</td>\n      <td>movie</td>\n    </tr>\n    <tr>\n      <th>435353</th>\n      <td>437794</td>\n      <td>OLD842068</td>\n      <td>Mariana</td>\n      <td>1968</td>\n      <td>NaN</td>\n      <td>True</td>\n      <td>movie</td>\n    </tr>\n    <tr>\n      <th>457356</th>\n      <td>459924</td>\n      <td>OLD882019</td>\n      <td>The Mercenaries</td>\n      <td>1968</td>\n      <td>NaN</td>\n      <td>True</td>\n      <td>movie</td>\n    </tr>\n    <tr>\n      <th>502646</th>\n      <td>505399</td>\n      <td>OLD966548</td>\n      <td>Still a Brother</td>\n      <td>1968</td>\n      <td>NaN</td>\n      <td>True</td>\n      <td>movie</td>\n    </tr>\n    <tr>\n      <th>712408</th>\n      <td>716075</td>\n      <td>OLD1367908</td>\n      <td>Revenge</td>\n      <td>1968</td>\n      <td>NaN</td>\n      <td>True</td>\n      <td>movie</td>\n    </tr>\n    <tr>\n      <th>...</th>\n      <td>...</td>\n      <td>...</td>\n      <td>...</td>\n      <td>...</td>\n      <td>...</td>\n      <td>...</td>\n      <td>...</td>\n    </tr>\n    <tr>\n      <th>1608659</th>\n      <td>1701711</td>\n      <td>OLD2540481</td>\n      <td>Yukcheui kil</td>\n      <td>1968</td>\n      <td>NaN</td>\n      <td>True</td>\n      <td>movie</td>\n    </tr>\n    <tr>\n      <th>1608751</th>\n      <td>1701815</td>\n      <td>OLD2540589</td>\n      <td>Zuckerbrot und Peitsche</td>\n      <td>1968</td>\n      <td>NaN</td>\n      <td>True</td>\n      <td>movie</td>\n    </tr>\n    <tr>\n      <th>1609675</th>\n      <td>1702821</td>\n      <td>OLD2541641</td>\n      <td>Yan nu</td>\n      <td>1968</td>\n      <td>NaN</td>\n      <td>True</td>\n      <td>movie</td>\n    </tr>\n    <tr>\n      <th>1609831</th>\n      <td>1702994</td>\n      <td>OLD2541823</td>\n      <td>Yabu no naka no kuroneko</td>\n      <td>1968</td>\n      <td>NaN</td>\n      <td>True</td>\n      <td>movie</td>\n    </tr>\n    <tr>\n      <th>1610361</th>\n      <td>1703578</td>\n      <td>OLD2542440</td>\n      <td>Yu nu tian ding</td>\n      <td>1968</td>\n      <td>NaN</td>\n      <td>True</td>\n      <td>movie</td>\n    </tr>\n  </tbody>\n</table>\n<p>1870 rows × 7 columns</p>\n</div>"
     },
     "execution_count": 136,
     "metadata": {},
     "output_type": "execute_result"
    }
   ],
   "source": [
    "old_only[1968]"
   ],
   "metadata": {
    "collapsed": false,
    "pycharm": {
     "name": "#%%\n"
    }
   }
  },
  {
   "cell_type": "code",
   "execution_count": 138,
   "outputs": [
    {
     "data": {
      "text/plain": "'sw'"
     },
     "execution_count": 138,
     "metadata": {},
     "output_type": "execute_result"
    }
   ],
   "source": [
    "detect(\"Anajigoku\") #Swahili"
   ],
   "metadata": {
    "collapsed": false,
    "pycharm": {
     "name": "#%%\n"
    }
   }
  },
  {
   "cell_type": "code",
   "execution_count": 139,
   "outputs": [],
   "source": [
    "detect?"
   ],
   "metadata": {
    "collapsed": false,
    "pycharm": {
     "name": "#%%\n"
    }
   }
  },
  {
   "cell_type": "code",
   "execution_count": null,
   "outputs": [],
   "source": [
    "old_only_movie_10\n",
    "# includes 아저씨, the man from nowhere 2010, 2011\n",
    "ia = Cinemagoer()\n",
    "ia.get_movie('1527788')"
   ],
   "metadata": {
    "collapsed": false,
    "pycharm": {
     "name": "#%%\n"
    }
   }
  },
  {
   "cell_type": "code",
   "execution_count": 117,
   "outputs": [
    {
     "data": {
      "text/plain": "<Movie id:1527788[http] title:_The Man from Nowhere (2010)_>"
     },
     "execution_count": 117,
     "metadata": {},
     "output_type": "execute_result"
    }
   ],
   "source": [
    "\n",
    "# people = ia.search_person('Mel Gibson')\n",
    "# for person in people:\n",
    "#    print(person.personID, person['name'])\n",
    "# person = ia.get_person('0000206')\n",
    "# print(person)"
   ],
   "metadata": {
    "collapsed": false,
    "pycharm": {
     "name": "#%%\n"
    }
   }
  },
  {
   "cell_type": "code",
   "execution_count": 46,
   "outputs": [],
   "source": [
    "#filter_year(mi, 2000)\n",
    "mi_1 = mi[mi.year == 2000]"
   ],
   "metadata": {
    "collapsed": false,
    "pycharm": {
     "name": "#%%\n"
    }
   }
  },
  {
   "cell_type": "code",
   "execution_count": null,
   "outputs": [],
   "source": [
    "old_movie_lang = mo.loc[:, ['old_id', 'lang']]"
   ],
   "metadata": {
    "collapsed": false,
    "pycharm": {
     "name": "#%%\n"
    }
   }
  },
  {
   "cell_type": "markdown",
   "source": [
    " join genre index to old movies using joining with new movie"
   ],
   "metadata": {
    "collapsed": false,
    "pycharm": {
     "name": "#%% md\n"
    }
   }
  },
  {
   "cell_type": "code",
   "execution_count": 35,
   "outputs": [
    {
     "data": {
      "text/plain": "           index      old_id                               title  year titleId\n0              0        OLD0                     Cristián Campos  2010     NaN\n1              1        OLD1                        Life & Death  2013     NaN\n2              2        OLD2                 Disguise for Murder  2001     NaN\n3              3        OLD3                         Anniversary  1971     NaN\n4              4        OLD4  Angus Black/Lester Barrie/DC Curry  2009     NaN\n...          ...         ...                                 ...   ...     ...\n1704815  1704815  OLD2545510   The Second Part of Henry the Sixt  1983     NaN\n1704816  1704816  OLD2545513                   Western Spaghetti  2009     NaN\n1704817  1704817  OLD2545518          V poiskakh kapitana Granta  1985     NaN\n1704818  1704818  OLD2545525                          The Payoff  1942     NaN\n1704819  1704819  OLD2545530                    Tomorrow's Youth  1935     NaN\n\n[1611538 rows x 5 columns]",
      "text/html": "<div>\n<style scoped>\n    .dataframe tbody tr th:only-of-type {\n        vertical-align: middle;\n    }\n\n    .dataframe tbody tr th {\n        vertical-align: top;\n    }\n\n    .dataframe thead th {\n        text-align: right;\n    }\n</style>\n<table border=\"1\" class=\"dataframe\">\n  <thead>\n    <tr style=\"text-align: right;\">\n      <th></th>\n      <th>index</th>\n      <th>old_id</th>\n      <th>title</th>\n      <th>year</th>\n      <th>titleId</th>\n    </tr>\n  </thead>\n  <tbody>\n    <tr>\n      <th>0</th>\n      <td>0</td>\n      <td>OLD0</td>\n      <td>Cristián Campos</td>\n      <td>2010</td>\n      <td>NaN</td>\n    </tr>\n    <tr>\n      <th>1</th>\n      <td>1</td>\n      <td>OLD1</td>\n      <td>Life &amp; Death</td>\n      <td>2013</td>\n      <td>NaN</td>\n    </tr>\n    <tr>\n      <th>2</th>\n      <td>2</td>\n      <td>OLD2</td>\n      <td>Disguise for Murder</td>\n      <td>2001</td>\n      <td>NaN</td>\n    </tr>\n    <tr>\n      <th>3</th>\n      <td>3</td>\n      <td>OLD3</td>\n      <td>Anniversary</td>\n      <td>1971</td>\n      <td>NaN</td>\n    </tr>\n    <tr>\n      <th>4</th>\n      <td>4</td>\n      <td>OLD4</td>\n      <td>Angus Black/Lester Barrie/DC Curry</td>\n      <td>2009</td>\n      <td>NaN</td>\n    </tr>\n    <tr>\n      <th>...</th>\n      <td>...</td>\n      <td>...</td>\n      <td>...</td>\n      <td>...</td>\n      <td>...</td>\n    </tr>\n    <tr>\n      <th>1704815</th>\n      <td>1704815</td>\n      <td>OLD2545510</td>\n      <td>The Second Part of Henry the Sixt</td>\n      <td>1983</td>\n      <td>NaN</td>\n    </tr>\n    <tr>\n      <th>1704816</th>\n      <td>1704816</td>\n      <td>OLD2545513</td>\n      <td>Western Spaghetti</td>\n      <td>2009</td>\n      <td>NaN</td>\n    </tr>\n    <tr>\n      <th>1704817</th>\n      <td>1704817</td>\n      <td>OLD2545518</td>\n      <td>V poiskakh kapitana Granta</td>\n      <td>1985</td>\n      <td>NaN</td>\n    </tr>\n    <tr>\n      <th>1704818</th>\n      <td>1704818</td>\n      <td>OLD2545525</td>\n      <td>The Payoff</td>\n      <td>1942</td>\n      <td>NaN</td>\n    </tr>\n    <tr>\n      <th>1704819</th>\n      <td>1704819</td>\n      <td>OLD2545530</td>\n      <td>Tomorrow's Youth</td>\n      <td>1935</td>\n      <td>NaN</td>\n    </tr>\n  </tbody>\n</table>\n<p>1611538 rows × 5 columns</p>\n</div>"
     },
     "execution_count": 35,
     "metadata": {},
     "output_type": "execute_result"
    }
   ],
   "source": [
    "old_only"
   ],
   "metadata": {
    "collapsed": false,
    "pycharm": {
     "name": "#%%\n"
    }
   }
  },
  {
   "cell_type": "markdown",
   "source": [],
   "metadata": {
    "collapsed": false,
    "pycharm": {
     "name": "#%% md\n"
    }
   }
  },
  {
   "cell_type": "code",
   "execution_count": 39,
   "outputs": [
    {
     "data": {
      "text/plain": "Empty DataFrame\nColumns: [titleId, old_id, title, year]\nIndex: []",
      "text/html": "<div>\n<style scoped>\n    .dataframe tbody tr th:only-of-type {\n        vertical-align: middle;\n    }\n\n    .dataframe tbody tr th {\n        vertical-align: top;\n    }\n\n    .dataframe thead th {\n        text-align: right;\n    }\n</style>\n<table border=\"1\" class=\"dataframe\">\n  <thead>\n    <tr style=\"text-align: right;\">\n      <th></th>\n      <th>titleId</th>\n      <th>old_id</th>\n      <th>title</th>\n      <th>year</th>\n    </tr>\n  </thead>\n  <tbody>\n  </tbody>\n</table>\n</div>"
     },
     "execution_count": 39,
     "metadata": {},
     "output_type": "execute_result"
    }
   ],
   "source": [
    "new_only #75k"
   ],
   "metadata": {
    "collapsed": false,
    "pycharm": {
     "name": "#%%\n"
    }
   }
  },
  {
   "cell_type": "code",
   "execution_count": 37,
   "outputs": [
    {
     "data": {
      "text/plain": "Empty DataFrame\nColumns: [titleId, old_id, title, year]\nIndex: []",
      "text/html": "<div>\n<style scoped>\n    .dataframe tbody tr th:only-of-type {\n        vertical-align: middle;\n    }\n\n    .dataframe tbody tr th {\n        vertical-align: top;\n    }\n\n    .dataframe thead th {\n        text-align: right;\n    }\n</style>\n<table border=\"1\" class=\"dataframe\">\n  <thead>\n    <tr style=\"text-align: right;\">\n      <th></th>\n      <th>titleId</th>\n      <th>old_id</th>\n      <th>title</th>\n      <th>year</th>\n    </tr>\n  </thead>\n  <tbody>\n  </tbody>\n</table>\n</div>"
     },
     "execution_count": 37,
     "metadata": {},
     "output_type": "execute_result"
    }
   ],
   "source": [
    "new_only[new_only.year == 2000]\n",
    "#old_only[old_only.year == 2000]"
   ],
   "metadata": {
    "collapsed": false,
    "pycharm": {
     "name": "#%%\n"
    }
   }
  },
  {
   "cell_type": "code",
   "execution_count": 42,
   "outputs": [],
   "source": [],
   "metadata": {
    "collapsed": false,
    "pycharm": {
     "name": "#%%\n"
    }
   }
  },
  {
   "cell_type": "code",
   "execution_count": 36,
   "outputs": [
    {
     "data": {
      "text/plain": "         titleId      old_id                   title  year\n31     tt0176783    OLD10732                  Gossip  2000\n32     tt0238251    OLD10732                  Gossip  2000\n102    tt0242337    OLD32744                   Bunny  2000\n211    tt0241297    OLD71971            Chaos Theory  2000\n259    tt0194410    OLD87714               The Stray  2000\n...          ...         ...                     ...   ...\n92952  tt0205526  OLD2539423              Wildflower  2000\n92987  tt2307054  OLD2539820                   Watch  2000\n93151  tt0215366  OLD2541710        Written in Water  2000\n93187  tt0293706  OLD2542161      Who Owns the Past?  2000\n93228  tt2015531  OLD2542534  Writing Down the River  2000\n\n[1439 rows x 4 columns]",
      "text/html": "<div>\n<style scoped>\n    .dataframe tbody tr th:only-of-type {\n        vertical-align: middle;\n    }\n\n    .dataframe tbody tr th {\n        vertical-align: top;\n    }\n\n    .dataframe thead th {\n        text-align: right;\n    }\n</style>\n<table border=\"1\" class=\"dataframe\">\n  <thead>\n    <tr style=\"text-align: right;\">\n      <th></th>\n      <th>titleId</th>\n      <th>old_id</th>\n      <th>title</th>\n      <th>year</th>\n    </tr>\n  </thead>\n  <tbody>\n    <tr>\n      <th>31</th>\n      <td>tt0176783</td>\n      <td>OLD10732</td>\n      <td>Gossip</td>\n      <td>2000</td>\n    </tr>\n    <tr>\n      <th>32</th>\n      <td>tt0238251</td>\n      <td>OLD10732</td>\n      <td>Gossip</td>\n      <td>2000</td>\n    </tr>\n    <tr>\n      <th>102</th>\n      <td>tt0242337</td>\n      <td>OLD32744</td>\n      <td>Bunny</td>\n      <td>2000</td>\n    </tr>\n    <tr>\n      <th>211</th>\n      <td>tt0241297</td>\n      <td>OLD71971</td>\n      <td>Chaos Theory</td>\n      <td>2000</td>\n    </tr>\n    <tr>\n      <th>259</th>\n      <td>tt0194410</td>\n      <td>OLD87714</td>\n      <td>The Stray</td>\n      <td>2000</td>\n    </tr>\n    <tr>\n      <th>...</th>\n      <td>...</td>\n      <td>...</td>\n      <td>...</td>\n      <td>...</td>\n    </tr>\n    <tr>\n      <th>92952</th>\n      <td>tt0205526</td>\n      <td>OLD2539423</td>\n      <td>Wildflower</td>\n      <td>2000</td>\n    </tr>\n    <tr>\n      <th>92987</th>\n      <td>tt2307054</td>\n      <td>OLD2539820</td>\n      <td>Watch</td>\n      <td>2000</td>\n    </tr>\n    <tr>\n      <th>93151</th>\n      <td>tt0215366</td>\n      <td>OLD2541710</td>\n      <td>Written in Water</td>\n      <td>2000</td>\n    </tr>\n    <tr>\n      <th>93187</th>\n      <td>tt0293706</td>\n      <td>OLD2542161</td>\n      <td>Who Owns the Past?</td>\n      <td>2000</td>\n    </tr>\n    <tr>\n      <th>93228</th>\n      <td>tt2015531</td>\n      <td>OLD2542534</td>\n      <td>Writing Down the River</td>\n      <td>2000</td>\n    </tr>\n  </tbody>\n</table>\n<p>1439 rows × 4 columns</p>\n</div>"
     },
     "execution_count": 36,
     "metadata": {},
     "output_type": "execute_result"
    }
   ],
   "source": [
    "mi[mi.year == 2000]"
   ],
   "metadata": {
    "collapsed": false,
    "pycharm": {
     "name": "#%%\n"
    }
   }
  },
  {
   "cell_type": "code",
   "execution_count": null,
   "outputs": [],
   "source": [],
   "metadata": {
    "collapsed": false,
    "pycharm": {
     "name": "#%%\n"
    }
   }
  },
  {
   "cell_type": "markdown",
   "source": [
    "## Person"
   ],
   "metadata": {
    "collapsed": false,
    "pycharm": {
     "name": "#%% md\n"
    }
   }
  },
  {
   "cell_type": "code",
   "execution_count": 9,
   "outputs": [],
   "source": [
    "new_person = person()"
   ],
   "metadata": {
    "collapsed": false,
    "pycharm": {
     "name": "#%%\n"
    }
   }
  },
  {
   "cell_type": "code",
   "execution_count": 15,
   "outputs": [
    {
     "data": {
      "text/plain": "              id                         name imdbIndex  imdbId gender  \\\n0            451                    A., David       NaN     NaN      m   \n1            129  -Alverio, Esteban Rodriguez       NaN     NaN      m   \n2           1688                 Abbas, Athar       NaN     NaN      m   \n3           3631                  Aberer, Leo       NaN     NaN      m   \n4            512                         A.J.        II     NaN      m   \n...          ...                          ...       ...     ...    ...   \n4193671  4193674               Öndemir, Önder       NaN     NaN    NaN   \n4193672  4193676                  Özgür, Lale       NaN     NaN    NaN   \n4193673  4193670                   Ôta, Akemi       NaN     NaN    NaN   \n4193674  4193675                 Östling, Kia       NaN     NaN    NaN   \n4193675  4193677              Þórisson, Jónas       NaN     NaN    NaN   \n\n        namePcodeCf namePcodeNf surnamePcode                            md5sum  \n0              A313         D13            A  cf45e7b42fbc800c61462988ad1156d2  \n1             A4162       E2315         A416  f5c410bff6839b545d04c531f776e8f2  \n2             A1236       A3612          A12  cf230f6ed718a330dc688c20b8d741d3  \n3              A164         L16          A16  05684f16b84db387e613d3de57eca5b7  \n4                A2         NaN          NaN  c63baf59b537e471b6ec4b68c5d1373e  \n...             ...         ...          ...                               ...  \n4193671       N3565       N3653         N356  4aaaea8e689c667e6f34023f16db5481  \n4193672        Z264        L426          Z26  0b7c397c3605fdc0afbf8220061c1579  \n4193673         T25        A253            T  ce24ccbc6f95737710b925cd66722d06  \n4193674       S3452       K2345          NaN  8c8b06b41b1639845317b12613b0a95b  \n4193675       R2525       J5262          R25  d51c4a95c9858e4aface1d835a79ee4d  \n\n[4193676 rows x 9 columns]",
      "text/html": "<div>\n<style scoped>\n    .dataframe tbody tr th:only-of-type {\n        vertical-align: middle;\n    }\n\n    .dataframe tbody tr th {\n        vertical-align: top;\n    }\n\n    .dataframe thead th {\n        text-align: right;\n    }\n</style>\n<table border=\"1\" class=\"dataframe\">\n  <thead>\n    <tr style=\"text-align: right;\">\n      <th></th>\n      <th>id</th>\n      <th>name</th>\n      <th>imdbIndex</th>\n      <th>imdbId</th>\n      <th>gender</th>\n      <th>namePcodeCf</th>\n      <th>namePcodeNf</th>\n      <th>surnamePcode</th>\n      <th>md5sum</th>\n    </tr>\n  </thead>\n  <tbody>\n    <tr>\n      <th>0</th>\n      <td>451</td>\n      <td>A., David</td>\n      <td>NaN</td>\n      <td>NaN</td>\n      <td>m</td>\n      <td>A313</td>\n      <td>D13</td>\n      <td>A</td>\n      <td>cf45e7b42fbc800c61462988ad1156d2</td>\n    </tr>\n    <tr>\n      <th>1</th>\n      <td>129</td>\n      <td>-Alverio, Esteban Rodriguez</td>\n      <td>NaN</td>\n      <td>NaN</td>\n      <td>m</td>\n      <td>A4162</td>\n      <td>E2315</td>\n      <td>A416</td>\n      <td>f5c410bff6839b545d04c531f776e8f2</td>\n    </tr>\n    <tr>\n      <th>2</th>\n      <td>1688</td>\n      <td>Abbas, Athar</td>\n      <td>NaN</td>\n      <td>NaN</td>\n      <td>m</td>\n      <td>A1236</td>\n      <td>A3612</td>\n      <td>A12</td>\n      <td>cf230f6ed718a330dc688c20b8d741d3</td>\n    </tr>\n    <tr>\n      <th>3</th>\n      <td>3631</td>\n      <td>Aberer, Leo</td>\n      <td>NaN</td>\n      <td>NaN</td>\n      <td>m</td>\n      <td>A164</td>\n      <td>L16</td>\n      <td>A16</td>\n      <td>05684f16b84db387e613d3de57eca5b7</td>\n    </tr>\n    <tr>\n      <th>4</th>\n      <td>512</td>\n      <td>A.J.</td>\n      <td>II</td>\n      <td>NaN</td>\n      <td>m</td>\n      <td>A2</td>\n      <td>NaN</td>\n      <td>NaN</td>\n      <td>c63baf59b537e471b6ec4b68c5d1373e</td>\n    </tr>\n    <tr>\n      <th>...</th>\n      <td>...</td>\n      <td>...</td>\n      <td>...</td>\n      <td>...</td>\n      <td>...</td>\n      <td>...</td>\n      <td>...</td>\n      <td>...</td>\n      <td>...</td>\n    </tr>\n    <tr>\n      <th>4193671</th>\n      <td>4193674</td>\n      <td>Öndemir, Önder</td>\n      <td>NaN</td>\n      <td>NaN</td>\n      <td>NaN</td>\n      <td>N3565</td>\n      <td>N3653</td>\n      <td>N356</td>\n      <td>4aaaea8e689c667e6f34023f16db5481</td>\n    </tr>\n    <tr>\n      <th>4193672</th>\n      <td>4193676</td>\n      <td>Özgür, Lale</td>\n      <td>NaN</td>\n      <td>NaN</td>\n      <td>NaN</td>\n      <td>Z264</td>\n      <td>L426</td>\n      <td>Z26</td>\n      <td>0b7c397c3605fdc0afbf8220061c1579</td>\n    </tr>\n    <tr>\n      <th>4193673</th>\n      <td>4193670</td>\n      <td>Ôta, Akemi</td>\n      <td>NaN</td>\n      <td>NaN</td>\n      <td>NaN</td>\n      <td>T25</td>\n      <td>A253</td>\n      <td>T</td>\n      <td>ce24ccbc6f95737710b925cd66722d06</td>\n    </tr>\n    <tr>\n      <th>4193674</th>\n      <td>4193675</td>\n      <td>Östling, Kia</td>\n      <td>NaN</td>\n      <td>NaN</td>\n      <td>NaN</td>\n      <td>S3452</td>\n      <td>K2345</td>\n      <td>NaN</td>\n      <td>8c8b06b41b1639845317b12613b0a95b</td>\n    </tr>\n    <tr>\n      <th>4193675</th>\n      <td>4193677</td>\n      <td>Þórisson, Jónas</td>\n      <td>NaN</td>\n      <td>NaN</td>\n      <td>NaN</td>\n      <td>R2525</td>\n      <td>J5262</td>\n      <td>R25</td>\n      <td>d51c4a95c9858e4aface1d835a79ee4d</td>\n    </tr>\n  </tbody>\n</table>\n<p>4193676 rows × 9 columns</p>\n</div>"
     },
     "execution_count": 15,
     "metadata": {},
     "output_type": "execute_result"
    }
   ],
   "source": [
    "old_person"
   ],
   "metadata": {
    "collapsed": false,
    "pycharm": {
     "name": "#%%\n"
    }
   }
  },
  {
   "cell_type": "code",
   "execution_count": 12,
   "outputs": [
    {
     "data": {
      "text/plain": "             nconst         primaryName birthYear deathYear  \\\n0         nm0000001        Fred Astaire      1899      1987   \n1         nm0000001        Fred Astaire      1899      1987   \n2         nm0000001        Fred Astaire      1899      1987   \n3         nm0000001        Fred Astaire      1899      1987   \n4         nm0000001        Fred Astaire      1899      1987   \n...             ...                 ...       ...       ...   \n52467457  nm9993713       Sambit Mishra        \\N        \\N   \n52467458  nm9993713       Sambit Mishra        \\N        \\N   \n52467459  nm9993713       Sambit Mishra        \\N        \\N   \n52467460  nm9993717  Harikrishnan Rajan        \\N        \\N   \n52467461  nm9993718         Aayush Nair        \\N        \\N   \n\n                       primaryProfession  \\\n0         soundtrack,actor,miscellaneous   \n1         soundtrack,actor,miscellaneous   \n2         soundtrack,actor,miscellaneous   \n3         soundtrack,actor,miscellaneous   \n4         soundtrack,actor,miscellaneous   \n...                                  ...   \n52467457                 writer,producer   \n52467458                 writer,producer   \n52467459                 writer,producer   \n52467460                 cinematographer   \n52467461                 cinematographer   \n\n                                       knownForTitles      tconst  ordering  \\\n0             tt0072308,tt0053137,tt0050419,tt0031983   tt0025164         1   \n1             tt0072308,tt0053137,tt0050419,tt0031983   tt0026942         2   \n2             tt0072308,tt0053137,tt0050419,tt0031983   tt0027125         1   \n3             tt0072308,tt0053137,tt0050419,tt0031983   tt0027630         1   \n4             tt0072308,tt0053137,tt0050419,tt0031983   tt0028333         1   \n...                                               ...         ...       ...   \n52467457  tt15134202,tt10449366,tt10709066,tt21147342  tt15186906         6   \n52467458  tt15134202,tt10449366,tt10709066,tt21147342  tt15187068         6   \n52467459  tt15134202,tt10449366,tt10709066,tt21147342  tt15204446         6   \n52467460                                    tt8736744   tt8736744         7   \n52467461                                           \\N   tt8736744         6   \n\n                 category job         characters  \n0                   actor  \\N     [\"Guy Holden\"]  \n1                   actor  \\N    [\"Huck Haines\"]  \n2                   actor  \\N  [\"Jerry Travers\"]  \n3                   actor  \\N     [\"Bake Baker\"]  \n4                   actor  \\N  [\"Lucky Garnett\"]  \n...                   ...  ..                ...  \n52467457           writer  \\N                 \\N  \n52467458           writer  \\N                 \\N  \n52467459           writer  \\N                 \\N  \n52467460  cinematographer  \\N                 \\N  \n52467461  cinematographer  \\N                 \\N  \n\n[52467462 rows x 11 columns]",
      "text/html": "<div>\n<style scoped>\n    .dataframe tbody tr th:only-of-type {\n        vertical-align: middle;\n    }\n\n    .dataframe tbody tr th {\n        vertical-align: top;\n    }\n\n    .dataframe thead th {\n        text-align: right;\n    }\n</style>\n<table border=\"1\" class=\"dataframe\">\n  <thead>\n    <tr style=\"text-align: right;\">\n      <th></th>\n      <th>nconst</th>\n      <th>primaryName</th>\n      <th>birthYear</th>\n      <th>deathYear</th>\n      <th>primaryProfession</th>\n      <th>knownForTitles</th>\n      <th>tconst</th>\n      <th>ordering</th>\n      <th>category</th>\n      <th>job</th>\n      <th>characters</th>\n    </tr>\n  </thead>\n  <tbody>\n    <tr>\n      <th>0</th>\n      <td>nm0000001</td>\n      <td>Fred Astaire</td>\n      <td>1899</td>\n      <td>1987</td>\n      <td>soundtrack,actor,miscellaneous</td>\n      <td>tt0072308,tt0053137,tt0050419,tt0031983</td>\n      <td>tt0025164</td>\n      <td>1</td>\n      <td>actor</td>\n      <td>\\N</td>\n      <td>[\"Guy Holden\"]</td>\n    </tr>\n    <tr>\n      <th>1</th>\n      <td>nm0000001</td>\n      <td>Fred Astaire</td>\n      <td>1899</td>\n      <td>1987</td>\n      <td>soundtrack,actor,miscellaneous</td>\n      <td>tt0072308,tt0053137,tt0050419,tt0031983</td>\n      <td>tt0026942</td>\n      <td>2</td>\n      <td>actor</td>\n      <td>\\N</td>\n      <td>[\"Huck Haines\"]</td>\n    </tr>\n    <tr>\n      <th>2</th>\n      <td>nm0000001</td>\n      <td>Fred Astaire</td>\n      <td>1899</td>\n      <td>1987</td>\n      <td>soundtrack,actor,miscellaneous</td>\n      <td>tt0072308,tt0053137,tt0050419,tt0031983</td>\n      <td>tt0027125</td>\n      <td>1</td>\n      <td>actor</td>\n      <td>\\N</td>\n      <td>[\"Jerry Travers\"]</td>\n    </tr>\n    <tr>\n      <th>3</th>\n      <td>nm0000001</td>\n      <td>Fred Astaire</td>\n      <td>1899</td>\n      <td>1987</td>\n      <td>soundtrack,actor,miscellaneous</td>\n      <td>tt0072308,tt0053137,tt0050419,tt0031983</td>\n      <td>tt0027630</td>\n      <td>1</td>\n      <td>actor</td>\n      <td>\\N</td>\n      <td>[\"Bake Baker\"]</td>\n    </tr>\n    <tr>\n      <th>4</th>\n      <td>nm0000001</td>\n      <td>Fred Astaire</td>\n      <td>1899</td>\n      <td>1987</td>\n      <td>soundtrack,actor,miscellaneous</td>\n      <td>tt0072308,tt0053137,tt0050419,tt0031983</td>\n      <td>tt0028333</td>\n      <td>1</td>\n      <td>actor</td>\n      <td>\\N</td>\n      <td>[\"Lucky Garnett\"]</td>\n    </tr>\n    <tr>\n      <th>...</th>\n      <td>...</td>\n      <td>...</td>\n      <td>...</td>\n      <td>...</td>\n      <td>...</td>\n      <td>...</td>\n      <td>...</td>\n      <td>...</td>\n      <td>...</td>\n      <td>...</td>\n      <td>...</td>\n    </tr>\n    <tr>\n      <th>52467457</th>\n      <td>nm9993713</td>\n      <td>Sambit Mishra</td>\n      <td>\\N</td>\n      <td>\\N</td>\n      <td>writer,producer</td>\n      <td>tt15134202,tt10449366,tt10709066,tt21147342</td>\n      <td>tt15186906</td>\n      <td>6</td>\n      <td>writer</td>\n      <td>\\N</td>\n      <td>\\N</td>\n    </tr>\n    <tr>\n      <th>52467458</th>\n      <td>nm9993713</td>\n      <td>Sambit Mishra</td>\n      <td>\\N</td>\n      <td>\\N</td>\n      <td>writer,producer</td>\n      <td>tt15134202,tt10449366,tt10709066,tt21147342</td>\n      <td>tt15187068</td>\n      <td>6</td>\n      <td>writer</td>\n      <td>\\N</td>\n      <td>\\N</td>\n    </tr>\n    <tr>\n      <th>52467459</th>\n      <td>nm9993713</td>\n      <td>Sambit Mishra</td>\n      <td>\\N</td>\n      <td>\\N</td>\n      <td>writer,producer</td>\n      <td>tt15134202,tt10449366,tt10709066,tt21147342</td>\n      <td>tt15204446</td>\n      <td>6</td>\n      <td>writer</td>\n      <td>\\N</td>\n      <td>\\N</td>\n    </tr>\n    <tr>\n      <th>52467460</th>\n      <td>nm9993717</td>\n      <td>Harikrishnan Rajan</td>\n      <td>\\N</td>\n      <td>\\N</td>\n      <td>cinematographer</td>\n      <td>tt8736744</td>\n      <td>tt8736744</td>\n      <td>7</td>\n      <td>cinematographer</td>\n      <td>\\N</td>\n      <td>\\N</td>\n    </tr>\n    <tr>\n      <th>52467461</th>\n      <td>nm9993718</td>\n      <td>Aayush Nair</td>\n      <td>\\N</td>\n      <td>\\N</td>\n      <td>cinematographer</td>\n      <td>\\N</td>\n      <td>tt8736744</td>\n      <td>6</td>\n      <td>cinematographer</td>\n      <td>\\N</td>\n      <td>\\N</td>\n    </tr>\n  </tbody>\n</table>\n<p>52467462 rows × 11 columns</p>\n</div>"
     },
     "execution_count": 12,
     "metadata": {},
     "output_type": "execute_result"
    }
   ],
   "source": [
    "pmc_raw"
   ],
   "metadata": {
    "collapsed": false,
    "pycharm": {
     "name": "#%%\n"
    }
   }
  },
  {
   "cell_type": "code",
   "execution_count": 22,
   "outputs": [
    {
     "data": {
      "text/plain": "             tconst  ordering      nconst         category  \\\n0         tt0000001         1   nm1588970             self   \n1         tt0000001         2   nm0005690         director   \n2         tt0000001         3   nm0374658  cinematographer   \n3         tt0000002         1   nm0721526         director   \n4         tt0000002         2   nm1335271         composer   \n...             ...       ...         ...              ...   \n52475552  tt9916880         4  nm10535738          actress   \n52475553  tt9916880         5   nm0996406         director   \n52475554  tt9916880         6   nm1482639           writer   \n52475555  tt9916880         7   nm2586970           writer   \n52475556  tt9916880         8   nm1594058         producer   \n\n                              job        characters  \n0                              \\N          [\"Self\"]  \n1                              \\N                \\N  \n2         director of photography                \\N  \n3                              \\N                \\N  \n4                              \\N                \\N  \n...                           ...               ...  \n52475552                       \\N  [\"Horrid Henry\"]  \n52475553       principal director                \\N  \n52475554                       \\N                \\N  \n52475555                    books                \\N  \n52475556                 producer                \\N  \n\n[52475557 rows x 6 columns]",
      "text/html": "<div>\n<style scoped>\n    .dataframe tbody tr th:only-of-type {\n        vertical-align: middle;\n    }\n\n    .dataframe tbody tr th {\n        vertical-align: top;\n    }\n\n    .dataframe thead th {\n        text-align: right;\n    }\n</style>\n<table border=\"1\" class=\"dataframe\">\n  <thead>\n    <tr style=\"text-align: right;\">\n      <th></th>\n      <th>tconst</th>\n      <th>ordering</th>\n      <th>nconst</th>\n      <th>category</th>\n      <th>job</th>\n      <th>characters</th>\n    </tr>\n  </thead>\n  <tbody>\n    <tr>\n      <th>0</th>\n      <td>tt0000001</td>\n      <td>1</td>\n      <td>nm1588970</td>\n      <td>self</td>\n      <td>\\N</td>\n      <td>[\"Self\"]</td>\n    </tr>\n    <tr>\n      <th>1</th>\n      <td>tt0000001</td>\n      <td>2</td>\n      <td>nm0005690</td>\n      <td>director</td>\n      <td>\\N</td>\n      <td>\\N</td>\n    </tr>\n    <tr>\n      <th>2</th>\n      <td>tt0000001</td>\n      <td>3</td>\n      <td>nm0374658</td>\n      <td>cinematographer</td>\n      <td>director of photography</td>\n      <td>\\N</td>\n    </tr>\n    <tr>\n      <th>3</th>\n      <td>tt0000002</td>\n      <td>1</td>\n      <td>nm0721526</td>\n      <td>director</td>\n      <td>\\N</td>\n      <td>\\N</td>\n    </tr>\n    <tr>\n      <th>4</th>\n      <td>tt0000002</td>\n      <td>2</td>\n      <td>nm1335271</td>\n      <td>composer</td>\n      <td>\\N</td>\n      <td>\\N</td>\n    </tr>\n    <tr>\n      <th>...</th>\n      <td>...</td>\n      <td>...</td>\n      <td>...</td>\n      <td>...</td>\n      <td>...</td>\n      <td>...</td>\n    </tr>\n    <tr>\n      <th>52475552</th>\n      <td>tt9916880</td>\n      <td>4</td>\n      <td>nm10535738</td>\n      <td>actress</td>\n      <td>\\N</td>\n      <td>[\"Horrid Henry\"]</td>\n    </tr>\n    <tr>\n      <th>52475553</th>\n      <td>tt9916880</td>\n      <td>5</td>\n      <td>nm0996406</td>\n      <td>director</td>\n      <td>principal director</td>\n      <td>\\N</td>\n    </tr>\n    <tr>\n      <th>52475554</th>\n      <td>tt9916880</td>\n      <td>6</td>\n      <td>nm1482639</td>\n      <td>writer</td>\n      <td>\\N</td>\n      <td>\\N</td>\n    </tr>\n    <tr>\n      <th>52475555</th>\n      <td>tt9916880</td>\n      <td>7</td>\n      <td>nm2586970</td>\n      <td>writer</td>\n      <td>books</td>\n      <td>\\N</td>\n    </tr>\n    <tr>\n      <th>52475556</th>\n      <td>tt9916880</td>\n      <td>8</td>\n      <td>nm1594058</td>\n      <td>producer</td>\n      <td>producer</td>\n      <td>\\N</td>\n    </tr>\n  </tbody>\n</table>\n<p>52475557 rows × 6 columns</p>\n</div>"
     },
     "execution_count": 22,
     "metadata": {},
     "output_type": "execute_result"
    }
   ],
   "source": [
    "pmc."
   ],
   "metadata": {
    "collapsed": false,
    "pycharm": {
     "name": "#%%\n"
    }
   }
  },
  {
   "cell_type": "code",
   "execution_count": 27,
   "outputs": [
    {
     "data": {
      "text/plain": "             nconst      tconst category          characters\n0         nm0000001   tt0025164    actor      [\"Guy Holden\"]\n1         nm0000001   tt0026942    actor     [\"Huck Haines\"]\n2         nm0000001   tt0027125    actor   [\"Jerry Travers\"]\n3         nm0000001   tt0027630    actor      [\"Bake Baker\"]\n4         nm0000001   tt0028333    actor   [\"Lucky Garnett\"]\n...             ...         ...      ...                 ...\n52467412  nm9993708  tt14508814  actress           [\"Extra\"]\n52467415  nm9993708  tt21028920  actress                  \\N\n52467420  nm9993709  tt11702702  actress  [\"Observant Poet\"]\n52467423  nm9993709  tt11772842  actress              [\"Lu\"]\n52467430  nm9993709  tt21028920  actress                  \\N\n\n[20533189 rows x 4 columns]",
      "text/html": "<div>\n<style scoped>\n    .dataframe tbody tr th:only-of-type {\n        vertical-align: middle;\n    }\n\n    .dataframe tbody tr th {\n        vertical-align: top;\n    }\n\n    .dataframe thead th {\n        text-align: right;\n    }\n</style>\n<table border=\"1\" class=\"dataframe\">\n  <thead>\n    <tr style=\"text-align: right;\">\n      <th></th>\n      <th>nconst</th>\n      <th>tconst</th>\n      <th>category</th>\n      <th>characters</th>\n    </tr>\n  </thead>\n  <tbody>\n    <tr>\n      <th>0</th>\n      <td>nm0000001</td>\n      <td>tt0025164</td>\n      <td>actor</td>\n      <td>[\"Guy Holden\"]</td>\n    </tr>\n    <tr>\n      <th>1</th>\n      <td>nm0000001</td>\n      <td>tt0026942</td>\n      <td>actor</td>\n      <td>[\"Huck Haines\"]</td>\n    </tr>\n    <tr>\n      <th>2</th>\n      <td>nm0000001</td>\n      <td>tt0027125</td>\n      <td>actor</td>\n      <td>[\"Jerry Travers\"]</td>\n    </tr>\n    <tr>\n      <th>3</th>\n      <td>nm0000001</td>\n      <td>tt0027630</td>\n      <td>actor</td>\n      <td>[\"Bake Baker\"]</td>\n    </tr>\n    <tr>\n      <th>4</th>\n      <td>nm0000001</td>\n      <td>tt0028333</td>\n      <td>actor</td>\n      <td>[\"Lucky Garnett\"]</td>\n    </tr>\n    <tr>\n      <th>...</th>\n      <td>...</td>\n      <td>...</td>\n      <td>...</td>\n      <td>...</td>\n    </tr>\n    <tr>\n      <th>52467412</th>\n      <td>nm9993708</td>\n      <td>tt14508814</td>\n      <td>actress</td>\n      <td>[\"Extra\"]</td>\n    </tr>\n    <tr>\n      <th>52467415</th>\n      <td>nm9993708</td>\n      <td>tt21028920</td>\n      <td>actress</td>\n      <td>\\N</td>\n    </tr>\n    <tr>\n      <th>52467420</th>\n      <td>nm9993709</td>\n      <td>tt11702702</td>\n      <td>actress</td>\n      <td>[\"Observant Poet\"]</td>\n    </tr>\n    <tr>\n      <th>52467423</th>\n      <td>nm9993709</td>\n      <td>tt11772842</td>\n      <td>actress</td>\n      <td>[\"Lu\"]</td>\n    </tr>\n    <tr>\n      <th>52467430</th>\n      <td>nm9993709</td>\n      <td>tt21028920</td>\n      <td>actress</td>\n      <td>\\N</td>\n    </tr>\n  </tbody>\n</table>\n<p>20533189 rows × 4 columns</p>\n</div>"
     },
     "execution_count": 27,
     "metadata": {},
     "output_type": "execute_result"
    }
   ],
   "source": [
    "pmc"
   ],
   "metadata": {
    "collapsed": false,
    "pycharm": {
     "name": "#%%\n"
    }
   }
  },
  {
   "cell_type": "code",
   "execution_count": 104,
   "outputs": [],
   "source": [
    "\n",
    "\n",
    "old_person.columns = ['id', 'personID','infoTypeID','info', 'note']"
   ],
   "metadata": {
    "collapsed": false,
    "pycharm": {
     "name": "#%%\n"
    }
   }
  },
  {
   "cell_type": "code",
   "execution_count": 109,
   "outputs": [],
   "source": [
    "old_person = pd.read_pickle(\"old_person.pkl\")\n",
    "#new_person = pd.read_pickle('new_person_basics.p6yhn     kl')"
   ],
   "metadata": {
    "collapsed": false,
    "pycharm": {
     "name": "#%%\n"
    }
   }
  },
  {
   "cell_type": "code",
   "execution_count": 9,
   "outputs": [
    {
     "ename": "FileNotFoundError",
     "evalue": "[Errno 2] No such file or directory: 'test.pkl'",
     "output_type": "error",
     "traceback": [
      "\u001B[0;31m---------------------------------------------------------------------------\u001B[0m",
      "\u001B[0;31mFileNotFoundError\u001B[0m                         Traceback (most recent call last)",
      "Cell \u001B[0;32mIn [9], line 1\u001B[0m\n\u001B[0;32m----> 1\u001B[0m new_person_movie \u001B[38;5;241m=\u001B[39m \u001B[43mpd\u001B[49m\u001B[38;5;241;43m.\u001B[39;49m\u001B[43mread_pickle\u001B[49m\u001B[43m(\u001B[49m\u001B[38;5;124;43m'\u001B[39;49m\u001B[38;5;124;43mtest.pkl\u001B[39;49m\u001B[38;5;124;43m'\u001B[39;49m\u001B[43m)\u001B[49m\n",
      "File \u001B[0;32m~/Dropbox/tolzul/BayesSD/ContinuousCode/3_Data4DM/empirical_dynamics/venv/lib/python3.9/site-packages/pandas/io/pickle.py:190\u001B[0m, in \u001B[0;36mread_pickle\u001B[0;34m(filepath_or_buffer, compression, storage_options)\u001B[0m\n\u001B[1;32m    124\u001B[0m \u001B[38;5;124;03m\"\"\"\u001B[39;00m\n\u001B[1;32m    125\u001B[0m \u001B[38;5;124;03mLoad pickled pandas object (or any object) from file.\u001B[39;00m\n\u001B[1;32m    126\u001B[0m \n\u001B[0;32m   (...)\u001B[0m\n\u001B[1;32m    187\u001B[0m \u001B[38;5;124;03m4    4    9\u001B[39;00m\n\u001B[1;32m    188\u001B[0m \u001B[38;5;124;03m\"\"\"\u001B[39;00m\n\u001B[1;32m    189\u001B[0m excs_to_catch \u001B[38;5;241m=\u001B[39m (\u001B[38;5;167;01mAttributeError\u001B[39;00m, \u001B[38;5;167;01mImportError\u001B[39;00m, \u001B[38;5;167;01mModuleNotFoundError\u001B[39;00m, \u001B[38;5;167;01mTypeError\u001B[39;00m)\n\u001B[0;32m--> 190\u001B[0m \u001B[38;5;28;01mwith\u001B[39;00m \u001B[43mget_handle\u001B[49m\u001B[43m(\u001B[49m\n\u001B[1;32m    191\u001B[0m \u001B[43m    \u001B[49m\u001B[43mfilepath_or_buffer\u001B[49m\u001B[43m,\u001B[49m\n\u001B[1;32m    192\u001B[0m \u001B[43m    \u001B[49m\u001B[38;5;124;43m\"\u001B[39;49m\u001B[38;5;124;43mrb\u001B[39;49m\u001B[38;5;124;43m\"\u001B[39;49m\u001B[43m,\u001B[49m\n\u001B[1;32m    193\u001B[0m \u001B[43m    \u001B[49m\u001B[43mcompression\u001B[49m\u001B[38;5;241;43m=\u001B[39;49m\u001B[43mcompression\u001B[49m\u001B[43m,\u001B[49m\n\u001B[1;32m    194\u001B[0m \u001B[43m    \u001B[49m\u001B[43mis_text\u001B[49m\u001B[38;5;241;43m=\u001B[39;49m\u001B[38;5;28;43;01mFalse\u001B[39;49;00m\u001B[43m,\u001B[49m\n\u001B[1;32m    195\u001B[0m \u001B[43m    \u001B[49m\u001B[43mstorage_options\u001B[49m\u001B[38;5;241;43m=\u001B[39;49m\u001B[43mstorage_options\u001B[49m\u001B[43m,\u001B[49m\n\u001B[1;32m    196\u001B[0m \u001B[43m\u001B[49m\u001B[43m)\u001B[49m \u001B[38;5;28;01mas\u001B[39;00m handles:\n\u001B[1;32m    197\u001B[0m \n\u001B[1;32m    198\u001B[0m     \u001B[38;5;66;03m# 1) try standard library Pickle\u001B[39;00m\n\u001B[1;32m    199\u001B[0m     \u001B[38;5;66;03m# 2) try pickle_compat (older pandas version) to handle subclass changes\u001B[39;00m\n\u001B[1;32m    200\u001B[0m     \u001B[38;5;66;03m# 3) try pickle_compat with latin-1 encoding upon a UnicodeDecodeError\u001B[39;00m\n\u001B[1;32m    202\u001B[0m     \u001B[38;5;28;01mtry\u001B[39;00m:\n\u001B[1;32m    203\u001B[0m         \u001B[38;5;66;03m# TypeError for Cython complaints about object.__new__ vs Tick.__new__\u001B[39;00m\n\u001B[1;32m    204\u001B[0m         \u001B[38;5;28;01mtry\u001B[39;00m:\n",
      "File \u001B[0;32m~/Dropbox/tolzul/BayesSD/ContinuousCode/3_Data4DM/empirical_dynamics/venv/lib/python3.9/site-packages/pandas/io/common.py:865\u001B[0m, in \u001B[0;36mget_handle\u001B[0;34m(path_or_buf, mode, encoding, compression, memory_map, is_text, errors, storage_options)\u001B[0m\n\u001B[1;32m    856\u001B[0m         handle \u001B[38;5;241m=\u001B[39m \u001B[38;5;28mopen\u001B[39m(\n\u001B[1;32m    857\u001B[0m             handle,\n\u001B[1;32m    858\u001B[0m             ioargs\u001B[38;5;241m.\u001B[39mmode,\n\u001B[0;32m   (...)\u001B[0m\n\u001B[1;32m    861\u001B[0m             newline\u001B[38;5;241m=\u001B[39m\u001B[38;5;124m\"\u001B[39m\u001B[38;5;124m\"\u001B[39m,\n\u001B[1;32m    862\u001B[0m         )\n\u001B[1;32m    863\u001B[0m     \u001B[38;5;28;01melse\u001B[39;00m:\n\u001B[1;32m    864\u001B[0m         \u001B[38;5;66;03m# Binary mode\u001B[39;00m\n\u001B[0;32m--> 865\u001B[0m         handle \u001B[38;5;241m=\u001B[39m \u001B[38;5;28;43mopen\u001B[39;49m\u001B[43m(\u001B[49m\u001B[43mhandle\u001B[49m\u001B[43m,\u001B[49m\u001B[43m \u001B[49m\u001B[43mioargs\u001B[49m\u001B[38;5;241;43m.\u001B[39;49m\u001B[43mmode\u001B[49m\u001B[43m)\u001B[49m\n\u001B[1;32m    866\u001B[0m     handles\u001B[38;5;241m.\u001B[39mappend(handle)\n\u001B[1;32m    868\u001B[0m \u001B[38;5;66;03m# Convert BytesIO or file objects passed with an encoding\u001B[39;00m\n",
      "\u001B[0;31mFileNotFoundError\u001B[0m: [Errno 2] No such file or directory: 'test.pkl'"
     ]
    }
   ],
   "source": [
    "new_person_movie = pd.read_pickle('test.pkl')"
   ],
   "metadata": {
    "collapsed": false,
    "pycharm": {
     "name": "#%%\n"
    }
   }
  },
  {
   "cell_type": "code",
   "execution_count": 22,
   "outputs": [
    {
     "data": {
      "text/plain": "'/Users/hyunjimoon/Dropbox/tolzul/BayesSD/ContinuousCode/3_Data4DM/empirical_dynamics/cont_code/data/movie'"
     },
     "execution_count": 22,
     "metadata": {},
     "output_type": "execute_result"
    }
   ],
   "source": [
    "os.getcwd()"
   ],
   "metadata": {
    "collapsed": false,
    "pycharm": {
     "name": "#%%\n"
    }
   }
  },
  {
   "cell_type": "code",
   "execution_count": 18,
   "outputs": [
    {
     "data": {
      "text/plain": "              id                         name\n0            451                    A., David\n1            129  -Alverio, Esteban Rodriguez\n2           1688                 Abbas, Athar\n3           3631                  Aberer, Leo\n4            512                         A.J.\n...          ...                          ...\n4193671  4193674               Öndemir, Önder\n4193672  4193676                  Özgür, Lale\n4193673  4193670                   Ôta, Akemi\n4193674  4193675                 Östling, Kia\n4193675  4193677              Þórisson, Jónas\n\n[4193676 rows x 2 columns]",
      "text/html": "<div>\n<style scoped>\n    .dataframe tbody tr th:only-of-type {\n        vertical-align: middle;\n    }\n\n    .dataframe tbody tr th {\n        vertical-align: top;\n    }\n\n    .dataframe thead th {\n        text-align: right;\n    }\n</style>\n<table border=\"1\" class=\"dataframe\">\n  <thead>\n    <tr style=\"text-align: right;\">\n      <th></th>\n      <th>id</th>\n      <th>name</th>\n    </tr>\n  </thead>\n  <tbody>\n    <tr>\n      <th>0</th>\n      <td>451</td>\n      <td>A., David</td>\n    </tr>\n    <tr>\n      <th>1</th>\n      <td>129</td>\n      <td>-Alverio, Esteban Rodriguez</td>\n    </tr>\n    <tr>\n      <th>2</th>\n      <td>1688</td>\n      <td>Abbas, Athar</td>\n    </tr>\n    <tr>\n      <th>3</th>\n      <td>3631</td>\n      <td>Aberer, Leo</td>\n    </tr>\n    <tr>\n      <th>4</th>\n      <td>512</td>\n      <td>A.J.</td>\n    </tr>\n    <tr>\n      <th>...</th>\n      <td>...</td>\n      <td>...</td>\n    </tr>\n    <tr>\n      <th>4193671</th>\n      <td>4193674</td>\n      <td>Öndemir, Önder</td>\n    </tr>\n    <tr>\n      <th>4193672</th>\n      <td>4193676</td>\n      <td>Özgür, Lale</td>\n    </tr>\n    <tr>\n      <th>4193673</th>\n      <td>4193670</td>\n      <td>Ôta, Akemi</td>\n    </tr>\n    <tr>\n      <th>4193674</th>\n      <td>4193675</td>\n      <td>Östling, Kia</td>\n    </tr>\n    <tr>\n      <th>4193675</th>\n      <td>4193677</td>\n      <td>Þórisson, Jónas</td>\n    </tr>\n  </tbody>\n</table>\n<p>4193676 rows × 2 columns</p>\n</div>"
     },
     "execution_count": 18,
     "metadata": {},
     "output_type": "execute_result"
    }
   ],
   "source": [
    "old_person.columns = ['id', 'name', 'imdbIndex', 'imdbId', 'gender', 'namePcodeCf', 'namePcodeNf', 'surnamePcode', 'md5sum']\n",
    "old_person[['id', 'name']] #4m"
   ],
   "metadata": {
    "collapsed": false,
    "pycharm": {
     "name": "#%%\n"
    }
   }
  },
  {
   "cell_type": "code",
   "execution_count": 10,
   "outputs": [
    {
     "ename": "FileNotFoundError",
     "evalue": "[Errno 2] No such file or directory: 'cast_info.csv'",
     "output_type": "error",
     "traceback": [
      "\u001B[0;31m---------------------------------------------------------------------------\u001B[0m",
      "\u001B[0;31mFileNotFoundError\u001B[0m                         Traceback (most recent call last)",
      "Cell \u001B[0;32mIn [10], line 1\u001B[0m\n\u001B[0;32m----> 1\u001B[0m \u001B[43mpd\u001B[49m\u001B[38;5;241;43m.\u001B[39;49m\u001B[43mread_csv\u001B[49m\u001B[43m(\u001B[49m\u001B[38;5;124;43m\"\u001B[39;49m\u001B[38;5;124;43mcast_info.csv\u001B[39;49m\u001B[38;5;124;43m\"\u001B[39;49m\u001B[43m)\u001B[49m\u001B[38;5;241m.\u001B[39mto_pickle(\u001B[38;5;124m\"\u001B[39m\u001B[38;5;124mold_cast_info.pkl\u001B[39m\u001B[38;5;124m\"\u001B[39m)\n",
      "File \u001B[0;32m~/Dropbox/tolzul/BayesSD/ContinuousCode/3_Data4DM/empirical_dynamics/venv/lib/python3.9/site-packages/pandas/util/_decorators.py:211\u001B[0m, in \u001B[0;36mdeprecate_kwarg.<locals>._deprecate_kwarg.<locals>.wrapper\u001B[0;34m(*args, **kwargs)\u001B[0m\n\u001B[1;32m    209\u001B[0m     \u001B[38;5;28;01melse\u001B[39;00m:\n\u001B[1;32m    210\u001B[0m         kwargs[new_arg_name] \u001B[38;5;241m=\u001B[39m new_arg_value\n\u001B[0;32m--> 211\u001B[0m \u001B[38;5;28;01mreturn\u001B[39;00m \u001B[43mfunc\u001B[49m\u001B[43m(\u001B[49m\u001B[38;5;241;43m*\u001B[39;49m\u001B[43margs\u001B[49m\u001B[43m,\u001B[49m\u001B[43m \u001B[49m\u001B[38;5;241;43m*\u001B[39;49m\u001B[38;5;241;43m*\u001B[39;49m\u001B[43mkwargs\u001B[49m\u001B[43m)\u001B[49m\n",
      "File \u001B[0;32m~/Dropbox/tolzul/BayesSD/ContinuousCode/3_Data4DM/empirical_dynamics/venv/lib/python3.9/site-packages/pandas/util/_decorators.py:331\u001B[0m, in \u001B[0;36mdeprecate_nonkeyword_arguments.<locals>.decorate.<locals>.wrapper\u001B[0;34m(*args, **kwargs)\u001B[0m\n\u001B[1;32m    325\u001B[0m \u001B[38;5;28;01mif\u001B[39;00m \u001B[38;5;28mlen\u001B[39m(args) \u001B[38;5;241m>\u001B[39m num_allow_args:\n\u001B[1;32m    326\u001B[0m     warnings\u001B[38;5;241m.\u001B[39mwarn(\n\u001B[1;32m    327\u001B[0m         msg\u001B[38;5;241m.\u001B[39mformat(arguments\u001B[38;5;241m=\u001B[39m_format_argument_list(allow_args)),\n\u001B[1;32m    328\u001B[0m         \u001B[38;5;167;01mFutureWarning\u001B[39;00m,\n\u001B[1;32m    329\u001B[0m         stacklevel\u001B[38;5;241m=\u001B[39mfind_stack_level(),\n\u001B[1;32m    330\u001B[0m     )\n\u001B[0;32m--> 331\u001B[0m \u001B[38;5;28;01mreturn\u001B[39;00m \u001B[43mfunc\u001B[49m\u001B[43m(\u001B[49m\u001B[38;5;241;43m*\u001B[39;49m\u001B[43margs\u001B[49m\u001B[43m,\u001B[49m\u001B[43m \u001B[49m\u001B[38;5;241;43m*\u001B[39;49m\u001B[38;5;241;43m*\u001B[39;49m\u001B[43mkwargs\u001B[49m\u001B[43m)\u001B[49m\n",
      "File \u001B[0;32m~/Dropbox/tolzul/BayesSD/ContinuousCode/3_Data4DM/empirical_dynamics/venv/lib/python3.9/site-packages/pandas/io/parsers/readers.py:950\u001B[0m, in \u001B[0;36mread_csv\u001B[0;34m(filepath_or_buffer, sep, delimiter, header, names, index_col, usecols, squeeze, prefix, mangle_dupe_cols, dtype, engine, converters, true_values, false_values, skipinitialspace, skiprows, skipfooter, nrows, na_values, keep_default_na, na_filter, verbose, skip_blank_lines, parse_dates, infer_datetime_format, keep_date_col, date_parser, dayfirst, cache_dates, iterator, chunksize, compression, thousands, decimal, lineterminator, quotechar, quoting, doublequote, escapechar, comment, encoding, encoding_errors, dialect, error_bad_lines, warn_bad_lines, on_bad_lines, delim_whitespace, low_memory, memory_map, float_precision, storage_options)\u001B[0m\n\u001B[1;32m    935\u001B[0m kwds_defaults \u001B[38;5;241m=\u001B[39m _refine_defaults_read(\n\u001B[1;32m    936\u001B[0m     dialect,\n\u001B[1;32m    937\u001B[0m     delimiter,\n\u001B[0;32m   (...)\u001B[0m\n\u001B[1;32m    946\u001B[0m     defaults\u001B[38;5;241m=\u001B[39m{\u001B[38;5;124m\"\u001B[39m\u001B[38;5;124mdelimiter\u001B[39m\u001B[38;5;124m\"\u001B[39m: \u001B[38;5;124m\"\u001B[39m\u001B[38;5;124m,\u001B[39m\u001B[38;5;124m\"\u001B[39m},\n\u001B[1;32m    947\u001B[0m )\n\u001B[1;32m    948\u001B[0m kwds\u001B[38;5;241m.\u001B[39mupdate(kwds_defaults)\n\u001B[0;32m--> 950\u001B[0m \u001B[38;5;28;01mreturn\u001B[39;00m \u001B[43m_read\u001B[49m\u001B[43m(\u001B[49m\u001B[43mfilepath_or_buffer\u001B[49m\u001B[43m,\u001B[49m\u001B[43m \u001B[49m\u001B[43mkwds\u001B[49m\u001B[43m)\u001B[49m\n",
      "File \u001B[0;32m~/Dropbox/tolzul/BayesSD/ContinuousCode/3_Data4DM/empirical_dynamics/venv/lib/python3.9/site-packages/pandas/io/parsers/readers.py:605\u001B[0m, in \u001B[0;36m_read\u001B[0;34m(filepath_or_buffer, kwds)\u001B[0m\n\u001B[1;32m    602\u001B[0m _validate_names(kwds\u001B[38;5;241m.\u001B[39mget(\u001B[38;5;124m\"\u001B[39m\u001B[38;5;124mnames\u001B[39m\u001B[38;5;124m\"\u001B[39m, \u001B[38;5;28;01mNone\u001B[39;00m))\n\u001B[1;32m    604\u001B[0m \u001B[38;5;66;03m# Create the parser.\u001B[39;00m\n\u001B[0;32m--> 605\u001B[0m parser \u001B[38;5;241m=\u001B[39m \u001B[43mTextFileReader\u001B[49m\u001B[43m(\u001B[49m\u001B[43mfilepath_or_buffer\u001B[49m\u001B[43m,\u001B[49m\u001B[43m \u001B[49m\u001B[38;5;241;43m*\u001B[39;49m\u001B[38;5;241;43m*\u001B[39;49m\u001B[43mkwds\u001B[49m\u001B[43m)\u001B[49m\n\u001B[1;32m    607\u001B[0m \u001B[38;5;28;01mif\u001B[39;00m chunksize \u001B[38;5;129;01mor\u001B[39;00m iterator:\n\u001B[1;32m    608\u001B[0m     \u001B[38;5;28;01mreturn\u001B[39;00m parser\n",
      "File \u001B[0;32m~/Dropbox/tolzul/BayesSD/ContinuousCode/3_Data4DM/empirical_dynamics/venv/lib/python3.9/site-packages/pandas/io/parsers/readers.py:1442\u001B[0m, in \u001B[0;36mTextFileReader.__init__\u001B[0;34m(self, f, engine, **kwds)\u001B[0m\n\u001B[1;32m   1439\u001B[0m     \u001B[38;5;28mself\u001B[39m\u001B[38;5;241m.\u001B[39moptions[\u001B[38;5;124m\"\u001B[39m\u001B[38;5;124mhas_index_names\u001B[39m\u001B[38;5;124m\"\u001B[39m] \u001B[38;5;241m=\u001B[39m kwds[\u001B[38;5;124m\"\u001B[39m\u001B[38;5;124mhas_index_names\u001B[39m\u001B[38;5;124m\"\u001B[39m]\n\u001B[1;32m   1441\u001B[0m \u001B[38;5;28mself\u001B[39m\u001B[38;5;241m.\u001B[39mhandles: IOHandles \u001B[38;5;241m|\u001B[39m \u001B[38;5;28;01mNone\u001B[39;00m \u001B[38;5;241m=\u001B[39m \u001B[38;5;28;01mNone\u001B[39;00m\n\u001B[0;32m-> 1442\u001B[0m \u001B[38;5;28mself\u001B[39m\u001B[38;5;241m.\u001B[39m_engine \u001B[38;5;241m=\u001B[39m \u001B[38;5;28;43mself\u001B[39;49m\u001B[38;5;241;43m.\u001B[39;49m\u001B[43m_make_engine\u001B[49m\u001B[43m(\u001B[49m\u001B[43mf\u001B[49m\u001B[43m,\u001B[49m\u001B[43m \u001B[49m\u001B[38;5;28;43mself\u001B[39;49m\u001B[38;5;241;43m.\u001B[39;49m\u001B[43mengine\u001B[49m\u001B[43m)\u001B[49m\n",
      "File \u001B[0;32m~/Dropbox/tolzul/BayesSD/ContinuousCode/3_Data4DM/empirical_dynamics/venv/lib/python3.9/site-packages/pandas/io/parsers/readers.py:1735\u001B[0m, in \u001B[0;36mTextFileReader._make_engine\u001B[0;34m(self, f, engine)\u001B[0m\n\u001B[1;32m   1733\u001B[0m     \u001B[38;5;28;01mif\u001B[39;00m \u001B[38;5;124m\"\u001B[39m\u001B[38;5;124mb\u001B[39m\u001B[38;5;124m\"\u001B[39m \u001B[38;5;129;01mnot\u001B[39;00m \u001B[38;5;129;01min\u001B[39;00m mode:\n\u001B[1;32m   1734\u001B[0m         mode \u001B[38;5;241m+\u001B[39m\u001B[38;5;241m=\u001B[39m \u001B[38;5;124m\"\u001B[39m\u001B[38;5;124mb\u001B[39m\u001B[38;5;124m\"\u001B[39m\n\u001B[0;32m-> 1735\u001B[0m \u001B[38;5;28mself\u001B[39m\u001B[38;5;241m.\u001B[39mhandles \u001B[38;5;241m=\u001B[39m \u001B[43mget_handle\u001B[49m\u001B[43m(\u001B[49m\n\u001B[1;32m   1736\u001B[0m \u001B[43m    \u001B[49m\u001B[43mf\u001B[49m\u001B[43m,\u001B[49m\n\u001B[1;32m   1737\u001B[0m \u001B[43m    \u001B[49m\u001B[43mmode\u001B[49m\u001B[43m,\u001B[49m\n\u001B[1;32m   1738\u001B[0m \u001B[43m    \u001B[49m\u001B[43mencoding\u001B[49m\u001B[38;5;241;43m=\u001B[39;49m\u001B[38;5;28;43mself\u001B[39;49m\u001B[38;5;241;43m.\u001B[39;49m\u001B[43moptions\u001B[49m\u001B[38;5;241;43m.\u001B[39;49m\u001B[43mget\u001B[49m\u001B[43m(\u001B[49m\u001B[38;5;124;43m\"\u001B[39;49m\u001B[38;5;124;43mencoding\u001B[39;49m\u001B[38;5;124;43m\"\u001B[39;49m\u001B[43m,\u001B[49m\u001B[43m \u001B[49m\u001B[38;5;28;43;01mNone\u001B[39;49;00m\u001B[43m)\u001B[49m\u001B[43m,\u001B[49m\n\u001B[1;32m   1739\u001B[0m \u001B[43m    \u001B[49m\u001B[43mcompression\u001B[49m\u001B[38;5;241;43m=\u001B[39;49m\u001B[38;5;28;43mself\u001B[39;49m\u001B[38;5;241;43m.\u001B[39;49m\u001B[43moptions\u001B[49m\u001B[38;5;241;43m.\u001B[39;49m\u001B[43mget\u001B[49m\u001B[43m(\u001B[49m\u001B[38;5;124;43m\"\u001B[39;49m\u001B[38;5;124;43mcompression\u001B[39;49m\u001B[38;5;124;43m\"\u001B[39;49m\u001B[43m,\u001B[49m\u001B[43m \u001B[49m\u001B[38;5;28;43;01mNone\u001B[39;49;00m\u001B[43m)\u001B[49m\u001B[43m,\u001B[49m\n\u001B[1;32m   1740\u001B[0m \u001B[43m    \u001B[49m\u001B[43mmemory_map\u001B[49m\u001B[38;5;241;43m=\u001B[39;49m\u001B[38;5;28;43mself\u001B[39;49m\u001B[38;5;241;43m.\u001B[39;49m\u001B[43moptions\u001B[49m\u001B[38;5;241;43m.\u001B[39;49m\u001B[43mget\u001B[49m\u001B[43m(\u001B[49m\u001B[38;5;124;43m\"\u001B[39;49m\u001B[38;5;124;43mmemory_map\u001B[39;49m\u001B[38;5;124;43m\"\u001B[39;49m\u001B[43m,\u001B[49m\u001B[43m \u001B[49m\u001B[38;5;28;43;01mFalse\u001B[39;49;00m\u001B[43m)\u001B[49m\u001B[43m,\u001B[49m\n\u001B[1;32m   1741\u001B[0m \u001B[43m    \u001B[49m\u001B[43mis_text\u001B[49m\u001B[38;5;241;43m=\u001B[39;49m\u001B[43mis_text\u001B[49m\u001B[43m,\u001B[49m\n\u001B[1;32m   1742\u001B[0m \u001B[43m    \u001B[49m\u001B[43merrors\u001B[49m\u001B[38;5;241;43m=\u001B[39;49m\u001B[38;5;28;43mself\u001B[39;49m\u001B[38;5;241;43m.\u001B[39;49m\u001B[43moptions\u001B[49m\u001B[38;5;241;43m.\u001B[39;49m\u001B[43mget\u001B[49m\u001B[43m(\u001B[49m\u001B[38;5;124;43m\"\u001B[39;49m\u001B[38;5;124;43mencoding_errors\u001B[39;49m\u001B[38;5;124;43m\"\u001B[39;49m\u001B[43m,\u001B[49m\u001B[43m \u001B[49m\u001B[38;5;124;43m\"\u001B[39;49m\u001B[38;5;124;43mstrict\u001B[39;49m\u001B[38;5;124;43m\"\u001B[39;49m\u001B[43m)\u001B[49m\u001B[43m,\u001B[49m\n\u001B[1;32m   1743\u001B[0m \u001B[43m    \u001B[49m\u001B[43mstorage_options\u001B[49m\u001B[38;5;241;43m=\u001B[39;49m\u001B[38;5;28;43mself\u001B[39;49m\u001B[38;5;241;43m.\u001B[39;49m\u001B[43moptions\u001B[49m\u001B[38;5;241;43m.\u001B[39;49m\u001B[43mget\u001B[49m\u001B[43m(\u001B[49m\u001B[38;5;124;43m\"\u001B[39;49m\u001B[38;5;124;43mstorage_options\u001B[39;49m\u001B[38;5;124;43m\"\u001B[39;49m\u001B[43m,\u001B[49m\u001B[43m \u001B[49m\u001B[38;5;28;43;01mNone\u001B[39;49;00m\u001B[43m)\u001B[49m\u001B[43m,\u001B[49m\n\u001B[1;32m   1744\u001B[0m \u001B[43m\u001B[49m\u001B[43m)\u001B[49m\n\u001B[1;32m   1745\u001B[0m \u001B[38;5;28;01massert\u001B[39;00m \u001B[38;5;28mself\u001B[39m\u001B[38;5;241m.\u001B[39mhandles \u001B[38;5;129;01mis\u001B[39;00m \u001B[38;5;129;01mnot\u001B[39;00m \u001B[38;5;28;01mNone\u001B[39;00m\n\u001B[1;32m   1746\u001B[0m f \u001B[38;5;241m=\u001B[39m \u001B[38;5;28mself\u001B[39m\u001B[38;5;241m.\u001B[39mhandles\u001B[38;5;241m.\u001B[39mhandle\n",
      "File \u001B[0;32m~/Dropbox/tolzul/BayesSD/ContinuousCode/3_Data4DM/empirical_dynamics/venv/lib/python3.9/site-packages/pandas/io/common.py:856\u001B[0m, in \u001B[0;36mget_handle\u001B[0;34m(path_or_buf, mode, encoding, compression, memory_map, is_text, errors, storage_options)\u001B[0m\n\u001B[1;32m    851\u001B[0m \u001B[38;5;28;01melif\u001B[39;00m \u001B[38;5;28misinstance\u001B[39m(handle, \u001B[38;5;28mstr\u001B[39m):\n\u001B[1;32m    852\u001B[0m     \u001B[38;5;66;03m# Check whether the filename is to be opened in binary mode.\u001B[39;00m\n\u001B[1;32m    853\u001B[0m     \u001B[38;5;66;03m# Binary mode does not support 'encoding' and 'newline'.\u001B[39;00m\n\u001B[1;32m    854\u001B[0m     \u001B[38;5;28;01mif\u001B[39;00m ioargs\u001B[38;5;241m.\u001B[39mencoding \u001B[38;5;129;01mand\u001B[39;00m \u001B[38;5;124m\"\u001B[39m\u001B[38;5;124mb\u001B[39m\u001B[38;5;124m\"\u001B[39m \u001B[38;5;129;01mnot\u001B[39;00m \u001B[38;5;129;01min\u001B[39;00m ioargs\u001B[38;5;241m.\u001B[39mmode:\n\u001B[1;32m    855\u001B[0m         \u001B[38;5;66;03m# Encoding\u001B[39;00m\n\u001B[0;32m--> 856\u001B[0m         handle \u001B[38;5;241m=\u001B[39m \u001B[38;5;28;43mopen\u001B[39;49m\u001B[43m(\u001B[49m\n\u001B[1;32m    857\u001B[0m \u001B[43m            \u001B[49m\u001B[43mhandle\u001B[49m\u001B[43m,\u001B[49m\n\u001B[1;32m    858\u001B[0m \u001B[43m            \u001B[49m\u001B[43mioargs\u001B[49m\u001B[38;5;241;43m.\u001B[39;49m\u001B[43mmode\u001B[49m\u001B[43m,\u001B[49m\n\u001B[1;32m    859\u001B[0m \u001B[43m            \u001B[49m\u001B[43mencoding\u001B[49m\u001B[38;5;241;43m=\u001B[39;49m\u001B[43mioargs\u001B[49m\u001B[38;5;241;43m.\u001B[39;49m\u001B[43mencoding\u001B[49m\u001B[43m,\u001B[49m\n\u001B[1;32m    860\u001B[0m \u001B[43m            \u001B[49m\u001B[43merrors\u001B[49m\u001B[38;5;241;43m=\u001B[39;49m\u001B[43merrors\u001B[49m\u001B[43m,\u001B[49m\n\u001B[1;32m    861\u001B[0m \u001B[43m            \u001B[49m\u001B[43mnewline\u001B[49m\u001B[38;5;241;43m=\u001B[39;49m\u001B[38;5;124;43m\"\u001B[39;49m\u001B[38;5;124;43m\"\u001B[39;49m\u001B[43m,\u001B[49m\n\u001B[1;32m    862\u001B[0m \u001B[43m        \u001B[49m\u001B[43m)\u001B[49m\n\u001B[1;32m    863\u001B[0m     \u001B[38;5;28;01melse\u001B[39;00m:\n\u001B[1;32m    864\u001B[0m         \u001B[38;5;66;03m# Binary mode\u001B[39;00m\n\u001B[1;32m    865\u001B[0m         handle \u001B[38;5;241m=\u001B[39m \u001B[38;5;28mopen\u001B[39m(handle, ioargs\u001B[38;5;241m.\u001B[39mmode)\n",
      "\u001B[0;31mFileNotFoundError\u001B[0m: [Errno 2] No such file or directory: 'cast_info.csv'"
     ]
    }
   ],
   "source": [
    "pd.read_csv(\"cast_info.csv\").to_pickle(\"old_cast_info.pkl\")"
   ],
   "metadata": {
    "collapsed": false,
    "pycharm": {
     "name": "#%%\n"
    }
   }
  },
  {
   "cell_type": "code",
   "execution_count": 1,
   "outputs": [
    {
     "ename": "NameError",
     "evalue": "name 'pd' is not defined",
     "output_type": "error",
     "traceback": [
      "\u001B[0;31m---------------------------------------------------------------------------\u001B[0m",
      "\u001B[0;31mNameError\u001B[0m                                 Traceback (most recent call last)",
      "Cell \u001B[0;32mIn [1], line 1\u001B[0m\n\u001B[0;32m----> 1\u001B[0m \u001B[43mpd\u001B[49m\u001B[38;5;241m.\u001B[39mread_csv(\u001B[38;5;124m\"\u001B[39m\u001B[38;5;124mdata/movie/new_movie_princ.pkl\u001B[39m\u001B[38;5;124m\"\u001B[39m)\n",
      "\u001B[0;31mNameError\u001B[0m: name 'pd' is not defined"
     ]
    }
   ],
   "source": [
    "pd.read_csv(\"data/movie/new_movie_princ.pkl\")"
   ],
   "metadata": {
    "collapsed": false,
    "pycharm": {
     "name": "#%%\n"
    }
   }
  },
  {
   "cell_type": "code",
   "execution_count": 19,
   "outputs": [],
   "source": [
    "new_person.rename(columns = {'primaryName': 'name', 'birthYear': 'year'}, inplace=True)"
   ],
   "metadata": {
    "collapsed": false,
    "pycharm": {
     "name": "#%%\n"
    }
   }
  },
  {
   "cell_type": "code",
   "execution_count": 20,
   "outputs": [
    {
     "data": {
      "text/plain": "             nconst                name  year deathYear  \\\n0         nm0000001        Fred Astaire  1899      1987   \n1         nm0000002       Lauren Bacall  1924      2014   \n2         nm0000003     Brigitte Bardot  1934        \\N   \n3         nm0000004        John Belushi  1949      1982   \n4         nm0000005      Ingmar Bergman  1918      2007   \n...             ...                 ...   ...       ...   \n11988018  nm9993714   Romeo del Rosario    \\N        \\N   \n11988019  nm9993716       Essias Loberg    \\N        \\N   \n11988020  nm9993717  Harikrishnan Rajan    \\N        \\N   \n11988021  nm9993718         Aayush Nair    \\N        \\N   \n11988022  nm9993719          Andre Hill    \\N        \\N   \n\n                            primaryProfession  \\\n0              soundtrack,actor,miscellaneous   \n1                          actress,soundtrack   \n2         actress,soundtrack,music_department   \n3                     actor,soundtrack,writer   \n4                       writer,director,actor   \n...                                       ...   \n11988018  animation_department,art_department   \n11988019                                  NaN   \n11988020                      cinematographer   \n11988021                      cinematographer   \n11988022                                  NaN   \n\n                                   knownForTitles  \n0         tt0072308,tt0053137,tt0050419,tt0031983  \n1         tt0038355,tt0037382,tt0117057,tt0071877  \n2         tt0054452,tt0057345,tt0056404,tt0049189  \n3         tt0078723,tt0072562,tt0080455,tt0077975  \n4         tt0083922,tt0050986,tt0069467,tt0060827  \n...                                           ...  \n11988018          tt2455546,tt11657662,tt14069590  \n11988019                                       \\N  \n11988020                                tt8736744  \n11988021                                       \\N  \n11988022                                       \\N  \n\n[11988023 rows x 6 columns]",
      "text/html": "<div>\n<style scoped>\n    .dataframe tbody tr th:only-of-type {\n        vertical-align: middle;\n    }\n\n    .dataframe tbody tr th {\n        vertical-align: top;\n    }\n\n    .dataframe thead th {\n        text-align: right;\n    }\n</style>\n<table border=\"1\" class=\"dataframe\">\n  <thead>\n    <tr style=\"text-align: right;\">\n      <th></th>\n      <th>nconst</th>\n      <th>name</th>\n      <th>year</th>\n      <th>deathYear</th>\n      <th>primaryProfession</th>\n      <th>knownForTitles</th>\n    </tr>\n  </thead>\n  <tbody>\n    <tr>\n      <th>0</th>\n      <td>nm0000001</td>\n      <td>Fred Astaire</td>\n      <td>1899</td>\n      <td>1987</td>\n      <td>soundtrack,actor,miscellaneous</td>\n      <td>tt0072308,tt0053137,tt0050419,tt0031983</td>\n    </tr>\n    <tr>\n      <th>1</th>\n      <td>nm0000002</td>\n      <td>Lauren Bacall</td>\n      <td>1924</td>\n      <td>2014</td>\n      <td>actress,soundtrack</td>\n      <td>tt0038355,tt0037382,tt0117057,tt0071877</td>\n    </tr>\n    <tr>\n      <th>2</th>\n      <td>nm0000003</td>\n      <td>Brigitte Bardot</td>\n      <td>1934</td>\n      <td>\\N</td>\n      <td>actress,soundtrack,music_department</td>\n      <td>tt0054452,tt0057345,tt0056404,tt0049189</td>\n    </tr>\n    <tr>\n      <th>3</th>\n      <td>nm0000004</td>\n      <td>John Belushi</td>\n      <td>1949</td>\n      <td>1982</td>\n      <td>actor,soundtrack,writer</td>\n      <td>tt0078723,tt0072562,tt0080455,tt0077975</td>\n    </tr>\n    <tr>\n      <th>4</th>\n      <td>nm0000005</td>\n      <td>Ingmar Bergman</td>\n      <td>1918</td>\n      <td>2007</td>\n      <td>writer,director,actor</td>\n      <td>tt0083922,tt0050986,tt0069467,tt0060827</td>\n    </tr>\n    <tr>\n      <th>...</th>\n      <td>...</td>\n      <td>...</td>\n      <td>...</td>\n      <td>...</td>\n      <td>...</td>\n      <td>...</td>\n    </tr>\n    <tr>\n      <th>11988018</th>\n      <td>nm9993714</td>\n      <td>Romeo del Rosario</td>\n      <td>\\N</td>\n      <td>\\N</td>\n      <td>animation_department,art_department</td>\n      <td>tt2455546,tt11657662,tt14069590</td>\n    </tr>\n    <tr>\n      <th>11988019</th>\n      <td>nm9993716</td>\n      <td>Essias Loberg</td>\n      <td>\\N</td>\n      <td>\\N</td>\n      <td>NaN</td>\n      <td>\\N</td>\n    </tr>\n    <tr>\n      <th>11988020</th>\n      <td>nm9993717</td>\n      <td>Harikrishnan Rajan</td>\n      <td>\\N</td>\n      <td>\\N</td>\n      <td>cinematographer</td>\n      <td>tt8736744</td>\n    </tr>\n    <tr>\n      <th>11988021</th>\n      <td>nm9993718</td>\n      <td>Aayush Nair</td>\n      <td>\\N</td>\n      <td>\\N</td>\n      <td>cinematographer</td>\n      <td>\\N</td>\n    </tr>\n    <tr>\n      <th>11988022</th>\n      <td>nm9993719</td>\n      <td>Andre Hill</td>\n      <td>\\N</td>\n      <td>\\N</td>\n      <td>NaN</td>\n      <td>\\N</td>\n    </tr>\n  </tbody>\n</table>\n<p>11988023 rows × 6 columns</p>\n</div>"
     },
     "execution_count": 20,
     "metadata": {},
     "output_type": "execute_result"
    }
   ],
   "source": [
    "new_person"
   ],
   "metadata": {
    "collapsed": false,
    "pycharm": {
     "name": "#%%\n"
    }
   }
  },
  {
   "cell_type": "markdown",
   "source": [
    "## Cinemagoer"
   ],
   "metadata": {
    "collapsed": false,
    "pycharm": {
     "name": "#%% md\n"
    }
   }
  },
  {
   "cell_type": "code",
   "execution_count": 383,
   "metadata": {
    "pycharm": {
     "name": "#%%\n"
    }
   },
   "outputs": [
    {
     "name": "stdout",
     "output_type": "stream",
     "text": [
      "0000154 Mel Gibson\n",
      "12550288 Mel Gibson\n",
      "2153167 Mel Gibson\n",
      "0317112 Mel Gibson\n",
      "3323885 Adam Taylor\n",
      "2800055 Mel Gibson\n",
      "3742421 Melina Mari Bryant   nickname\n",
      "0317195 Terel Gibson\n",
      "0316945 Donal Gibson\n",
      "4047961 Noel Gibson\n",
      "0316878 Cal Gibson\n",
      "13996602 Joel Gibson\n",
      "3912400 Jamel Gibson\n",
      "2106809 Raquel Gibson\n",
      "0316950 E.L. Gibson\n",
      "12479102 Gel Gibson\n",
      "2798174 Daniel Gibson\n",
      "6928816 Christel Gibson\n",
      "0316915 Daniel Gibson\n",
      "1863978 Ethel Gibson\n"
     ]
    }
   ],
   "source": [
    "people = ia.search_person('Mel Gibson')\n",
    "for person in people:\n",
    "   print(person.personID, person['name'])\n",
    "person = ia.get_person('0000206')\n",
    "print(person)"
   ]
  }
 ],
 "metadata": {
  "kernelspec": {
   "display_name": "Python 3 (ipykernel)",
   "language": "python",
   "name": "python3"
  },
  "language_info": {
   "codemirror_mode": {
    "name": "ipython",
    "version": 2
   },
   "file_extension": ".py",
   "mimetype": "text/x-python",
   "name": "python",
   "nbconvert_exporter": "python",
   "pygments_lexer": "ipython2",
   "version": "2.7.6"
  }
 },
 "nbformat": 4,
 "nbformat_minor": 1
}