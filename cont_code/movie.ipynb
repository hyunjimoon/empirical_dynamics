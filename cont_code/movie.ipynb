{
 "cells": [
  {
   "cell_type": "markdown",
   "metadata": {
    "pycharm": {
     "name": "#%% md\n"
    }
   },
   "source": [
    "## functions in util module"
   ]
  },
  {
   "cell_type": "code",
   "execution_count": 1,
   "outputs": [],
   "source": [
    "# merging new's (movieID, title) with old's title so that detailed roles (crew information which old data seem to have??) can be added.\n",
    "# cinemagoer can be used for teh new's template ia.getmovieID()?"
   ],
   "metadata": {
    "collapsed": false,
    "pycharm": {
     "name": "#%%\n"
    }
   }
  },
  {
   "cell_type": "code",
   "execution_count": 1,
   "outputs": [],
   "source": [
    "import os\n",
    "import string\n",
    "import pandas as pd\n",
    "from src.match_format import set_dir_moviedata\n",
    "from src.join_filter import movie, person, movie_person, join_movie\n",
    "from src.check_consistent import print_shape, multi_col_unique, movie_compare\n",
    "import numpy as np\n",
    "from imdb import Cinemagoer\n",
    "# import os\n",
    "# os.chdir(os.getcwd() + \"/data/movie\")\n",
    "# test data: old_movie = pd.read_pickle('data/movie/old_movie.pkl')\n",
    "set_dir_moviedata()"
   ],
   "metadata": {
    "collapsed": false,
    "pycharm": {
     "name": "#%%\n"
    }
   }
  },
  {
   "cell_type": "markdown",
   "source": [
    "## Movie titles\n",
    "- what is in old but not in new\n",
    "- what is in new but not in old\n",
    "how to compare strings with string?"
   ],
   "metadata": {
    "collapsed": false,
    "pycharm": {
     "name": "#%% md\n"
    }
   }
  },
  {
   "cell_type": "code",
   "execution_count": 4,
   "outputs": [
    {
     "name": "stderr",
     "output_type": "stream",
     "text": [
      "/Users/hyunjimoon/Dropbox/tolzul/BayesSD/ContinuousCode/3_Data4DM/durable_dominance/cont_code/src/join_filter.py:82: FutureWarning: In a future version, `df.iloc[:, i] = newvals` will attempt to set the values inplace instead of always setting a new array. To retain the old behavior, use either `df[df.columns[i]] = newvals` or, if columns are non-unique, `df.isetitem(i, newvals)`\n",
      "  df.loc[:, 'year'] = df.year.apply(lambda x: int(x) if str(x).isnumeric() else -1)\n"
     ]
    }
   ],
   "source": [
    "# filter out pilot, finale titles, filter in region == us, type == movie\n",
    "#movie()"
   ],
   "metadata": {
    "collapsed": false,
    "pycharm": {
     "name": "#%%\n"
    }
   }
  },
  {
   "cell_type": "code",
   "execution_count": 3,
   "outputs": [],
   "source": [
    "old_movie = pd.read_pickle('old_movie_year_title.pkl')\n",
    "new_movie = pd.read_pickle('new_movie_year_title_typemovie.pkl').drop(['region'], axis = 1)"
   ],
   "metadata": {
    "collapsed": false,
    "pycharm": {
     "name": "#%%\n"
    }
   }
  },
  {
   "cell_type": "code",
   "execution_count": 16,
   "outputs": [
    {
     "data": {
      "text/plain": "            titleId                           title  year titleType\n20        tt0000009                      Miss Jerry  1894     movie\n1165      tt0000574     The Story of the Kelly Gang  1906     movie\n1372      tt0000679  The Fairylogue and Radio-Plays  1908     movie\n2104      tt0001038              Sherlock Holmes VI  1910     movie\n2231      tt0001101      Abraham Lincoln's Clemency  1910     movie\n...             ...                             ...   ...       ...\n11577017  tt9914642                       Albatross  2017     movie\n11577021  tt9914644    9/11: Escape from the Towers  2018     movie\n11577123  tt9914828             The War of Godzilla  2015     movie\n11577207  tt9914972                  Blind Ambition  2021     movie\n11577830  tt9916190                       Safeguard  2020     movie\n\n[168973 rows x 4 columns]",
      "text/html": "<div>\n<style scoped>\n    .dataframe tbody tr th:only-of-type {\n        vertical-align: middle;\n    }\n\n    .dataframe tbody tr th {\n        vertical-align: top;\n    }\n\n    .dataframe thead th {\n        text-align: right;\n    }\n</style>\n<table border=\"1\" class=\"dataframe\">\n  <thead>\n    <tr style=\"text-align: right;\">\n      <th></th>\n      <th>titleId</th>\n      <th>title</th>\n      <th>year</th>\n      <th>titleType</th>\n    </tr>\n  </thead>\n  <tbody>\n    <tr>\n      <th>20</th>\n      <td>tt0000009</td>\n      <td>Miss Jerry</td>\n      <td>1894</td>\n      <td>movie</td>\n    </tr>\n    <tr>\n      <th>1165</th>\n      <td>tt0000574</td>\n      <td>The Story of the Kelly Gang</td>\n      <td>1906</td>\n      <td>movie</td>\n    </tr>\n    <tr>\n      <th>1372</th>\n      <td>tt0000679</td>\n      <td>The Fairylogue and Radio-Plays</td>\n      <td>1908</td>\n      <td>movie</td>\n    </tr>\n    <tr>\n      <th>2104</th>\n      <td>tt0001038</td>\n      <td>Sherlock Holmes VI</td>\n      <td>1910</td>\n      <td>movie</td>\n    </tr>\n    <tr>\n      <th>2231</th>\n      <td>tt0001101</td>\n      <td>Abraham Lincoln's Clemency</td>\n      <td>1910</td>\n      <td>movie</td>\n    </tr>\n    <tr>\n      <th>...</th>\n      <td>...</td>\n      <td>...</td>\n      <td>...</td>\n      <td>...</td>\n    </tr>\n    <tr>\n      <th>11577017</th>\n      <td>tt9914642</td>\n      <td>Albatross</td>\n      <td>2017</td>\n      <td>movie</td>\n    </tr>\n    <tr>\n      <th>11577021</th>\n      <td>tt9914644</td>\n      <td>9/11: Escape from the Towers</td>\n      <td>2018</td>\n      <td>movie</td>\n    </tr>\n    <tr>\n      <th>11577123</th>\n      <td>tt9914828</td>\n      <td>The War of Godzilla</td>\n      <td>2015</td>\n      <td>movie</td>\n    </tr>\n    <tr>\n      <th>11577207</th>\n      <td>tt9914972</td>\n      <td>Blind Ambition</td>\n      <td>2021</td>\n      <td>movie</td>\n    </tr>\n    <tr>\n      <th>11577830</th>\n      <td>tt9916190</td>\n      <td>Safeguard</td>\n      <td>2020</td>\n      <td>movie</td>\n    </tr>\n  </tbody>\n</table>\n<p>168973 rows × 4 columns</p>\n</div>"
     },
     "execution_count": 16,
     "metadata": {},
     "output_type": "execute_result"
    }
   ],
   "source": [
    "print_shape(old_movie, new_movie)\n",
    "new_movie"
   ],
   "metadata": {
    "collapsed": false,
    "pycharm": {
     "name": "#%%\n"
    }
   }
  },
  {
   "cell_type": "code",
   "execution_count": 5,
   "outputs": [],
   "source": [
    "# make movie title and year as old_id\n",
    "old_movie = multi_col_unique(old_movie)\n",
    "\n",
    "# join and save result in mo, mi tsv\n",
    "join_movie(old_movie, new_movie)"
   ],
   "metadata": {
    "collapsed": false,
    "pycharm": {
     "name": "#%%\n"
    }
   }
  },
  {
   "cell_type": "code",
   "execution_count": 6,
   "outputs": [
    {
     "data": {
      "text/plain": "             old_id                               title  year\n0              OLD0                     Cristián Campos  2010\n1              OLD1                        Life & Death  2013\n2              OLD2                 Disguise for Murder  2001\n3              OLD3                         Anniversary  1971\n4              OLD4  Angus Black/Lester Barrie/DC Curry  2009\n...             ...                                 ...   ...\n2545514  OLD2417448                      The Vanquished  1953\n2545518  OLD2545518          V poiskakh kapitana Granta  1985\n2545524  OLD1549795                         Winterwatch  2012\n2545525  OLD2545525                          The Payoff  1942\n2545530  OLD2545530                    Tomorrow's Youth  1935\n\n[1776654 rows x 3 columns]",
      "text/html": "<div>\n<style scoped>\n    .dataframe tbody tr th:only-of-type {\n        vertical-align: middle;\n    }\n\n    .dataframe tbody tr th {\n        vertical-align: top;\n    }\n\n    .dataframe thead th {\n        text-align: right;\n    }\n</style>\n<table border=\"1\" class=\"dataframe\">\n  <thead>\n    <tr style=\"text-align: right;\">\n      <th></th>\n      <th>old_id</th>\n      <th>title</th>\n      <th>year</th>\n    </tr>\n  </thead>\n  <tbody>\n    <tr>\n      <th>0</th>\n      <td>OLD0</td>\n      <td>Cristián Campos</td>\n      <td>2010</td>\n    </tr>\n    <tr>\n      <th>1</th>\n      <td>OLD1</td>\n      <td>Life &amp; Death</td>\n      <td>2013</td>\n    </tr>\n    <tr>\n      <th>2</th>\n      <td>OLD2</td>\n      <td>Disguise for Murder</td>\n      <td>2001</td>\n    </tr>\n    <tr>\n      <th>3</th>\n      <td>OLD3</td>\n      <td>Anniversary</td>\n      <td>1971</td>\n    </tr>\n    <tr>\n      <th>4</th>\n      <td>OLD4</td>\n      <td>Angus Black/Lester Barrie/DC Curry</td>\n      <td>2009</td>\n    </tr>\n    <tr>\n      <th>...</th>\n      <td>...</td>\n      <td>...</td>\n      <td>...</td>\n    </tr>\n    <tr>\n      <th>2545514</th>\n      <td>OLD2417448</td>\n      <td>The Vanquished</td>\n      <td>1953</td>\n    </tr>\n    <tr>\n      <th>2545518</th>\n      <td>OLD2545518</td>\n      <td>V poiskakh kapitana Granta</td>\n      <td>1985</td>\n    </tr>\n    <tr>\n      <th>2545524</th>\n      <td>OLD1549795</td>\n      <td>Winterwatch</td>\n      <td>2012</td>\n    </tr>\n    <tr>\n      <th>2545525</th>\n      <td>OLD2545525</td>\n      <td>The Payoff</td>\n      <td>1942</td>\n    </tr>\n    <tr>\n      <th>2545530</th>\n      <td>OLD2545530</td>\n      <td>Tomorrow's Youth</td>\n      <td>1935</td>\n    </tr>\n  </tbody>\n</table>\n<p>1776654 rows × 3 columns</p>\n</div>"
     },
     "execution_count": 6,
     "metadata": {},
     "output_type": "execute_result"
    }
   ],
   "source": [
    "old_movie"
   ],
   "metadata": {
    "collapsed": false,
    "pycharm": {
     "name": "#%%\n"
    }
   }
  },
  {
   "cell_type": "code",
   "execution_count": 100,
   "outputs": [],
   "source": [
    "mo = pd.read_csv(\"mo.tsv\", sep='\\t', low_memory = False, index_col='index') #pd.merge(old_movie, new_movie, on = ('title', 'year'), how = 'inner')\n",
    "mi = pd.read_csv(\"mi.tsv\", sep='\\t', low_memory = False, index_col = 'old_id') #pd.merge(old_movie, new_movie, on = ('title', 'year'), how = 'outer')"
   ],
   "metadata": {
    "collapsed": false,
    "pycharm": {
     "name": "#%%\n"
    }
   }
  },
  {
   "cell_type": "code",
   "execution_count": 101,
   "outputs": [
    {
     "data": {
      "text/plain": "              titleId                                              title  year\nold_id                                                                        \nOLD60       tt0808541                                             Winter  2006\nOLD218      tt0970184  Operation Homecoming: Writing the Wartime Expe...  2007\nOLD2120     tt1819776                                              Virus  2011\nOLD2185     tt1564349                                       Dolphin Tale  2011\nOLD2216     tt2133340                                      The Foreigner  2011\n...               ...                                                ...   ...\nOLD2544715  tt0097994                                   Nobody's Perfect  1990\nOLD2544825  tt0034166                           Secret of the Wastelands  1941\nOLD2544845  tt0021078                                    Little Accident  1930\nOLD2544867  tt0023539                                       Sunset Trail  1932\nOLD2545209  tt0031968                                   The Spy in Black  1939\n\n[93282 rows x 3 columns]",
      "text/html": "<div>\n<style scoped>\n    .dataframe tbody tr th:only-of-type {\n        vertical-align: middle;\n    }\n\n    .dataframe tbody tr th {\n        vertical-align: top;\n    }\n\n    .dataframe thead th {\n        text-align: right;\n    }\n</style>\n<table border=\"1\" class=\"dataframe\">\n  <thead>\n    <tr style=\"text-align: right;\">\n      <th></th>\n      <th>titleId</th>\n      <th>title</th>\n      <th>year</th>\n    </tr>\n    <tr>\n      <th>old_id</th>\n      <th></th>\n      <th></th>\n      <th></th>\n    </tr>\n  </thead>\n  <tbody>\n    <tr>\n      <th>OLD60</th>\n      <td>tt0808541</td>\n      <td>Winter</td>\n      <td>2006</td>\n    </tr>\n    <tr>\n      <th>OLD218</th>\n      <td>tt0970184</td>\n      <td>Operation Homecoming: Writing the Wartime Expe...</td>\n      <td>2007</td>\n    </tr>\n    <tr>\n      <th>OLD2120</th>\n      <td>tt1819776</td>\n      <td>Virus</td>\n      <td>2011</td>\n    </tr>\n    <tr>\n      <th>OLD2185</th>\n      <td>tt1564349</td>\n      <td>Dolphin Tale</td>\n      <td>2011</td>\n    </tr>\n    <tr>\n      <th>OLD2216</th>\n      <td>tt2133340</td>\n      <td>The Foreigner</td>\n      <td>2011</td>\n    </tr>\n    <tr>\n      <th>...</th>\n      <td>...</td>\n      <td>...</td>\n      <td>...</td>\n    </tr>\n    <tr>\n      <th>OLD2544715</th>\n      <td>tt0097994</td>\n      <td>Nobody's Perfect</td>\n      <td>1990</td>\n    </tr>\n    <tr>\n      <th>OLD2544825</th>\n      <td>tt0034166</td>\n      <td>Secret of the Wastelands</td>\n      <td>1941</td>\n    </tr>\n    <tr>\n      <th>OLD2544845</th>\n      <td>tt0021078</td>\n      <td>Little Accident</td>\n      <td>1930</td>\n    </tr>\n    <tr>\n      <th>OLD2544867</th>\n      <td>tt0023539</td>\n      <td>Sunset Trail</td>\n      <td>1932</td>\n    </tr>\n    <tr>\n      <th>OLD2545209</th>\n      <td>tt0031968</td>\n      <td>The Spy in Black</td>\n      <td>1939</td>\n    </tr>\n  </tbody>\n</table>\n<p>93282 rows × 3 columns</p>\n</div>"
     },
     "execution_count": 101,
     "metadata": {},
     "output_type": "execute_result"
    }
   ],
   "source": [
    "mi #90k"
   ],
   "metadata": {
    "collapsed": false,
    "pycharm": {
     "name": "#%%\n"
    }
   }
  },
  {
   "cell_type": "code",
   "execution_count": 102,
   "outputs": [
    {
     "name": "stdout",
     "output_type": "stream",
     "text": [
      "402\n"
     ]
    }
   ],
   "source": [
    "mi_drop = mi.reset_index().drop_duplicates('old_id')\n",
    "print(mi.shape[0] - mi_drop.shape[0])"
   ],
   "metadata": {
    "collapsed": false,
    "pycharm": {
     "name": "#%%\n"
    }
   }
  },
  {
   "cell_type": "code",
   "execution_count": 7,
   "outputs": [
    {
     "data": {
      "text/plain": "array(['short', 'movie', 'tvSeries', 'tvShort', 'tvMovie', 'tvEpisode',\n       'tvMiniSeries', 'tvSpecial', 'video', 'videoGame', 'tvPilot'],\n      dtype=object)"
     },
     "execution_count": 7,
     "metadata": {},
     "output_type": "execute_result"
    }
   ],
   "source": [
    "new_columns = ['titleId', 'title', 'year', 'region', 'titleType']\n",
    "new_movie_raw = pd.read_pickle('new_movie.pkl').loc[:, new_columns]\n",
    "df = new_movie_raw\n",
    "df['titleType'].unique()\n",
    "# 1. gene"
   ],
   "metadata": {
    "collapsed": false,
    "pycharm": {
     "name": "#%%\n"
    }
   }
  },
  {
   "cell_type": "code",
   "execution_count": 14,
   "outputs": [
    {
     "data": {
      "text/plain": "             old_id                               title  year\n0              OLD0                     Cristián Campos  2010\n1              OLD1                        Life & Death  2013\n2              OLD2                 Disguise for Murder  2001\n3              OLD3                         Anniversary  1971\n4              OLD4  Angus Black/Lester Barrie/DC Curry  2009\n...             ...                                 ...   ...\n2545514  OLD2417448                      The Vanquished  1953\n2545518  OLD2545518          V poiskakh kapitana Granta  1985\n2545524  OLD1549795                         Winterwatch  2012\n2545525  OLD2545525                          The Payoff  1942\n2545530  OLD2545530                    Tomorrow's Youth  1935\n\n[1776654 rows x 3 columns]",
      "text/html": "<div>\n<style scoped>\n    .dataframe tbody tr th:only-of-type {\n        vertical-align: middle;\n    }\n\n    .dataframe tbody tr th {\n        vertical-align: top;\n    }\n\n    .dataframe thead th {\n        text-align: right;\n    }\n</style>\n<table border=\"1\" class=\"dataframe\">\n  <thead>\n    <tr style=\"text-align: right;\">\n      <th></th>\n      <th>old_id</th>\n      <th>title</th>\n      <th>year</th>\n    </tr>\n  </thead>\n  <tbody>\n    <tr>\n      <th>0</th>\n      <td>OLD0</td>\n      <td>Cristián Campos</td>\n      <td>2010</td>\n    </tr>\n    <tr>\n      <th>1</th>\n      <td>OLD1</td>\n      <td>Life &amp; Death</td>\n      <td>2013</td>\n    </tr>\n    <tr>\n      <th>2</th>\n      <td>OLD2</td>\n      <td>Disguise for Murder</td>\n      <td>2001</td>\n    </tr>\n    <tr>\n      <th>3</th>\n      <td>OLD3</td>\n      <td>Anniversary</td>\n      <td>1971</td>\n    </tr>\n    <tr>\n      <th>4</th>\n      <td>OLD4</td>\n      <td>Angus Black/Lester Barrie/DC Curry</td>\n      <td>2009</td>\n    </tr>\n    <tr>\n      <th>...</th>\n      <td>...</td>\n      <td>...</td>\n      <td>...</td>\n    </tr>\n    <tr>\n      <th>2545514</th>\n      <td>OLD2417448</td>\n      <td>The Vanquished</td>\n      <td>1953</td>\n    </tr>\n    <tr>\n      <th>2545518</th>\n      <td>OLD2545518</td>\n      <td>V poiskakh kapitana Granta</td>\n      <td>1985</td>\n    </tr>\n    <tr>\n      <th>2545524</th>\n      <td>OLD1549795</td>\n      <td>Winterwatch</td>\n      <td>2012</td>\n    </tr>\n    <tr>\n      <th>2545525</th>\n      <td>OLD2545525</td>\n      <td>The Payoff</td>\n      <td>1942</td>\n    </tr>\n    <tr>\n      <th>2545530</th>\n      <td>OLD2545530</td>\n      <td>Tomorrow's Youth</td>\n      <td>1935</td>\n    </tr>\n  </tbody>\n</table>\n<p>1776654 rows × 3 columns</p>\n</div>"
     },
     "execution_count": 14,
     "metadata": {},
     "output_type": "execute_result"
    }
   ],
   "source": [
    "old_movie"
   ],
   "metadata": {
    "collapsed": false,
    "pycharm": {
     "name": "#%%\n"
    }
   }
  },
  {
   "cell_type": "code",
   "execution_count": null,
   "outputs": [],
   "source": [
    "join_movie"
   ],
   "metadata": {
    "collapsed": false,
    "pycharm": {
     "name": "#%%\n"
    }
   }
  },
  {
   "cell_type": "code",
   "execution_count": 15,
   "outputs": [
    {
     "data": {
      "text/plain": "            titleId                      title  year region  titleType\n0         tt0000001                 Carmencita  1894     DE      short\n1         tt0000001                 Carmencita  1894     US      short\n2         tt0000001                 Carmencita  1894     \\N      short\n3         tt0000002     Le clown et ses chiens  1892     \\N      short\n4         tt0000002     Le clown et ses chiens  1892     FR      short\n...             ...                        ...   ...    ...        ...\n11578178  tt9916850              Episode #3.19  2010    NaN  tvEpisode\n11578179  tt9916852              Episode #3.20  2010    NaN  tvEpisode\n11578180  tt9916856                   The Wind  2015     DE      short\n11578181  tt9916856                   The Wind  2015     \\N      short\n11578182  tt9916880  Horrid Henry Knows It All  2014    NaN  tvEpisode\n\n[11578183 rows x 5 columns]",
      "text/html": "<div>\n<style scoped>\n    .dataframe tbody tr th:only-of-type {\n        vertical-align: middle;\n    }\n\n    .dataframe tbody tr th {\n        vertical-align: top;\n    }\n\n    .dataframe thead th {\n        text-align: right;\n    }\n</style>\n<table border=\"1\" class=\"dataframe\">\n  <thead>\n    <tr style=\"text-align: right;\">\n      <th></th>\n      <th>titleId</th>\n      <th>title</th>\n      <th>year</th>\n      <th>region</th>\n      <th>titleType</th>\n    </tr>\n  </thead>\n  <tbody>\n    <tr>\n      <th>0</th>\n      <td>tt0000001</td>\n      <td>Carmencita</td>\n      <td>1894</td>\n      <td>DE</td>\n      <td>short</td>\n    </tr>\n    <tr>\n      <th>1</th>\n      <td>tt0000001</td>\n      <td>Carmencita</td>\n      <td>1894</td>\n      <td>US</td>\n      <td>short</td>\n    </tr>\n    <tr>\n      <th>2</th>\n      <td>tt0000001</td>\n      <td>Carmencita</td>\n      <td>1894</td>\n      <td>\\N</td>\n      <td>short</td>\n    </tr>\n    <tr>\n      <th>3</th>\n      <td>tt0000002</td>\n      <td>Le clown et ses chiens</td>\n      <td>1892</td>\n      <td>\\N</td>\n      <td>short</td>\n    </tr>\n    <tr>\n      <th>4</th>\n      <td>tt0000002</td>\n      <td>Le clown et ses chiens</td>\n      <td>1892</td>\n      <td>FR</td>\n      <td>short</td>\n    </tr>\n    <tr>\n      <th>...</th>\n      <td>...</td>\n      <td>...</td>\n      <td>...</td>\n      <td>...</td>\n      <td>...</td>\n    </tr>\n    <tr>\n      <th>11578178</th>\n      <td>tt9916850</td>\n      <td>Episode #3.19</td>\n      <td>2010</td>\n      <td>NaN</td>\n      <td>tvEpisode</td>\n    </tr>\n    <tr>\n      <th>11578179</th>\n      <td>tt9916852</td>\n      <td>Episode #3.20</td>\n      <td>2010</td>\n      <td>NaN</td>\n      <td>tvEpisode</td>\n    </tr>\n    <tr>\n      <th>11578180</th>\n      <td>tt9916856</td>\n      <td>The Wind</td>\n      <td>2015</td>\n      <td>DE</td>\n      <td>short</td>\n    </tr>\n    <tr>\n      <th>11578181</th>\n      <td>tt9916856</td>\n      <td>The Wind</td>\n      <td>2015</td>\n      <td>\\N</td>\n      <td>short</td>\n    </tr>\n    <tr>\n      <th>11578182</th>\n      <td>tt9916880</td>\n      <td>Horrid Henry Knows It All</td>\n      <td>2014</td>\n      <td>NaN</td>\n      <td>tvEpisode</td>\n    </tr>\n  </tbody>\n</table>\n<p>11578183 rows × 5 columns</p>\n</div>"
     },
     "execution_count": 15,
     "metadata": {},
     "output_type": "execute_result"
    }
   ],
   "source": [
    "new_movie_raw"
   ],
   "metadata": {
    "collapsed": false,
    "pycharm": {
     "name": "#%%\n"
    }
   }
  },
  {
   "cell_type": "code",
   "execution_count": 12,
   "outputs": [
    {
     "data": {
      "text/plain": "array(['movie'], dtype=object)"
     },
     "execution_count": 12,
     "metadata": {},
     "output_type": "execute_result"
    }
   ],
   "source": [
    "df_all.titleType.unique()"
   ],
   "metadata": {
    "collapsed": false,
    "pycharm": {
     "name": "#%%\n"
    }
   }
  },
  {
   "cell_type": "code",
   "execution_count": 11,
   "outputs": [],
   "source": [],
   "metadata": {
    "collapsed": false,
    "pycharm": {
     "name": "#%%\n"
    }
   }
  },
  {
   "cell_type": "code",
   "execution_count": null,
   "outputs": [],
   "source": [],
   "metadata": {
    "collapsed": false,
    "pycharm": {
     "name": "#%%\n"
    }
   }
  },
  {
   "cell_type": "code",
   "execution_count": null,
   "outputs": [],
   "source": [],
   "metadata": {
    "collapsed": false,
    "pycharm": {
     "name": "#%%\n"
    }
   }
  },
  {
   "cell_type": "code",
   "execution_count": 39,
   "outputs": [
    {
     "data": {
      "text/plain": "        old_id                               title  year    titleId\nindex                                                              \n0         OLD0                     Cristián Campos  2010        NaN\n1         OLD1                        Life & Death  2013        NaN\n2         OLD2                 Disguise for Murder  2001        NaN\n3         OLD3                         Anniversary  1971        NaN\n4         OLD4  Angus Black/Lester Barrie/DC Curry  2009        NaN\n...        ...                                 ...   ...        ...\n1780098    NaN                           Albatross  2017  tt9914642\n1780099    NaN        9/11: Escape from the Towers  2018  tt9914644\n1780100    NaN                 The War of Godzilla  2015  tt9914828\n1780101    NaN                      Blind Ambition  2021  tt9914972\n1780102    NaN                           Safeguard  2020  tt9916190\n\n[1780103 rows x 4 columns]",
      "text/html": "<div>\n<style scoped>\n    .dataframe tbody tr th:only-of-type {\n        vertical-align: middle;\n    }\n\n    .dataframe tbody tr th {\n        vertical-align: top;\n    }\n\n    .dataframe thead th {\n        text-align: right;\n    }\n</style>\n<table border=\"1\" class=\"dataframe\">\n  <thead>\n    <tr style=\"text-align: right;\">\n      <th></th>\n      <th>old_id</th>\n      <th>title</th>\n      <th>year</th>\n      <th>titleId</th>\n    </tr>\n    <tr>\n      <th>index</th>\n      <th></th>\n      <th></th>\n      <th></th>\n      <th></th>\n    </tr>\n  </thead>\n  <tbody>\n    <tr>\n      <th>0</th>\n      <td>OLD0</td>\n      <td>Cristián Campos</td>\n      <td>2010</td>\n      <td>NaN</td>\n    </tr>\n    <tr>\n      <th>1</th>\n      <td>OLD1</td>\n      <td>Life &amp; Death</td>\n      <td>2013</td>\n      <td>NaN</td>\n    </tr>\n    <tr>\n      <th>2</th>\n      <td>OLD2</td>\n      <td>Disguise for Murder</td>\n      <td>2001</td>\n      <td>NaN</td>\n    </tr>\n    <tr>\n      <th>3</th>\n      <td>OLD3</td>\n      <td>Anniversary</td>\n      <td>1971</td>\n      <td>NaN</td>\n    </tr>\n    <tr>\n      <th>4</th>\n      <td>OLD4</td>\n      <td>Angus Black/Lester Barrie/DC Curry</td>\n      <td>2009</td>\n      <td>NaN</td>\n    </tr>\n    <tr>\n      <th>...</th>\n      <td>...</td>\n      <td>...</td>\n      <td>...</td>\n      <td>...</td>\n    </tr>\n    <tr>\n      <th>1780098</th>\n      <td>NaN</td>\n      <td>Albatross</td>\n      <td>2017</td>\n      <td>tt9914642</td>\n    </tr>\n    <tr>\n      <th>1780099</th>\n      <td>NaN</td>\n      <td>9/11: Escape from the Towers</td>\n      <td>2018</td>\n      <td>tt9914644</td>\n    </tr>\n    <tr>\n      <th>1780100</th>\n      <td>NaN</td>\n      <td>The War of Godzilla</td>\n      <td>2015</td>\n      <td>tt9914828</td>\n    </tr>\n    <tr>\n      <th>1780101</th>\n      <td>NaN</td>\n      <td>Blind Ambition</td>\n      <td>2021</td>\n      <td>tt9914972</td>\n    </tr>\n    <tr>\n      <th>1780102</th>\n      <td>NaN</td>\n      <td>Safeguard</td>\n      <td>2020</td>\n      <td>tt9916190</td>\n    </tr>\n  </tbody>\n</table>\n<p>1780103 rows × 4 columns</p>\n</div>"
     },
     "execution_count": 39,
     "metadata": {},
     "output_type": "execute_result"
    }
   ],
   "source": [
    "mo #1.7m"
   ],
   "metadata": {
    "collapsed": false,
    "pycharm": {
     "name": "#%%\n"
    }
   }
  },
  {
   "cell_type": "code",
   "execution_count": 88,
   "outputs": [
    {
     "data": {
      "text/plain": "          old_id                                              title  year  \\\nindex                                                                       \n44         OLD60                                             Winter  2006   \n127       OLD218  Operation Homecoming: Writing the Wartime Expe...  2007   \n1245     OLD2120                                              Virus  2011   \n1275     OLD2185                                       Dolphin Tale  2011   \n1295     OLD2216                                      The Foreigner  2011   \n...          ...                                                ...   ...   \n1780098      NaN                                          Albatross  2017   \n1780099      NaN                       9/11: Escape from the Towers  2018   \n1780100      NaN                                The War of Godzilla  2015   \n1780101      NaN                                     Blind Ambition  2021   \n1780102      NaN                                          Safeguard  2020   \n\n           titleId  \nindex               \n44       tt0808541  \n127      tt0970184  \n1245     tt1819776  \n1275     tt1564349  \n1295     tt2133340  \n...            ...  \n1780098  tt9914642  \n1780099  tt9914644  \n1780100  tt9914828  \n1780101  tt9914972  \n1780102  tt9916190  \n\n[168565 rows x 4 columns]",
      "text/html": "<div>\n<style scoped>\n    .dataframe tbody tr th:only-of-type {\n        vertical-align: middle;\n    }\n\n    .dataframe tbody tr th {\n        vertical-align: top;\n    }\n\n    .dataframe thead th {\n        text-align: right;\n    }\n</style>\n<table border=\"1\" class=\"dataframe\">\n  <thead>\n    <tr style=\"text-align: right;\">\n      <th></th>\n      <th>old_id</th>\n      <th>title</th>\n      <th>year</th>\n      <th>titleId</th>\n    </tr>\n    <tr>\n      <th>index</th>\n      <th></th>\n      <th></th>\n      <th></th>\n      <th></th>\n    </tr>\n  </thead>\n  <tbody>\n    <tr>\n      <th>44</th>\n      <td>OLD60</td>\n      <td>Winter</td>\n      <td>2006</td>\n      <td>tt0808541</td>\n    </tr>\n    <tr>\n      <th>127</th>\n      <td>OLD218</td>\n      <td>Operation Homecoming: Writing the Wartime Expe...</td>\n      <td>2007</td>\n      <td>tt0970184</td>\n    </tr>\n    <tr>\n      <th>1245</th>\n      <td>OLD2120</td>\n      <td>Virus</td>\n      <td>2011</td>\n      <td>tt1819776</td>\n    </tr>\n    <tr>\n      <th>1275</th>\n      <td>OLD2185</td>\n      <td>Dolphin Tale</td>\n      <td>2011</td>\n      <td>tt1564349</td>\n    </tr>\n    <tr>\n      <th>1295</th>\n      <td>OLD2216</td>\n      <td>The Foreigner</td>\n      <td>2011</td>\n      <td>tt2133340</td>\n    </tr>\n    <tr>\n      <th>...</th>\n      <td>...</td>\n      <td>...</td>\n      <td>...</td>\n      <td>...</td>\n    </tr>\n    <tr>\n      <th>1780098</th>\n      <td>NaN</td>\n      <td>Albatross</td>\n      <td>2017</td>\n      <td>tt9914642</td>\n    </tr>\n    <tr>\n      <th>1780099</th>\n      <td>NaN</td>\n      <td>9/11: Escape from the Towers</td>\n      <td>2018</td>\n      <td>tt9914644</td>\n    </tr>\n    <tr>\n      <th>1780100</th>\n      <td>NaN</td>\n      <td>The War of Godzilla</td>\n      <td>2015</td>\n      <td>tt9914828</td>\n    </tr>\n    <tr>\n      <th>1780101</th>\n      <td>NaN</td>\n      <td>Blind Ambition</td>\n      <td>2021</td>\n      <td>tt9914972</td>\n    </tr>\n    <tr>\n      <th>1780102</th>\n      <td>NaN</td>\n      <td>Safeguard</td>\n      <td>2020</td>\n      <td>tt9916190</td>\n    </tr>\n  </tbody>\n</table>\n<p>168565 rows × 4 columns</p>\n</div>"
     },
     "execution_count": 88,
     "metadata": {},
     "output_type": "execute_result"
    }
   ],
   "source": [
    "except_old_only = mo[~mo.titleId.isnull()] #170k\n",
    "except_old_only"
   ],
   "metadata": {
    "collapsed": false,
    "pycharm": {
     "name": "#%%\n"
    }
   }
  },
  {
   "cell_type": "code",
   "execution_count": 93,
   "outputs": [
    {
     "name": "stdout",
     "output_type": "stream",
     "text": [
      "             old_id                               title  year titleId\n",
      "index                                                                \n",
      "0              OLD0                     Cristián Campos  2010     NaN\n",
      "1              OLD1                        Life & Death  2013     NaN\n",
      "2              OLD2                 Disguise for Murder  2001     NaN\n",
      "3              OLD3                         Anniversary  1971     NaN\n",
      "4              OLD4  Angus Black/Lester Barrie/DC Curry  2009     NaN\n",
      "...             ...                                 ...   ...     ...\n",
      "1704815  OLD2545510   The Second Part of Henry the Sixt  1983     NaN\n",
      "1704816  OLD2545513                   Western Spaghetti  2009     NaN\n",
      "1704817  OLD2545518          V poiskakh kapitana Granta  1985     NaN\n",
      "1704818  OLD2545525                          The Payoff  1942     NaN\n",
      "1704819  OLD2545530                    Tomorrow's Youth  1935     NaN\n",
      "\n",
      "[1611538 rows x 4 columns]\n"
     ]
    },
    {
     "data": {
      "text/plain": "<AxesSubplot: >"
     },
     "execution_count": 93,
     "metadata": {},
     "output_type": "execute_result"
    },
    {
     "data": {
      "text/plain": "<Figure size 640x480 with 1 Axes>",
      "image/png": "[encoded data removed]"
     },
     "metadata": {},
     "output_type": "display_data"
    }
   ],
   "source": [
    "old_only = mo[mo.titleId.isnull()] # 1.6m is old\\new 1673488 - series, short,\n",
    "print(old_only) #Acampamento de Férias 3, many ... (might have to visit a.k.a. but quality is not good)\n",
    "old_only.year.hist()"
   ],
   "metadata": {
    "collapsed": false,
    "pycharm": {
     "name": "#%%\n"
    }
   }
  },
  {
   "cell_type": "code",
   "execution_count": 105,
   "outputs": [],
   "source": [
    "new_only.to_csv(\"new.tsv\", sep = '\\t')\n",
    "old_only.to_csv(\"old.tsv\", sep = '\\t')"
   ],
   "metadata": {
    "collapsed": false,
    "pycharm": {
     "name": "#%%\n"
    }
   }
  },
  {
   "cell_type": "code",
   "execution_count": null,
   "outputs": [],
   "source": [],
   "metadata": {
    "collapsed": false,
    "pycharm": {
     "name": "#%%\n"
    }
   }
  },
  {
   "cell_type": "code",
   "execution_count": 94,
   "outputs": [
    {
     "name": "stdout",
     "output_type": "stream",
     "text": [
      "        old_id                         title  year    titleId\n",
      "index                                                        \n",
      "1704820    NaN  From the Manger to the Cross  1912  tt0002199\n",
      "1704821    NaN    What 80 Million Women Want  1913  tt0002822\n",
      "1704822    NaN             A Boy and the Law  1913  tt0003693\n",
      "1704823    NaN        The Colosseum in Films  1914  tt0003780\n",
      "1704824    NaN          The Man o' War's Man  1914  tt0004299\n",
      "...        ...                           ...   ...        ...\n",
      "1780098    NaN                     Albatross  2017  tt9914642\n",
      "1780099    NaN  9/11: Escape from the Towers  2018  tt9914644\n",
      "1780100    NaN           The War of Godzilla  2015  tt9914828\n",
      "1780101    NaN                Blind Ambition  2021  tt9914972\n",
      "1780102    NaN                     Safeguard  2020  tt9916190\n",
      "\n",
      "[75283 rows x 4 columns]\n"
     ]
    },
    {
     "data": {
      "text/plain": "<AxesSubplot: >"
     },
     "execution_count": 94,
     "metadata": {},
     "output_type": "execute_result"
    },
    {
     "data": {
      "text/plain": "<Figure size 640x480 with 1 Axes>",
      "image/png": "[encoded data removed]"
     },
     "metadata": {},
     "output_type": "display_data"
    }
   ],
   "source": [
    "new_only = mo[mo.old_id.isnull()] # 75k is new\\old 75544 - after 2017\n",
    "print(new_only)\n",
    "new_only.year.hist()"
   ],
   "metadata": {
    "collapsed": false,
    "pycharm": {
     "name": "#%%\n"
    }
   }
  },
  {
   "cell_type": "markdown",
   "source": [],
   "metadata": {
    "collapsed": false,
    "pycharm": {
     "name": "#%% md\n"
    }
   }
  },
  {
   "cell_type": "code",
   "execution_count": 90,
   "outputs": [
    {
     "name": "stdout",
     "output_type": "stream",
     "text": [
      "1611538 168565 1780103\n",
      "1780103\n"
     ]
    }
   ],
   "source": [
    "print(old_only.shape[0], except_old_only.shape[0], old_only.shape[0] + except_old_only.shape[0])\n",
    "print(mo.shape[0])"
   ],
   "metadata": {
    "collapsed": false,
    "pycharm": {
     "name": "#%%\n"
    }
   }
  },
  {
   "cell_type": "code",
   "execution_count": 99,
   "outputs": [
    {
     "data": {
      "text/plain": "array([1880, 2028])"
     },
     "execution_count": 99,
     "metadata": {},
     "output_type": "execute_result"
    }
   ],
   "source": [
    "np.sort(mi.year.unique())[[0, -1]] # # 1894 ~ 2016\n",
    "np.sort(mo.year.unique())[[0, -1]] # 1880 ~ 2028!!"
   ],
   "metadata": {
    "collapsed": false,
    "pycharm": {
     "name": "#%%\n"
    }
   }
  },
  {
   "cell_type": "code",
   "execution_count": 17,
   "outputs": [
    {
     "data": {
      "text/plain": "           index      old_id                               title  year titleId\n0              0        OLD0                     Cristián Campos  2010     NaN\n1              1        OLD1                        Life & Death  2013     NaN\n2              2        OLD2                 Disguise for Murder  2001     NaN\n3              3        OLD3                         Anniversary  1971     NaN\n4              4        OLD4  Angus Black/Lester Barrie/DC Curry  2009     NaN\n...          ...         ...                                 ...   ...     ...\n1704815  1704815  OLD2545510   The Second Part of Henry the Sixt  1983     NaN\n1704816  1704816  OLD2545513                   Western Spaghetti  2009     NaN\n1704817  1704817  OLD2545518          V poiskakh kapitana Granta  1985     NaN\n1704818  1704818  OLD2545525                          The Payoff  1942     NaN\n1704819  1704819  OLD2545530                    Tomorrow's Youth  1935     NaN\n\n[1611538 rows x 5 columns]",
      "text/html": "<div>\n<style scoped>\n    .dataframe tbody tr th:only-of-type {\n        vertical-align: middle;\n    }\n\n    .dataframe tbody tr th {\n        vertical-align: top;\n    }\n\n    .dataframe thead th {\n        text-align: right;\n    }\n</style>\n<table border=\"1\" class=\"dataframe\">\n  <thead>\n    <tr style=\"text-align: right;\">\n      <th></th>\n      <th>index</th>\n      <th>old_id</th>\n      <th>title</th>\n      <th>year</th>\n      <th>titleId</th>\n    </tr>\n  </thead>\n  <tbody>\n    <tr>\n      <th>0</th>\n      <td>0</td>\n      <td>OLD0</td>\n      <td>Cristián Campos</td>\n      <td>2010</td>\n      <td>NaN</td>\n    </tr>\n    <tr>\n      <th>1</th>\n      <td>1</td>\n      <td>OLD1</td>\n      <td>Life &amp; Death</td>\n      <td>2013</td>\n      <td>NaN</td>\n    </tr>\n    <tr>\n      <th>2</th>\n      <td>2</td>\n      <td>OLD2</td>\n      <td>Disguise for Murder</td>\n      <td>2001</td>\n      <td>NaN</td>\n    </tr>\n    <tr>\n      <th>3</th>\n      <td>3</td>\n      <td>OLD3</td>\n      <td>Anniversary</td>\n      <td>1971</td>\n      <td>NaN</td>\n    </tr>\n    <tr>\n      <th>4</th>\n      <td>4</td>\n      <td>OLD4</td>\n      <td>Angus Black/Lester Barrie/DC Curry</td>\n      <td>2009</td>\n      <td>NaN</td>\n    </tr>\n    <tr>\n      <th>...</th>\n      <td>...</td>\n      <td>...</td>\n      <td>...</td>\n      <td>...</td>\n      <td>...</td>\n    </tr>\n    <tr>\n      <th>1704815</th>\n      <td>1704815</td>\n      <td>OLD2545510</td>\n      <td>The Second Part of Henry the Sixt</td>\n      <td>1983</td>\n      <td>NaN</td>\n    </tr>\n    <tr>\n      <th>1704816</th>\n      <td>1704816</td>\n      <td>OLD2545513</td>\n      <td>Western Spaghetti</td>\n      <td>2009</td>\n      <td>NaN</td>\n    </tr>\n    <tr>\n      <th>1704817</th>\n      <td>1704817</td>\n      <td>OLD2545518</td>\n      <td>V poiskakh kapitana Granta</td>\n      <td>1985</td>\n      <td>NaN</td>\n    </tr>\n    <tr>\n      <th>1704818</th>\n      <td>1704818</td>\n      <td>OLD2545525</td>\n      <td>The Payoff</td>\n      <td>1942</td>\n      <td>NaN</td>\n    </tr>\n    <tr>\n      <th>1704819</th>\n      <td>1704819</td>\n      <td>OLD2545530</td>\n      <td>Tomorrow's Youth</td>\n      <td>1935</td>\n      <td>NaN</td>\n    </tr>\n  </tbody>\n</table>\n<p>1611538 rows × 5 columns</p>\n</div>"
     },
     "execution_count": 17,
     "metadata": {},
     "output_type": "execute_result"
    }
   ],
   "source": [
    "old_only"
   ],
   "metadata": {
    "collapsed": false,
    "pycharm": {
     "name": "#%%\n"
    }
   }
  },
  {
   "cell_type": "code",
   "execution_count": 18,
   "outputs": [
    {
     "data": {
      "text/plain": "           index old_id                         title  year    titleId\n1704820  1704820    NaN  From the Manger to the Cross  1912  tt0002199\n1704821  1704821    NaN    What 80 Million Women Want  1913  tt0002822\n1704822  1704822    NaN             A Boy and the Law  1913  tt0003693\n1704823  1704823    NaN        The Colosseum in Films  1914  tt0003780\n1704824  1704824    NaN          The Man o' War's Man  1914  tt0004299\n...          ...    ...                           ...   ...        ...\n1780098  1780098    NaN                     Albatross  2017  tt9914642\n1780099  1780099    NaN  9/11: Escape from the Towers  2018  tt9914644\n1780100  1780100    NaN           The War of Godzilla  2015  tt9914828\n1780101  1780101    NaN                Blind Ambition  2021  tt9914972\n1780102  1780102    NaN                     Safeguard  2020  tt9916190\n\n[75283 rows x 5 columns]",
      "text/html": "<div>\n<style scoped>\n    .dataframe tbody tr th:only-of-type {\n        vertical-align: middle;\n    }\n\n    .dataframe tbody tr th {\n        vertical-align: top;\n    }\n\n    .dataframe thead th {\n        text-align: right;\n    }\n</style>\n<table border=\"1\" class=\"dataframe\">\n  <thead>\n    <tr style=\"text-align: right;\">\n      <th></th>\n      <th>index</th>\n      <th>old_id</th>\n      <th>title</th>\n      <th>year</th>\n      <th>titleId</th>\n    </tr>\n  </thead>\n  <tbody>\n    <tr>\n      <th>1704820</th>\n      <td>1704820</td>\n      <td>NaN</td>\n      <td>From the Manger to the Cross</td>\n      <td>1912</td>\n      <td>tt0002199</td>\n    </tr>\n    <tr>\n      <th>1704821</th>\n      <td>1704821</td>\n      <td>NaN</td>\n      <td>What 80 Million Women Want</td>\n      <td>1913</td>\n      <td>tt0002822</td>\n    </tr>\n    <tr>\n      <th>1704822</th>\n      <td>1704822</td>\n      <td>NaN</td>\n      <td>A Boy and the Law</td>\n      <td>1913</td>\n      <td>tt0003693</td>\n    </tr>\n    <tr>\n      <th>1704823</th>\n      <td>1704823</td>\n      <td>NaN</td>\n      <td>The Colosseum in Films</td>\n      <td>1914</td>\n      <td>tt0003780</td>\n    </tr>\n    <tr>\n      <th>1704824</th>\n      <td>1704824</td>\n      <td>NaN</td>\n      <td>The Man o' War's Man</td>\n      <td>1914</td>\n      <td>tt0004299</td>\n    </tr>\n    <tr>\n      <th>...</th>\n      <td>...</td>\n      <td>...</td>\n      <td>...</td>\n      <td>...</td>\n      <td>...</td>\n    </tr>\n    <tr>\n      <th>1780098</th>\n      <td>1780098</td>\n      <td>NaN</td>\n      <td>Albatross</td>\n      <td>2017</td>\n      <td>tt9914642</td>\n    </tr>\n    <tr>\n      <th>1780099</th>\n      <td>1780099</td>\n      <td>NaN</td>\n      <td>9/11: Escape from the Towers</td>\n      <td>2018</td>\n      <td>tt9914644</td>\n    </tr>\n    <tr>\n      <th>1780100</th>\n      <td>1780100</td>\n      <td>NaN</td>\n      <td>The War of Godzilla</td>\n      <td>2015</td>\n      <td>tt9914828</td>\n    </tr>\n    <tr>\n      <th>1780101</th>\n      <td>1780101</td>\n      <td>NaN</td>\n      <td>Blind Ambition</td>\n      <td>2021</td>\n      <td>tt9914972</td>\n    </tr>\n    <tr>\n      <th>1780102</th>\n      <td>1780102</td>\n      <td>NaN</td>\n      <td>Safeguard</td>\n      <td>2020</td>\n      <td>tt9916190</td>\n    </tr>\n  </tbody>\n</table>\n<p>75283 rows × 5 columns</p>\n</div>"
     },
     "execution_count": 18,
     "metadata": {},
     "output_type": "execute_result"
    }
   ],
   "source": [
    "new_only"
   ],
   "metadata": {
    "collapsed": false,
    "pycharm": {
     "name": "#%%\n"
    }
   }
  },
  {
   "cell_type": "code",
   "execution_count": 107,
   "outputs": [
    {
     "data": {
      "text/plain": "        old_id                                              title  year  \\\nindex                                                                     \n1706725    NaN                                    The Fantasticks  2000   \n1706839    NaN                               Pushing the Envelope  2000   \n1706870    NaN                         The Elf Who Didn't Believe  2000   \n1707029    NaN                                      Fallen Arches  2000   \n1707241    NaN                           Secrets of a Chambermaid  2000   \n...        ...                                                ...   ...   \n1777210    NaN  The Best of Backyard Wrestling 2: More Hardcor...  2000   \n1777912    NaN         Great White Shark: Truth Behind the Legend  2000   \n1778492    NaN                                       Split Second  2000   \n1778514    NaN                                Contratiempo Mortal  2000   \n1779624    NaN                                   Hammering It Out  2000   \n\n           titleId  \nindex               \n1706725  tt0113026  \n1706839  tt0119966  \n1706870  tt0123055  \n1707029  tt0133752  \n1707241  tt0155150  \n...            ...  \n1777210  tt9066486  \n1777912  tt9242918  \n1778492  tt9404778  \n1778514  tt9412476  \n1779624  tt9765426  \n\n[193 rows x 4 columns]",
      "text/html": "<div>\n<style scoped>\n    .dataframe tbody tr th:only-of-type {\n        vertical-align: middle;\n    }\n\n    .dataframe tbody tr th {\n        vertical-align: top;\n    }\n\n    .dataframe thead th {\n        text-align: right;\n    }\n</style>\n<table border=\"1\" class=\"dataframe\">\n  <thead>\n    <tr style=\"text-align: right;\">\n      <th></th>\n      <th>old_id</th>\n      <th>title</th>\n      <th>year</th>\n      <th>titleId</th>\n    </tr>\n    <tr>\n      <th>index</th>\n      <th></th>\n      <th></th>\n      <th></th>\n      <th></th>\n    </tr>\n  </thead>\n  <tbody>\n    <tr>\n      <th>1706725</th>\n      <td>NaN</td>\n      <td>The Fantasticks</td>\n      <td>2000</td>\n      <td>tt0113026</td>\n    </tr>\n    <tr>\n      <th>1706839</th>\n      <td>NaN</td>\n      <td>Pushing the Envelope</td>\n      <td>2000</td>\n      <td>tt0119966</td>\n    </tr>\n    <tr>\n      <th>1706870</th>\n      <td>NaN</td>\n      <td>The Elf Who Didn't Believe</td>\n      <td>2000</td>\n      <td>tt0123055</td>\n    </tr>\n    <tr>\n      <th>1707029</th>\n      <td>NaN</td>\n      <td>Fallen Arches</td>\n      <td>2000</td>\n      <td>tt0133752</td>\n    </tr>\n    <tr>\n      <th>1707241</th>\n      <td>NaN</td>\n      <td>Secrets of a Chambermaid</td>\n      <td>2000</td>\n      <td>tt0155150</td>\n    </tr>\n    <tr>\n      <th>...</th>\n      <td>...</td>\n      <td>...</td>\n      <td>...</td>\n      <td>...</td>\n    </tr>\n    <tr>\n      <th>1777210</th>\n      <td>NaN</td>\n      <td>The Best of Backyard Wrestling 2: More Hardcor...</td>\n      <td>2000</td>\n      <td>tt9066486</td>\n    </tr>\n    <tr>\n      <th>1777912</th>\n      <td>NaN</td>\n      <td>Great White Shark: Truth Behind the Legend</td>\n      <td>2000</td>\n      <td>tt9242918</td>\n    </tr>\n    <tr>\n      <th>1778492</th>\n      <td>NaN</td>\n      <td>Split Second</td>\n      <td>2000</td>\n      <td>tt9404778</td>\n    </tr>\n    <tr>\n      <th>1778514</th>\n      <td>NaN</td>\n      <td>Contratiempo Mortal</td>\n      <td>2000</td>\n      <td>tt9412476</td>\n    </tr>\n    <tr>\n      <th>1779624</th>\n      <td>NaN</td>\n      <td>Hammering It Out</td>\n      <td>2000</td>\n      <td>tt9765426</td>\n    </tr>\n  </tbody>\n</table>\n<p>193 rows × 4 columns</p>\n</div>"
     },
     "execution_count": 107,
     "metadata": {},
     "output_type": "execute_result"
    }
   ],
   "source": [
    "new_only[new_only.year == 2000]"
   ],
   "metadata": {
    "collapsed": false,
    "pycharm": {
     "name": "#%%\n"
    }
   }
  },
  {
   "cell_type": "code",
   "execution_count": 111,
   "outputs": [
    {
     "data": {
      "text/plain": "             old_id                                       title  year titleId\nindex                                                                        \n49            OLD67                          Evasión o victoria  2000     NaN\n91           OLD150                              Abenteuer Auto  2000     NaN\n92           OLD151                               Letra pequeña  2000     NaN\n108          OLD180                              War and Pieces  2000     NaN\n150          OLD261                            Teen Out of Time  2000     NaN\n...             ...                                         ...   ...     ...\n1704134  OLD2543525  Battlefield Earth: A Saga of the Year 3000  2000     NaN\n1704283  OLD2544043                                     Blinker  2000     NaN\n1704529  OLD2544677                                Nag la bombe  2000     NaN\n1704538  OLD2544698                                    L'impero  2000     NaN\n1704655  OLD2545042                                 The Catcher  2000     NaN\n\n[31049 rows x 4 columns]",
      "text/html": "<div>\n<style scoped>\n    .dataframe tbody tr th:only-of-type {\n        vertical-align: middle;\n    }\n\n    .dataframe tbody tr th {\n        vertical-align: top;\n    }\n\n    .dataframe thead th {\n        text-align: right;\n    }\n</style>\n<table border=\"1\" class=\"dataframe\">\n  <thead>\n    <tr style=\"text-align: right;\">\n      <th></th>\n      <th>old_id</th>\n      <th>title</th>\n      <th>year</th>\n      <th>titleId</th>\n    </tr>\n    <tr>\n      <th>index</th>\n      <th></th>\n      <th></th>\n      <th></th>\n      <th></th>\n    </tr>\n  </thead>\n  <tbody>\n    <tr>\n      <th>49</th>\n      <td>OLD67</td>\n      <td>Evasión o victoria</td>\n      <td>2000</td>\n      <td>NaN</td>\n    </tr>\n    <tr>\n      <th>91</th>\n      <td>OLD150</td>\n      <td>Abenteuer Auto</td>\n      <td>2000</td>\n      <td>NaN</td>\n    </tr>\n    <tr>\n      <th>92</th>\n      <td>OLD151</td>\n      <td>Letra pequeña</td>\n      <td>2000</td>\n      <td>NaN</td>\n    </tr>\n    <tr>\n      <th>108</th>\n      <td>OLD180</td>\n      <td>War and Pieces</td>\n      <td>2000</td>\n      <td>NaN</td>\n    </tr>\n    <tr>\n      <th>150</th>\n      <td>OLD261</td>\n      <td>Teen Out of Time</td>\n      <td>2000</td>\n      <td>NaN</td>\n    </tr>\n    <tr>\n      <th>...</th>\n      <td>...</td>\n      <td>...</td>\n      <td>...</td>\n      <td>...</td>\n    </tr>\n    <tr>\n      <th>1704134</th>\n      <td>OLD2543525</td>\n      <td>Battlefield Earth: A Saga of the Year 3000</td>\n      <td>2000</td>\n      <td>NaN</td>\n    </tr>\n    <tr>\n      <th>1704283</th>\n      <td>OLD2544043</td>\n      <td>Blinker</td>\n      <td>2000</td>\n      <td>NaN</td>\n    </tr>\n    <tr>\n      <th>1704529</th>\n      <td>OLD2544677</td>\n      <td>Nag la bombe</td>\n      <td>2000</td>\n      <td>NaN</td>\n    </tr>\n    <tr>\n      <th>1704538</th>\n      <td>OLD2544698</td>\n      <td>L'impero</td>\n      <td>2000</td>\n      <td>NaN</td>\n    </tr>\n    <tr>\n      <th>1704655</th>\n      <td>OLD2545042</td>\n      <td>The Catcher</td>\n      <td>2000</td>\n      <td>NaN</td>\n    </tr>\n  </tbody>\n</table>\n<p>31049 rows × 4 columns</p>\n</div>"
     },
     "execution_count": 111,
     "metadata": {},
     "output_type": "execute_result"
    }
   ],
   "source": [
    "old_only[old_only.year == 2000]"
   ],
   "metadata": {
    "collapsed": false,
    "pycharm": {
     "name": "#%%\n"
    }
   }
  },
  {
   "cell_type": "code",
   "execution_count": 110,
   "outputs": [
    {
     "data": {
      "text/plain": "              titleId                   title  year\nold_id                                             \nOLD10732    tt0176783                  Gossip  2000\nOLD10732    tt0238251                  Gossip  2000\nOLD32744    tt0242337                   Bunny  2000\nOLD71971    tt0241297            Chaos Theory  2000\nOLD87714    tt0194410               The Stray  2000\n...               ...                     ...   ...\nOLD2539423  tt0205526              Wildflower  2000\nOLD2539820  tt2307054                   Watch  2000\nOLD2541710  tt0215366        Written in Water  2000\nOLD2542161  tt0293706      Who Owns the Past?  2000\nOLD2542534  tt2015531  Writing Down the River  2000\n\n[1439 rows x 3 columns]",
      "text/html": "<div>\n<style scoped>\n    .dataframe tbody tr th:only-of-type {\n        vertical-align: middle;\n    }\n\n    .dataframe tbody tr th {\n        vertical-align: top;\n    }\n\n    .dataframe thead th {\n        text-align: right;\n    }\n</style>\n<table border=\"1\" class=\"dataframe\">\n  <thead>\n    <tr style=\"text-align: right;\">\n      <th></th>\n      <th>titleId</th>\n      <th>title</th>\n      <th>year</th>\n    </tr>\n    <tr>\n      <th>old_id</th>\n      <th></th>\n      <th></th>\n      <th></th>\n    </tr>\n  </thead>\n  <tbody>\n    <tr>\n      <th>OLD10732</th>\n      <td>tt0176783</td>\n      <td>Gossip</td>\n      <td>2000</td>\n    </tr>\n    <tr>\n      <th>OLD10732</th>\n      <td>tt0238251</td>\n      <td>Gossip</td>\n      <td>2000</td>\n    </tr>\n    <tr>\n      <th>OLD32744</th>\n      <td>tt0242337</td>\n      <td>Bunny</td>\n      <td>2000</td>\n    </tr>\n    <tr>\n      <th>OLD71971</th>\n      <td>tt0241297</td>\n      <td>Chaos Theory</td>\n      <td>2000</td>\n    </tr>\n    <tr>\n      <th>OLD87714</th>\n      <td>tt0194410</td>\n      <td>The Stray</td>\n      <td>2000</td>\n    </tr>\n    <tr>\n      <th>...</th>\n      <td>...</td>\n      <td>...</td>\n      <td>...</td>\n    </tr>\n    <tr>\n      <th>OLD2539423</th>\n      <td>tt0205526</td>\n      <td>Wildflower</td>\n      <td>2000</td>\n    </tr>\n    <tr>\n      <th>OLD2539820</th>\n      <td>tt2307054</td>\n      <td>Watch</td>\n      <td>2000</td>\n    </tr>\n    <tr>\n      <th>OLD2541710</th>\n      <td>tt0215366</td>\n      <td>Written in Water</td>\n      <td>2000</td>\n    </tr>\n    <tr>\n      <th>OLD2542161</th>\n      <td>tt0293706</td>\n      <td>Who Owns the Past?</td>\n      <td>2000</td>\n    </tr>\n    <tr>\n      <th>OLD2542534</th>\n      <td>tt2015531</td>\n      <td>Writing Down the River</td>\n      <td>2000</td>\n    </tr>\n  </tbody>\n</table>\n<p>1439 rows × 3 columns</p>\n</div>"
     },
     "execution_count": 110,
     "metadata": {},
     "output_type": "execute_result"
    }
   ],
   "source": [
    "mi[mi.year == 2000]"
   ],
   "metadata": {
    "collapsed": false,
    "pycharm": {
     "name": "#%%\n"
    }
   }
  },
  {
   "cell_type": "code",
   "execution_count": null,
   "outputs": [],
   "source": [
    "# 1980, 1990, 2000 (remove old_only, old\\new; filtering빼고  old-id - new-id -genre - filtering)"
   ],
   "metadata": {
    "collapsed": false,
    "pycharm": {
     "name": "#%%\n"
    }
   }
  },
  {
   "cell_type": "markdown",
   "source": [
    "## Person"
   ],
   "metadata": {
    "collapsed": false,
    "pycharm": {
     "name": "#%% md\n"
    }
   }
  },
  {
   "cell_type": "code",
   "execution_count": 9,
   "outputs": [],
   "source": [
    "new_person = person()"
   ],
   "metadata": {
    "collapsed": false,
    "pycharm": {
     "name": "#%%\n"
    }
   }
  },
  {
   "cell_type": "code",
   "execution_count": 15,
   "outputs": [
    {
     "data": {
      "text/plain": "              id                         name imdbIndex  imdbId gender  \\\n0            451                    A., David       NaN     NaN      m   \n1            129  -Alverio, Esteban Rodriguez       NaN     NaN      m   \n2           1688                 Abbas, Athar       NaN     NaN      m   \n3           3631                  Aberer, Leo       NaN     NaN      m   \n4            512                         A.J.        II     NaN      m   \n...          ...                          ...       ...     ...    ...   \n4193671  4193674               Öndemir, Önder       NaN     NaN    NaN   \n4193672  4193676                  Özgür, Lale       NaN     NaN    NaN   \n4193673  4193670                   Ôta, Akemi       NaN     NaN    NaN   \n4193674  4193675                 Östling, Kia       NaN     NaN    NaN   \n4193675  4193677              Þórisson, Jónas       NaN     NaN    NaN   \n\n        namePcodeCf namePcodeNf surnamePcode                            md5sum  \n0              A313         D13            A  cf45e7b42fbc800c61462988ad1156d2  \n1             A4162       E2315         A416  f5c410bff6839b545d04c531f776e8f2  \n2             A1236       A3612          A12  cf230f6ed718a330dc688c20b8d741d3  \n3              A164         L16          A16  05684f16b84db387e613d3de57eca5b7  \n4                A2         NaN          NaN  c63baf59b537e471b6ec4b68c5d1373e  \n...             ...         ...          ...                               ...  \n4193671       N3565       N3653         N356  4aaaea8e689c667e6f34023f16db5481  \n4193672        Z264        L426          Z26  0b7c397c3605fdc0afbf8220061c1579  \n4193673         T25        A253            T  ce24ccbc6f95737710b925cd66722d06  \n4193674       S3452       K2345          NaN  8c8b06b41b1639845317b12613b0a95b  \n4193675       R2525       J5262          R25  d51c4a95c9858e4aface1d835a79ee4d  \n\n[4193676 rows x 9 columns]",
      "text/html": "<div>\n<style scoped>\n    .dataframe tbody tr th:only-of-type {\n        vertical-align: middle;\n    }\n\n    .dataframe tbody tr th {\n        vertical-align: top;\n    }\n\n    .dataframe thead th {\n        text-align: right;\n    }\n</style>\n<table border=\"1\" class=\"dataframe\">\n  <thead>\n    <tr style=\"text-align: right;\">\n      <th></th>\n      <th>id</th>\n      <th>name</th>\n      <th>imdbIndex</th>\n      <th>imdbId</th>\n      <th>gender</th>\n      <th>namePcodeCf</th>\n      <th>namePcodeNf</th>\n      <th>surnamePcode</th>\n      <th>md5sum</th>\n    </tr>\n  </thead>\n  <tbody>\n    <tr>\n      <th>0</th>\n      <td>451</td>\n      <td>A., David</td>\n      <td>NaN</td>\n      <td>NaN</td>\n      <td>m</td>\n      <td>A313</td>\n      <td>D13</td>\n      <td>A</td>\n      <td>cf45e7b42fbc800c61462988ad1156d2</td>\n    </tr>\n    <tr>\n      <th>1</th>\n      <td>129</td>\n      <td>-Alverio, Esteban Rodriguez</td>\n      <td>NaN</td>\n      <td>NaN</td>\n      <td>m</td>\n      <td>A4162</td>\n      <td>E2315</td>\n      <td>A416</td>\n      <td>f5c410bff6839b545d04c531f776e8f2</td>\n    </tr>\n    <tr>\n      <th>2</th>\n      <td>1688</td>\n      <td>Abbas, Athar</td>\n      <td>NaN</td>\n      <td>NaN</td>\n      <td>m</td>\n      <td>A1236</td>\n      <td>A3612</td>\n      <td>A12</td>\n      <td>cf230f6ed718a330dc688c20b8d741d3</td>\n    </tr>\n    <tr>\n      <th>3</th>\n      <td>3631</td>\n      <td>Aberer, Leo</td>\n      <td>NaN</td>\n      <td>NaN</td>\n      <td>m</td>\n      <td>A164</td>\n      <td>L16</td>\n      <td>A16</td>\n      <td>05684f16b84db387e613d3de57eca5b7</td>\n    </tr>\n    <tr>\n      <th>4</th>\n      <td>512</td>\n      <td>A.J.</td>\n      <td>II</td>\n      <td>NaN</td>\n      <td>m</td>\n      <td>A2</td>\n      <td>NaN</td>\n      <td>NaN</td>\n      <td>c63baf59b537e471b6ec4b68c5d1373e</td>\n    </tr>\n    <tr>\n      <th>...</th>\n      <td>...</td>\n      <td>...</td>\n      <td>...</td>\n      <td>...</td>\n      <td>...</td>\n      <td>...</td>\n      <td>...</td>\n      <td>...</td>\n      <td>...</td>\n    </tr>\n    <tr>\n      <th>4193671</th>\n      <td>4193674</td>\n      <td>Öndemir, Önder</td>\n      <td>NaN</td>\n      <td>NaN</td>\n      <td>NaN</td>\n      <td>N3565</td>\n      <td>N3653</td>\n      <td>N356</td>\n      <td>4aaaea8e689c667e6f34023f16db5481</td>\n    </tr>\n    <tr>\n      <th>4193672</th>\n      <td>4193676</td>\n      <td>Özgür, Lale</td>\n      <td>NaN</td>\n      <td>NaN</td>\n      <td>NaN</td>\n      <td>Z264</td>\n      <td>L426</td>\n      <td>Z26</td>\n      <td>0b7c397c3605fdc0afbf8220061c1579</td>\n    </tr>\n    <tr>\n      <th>4193673</th>\n      <td>4193670</td>\n      <td>Ôta, Akemi</td>\n      <td>NaN</td>\n      <td>NaN</td>\n      <td>NaN</td>\n      <td>T25</td>\n      <td>A253</td>\n      <td>T</td>\n      <td>ce24ccbc6f95737710b925cd66722d06</td>\n    </tr>\n    <tr>\n      <th>4193674</th>\n      <td>4193675</td>\n      <td>Östling, Kia</td>\n      <td>NaN</td>\n      <td>NaN</td>\n      <td>NaN</td>\n      <td>S3452</td>\n      <td>K2345</td>\n      <td>NaN</td>\n      <td>8c8b06b41b1639845317b12613b0a95b</td>\n    </tr>\n    <tr>\n      <th>4193675</th>\n      <td>4193677</td>\n      <td>Þórisson, Jónas</td>\n      <td>NaN</td>\n      <td>NaN</td>\n      <td>NaN</td>\n      <td>R2525</td>\n      <td>J5262</td>\n      <td>R25</td>\n      <td>d51c4a95c9858e4aface1d835a79ee4d</td>\n    </tr>\n  </tbody>\n</table>\n<p>4193676 rows × 9 columns</p>\n</div>"
     },
     "execution_count": 15,
     "metadata": {},
     "output_type": "execute_result"
    }
   ],
   "source": [
    "old_person"
   ],
   "metadata": {
    "collapsed": false,
    "pycharm": {
     "name": "#%%\n"
    }
   }
  },
  {
   "cell_type": "code",
   "execution_count": 12,
   "outputs": [
    {
     "data": {
      "text/plain": "             nconst         primaryName birthYear deathYear  \\\n0         nm0000001        Fred Astaire      1899      1987   \n1         nm0000001        Fred Astaire      1899      1987   \n2         nm0000001        Fred Astaire      1899      1987   \n3         nm0000001        Fred Astaire      1899      1987   \n4         nm0000001        Fred Astaire      1899      1987   \n...             ...                 ...       ...       ...   \n52467457  nm9993713       Sambit Mishra        \\N        \\N   \n52467458  nm9993713       Sambit Mishra        \\N        \\N   \n52467459  nm9993713       Sambit Mishra        \\N        \\N   \n52467460  nm9993717  Harikrishnan Rajan        \\N        \\N   \n52467461  nm9993718         Aayush Nair        \\N        \\N   \n\n                       primaryProfession  \\\n0         soundtrack,actor,miscellaneous   \n1         soundtrack,actor,miscellaneous   \n2         soundtrack,actor,miscellaneous   \n3         soundtrack,actor,miscellaneous   \n4         soundtrack,actor,miscellaneous   \n...                                  ...   \n52467457                 writer,producer   \n52467458                 writer,producer   \n52467459                 writer,producer   \n52467460                 cinematographer   \n52467461                 cinematographer   \n\n                                       knownForTitles      tconst  ordering  \\\n0             tt0072308,tt0053137,tt0050419,tt0031983   tt0025164         1   \n1             tt0072308,tt0053137,tt0050419,tt0031983   tt0026942         2   \n2             tt0072308,tt0053137,tt0050419,tt0031983   tt0027125         1   \n3             tt0072308,tt0053137,tt0050419,tt0031983   tt0027630         1   \n4             tt0072308,tt0053137,tt0050419,tt0031983   tt0028333         1   \n...                                               ...         ...       ...   \n52467457  tt15134202,tt10449366,tt10709066,tt21147342  tt15186906         6   \n52467458  tt15134202,tt10449366,tt10709066,tt21147342  tt15187068         6   \n52467459  tt15134202,tt10449366,tt10709066,tt21147342  tt15204446         6   \n52467460                                    tt8736744   tt8736744         7   \n52467461                                           \\N   tt8736744         6   \n\n                 category job         characters  \n0                   actor  \\N     [\"Guy Holden\"]  \n1                   actor  \\N    [\"Huck Haines\"]  \n2                   actor  \\N  [\"Jerry Travers\"]  \n3                   actor  \\N     [\"Bake Baker\"]  \n4                   actor  \\N  [\"Lucky Garnett\"]  \n...                   ...  ..                ...  \n52467457           writer  \\N                 \\N  \n52467458           writer  \\N                 \\N  \n52467459           writer  \\N                 \\N  \n52467460  cinematographer  \\N                 \\N  \n52467461  cinematographer  \\N                 \\N  \n\n[52467462 rows x 11 columns]",
      "text/html": "<div>\n<style scoped>\n    .dataframe tbody tr th:only-of-type {\n        vertical-align: middle;\n    }\n\n    .dataframe tbody tr th {\n        vertical-align: top;\n    }\n\n    .dataframe thead th {\n        text-align: right;\n    }\n</style>\n<table border=\"1\" class=\"dataframe\">\n  <thead>\n    <tr style=\"text-align: right;\">\n      <th></th>\n      <th>nconst</th>\n      <th>primaryName</th>\n      <th>birthYear</th>\n      <th>deathYear</th>\n      <th>primaryProfession</th>\n      <th>knownForTitles</th>\n      <th>tconst</th>\n      <th>ordering</th>\n      <th>category</th>\n      <th>job</th>\n      <th>characters</th>\n    </tr>\n  </thead>\n  <tbody>\n    <tr>\n      <th>0</th>\n      <td>nm0000001</td>\n      <td>Fred Astaire</td>\n      <td>1899</td>\n      <td>1987</td>\n      <td>soundtrack,actor,miscellaneous</td>\n      <td>tt0072308,tt0053137,tt0050419,tt0031983</td>\n      <td>tt0025164</td>\n      <td>1</td>\n      <td>actor</td>\n      <td>\\N</td>\n      <td>[\"Guy Holden\"]</td>\n    </tr>\n    <tr>\n      <th>1</th>\n      <td>nm0000001</td>\n      <td>Fred Astaire</td>\n      <td>1899</td>\n      <td>1987</td>\n      <td>soundtrack,actor,miscellaneous</td>\n      <td>tt0072308,tt0053137,tt0050419,tt0031983</td>\n      <td>tt0026942</td>\n      <td>2</td>\n      <td>actor</td>\n      <td>\\N</td>\n      <td>[\"Huck Haines\"]</td>\n    </tr>\n    <tr>\n      <th>2</th>\n      <td>nm0000001</td>\n      <td>Fred Astaire</td>\n      <td>1899</td>\n      <td>1987</td>\n      <td>soundtrack,actor,miscellaneous</td>\n      <td>tt0072308,tt0053137,tt0050419,tt0031983</td>\n      <td>tt0027125</td>\n      <td>1</td>\n      <td>actor</td>\n      <td>\\N</td>\n      <td>[\"Jerry Travers\"]</td>\n    </tr>\n    <tr>\n      <th>3</th>\n      <td>nm0000001</td>\n      <td>Fred Astaire</td>\n      <td>1899</td>\n      <td>1987</td>\n      <td>soundtrack,actor,miscellaneous</td>\n      <td>tt0072308,tt0053137,tt0050419,tt0031983</td>\n      <td>tt0027630</td>\n      <td>1</td>\n      <td>actor</td>\n      <td>\\N</td>\n      <td>[\"Bake Baker\"]</td>\n    </tr>\n    <tr>\n      <th>4</th>\n      <td>nm0000001</td>\n      <td>Fred Astaire</td>\n      <td>1899</td>\n      <td>1987</td>\n      <td>soundtrack,actor,miscellaneous</td>\n      <td>tt0072308,tt0053137,tt0050419,tt0031983</td>\n      <td>tt0028333</td>\n      <td>1</td>\n      <td>actor</td>\n      <td>\\N</td>\n      <td>[\"Lucky Garnett\"]</td>\n    </tr>\n    <tr>\n      <th>...</th>\n      <td>...</td>\n      <td>...</td>\n      <td>...</td>\n      <td>...</td>\n      <td>...</td>\n      <td>...</td>\n      <td>...</td>\n      <td>...</td>\n      <td>...</td>\n      <td>...</td>\n      <td>...</td>\n    </tr>\n    <tr>\n      <th>52467457</th>\n      <td>nm9993713</td>\n      <td>Sambit Mishra</td>\n      <td>\\N</td>\n      <td>\\N</td>\n      <td>writer,producer</td>\n      <td>tt15134202,tt10449366,tt10709066,tt21147342</td>\n      <td>tt15186906</td>\n      <td>6</td>\n      <td>writer</td>\n      <td>\\N</td>\n      <td>\\N</td>\n    </tr>\n    <tr>\n      <th>52467458</th>\n      <td>nm9993713</td>\n      <td>Sambit Mishra</td>\n      <td>\\N</td>\n      <td>\\N</td>\n      <td>writer,producer</td>\n      <td>tt15134202,tt10449366,tt10709066,tt21147342</td>\n      <td>tt15187068</td>\n      <td>6</td>\n      <td>writer</td>\n      <td>\\N</td>\n      <td>\\N</td>\n    </tr>\n    <tr>\n      <th>52467459</th>\n      <td>nm9993713</td>\n      <td>Sambit Mishra</td>\n      <td>\\N</td>\n      <td>\\N</td>\n      <td>writer,producer</td>\n      <td>tt15134202,tt10449366,tt10709066,tt21147342</td>\n      <td>tt15204446</td>\n      <td>6</td>\n      <td>writer</td>\n      <td>\\N</td>\n      <td>\\N</td>\n    </tr>\n    <tr>\n      <th>52467460</th>\n      <td>nm9993717</td>\n      <td>Harikrishnan Rajan</td>\n      <td>\\N</td>\n      <td>\\N</td>\n      <td>cinematographer</td>\n      <td>tt8736744</td>\n      <td>tt8736744</td>\n      <td>7</td>\n      <td>cinematographer</td>\n      <td>\\N</td>\n      <td>\\N</td>\n    </tr>\n    <tr>\n      <th>52467461</th>\n      <td>nm9993718</td>\n      <td>Aayush Nair</td>\n      <td>\\N</td>\n      <td>\\N</td>\n      <td>cinematographer</td>\n      <td>\\N</td>\n      <td>tt8736744</td>\n      <td>6</td>\n      <td>cinematographer</td>\n      <td>\\N</td>\n      <td>\\N</td>\n    </tr>\n  </tbody>\n</table>\n<p>52467462 rows × 11 columns</p>\n</div>"
     },
     "execution_count": 12,
     "metadata": {},
     "output_type": "execute_result"
    }
   ],
   "source": [
    "pmc_raw"
   ],
   "metadata": {
    "collapsed": false,
    "pycharm": {
     "name": "#%%\n"
    }
   }
  },
  {
   "cell_type": "code",
   "execution_count": 22,
   "outputs": [
    {
     "data": {
      "text/plain": "             tconst  ordering      nconst         category  \\\n0         tt0000001         1   nm1588970             self   \n1         tt0000001         2   nm0005690         director   \n2         tt0000001         3   nm0374658  cinematographer   \n3         tt0000002         1   nm0721526         director   \n4         tt0000002         2   nm1335271         composer   \n...             ...       ...         ...              ...   \n52475552  tt9916880         4  nm10535738          actress   \n52475553  tt9916880         5   nm0996406         director   \n52475554  tt9916880         6   nm1482639           writer   \n52475555  tt9916880         7   nm2586970           writer   \n52475556  tt9916880         8   nm1594058         producer   \n\n                              job        characters  \n0                              \\N          [\"Self\"]  \n1                              \\N                \\N  \n2         director of photography                \\N  \n3                              \\N                \\N  \n4                              \\N                \\N  \n...                           ...               ...  \n52475552                       \\N  [\"Horrid Henry\"]  \n52475553       principal director                \\N  \n52475554                       \\N                \\N  \n52475555                    books                \\N  \n52475556                 producer                \\N  \n\n[52475557 rows x 6 columns]",
      "text/html": "<div>\n<style scoped>\n    .dataframe tbody tr th:only-of-type {\n        vertical-align: middle;\n    }\n\n    .dataframe tbody tr th {\n        vertical-align: top;\n    }\n\n    .dataframe thead th {\n        text-align: right;\n    }\n</style>\n<table border=\"1\" class=\"dataframe\">\n  <thead>\n    <tr style=\"text-align: right;\">\n      <th></th>\n      <th>tconst</th>\n      <th>ordering</th>\n      <th>nconst</th>\n      <th>category</th>\n      <th>job</th>\n      <th>characters</th>\n    </tr>\n  </thead>\n  <tbody>\n    <tr>\n      <th>0</th>\n      <td>tt0000001</td>\n      <td>1</td>\n      <td>nm1588970</td>\n      <td>self</td>\n      <td>\\N</td>\n      <td>[\"Self\"]</td>\n    </tr>\n    <tr>\n      <th>1</th>\n      <td>tt0000001</td>\n      <td>2</td>\n      <td>nm0005690</td>\n      <td>director</td>\n      <td>\\N</td>\n      <td>\\N</td>\n    </tr>\n    <tr>\n      <th>2</th>\n      <td>tt0000001</td>\n      <td>3</td>\n      <td>nm0374658</td>\n      <td>cinematographer</td>\n      <td>director of photography</td>\n      <td>\\N</td>\n    </tr>\n    <tr>\n      <th>3</th>\n      <td>tt0000002</td>\n      <td>1</td>\n      <td>nm0721526</td>\n      <td>director</td>\n      <td>\\N</td>\n      <td>\\N</td>\n    </tr>\n    <tr>\n      <th>4</th>\n      <td>tt0000002</td>\n      <td>2</td>\n      <td>nm1335271</td>\n      <td>composer</td>\n      <td>\\N</td>\n      <td>\\N</td>\n    </tr>\n    <tr>\n      <th>...</th>\n      <td>...</td>\n      <td>...</td>\n      <td>...</td>\n      <td>...</td>\n      <td>...</td>\n      <td>...</td>\n    </tr>\n    <tr>\n      <th>52475552</th>\n      <td>tt9916880</td>\n      <td>4</td>\n      <td>nm10535738</td>\n      <td>actress</td>\n      <td>\\N</td>\n      <td>[\"Horrid Henry\"]</td>\n    </tr>\n    <tr>\n      <th>52475553</th>\n      <td>tt9916880</td>\n      <td>5</td>\n      <td>nm0996406</td>\n      <td>director</td>\n      <td>principal director</td>\n      <td>\\N</td>\n    </tr>\n    <tr>\n      <th>52475554</th>\n      <td>tt9916880</td>\n      <td>6</td>\n      <td>nm1482639</td>\n      <td>writer</td>\n      <td>\\N</td>\n      <td>\\N</td>\n    </tr>\n    <tr>\n      <th>52475555</th>\n      <td>tt9916880</td>\n      <td>7</td>\n      <td>nm2586970</td>\n      <td>writer</td>\n      <td>books</td>\n      <td>\\N</td>\n    </tr>\n    <tr>\n      <th>52475556</th>\n      <td>tt9916880</td>\n      <td>8</td>\n      <td>nm1594058</td>\n      <td>producer</td>\n      <td>producer</td>\n      <td>\\N</td>\n    </tr>\n  </tbody>\n</table>\n<p>52475557 rows × 6 columns</p>\n</div>"
     },
     "execution_count": 22,
     "metadata": {},
     "output_type": "execute_result"
    }
   ],
   "source": [
    "pmc."
   ],
   "metadata": {
    "collapsed": false,
    "pycharm": {
     "name": "#%%\n"
    }
   }
  },
  {
   "cell_type": "code",
   "execution_count": 27,
   "outputs": [
    {
     "data": {
      "text/plain": "             nconst      tconst category          characters\n0         nm0000001   tt0025164    actor      [\"Guy Holden\"]\n1         nm0000001   tt0026942    actor     [\"Huck Haines\"]\n2         nm0000001   tt0027125    actor   [\"Jerry Travers\"]\n3         nm0000001   tt0027630    actor      [\"Bake Baker\"]\n4         nm0000001   tt0028333    actor   [\"Lucky Garnett\"]\n...             ...         ...      ...                 ...\n52467412  nm9993708  tt14508814  actress           [\"Extra\"]\n52467415  nm9993708  tt21028920  actress                  \\N\n52467420  nm9993709  tt11702702  actress  [\"Observant Poet\"]\n52467423  nm9993709  tt11772842  actress              [\"Lu\"]\n52467430  nm9993709  tt21028920  actress                  \\N\n\n[20533189 rows x 4 columns]",
      "text/html": "<div>\n<style scoped>\n    .dataframe tbody tr th:only-of-type {\n        vertical-align: middle;\n    }\n\n    .dataframe tbody tr th {\n        vertical-align: top;\n    }\n\n    .dataframe thead th {\n        text-align: right;\n    }\n</style>\n<table border=\"1\" class=\"dataframe\">\n  <thead>\n    <tr style=\"text-align: right;\">\n      <th></th>\n      <th>nconst</th>\n      <th>tconst</th>\n      <th>category</th>\n      <th>characters</th>\n    </tr>\n  </thead>\n  <tbody>\n    <tr>\n      <th>0</th>\n      <td>nm0000001</td>\n      <td>tt0025164</td>\n      <td>actor</td>\n      <td>[\"Guy Holden\"]</td>\n    </tr>\n    <tr>\n      <th>1</th>\n      <td>nm0000001</td>\n      <td>tt0026942</td>\n      <td>actor</td>\n      <td>[\"Huck Haines\"]</td>\n    </tr>\n    <tr>\n      <th>2</th>\n      <td>nm0000001</td>\n      <td>tt0027125</td>\n      <td>actor</td>\n      <td>[\"Jerry Travers\"]</td>\n    </tr>\n    <tr>\n      <th>3</th>\n      <td>nm0000001</td>\n      <td>tt0027630</td>\n      <td>actor</td>\n      <td>[\"Bake Baker\"]</td>\n    </tr>\n    <tr>\n      <th>4</th>\n      <td>nm0000001</td>\n      <td>tt0028333</td>\n      <td>actor</td>\n      <td>[\"Lucky Garnett\"]</td>\n    </tr>\n    <tr>\n      <th>...</th>\n      <td>...</td>\n      <td>...</td>\n      <td>...</td>\n      <td>...</td>\n    </tr>\n    <tr>\n      <th>52467412</th>\n      <td>nm9993708</td>\n      <td>tt14508814</td>\n      <td>actress</td>\n      <td>[\"Extra\"]</td>\n    </tr>\n    <tr>\n      <th>52467415</th>\n      <td>nm9993708</td>\n      <td>tt21028920</td>\n      <td>actress</td>\n      <td>\\N</td>\n    </tr>\n    <tr>\n      <th>52467420</th>\n      <td>nm9993709</td>\n      <td>tt11702702</td>\n      <td>actress</td>\n      <td>[\"Observant Poet\"]</td>\n    </tr>\n    <tr>\n      <th>52467423</th>\n      <td>nm9993709</td>\n      <td>tt11772842</td>\n      <td>actress</td>\n      <td>[\"Lu\"]</td>\n    </tr>\n    <tr>\n      <th>52467430</th>\n      <td>nm9993709</td>\n      <td>tt21028920</td>\n      <td>actress</td>\n      <td>\\N</td>\n    </tr>\n  </tbody>\n</table>\n<p>20533189 rows × 4 columns</p>\n</div>"
     },
     "execution_count": 27,
     "metadata": {},
     "output_type": "execute_result"
    }
   ],
   "source": [
    "pmc"
   ],
   "metadata": {
    "collapsed": false,
    "pycharm": {
     "name": "#%%\n"
    }
   }
  },
  {
   "cell_type": "code",
   "execution_count": 104,
   "outputs": [],
   "source": [
    "\n",
    "\n",
    "old_person.columns = ['id', 'personID','infoTypeID','info', 'note']"
   ],
   "metadata": {
    "collapsed": false,
    "pycharm": {
     "name": "#%%\n"
    }
   }
  },
  {
   "cell_type": "code",
   "execution_count": 109,
   "outputs": [],
   "source": [
    "old_person = pd.read_pickle(\"old_person.pkl\")\n",
    "#new_person = pd.read_pickle('new_person_basics.p6yhn     kl')"
   ],
   "metadata": {
    "collapsed": false,
    "pycharm": {
     "name": "#%%\n"
    }
   }
  },
  {
   "cell_type": "code",
   "execution_count": 9,
   "outputs": [
    {
     "ename": "FileNotFoundError",
     "evalue": "[Errno 2] No such file or directory: 'test.pkl'",
     "output_type": "error",
     "traceback": [
      "\u001B[0;31m---------------------------------------------------------------------------\u001B[0m",
      "\u001B[0;31mFileNotFoundError\u001B[0m                         Traceback (most recent call last)",
      "Cell \u001B[0;32mIn [9], line 1\u001B[0m\n\u001B[0;32m----> 1\u001B[0m new_person_movie \u001B[38;5;241m=\u001B[39m \u001B[43mpd\u001B[49m\u001B[38;5;241;43m.\u001B[39;49m\u001B[43mread_pickle\u001B[49m\u001B[43m(\u001B[49m\u001B[38;5;124;43m'\u001B[39;49m\u001B[38;5;124;43mtest.pkl\u001B[39;49m\u001B[38;5;124;43m'\u001B[39;49m\u001B[43m)\u001B[49m\n",
      "File \u001B[0;32m~/Dropbox/tolzul/BayesSD/ContinuousCode/3_Data4DM/empirical_dynamics/venv/lib/python3.9/site-packages/pandas/io/pickle.py:190\u001B[0m, in \u001B[0;36mread_pickle\u001B[0;34m(filepath_or_buffer, compression, storage_options)\u001B[0m\n\u001B[1;32m    124\u001B[0m \u001B[38;5;124;03m\"\"\"\u001B[39;00m\n\u001B[1;32m    125\u001B[0m \u001B[38;5;124;03mLoad pickled pandas object (or any object) from file.\u001B[39;00m\n\u001B[1;32m    126\u001B[0m \n\u001B[0;32m   (...)\u001B[0m\n\u001B[1;32m    187\u001B[0m \u001B[38;5;124;03m4    4    9\u001B[39;00m\n\u001B[1;32m    188\u001B[0m \u001B[38;5;124;03m\"\"\"\u001B[39;00m\n\u001B[1;32m    189\u001B[0m excs_to_catch \u001B[38;5;241m=\u001B[39m (\u001B[38;5;167;01mAttributeError\u001B[39;00m, \u001B[38;5;167;01mImportError\u001B[39;00m, \u001B[38;5;167;01mModuleNotFoundError\u001B[39;00m, \u001B[38;5;167;01mTypeError\u001B[39;00m)\n\u001B[0;32m--> 190\u001B[0m \u001B[38;5;28;01mwith\u001B[39;00m \u001B[43mget_handle\u001B[49m\u001B[43m(\u001B[49m\n\u001B[1;32m    191\u001B[0m \u001B[43m    \u001B[49m\u001B[43mfilepath_or_buffer\u001B[49m\u001B[43m,\u001B[49m\n\u001B[1;32m    192\u001B[0m \u001B[43m    \u001B[49m\u001B[38;5;124;43m\"\u001B[39;49m\u001B[38;5;124;43mrb\u001B[39;49m\u001B[38;5;124;43m\"\u001B[39;49m\u001B[43m,\u001B[49m\n\u001B[1;32m    193\u001B[0m \u001B[43m    \u001B[49m\u001B[43mcompression\u001B[49m\u001B[38;5;241;43m=\u001B[39;49m\u001B[43mcompression\u001B[49m\u001B[43m,\u001B[49m\n\u001B[1;32m    194\u001B[0m \u001B[43m    \u001B[49m\u001B[43mis_text\u001B[49m\u001B[38;5;241;43m=\u001B[39;49m\u001B[38;5;28;43;01mFalse\u001B[39;49;00m\u001B[43m,\u001B[49m\n\u001B[1;32m    195\u001B[0m \u001B[43m    \u001B[49m\u001B[43mstorage_options\u001B[49m\u001B[38;5;241;43m=\u001B[39;49m\u001B[43mstorage_options\u001B[49m\u001B[43m,\u001B[49m\n\u001B[1;32m    196\u001B[0m \u001B[43m\u001B[49m\u001B[43m)\u001B[49m \u001B[38;5;28;01mas\u001B[39;00m handles:\n\u001B[1;32m    197\u001B[0m \n\u001B[1;32m    198\u001B[0m     \u001B[38;5;66;03m# 1) try standard library Pickle\u001B[39;00m\n\u001B[1;32m    199\u001B[0m     \u001B[38;5;66;03m# 2) try pickle_compat (older pandas version) to handle subclass changes\u001B[39;00m\n\u001B[1;32m    200\u001B[0m     \u001B[38;5;66;03m# 3) try pickle_compat with latin-1 encoding upon a UnicodeDecodeError\u001B[39;00m\n\u001B[1;32m    202\u001B[0m     \u001B[38;5;28;01mtry\u001B[39;00m:\n\u001B[1;32m    203\u001B[0m         \u001B[38;5;66;03m# TypeError for Cython complaints about object.__new__ vs Tick.__new__\u001B[39;00m\n\u001B[1;32m    204\u001B[0m         \u001B[38;5;28;01mtry\u001B[39;00m:\n",
      "File \u001B[0;32m~/Dropbox/tolzul/BayesSD/ContinuousCode/3_Data4DM/empirical_dynamics/venv/lib/python3.9/site-packages/pandas/io/common.py:865\u001B[0m, in \u001B[0;36mget_handle\u001B[0;34m(path_or_buf, mode, encoding, compression, memory_map, is_text, errors, storage_options)\u001B[0m\n\u001B[1;32m    856\u001B[0m         handle \u001B[38;5;241m=\u001B[39m \u001B[38;5;28mopen\u001B[39m(\n\u001B[1;32m    857\u001B[0m             handle,\n\u001B[1;32m    858\u001B[0m             ioargs\u001B[38;5;241m.\u001B[39mmode,\n\u001B[0;32m   (...)\u001B[0m\n\u001B[1;32m    861\u001B[0m             newline\u001B[38;5;241m=\u001B[39m\u001B[38;5;124m\"\u001B[39m\u001B[38;5;124m\"\u001B[39m,\n\u001B[1;32m    862\u001B[0m         )\n\u001B[1;32m    863\u001B[0m     \u001B[38;5;28;01melse\u001B[39;00m:\n\u001B[1;32m    864\u001B[0m         \u001B[38;5;66;03m# Binary mode\u001B[39;00m\n\u001B[0;32m--> 865\u001B[0m         handle \u001B[38;5;241m=\u001B[39m \u001B[38;5;28;43mopen\u001B[39;49m\u001B[43m(\u001B[49m\u001B[43mhandle\u001B[49m\u001B[43m,\u001B[49m\u001B[43m \u001B[49m\u001B[43mioargs\u001B[49m\u001B[38;5;241;43m.\u001B[39;49m\u001B[43mmode\u001B[49m\u001B[43m)\u001B[49m\n\u001B[1;32m    866\u001B[0m     handles\u001B[38;5;241m.\u001B[39mappend(handle)\n\u001B[1;32m    868\u001B[0m \u001B[38;5;66;03m# Convert BytesIO or file objects passed with an encoding\u001B[39;00m\n",
      "\u001B[0;31mFileNotFoundError\u001B[0m: [Errno 2] No such file or directory: 'test.pkl'"
     ]
    }
   ],
   "source": [
    "new_person_movie = pd.read_pickle('test.pkl')"
   ],
   "metadata": {
    "collapsed": false,
    "pycharm": {
     "name": "#%%\n"
    }
   }
  },
  {
   "cell_type": "code",
   "execution_count": 22,
   "outputs": [
    {
     "data": {
      "text/plain": "'/Users/hyunjimoon/Dropbox/tolzul/BayesSD/ContinuousCode/3_Data4DM/empirical_dynamics/cont_code/data/movie'"
     },
     "execution_count": 22,
     "metadata": {},
     "output_type": "execute_result"
    }
   ],
   "source": [
    "os.getcwd()"
   ],
   "metadata": {
    "collapsed": false,
    "pycharm": {
     "name": "#%%\n"
    }
   }
  },
  {
   "cell_type": "code",
   "execution_count": 18,
   "outputs": [
    {
     "data": {
      "text/plain": "              id                         name\n0            451                    A., David\n1            129  -Alverio, Esteban Rodriguez\n2           1688                 Abbas, Athar\n3           3631                  Aberer, Leo\n4            512                         A.J.\n...          ...                          ...\n4193671  4193674               Öndemir, Önder\n4193672  4193676                  Özgür, Lale\n4193673  4193670                   Ôta, Akemi\n4193674  4193675                 Östling, Kia\n4193675  4193677              Þórisson, Jónas\n\n[4193676 rows x 2 columns]",
      "text/html": "<div>\n<style scoped>\n    .dataframe tbody tr th:only-of-type {\n        vertical-align: middle;\n    }\n\n    .dataframe tbody tr th {\n        vertical-align: top;\n    }\n\n    .dataframe thead th {\n        text-align: right;\n    }\n</style>\n<table border=\"1\" class=\"dataframe\">\n  <thead>\n    <tr style=\"text-align: right;\">\n      <th></th>\n      <th>id</th>\n      <th>name</th>\n    </tr>\n  </thead>\n  <tbody>\n    <tr>\n      <th>0</th>\n      <td>451</td>\n      <td>A., David</td>\n    </tr>\n    <tr>\n      <th>1</th>\n      <td>129</td>\n      <td>-Alverio, Esteban Rodriguez</td>\n    </tr>\n    <tr>\n      <th>2</th>\n      <td>1688</td>\n      <td>Abbas, Athar</td>\n    </tr>\n    <tr>\n      <th>3</th>\n      <td>3631</td>\n      <td>Aberer, Leo</td>\n    </tr>\n    <tr>\n      <th>4</th>\n      <td>512</td>\n      <td>A.J.</td>\n    </tr>\n    <tr>\n      <th>...</th>\n      <td>...</td>\n      <td>...</td>\n    </tr>\n    <tr>\n      <th>4193671</th>\n      <td>4193674</td>\n      <td>Öndemir, Önder</td>\n    </tr>\n    <tr>\n      <th>4193672</th>\n      <td>4193676</td>\n      <td>Özgür, Lale</td>\n    </tr>\n    <tr>\n      <th>4193673</th>\n      <td>4193670</td>\n      <td>Ôta, Akemi</td>\n    </tr>\n    <tr>\n      <th>4193674</th>\n      <td>4193675</td>\n      <td>Östling, Kia</td>\n    </tr>\n    <tr>\n      <th>4193675</th>\n      <td>4193677</td>\n      <td>Þórisson, Jónas</td>\n    </tr>\n  </tbody>\n</table>\n<p>4193676 rows × 2 columns</p>\n</div>"
     },
     "execution_count": 18,
     "metadata": {},
     "output_type": "execute_result"
    }
   ],
   "source": [
    "old_person.columns = ['id', 'name', 'imdbIndex', 'imdbId', 'gender', 'namePcodeCf', 'namePcodeNf', 'surnamePcode', 'md5sum']\n",
    "old_person[['id', 'name']] #4m"
   ],
   "metadata": {
    "collapsed": false,
    "pycharm": {
     "name": "#%%\n"
    }
   }
  },
  {
   "cell_type": "code",
   "execution_count": 10,
   "outputs": [
    {
     "ename": "FileNotFoundError",
     "evalue": "[Errno 2] No such file or directory: 'cast_info.csv'",
     "output_type": "error",
     "traceback": [
      "\u001B[0;31m---------------------------------------------------------------------------\u001B[0m",
      "\u001B[0;31mFileNotFoundError\u001B[0m                         Traceback (most recent call last)",
      "Cell \u001B[0;32mIn [10], line 1\u001B[0m\n\u001B[0;32m----> 1\u001B[0m \u001B[43mpd\u001B[49m\u001B[38;5;241;43m.\u001B[39;49m\u001B[43mread_csv\u001B[49m\u001B[43m(\u001B[49m\u001B[38;5;124;43m\"\u001B[39;49m\u001B[38;5;124;43mcast_info.csv\u001B[39;49m\u001B[38;5;124;43m\"\u001B[39;49m\u001B[43m)\u001B[49m\u001B[38;5;241m.\u001B[39mto_pickle(\u001B[38;5;124m\"\u001B[39m\u001B[38;5;124mold_cast_info.pkl\u001B[39m\u001B[38;5;124m\"\u001B[39m)\n",
      "File \u001B[0;32m~/Dropbox/tolzul/BayesSD/ContinuousCode/3_Data4DM/empirical_dynamics/venv/lib/python3.9/site-packages/pandas/util/_decorators.py:211\u001B[0m, in \u001B[0;36mdeprecate_kwarg.<locals>._deprecate_kwarg.<locals>.wrapper\u001B[0;34m(*args, **kwargs)\u001B[0m\n\u001B[1;32m    209\u001B[0m     \u001B[38;5;28;01melse\u001B[39;00m:\n\u001B[1;32m    210\u001B[0m         kwargs[new_arg_name] \u001B[38;5;241m=\u001B[39m new_arg_value\n\u001B[0;32m--> 211\u001B[0m \u001B[38;5;28;01mreturn\u001B[39;00m \u001B[43mfunc\u001B[49m\u001B[43m(\u001B[49m\u001B[38;5;241;43m*\u001B[39;49m\u001B[43margs\u001B[49m\u001B[43m,\u001B[49m\u001B[43m \u001B[49m\u001B[38;5;241;43m*\u001B[39;49m\u001B[38;5;241;43m*\u001B[39;49m\u001B[43mkwargs\u001B[49m\u001B[43m)\u001B[49m\n",
      "File \u001B[0;32m~/Dropbox/tolzul/BayesSD/ContinuousCode/3_Data4DM/empirical_dynamics/venv/lib/python3.9/site-packages/pandas/util/_decorators.py:331\u001B[0m, in \u001B[0;36mdeprecate_nonkeyword_arguments.<locals>.decorate.<locals>.wrapper\u001B[0;34m(*args, **kwargs)\u001B[0m\n\u001B[1;32m    325\u001B[0m \u001B[38;5;28;01mif\u001B[39;00m \u001B[38;5;28mlen\u001B[39m(args) \u001B[38;5;241m>\u001B[39m num_allow_args:\n\u001B[1;32m    326\u001B[0m     warnings\u001B[38;5;241m.\u001B[39mwarn(\n\u001B[1;32m    327\u001B[0m         msg\u001B[38;5;241m.\u001B[39mformat(arguments\u001B[38;5;241m=\u001B[39m_format_argument_list(allow_args)),\n\u001B[1;32m    328\u001B[0m         \u001B[38;5;167;01mFutureWarning\u001B[39;00m,\n\u001B[1;32m    329\u001B[0m         stacklevel\u001B[38;5;241m=\u001B[39mfind_stack_level(),\n\u001B[1;32m    330\u001B[0m     )\n\u001B[0;32m--> 331\u001B[0m \u001B[38;5;28;01mreturn\u001B[39;00m \u001B[43mfunc\u001B[49m\u001B[43m(\u001B[49m\u001B[38;5;241;43m*\u001B[39;49m\u001B[43margs\u001B[49m\u001B[43m,\u001B[49m\u001B[43m \u001B[49m\u001B[38;5;241;43m*\u001B[39;49m\u001B[38;5;241;43m*\u001B[39;49m\u001B[43mkwargs\u001B[49m\u001B[43m)\u001B[49m\n",
      "File \u001B[0;32m~/Dropbox/tolzul/BayesSD/ContinuousCode/3_Data4DM/empirical_dynamics/venv/lib/python3.9/site-packages/pandas/io/parsers/readers.py:950\u001B[0m, in \u001B[0;36mread_csv\u001B[0;34m(filepath_or_buffer, sep, delimiter, header, names, index_col, usecols, squeeze, prefix, mangle_dupe_cols, dtype, engine, converters, true_values, false_values, skipinitialspace, skiprows, skipfooter, nrows, na_values, keep_default_na, na_filter, verbose, skip_blank_lines, parse_dates, infer_datetime_format, keep_date_col, date_parser, dayfirst, cache_dates, iterator, chunksize, compression, thousands, decimal, lineterminator, quotechar, quoting, doublequote, escapechar, comment, encoding, encoding_errors, dialect, error_bad_lines, warn_bad_lines, on_bad_lines, delim_whitespace, low_memory, memory_map, float_precision, storage_options)\u001B[0m\n\u001B[1;32m    935\u001B[0m kwds_defaults \u001B[38;5;241m=\u001B[39m _refine_defaults_read(\n\u001B[1;32m    936\u001B[0m     dialect,\n\u001B[1;32m    937\u001B[0m     delimiter,\n\u001B[0;32m   (...)\u001B[0m\n\u001B[1;32m    946\u001B[0m     defaults\u001B[38;5;241m=\u001B[39m{\u001B[38;5;124m\"\u001B[39m\u001B[38;5;124mdelimiter\u001B[39m\u001B[38;5;124m\"\u001B[39m: \u001B[38;5;124m\"\u001B[39m\u001B[38;5;124m,\u001B[39m\u001B[38;5;124m\"\u001B[39m},\n\u001B[1;32m    947\u001B[0m )\n\u001B[1;32m    948\u001B[0m kwds\u001B[38;5;241m.\u001B[39mupdate(kwds_defaults)\n\u001B[0;32m--> 950\u001B[0m \u001B[38;5;28;01mreturn\u001B[39;00m \u001B[43m_read\u001B[49m\u001B[43m(\u001B[49m\u001B[43mfilepath_or_buffer\u001B[49m\u001B[43m,\u001B[49m\u001B[43m \u001B[49m\u001B[43mkwds\u001B[49m\u001B[43m)\u001B[49m\n",
      "File \u001B[0;32m~/Dropbox/tolzul/BayesSD/ContinuousCode/3_Data4DM/empirical_dynamics/venv/lib/python3.9/site-packages/pandas/io/parsers/readers.py:605\u001B[0m, in \u001B[0;36m_read\u001B[0;34m(filepath_or_buffer, kwds)\u001B[0m\n\u001B[1;32m    602\u001B[0m _validate_names(kwds\u001B[38;5;241m.\u001B[39mget(\u001B[38;5;124m\"\u001B[39m\u001B[38;5;124mnames\u001B[39m\u001B[38;5;124m\"\u001B[39m, \u001B[38;5;28;01mNone\u001B[39;00m))\n\u001B[1;32m    604\u001B[0m \u001B[38;5;66;03m# Create the parser.\u001B[39;00m\n\u001B[0;32m--> 605\u001B[0m parser \u001B[38;5;241m=\u001B[39m \u001B[43mTextFileReader\u001B[49m\u001B[43m(\u001B[49m\u001B[43mfilepath_or_buffer\u001B[49m\u001B[43m,\u001B[49m\u001B[43m \u001B[49m\u001B[38;5;241;43m*\u001B[39;49m\u001B[38;5;241;43m*\u001B[39;49m\u001B[43mkwds\u001B[49m\u001B[43m)\u001B[49m\n\u001B[1;32m    607\u001B[0m \u001B[38;5;28;01mif\u001B[39;00m chunksize \u001B[38;5;129;01mor\u001B[39;00m iterator:\n\u001B[1;32m    608\u001B[0m     \u001B[38;5;28;01mreturn\u001B[39;00m parser\n",
      "File \u001B[0;32m~/Dropbox/tolzul/BayesSD/ContinuousCode/3_Data4DM/empirical_dynamics/venv/lib/python3.9/site-packages/pandas/io/parsers/readers.py:1442\u001B[0m, in \u001B[0;36mTextFileReader.__init__\u001B[0;34m(self, f, engine, **kwds)\u001B[0m\n\u001B[1;32m   1439\u001B[0m     \u001B[38;5;28mself\u001B[39m\u001B[38;5;241m.\u001B[39moptions[\u001B[38;5;124m\"\u001B[39m\u001B[38;5;124mhas_index_names\u001B[39m\u001B[38;5;124m\"\u001B[39m] \u001B[38;5;241m=\u001B[39m kwds[\u001B[38;5;124m\"\u001B[39m\u001B[38;5;124mhas_index_names\u001B[39m\u001B[38;5;124m\"\u001B[39m]\n\u001B[1;32m   1441\u001B[0m \u001B[38;5;28mself\u001B[39m\u001B[38;5;241m.\u001B[39mhandles: IOHandles \u001B[38;5;241m|\u001B[39m \u001B[38;5;28;01mNone\u001B[39;00m \u001B[38;5;241m=\u001B[39m \u001B[38;5;28;01mNone\u001B[39;00m\n\u001B[0;32m-> 1442\u001B[0m \u001B[38;5;28mself\u001B[39m\u001B[38;5;241m.\u001B[39m_engine \u001B[38;5;241m=\u001B[39m \u001B[38;5;28;43mself\u001B[39;49m\u001B[38;5;241;43m.\u001B[39;49m\u001B[43m_make_engine\u001B[49m\u001B[43m(\u001B[49m\u001B[43mf\u001B[49m\u001B[43m,\u001B[49m\u001B[43m \u001B[49m\u001B[38;5;28;43mself\u001B[39;49m\u001B[38;5;241;43m.\u001B[39;49m\u001B[43mengine\u001B[49m\u001B[43m)\u001B[49m\n",
      "File \u001B[0;32m~/Dropbox/tolzul/BayesSD/ContinuousCode/3_Data4DM/empirical_dynamics/venv/lib/python3.9/site-packages/pandas/io/parsers/readers.py:1735\u001B[0m, in \u001B[0;36mTextFileReader._make_engine\u001B[0;34m(self, f, engine)\u001B[0m\n\u001B[1;32m   1733\u001B[0m     \u001B[38;5;28;01mif\u001B[39;00m \u001B[38;5;124m\"\u001B[39m\u001B[38;5;124mb\u001B[39m\u001B[38;5;124m\"\u001B[39m \u001B[38;5;129;01mnot\u001B[39;00m \u001B[38;5;129;01min\u001B[39;00m mode:\n\u001B[1;32m   1734\u001B[0m         mode \u001B[38;5;241m+\u001B[39m\u001B[38;5;241m=\u001B[39m \u001B[38;5;124m\"\u001B[39m\u001B[38;5;124mb\u001B[39m\u001B[38;5;124m\"\u001B[39m\n\u001B[0;32m-> 1735\u001B[0m \u001B[38;5;28mself\u001B[39m\u001B[38;5;241m.\u001B[39mhandles \u001B[38;5;241m=\u001B[39m \u001B[43mget_handle\u001B[49m\u001B[43m(\u001B[49m\n\u001B[1;32m   1736\u001B[0m \u001B[43m    \u001B[49m\u001B[43mf\u001B[49m\u001B[43m,\u001B[49m\n\u001B[1;32m   1737\u001B[0m \u001B[43m    \u001B[49m\u001B[43mmode\u001B[49m\u001B[43m,\u001B[49m\n\u001B[1;32m   1738\u001B[0m \u001B[43m    \u001B[49m\u001B[43mencoding\u001B[49m\u001B[38;5;241;43m=\u001B[39;49m\u001B[38;5;28;43mself\u001B[39;49m\u001B[38;5;241;43m.\u001B[39;49m\u001B[43moptions\u001B[49m\u001B[38;5;241;43m.\u001B[39;49m\u001B[43mget\u001B[49m\u001B[43m(\u001B[49m\u001B[38;5;124;43m\"\u001B[39;49m\u001B[38;5;124;43mencoding\u001B[39;49m\u001B[38;5;124;43m\"\u001B[39;49m\u001B[43m,\u001B[49m\u001B[43m \u001B[49m\u001B[38;5;28;43;01mNone\u001B[39;49;00m\u001B[43m)\u001B[49m\u001B[43m,\u001B[49m\n\u001B[1;32m   1739\u001B[0m \u001B[43m    \u001B[49m\u001B[43mcompression\u001B[49m\u001B[38;5;241;43m=\u001B[39;49m\u001B[38;5;28;43mself\u001B[39;49m\u001B[38;5;241;43m.\u001B[39;49m\u001B[43moptions\u001B[49m\u001B[38;5;241;43m.\u001B[39;49m\u001B[43mget\u001B[49m\u001B[43m(\u001B[49m\u001B[38;5;124;43m\"\u001B[39;49m\u001B[38;5;124;43mcompression\u001B[39;49m\u001B[38;5;124;43m\"\u001B[39;49m\u001B[43m,\u001B[49m\u001B[43m \u001B[49m\u001B[38;5;28;43;01mNone\u001B[39;49;00m\u001B[43m)\u001B[49m\u001B[43m,\u001B[49m\n\u001B[1;32m   1740\u001B[0m \u001B[43m    \u001B[49m\u001B[43mmemory_map\u001B[49m\u001B[38;5;241;43m=\u001B[39;49m\u001B[38;5;28;43mself\u001B[39;49m\u001B[38;5;241;43m.\u001B[39;49m\u001B[43moptions\u001B[49m\u001B[38;5;241;43m.\u001B[39;49m\u001B[43mget\u001B[49m\u001B[43m(\u001B[49m\u001B[38;5;124;43m\"\u001B[39;49m\u001B[38;5;124;43mmemory_map\u001B[39;49m\u001B[38;5;124;43m\"\u001B[39;49m\u001B[43m,\u001B[49m\u001B[43m \u001B[49m\u001B[38;5;28;43;01mFalse\u001B[39;49;00m\u001B[43m)\u001B[49m\u001B[43m,\u001B[49m\n\u001B[1;32m   1741\u001B[0m \u001B[43m    \u001B[49m\u001B[43mis_text\u001B[49m\u001B[38;5;241;43m=\u001B[39;49m\u001B[43mis_text\u001B[49m\u001B[43m,\u001B[49m\n\u001B[1;32m   1742\u001B[0m \u001B[43m    \u001B[49m\u001B[43merrors\u001B[49m\u001B[38;5;241;43m=\u001B[39;49m\u001B[38;5;28;43mself\u001B[39;49m\u001B[38;5;241;43m.\u001B[39;49m\u001B[43moptions\u001B[49m\u001B[38;5;241;43m.\u001B[39;49m\u001B[43mget\u001B[49m\u001B[43m(\u001B[49m\u001B[38;5;124;43m\"\u001B[39;49m\u001B[38;5;124;43mencoding_errors\u001B[39;49m\u001B[38;5;124;43m\"\u001B[39;49m\u001B[43m,\u001B[49m\u001B[43m \u001B[49m\u001B[38;5;124;43m\"\u001B[39;49m\u001B[38;5;124;43mstrict\u001B[39;49m\u001B[38;5;124;43m\"\u001B[39;49m\u001B[43m)\u001B[49m\u001B[43m,\u001B[49m\n\u001B[1;32m   1743\u001B[0m \u001B[43m    \u001B[49m\u001B[43mstorage_options\u001B[49m\u001B[38;5;241;43m=\u001B[39;49m\u001B[38;5;28;43mself\u001B[39;49m\u001B[38;5;241;43m.\u001B[39;49m\u001B[43moptions\u001B[49m\u001B[38;5;241;43m.\u001B[39;49m\u001B[43mget\u001B[49m\u001B[43m(\u001B[49m\u001B[38;5;124;43m\"\u001B[39;49m\u001B[38;5;124;43mstorage_options\u001B[39;49m\u001B[38;5;124;43m\"\u001B[39;49m\u001B[43m,\u001B[49m\u001B[43m \u001B[49m\u001B[38;5;28;43;01mNone\u001B[39;49;00m\u001B[43m)\u001B[49m\u001B[43m,\u001B[49m\n\u001B[1;32m   1744\u001B[0m \u001B[43m\u001B[49m\u001B[43m)\u001B[49m\n\u001B[1;32m   1745\u001B[0m \u001B[38;5;28;01massert\u001B[39;00m \u001B[38;5;28mself\u001B[39m\u001B[38;5;241m.\u001B[39mhandles \u001B[38;5;129;01mis\u001B[39;00m \u001B[38;5;129;01mnot\u001B[39;00m \u001B[38;5;28;01mNone\u001B[39;00m\n\u001B[1;32m   1746\u001B[0m f \u001B[38;5;241m=\u001B[39m \u001B[38;5;28mself\u001B[39m\u001B[38;5;241m.\u001B[39mhandles\u001B[38;5;241m.\u001B[39mhandle\n",
      "File \u001B[0;32m~/Dropbox/tolzul/BayesSD/ContinuousCode/3_Data4DM/empirical_dynamics/venv/lib/python3.9/site-packages/pandas/io/common.py:856\u001B[0m, in \u001B[0;36mget_handle\u001B[0;34m(path_or_buf, mode, encoding, compression, memory_map, is_text, errors, storage_options)\u001B[0m\n\u001B[1;32m    851\u001B[0m \u001B[38;5;28;01melif\u001B[39;00m \u001B[38;5;28misinstance\u001B[39m(handle, \u001B[38;5;28mstr\u001B[39m):\n\u001B[1;32m    852\u001B[0m     \u001B[38;5;66;03m# Check whether the filename is to be opened in binary mode.\u001B[39;00m\n\u001B[1;32m    853\u001B[0m     \u001B[38;5;66;03m# Binary mode does not support 'encoding' and 'newline'.\u001B[39;00m\n\u001B[1;32m    854\u001B[0m     \u001B[38;5;28;01mif\u001B[39;00m ioargs\u001B[38;5;241m.\u001B[39mencoding \u001B[38;5;129;01mand\u001B[39;00m \u001B[38;5;124m\"\u001B[39m\u001B[38;5;124mb\u001B[39m\u001B[38;5;124m\"\u001B[39m \u001B[38;5;129;01mnot\u001B[39;00m \u001B[38;5;129;01min\u001B[39;00m ioargs\u001B[38;5;241m.\u001B[39mmode:\n\u001B[1;32m    855\u001B[0m         \u001B[38;5;66;03m# Encoding\u001B[39;00m\n\u001B[0;32m--> 856\u001B[0m         handle \u001B[38;5;241m=\u001B[39m \u001B[38;5;28;43mopen\u001B[39;49m\u001B[43m(\u001B[49m\n\u001B[1;32m    857\u001B[0m \u001B[43m            \u001B[49m\u001B[43mhandle\u001B[49m\u001B[43m,\u001B[49m\n\u001B[1;32m    858\u001B[0m \u001B[43m            \u001B[49m\u001B[43mioargs\u001B[49m\u001B[38;5;241;43m.\u001B[39;49m\u001B[43mmode\u001B[49m\u001B[43m,\u001B[49m\n\u001B[1;32m    859\u001B[0m \u001B[43m            \u001B[49m\u001B[43mencoding\u001B[49m\u001B[38;5;241;43m=\u001B[39;49m\u001B[43mioargs\u001B[49m\u001B[38;5;241;43m.\u001B[39;49m\u001B[43mencoding\u001B[49m\u001B[43m,\u001B[49m\n\u001B[1;32m    860\u001B[0m \u001B[43m            \u001B[49m\u001B[43merrors\u001B[49m\u001B[38;5;241;43m=\u001B[39;49m\u001B[43merrors\u001B[49m\u001B[43m,\u001B[49m\n\u001B[1;32m    861\u001B[0m \u001B[43m            \u001B[49m\u001B[43mnewline\u001B[49m\u001B[38;5;241;43m=\u001B[39;49m\u001B[38;5;124;43m\"\u001B[39;49m\u001B[38;5;124;43m\"\u001B[39;49m\u001B[43m,\u001B[49m\n\u001B[1;32m    862\u001B[0m \u001B[43m        \u001B[49m\u001B[43m)\u001B[49m\n\u001B[1;32m    863\u001B[0m     \u001B[38;5;28;01melse\u001B[39;00m:\n\u001B[1;32m    864\u001B[0m         \u001B[38;5;66;03m# Binary mode\u001B[39;00m\n\u001B[1;32m    865\u001B[0m         handle \u001B[38;5;241m=\u001B[39m \u001B[38;5;28mopen\u001B[39m(handle, ioargs\u001B[38;5;241m.\u001B[39mmode)\n",
      "\u001B[0;31mFileNotFoundError\u001B[0m: [Errno 2] No such file or directory: 'cast_info.csv'"
     ]
    }
   ],
   "source": [
    "pd.read_csv(\"cast_info.csv\").to_pickle(\"old_cast_info.pkl\")"
   ],
   "metadata": {
    "collapsed": false,
    "pycharm": {
     "name": "#%%\n"
    }
   }
  },
  {
   "cell_type": "code",
   "execution_count": 1,
   "outputs": [
    {
     "ename": "NameError",
     "evalue": "name 'pd' is not defined",
     "output_type": "error",
     "traceback": [
      "\u001B[0;31m---------------------------------------------------------------------------\u001B[0m",
      "\u001B[0;31mNameError\u001B[0m                                 Traceback (most recent call last)",
      "Cell \u001B[0;32mIn [1], line 1\u001B[0m\n\u001B[0;32m----> 1\u001B[0m \u001B[43mpd\u001B[49m\u001B[38;5;241m.\u001B[39mread_csv(\u001B[38;5;124m\"\u001B[39m\u001B[38;5;124mdata/movie/new_movie_princ.pkl\u001B[39m\u001B[38;5;124m\"\u001B[39m)\n",
      "\u001B[0;31mNameError\u001B[0m: name 'pd' is not defined"
     ]
    }
   ],
   "source": [
    "pd.read_csv(\"data/movie/new_movie_princ.pkl\")"
   ],
   "metadata": {
    "collapsed": false,
    "pycharm": {
     "name": "#%%\n"
    }
   }
  },
  {
   "cell_type": "code",
   "execution_count": 19,
   "outputs": [],
   "source": [
    "new_person.rename(columns = {'primaryName': 'name', 'birthYear': 'year'}, inplace=True)"
   ],
   "metadata": {
    "collapsed": false,
    "pycharm": {
     "name": "#%%\n"
    }
   }
  },
  {
   "cell_type": "code",
   "execution_count": 20,
   "outputs": [
    {
     "data": {
      "text/plain": "             nconst                name  year deathYear  \\\n0         nm0000001        Fred Astaire  1899      1987   \n1         nm0000002       Lauren Bacall  1924      2014   \n2         nm0000003     Brigitte Bardot  1934        \\N   \n3         nm0000004        John Belushi  1949      1982   \n4         nm0000005      Ingmar Bergman  1918      2007   \n...             ...                 ...   ...       ...   \n11988018  nm9993714   Romeo del Rosario    \\N        \\N   \n11988019  nm9993716       Essias Loberg    \\N        \\N   \n11988020  nm9993717  Harikrishnan Rajan    \\N        \\N   \n11988021  nm9993718         Aayush Nair    \\N        \\N   \n11988022  nm9993719          Andre Hill    \\N        \\N   \n\n                            primaryProfession  \\\n0              soundtrack,actor,miscellaneous   \n1                          actress,soundtrack   \n2         actress,soundtrack,music_department   \n3                     actor,soundtrack,writer   \n4                       writer,director,actor   \n...                                       ...   \n11988018  animation_department,art_department   \n11988019                                  NaN   \n11988020                      cinematographer   \n11988021                      cinematographer   \n11988022                                  NaN   \n\n                                   knownForTitles  \n0         tt0072308,tt0053137,tt0050419,tt0031983  \n1         tt0038355,tt0037382,tt0117057,tt0071877  \n2         tt0054452,tt0057345,tt0056404,tt0049189  \n3         tt0078723,tt0072562,tt0080455,tt0077975  \n4         tt0083922,tt0050986,tt0069467,tt0060827  \n...                                           ...  \n11988018          tt2455546,tt11657662,tt14069590  \n11988019                                       \\N  \n11988020                                tt8736744  \n11988021                                       \\N  \n11988022                                       \\N  \n\n[11988023 rows x 6 columns]",
      "text/html": "<div>\n<style scoped>\n    .dataframe tbody tr th:only-of-type {\n        vertical-align: middle;\n    }\n\n    .dataframe tbody tr th {\n        vertical-align: top;\n    }\n\n    .dataframe thead th {\n        text-align: right;\n    }\n</style>\n<table border=\"1\" class=\"dataframe\">\n  <thead>\n    <tr style=\"text-align: right;\">\n      <th></th>\n      <th>nconst</th>\n      <th>name</th>\n      <th>year</th>\n      <th>deathYear</th>\n      <th>primaryProfession</th>\n      <th>knownForTitles</th>\n    </tr>\n  </thead>\n  <tbody>\n    <tr>\n      <th>0</th>\n      <td>nm0000001</td>\n      <td>Fred Astaire</td>\n      <td>1899</td>\n      <td>1987</td>\n      <td>soundtrack,actor,miscellaneous</td>\n      <td>tt0072308,tt0053137,tt0050419,tt0031983</td>\n    </tr>\n    <tr>\n      <th>1</th>\n      <td>nm0000002</td>\n      <td>Lauren Bacall</td>\n      <td>1924</td>\n      <td>2014</td>\n      <td>actress,soundtrack</td>\n      <td>tt0038355,tt0037382,tt0117057,tt0071877</td>\n    </tr>\n    <tr>\n      <th>2</th>\n      <td>nm0000003</td>\n      <td>Brigitte Bardot</td>\n      <td>1934</td>\n      <td>\\N</td>\n      <td>actress,soundtrack,music_department</td>\n      <td>tt0054452,tt0057345,tt0056404,tt0049189</td>\n    </tr>\n    <tr>\n      <th>3</th>\n      <td>nm0000004</td>\n      <td>John Belushi</td>\n      <td>1949</td>\n      <td>1982</td>\n      <td>actor,soundtrack,writer</td>\n      <td>tt0078723,tt0072562,tt0080455,tt0077975</td>\n    </tr>\n    <tr>\n      <th>4</th>\n      <td>nm0000005</td>\n      <td>Ingmar Bergman</td>\n      <td>1918</td>\n      <td>2007</td>\n      <td>writer,director,actor</td>\n      <td>tt0083922,tt0050986,tt0069467,tt0060827</td>\n    </tr>\n    <tr>\n      <th>...</th>\n      <td>...</td>\n      <td>...</td>\n      <td>...</td>\n      <td>...</td>\n      <td>...</td>\n      <td>...</td>\n    </tr>\n    <tr>\n      <th>11988018</th>\n      <td>nm9993714</td>\n      <td>Romeo del Rosario</td>\n      <td>\\N</td>\n      <td>\\N</td>\n      <td>animation_department,art_department</td>\n      <td>tt2455546,tt11657662,tt14069590</td>\n    </tr>\n    <tr>\n      <th>11988019</th>\n      <td>nm9993716</td>\n      <td>Essias Loberg</td>\n      <td>\\N</td>\n      <td>\\N</td>\n      <td>NaN</td>\n      <td>\\N</td>\n    </tr>\n    <tr>\n      <th>11988020</th>\n      <td>nm9993717</td>\n      <td>Harikrishnan Rajan</td>\n      <td>\\N</td>\n      <td>\\N</td>\n      <td>cinematographer</td>\n      <td>tt8736744</td>\n    </tr>\n    <tr>\n      <th>11988021</th>\n      <td>nm9993718</td>\n      <td>Aayush Nair</td>\n      <td>\\N</td>\n      <td>\\N</td>\n      <td>cinematographer</td>\n      <td>\\N</td>\n    </tr>\n    <tr>\n      <th>11988022</th>\n      <td>nm9993719</td>\n      <td>Andre Hill</td>\n      <td>\\N</td>\n      <td>\\N</td>\n      <td>NaN</td>\n      <td>\\N</td>\n    </tr>\n  </tbody>\n</table>\n<p>11988023 rows × 6 columns</p>\n</div>"
     },
     "execution_count": 20,
     "metadata": {},
     "output_type": "execute_result"
    }
   ],
   "source": [
    "new_person"
   ],
   "metadata": {
    "collapsed": false,
    "pycharm": {
     "name": "#%%\n"
    }
   }
  },
  {
   "cell_type": "markdown",
   "source": [
    "## Cinemagoer"
   ],
   "metadata": {
    "collapsed": false,
    "pycharm": {
     "name": "#%% md\n"
    }
   }
  },
  {
   "cell_type": "code",
   "execution_count": 383,
   "metadata": {
    "pycharm": {
     "name": "#%%\n"
    }
   },
   "outputs": [
    {
     "name": "stdout",
     "output_type": "stream",
     "text": [
      "0000154 Mel Gibson\n",
      "12550288 Mel Gibson\n",
      "2153167 Mel Gibson\n",
      "0317112 Mel Gibson\n",
      "3323885 Adam Taylor\n",
      "2800055 Mel Gibson\n",
      "3742421 Melina Mari Bryant   nickname\n",
      "0317195 Terel Gibson\n",
      "0316945 Donal Gibson\n",
      "4047961 Noel Gibson\n",
      "0316878 Cal Gibson\n",
      "13996602 Joel Gibson\n",
      "3912400 Jamel Gibson\n",
      "2106809 Raquel Gibson\n",
      "0316950 E.L. Gibson\n",
      "12479102 Gel Gibson\n",
      "2798174 Daniel Gibson\n",
      "6928816 Christel Gibson\n",
      "0316915 Daniel Gibson\n",
      "1863978 Ethel Gibson\n"
     ]
    }
   ],
   "source": [
    "people = ia.search_person('Mel Gibson')\n",
    "for person in people:\n",
    "   print(person.personID, person['name'])\n",
    "person = ia.get_person('0000206')\n",
    "print(person)"
   ]
  }
 ],
 "metadata": {
  "kernelspec": {
   "display_name": "Python 3 (ipykernel)",
   "language": "python",
   "name": "python3"
  },
  "language_info": {
   "codemirror_mode": {
    "name": "ipython",
    "version": 2
   },
   "file_extension": ".py",
   "mimetype": "text/x-python",
   "name": "python",
   "nbconvert_exporter": "python",
   "pygments_lexer": "ipython2",
   "version": "2.7.6"
  }
 },
 "nbformat": 4,
 "nbformat_minor": 1
}