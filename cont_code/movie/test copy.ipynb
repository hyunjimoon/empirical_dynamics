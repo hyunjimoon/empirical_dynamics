{
 "cells": [
  {
   "cell_type": "code",
   "execution_count": 1,
   "metadata": {
    "collapsed": true,
    "pycharm": {
     "name": "#%%\n"
    }
   },
   "outputs": [],
   "source": [
    "import os\n",
    "import string\n",
    "import pandas as pd\n",
    "from movie.iter0 import set_dir_moviedata\n",
    "from movie.simulation_test import make_consistent_title\n",
    "import numpy as np\n",
    "from imdb import Cinemagoer\n",
    "# import os\n",
    "# os.chdir(os.getcwd() + \"/data/movie\")\n",
    "# test data: old_movie = pd.read_pickle('data/movie/old_movie.pkl')\n",
    "#set_dir_moviedata()\n",
    "#make_consistent_title(frac =1)"
   ]
  },
  {
   "cell_type": "code",
   "execution_count": 2,
   "outputs": [],
   "source": [
    "from movie.iter import sel_title, sel_year, sel_region_type, sel_rows_random, join_movie, save_iter, compare_mental_material"
   ],
   "metadata": {
    "collapsed": false,
    "pycharm": {
     "name": "#%%\n"
    }
   }
  },
  {
   "cell_type": "code",
   "execution_count": 3,
   "outputs": [
    {
     "name": "stdout",
     "output_type": "stream",
     "text": [
      "ITER0 COMPLETE                                         title    year\n",
      "1442752                       Sticky Business  1987.0\n",
      "2352662                            The E.N.D.  2005.0\n",
      "446218                          Schone schijn  1999.0\n",
      "1532655                               (#1.65)  1996.0\n",
      "1922701  History Undercover: The Doomsday Flu  1998.0\n",
      "...                                       ...     ...\n",
      "999768                               Tragédia  2011.0\n",
      "963961                       En riktig hjälte  1996.0\n",
      "659272                               Blackout  2004.0\n",
      "2096062                             King Coal  1977.0\n",
      "694236                           (2003-07-15)  2003.0\n",
      "\n",
      "[2545531 rows x 2 columns]              titleId                                 title  year region  \\\n",
      "4691999   tt14858816                               Pílades  2016     ES   \n",
      "11143687   tt9104250                          Episode #1.4  2018    NaN   \n",
      "7446563    tt2386850                           Ambros pur!  2007     AT   \n",
      "1509522    tt0940805              Jami Floyd: Best Defense  2006     US   \n",
      "2031389   tt10692496  A Man with a Fork in a World of Soup    \\N     GB   \n",
      "...              ...                                   ...   ...    ...   \n",
      "1949432   tt10566536                       Episode #1.1280  2015    NaN   \n",
      "5125002   tt15533700                            The Wallet    \\N     US   \n",
      "3329006   tt12720436                       Episode #1.6451  1981    NaN   \n",
      "4478659   tt14524262                        Episode #1.243    \\N    NaN   \n",
      "5866423   tt17424226                      Der erste Urlaub  2019    NaN   \n",
      "\n",
      "          titleType  \n",
      "4691999       video  \n",
      "11143687  tvEpisode  \n",
      "7446563       video  \n",
      "1509522    tvSeries  \n",
      "2031389       movie  \n",
      "...             ...  \n",
      "1949432   tvEpisode  \n",
      "5125002       movie  \n",
      "3329006   tvEpisode  \n",
      "4478659   tvEpisode  \n",
      "5866423   tvEpisode  \n",
      "\n",
      "[11578183 rows x 5 columns]\n"
     ]
    },
    {
     "name": "stderr",
     "output_type": "stream",
     "text": [
      "/Users/hyunjimoon/Dropbox/tolzul/BayesSD/ContinuousCode/3_Data4DM/empirical_dynamics/cont_code/src/iter.py:72: SettingWithCopyWarning: \n",
      "A value is trying to be set on a copy of a slice from a DataFrame.\n",
      "Try using .loc[row_indexer,col_indexer] = value instead\n",
      "\n",
      "See the caveats in the documentation: https://pandas.pydata.org/pandas-docs/stable/user_guide/indexing.html#returning-a-view-versus-a-copy\n",
      "  df.year = df.year.astype('int')\n",
      "/Users/hyunjimoon/Dropbox/tolzul/BayesSD/ContinuousCode/3_Data4DM/empirical_dynamics/cont_code/src/iter.py:75: FutureWarning: In a future version, `df.iloc[:, i] = newvals` will attempt to set the values inplace instead of always setting a new array. To retain the old behavior, use either `df[df.columns[i]] = newvals` or, if columns are non-unique, `df.isetitem(i, newvals)`\n",
      "  df.loc[:, 'year'] = df.year.apply(lambda x: int(x) if str(x).isnumeric() else -1)\n"
     ]
    },
    {
     "name": "stdout",
     "output_type": "stream",
     "text": [
      "############\n",
      "10766293\n",
      "############\n",
      "8203504\n",
      "###### ITER1 COMPLETE\n",
      "from merged table, only old's `titleId` is na, only new's `old_id`is na              titleId                     title  year region  titleType\n",
      "4691999   tt14858816                   Pílades  2016     ES      video\n",
      "11143687   tt9104250              Episode #1.4  2018    NaN  tvEpisode\n",
      "7446563    tt2386850               Ambros pur!  2007     AT      video\n",
      "1509522    tt0940805  Jami Floyd: Best Defense  2006     US   tvSeries\n",
      "9375697    tt5866370                  Daughter  2016     IR      short\n",
      "...              ...                       ...   ...    ...        ...\n",
      "7066134    tt2203613    Zhenshhina moej mechty  2005    NaN  tvEpisode\n",
      "44         tt0000020            The Derby 1895  1895     GB      short\n",
      "1949432   tt10566536           Episode #1.1280  2015    NaN  tvEpisode\n",
      "3329006   tt12720436           Episode #1.6451  1981    NaN  tvEpisode\n",
      "5866423   tt17424226          Der erste Urlaub  2019    NaN  tvEpisode\n",
      "\n",
      "[10257475 rows x 5 columns]\n",
      "rows with titleId should include nonenglish term\n",
      "              titleId                     title  year region  titleType\n",
      "4691999   tt14858816                   Pílades  2016     ES      video\n",
      "11143687   tt9104250              Episode #1.4  2018    NaN  tvEpisode\n",
      "7446563    tt2386850               Ambros pur!  2007     AT      video\n",
      "1509522    tt0940805  Jami Floyd: Best Defense  2006     US   tvSeries\n",
      "9375697    tt5866370                  Daughter  2016     IR      short\n",
      "...              ...                       ...   ...    ...        ...\n",
      "7066134    tt2203613    Zhenshhina moej mechty  2005    NaN  tvEpisode\n",
      "44         tt0000020            The Derby 1895  1895     GB      short\n",
      "1949432   tt10566536           Episode #1.1280  2015    NaN  tvEpisode\n",
      "3329006   tt12720436           Episode #1.6451  1981    NaN  tvEpisode\n",
      "5866423   tt17424226          Der erste Urlaub  2019    NaN  tvEpisode\n",
      "\n",
      "[10257475 rows x 5 columns]\n",
      "1990\n",
      "\n",
      "\n",
      "Empty DataFrame\n",
      "Columns: [index, old_id, title, year, titleId, region, titleType, soft_eng]\n",
      "Index: []\n",
      "1984\n",
      "\n",
      "\n",
      "Empty DataFrame\n",
      "Columns: [index, old_id, title, year, titleId, region, titleType, soft_eng]\n",
      "Index: []\n",
      "1968\n",
      "\n",
      "\n",
      "Empty DataFrame\n",
      "Columns: [index, old_id, title, year, titleId, region, titleType, soft_eng]\n",
      "Index: []\n",
      "1991\n",
      "\n",
      "\n",
      "Empty DataFrame\n",
      "Columns: [index, old_id, title, year, titleId, region, titleType, soft_eng]\n",
      "Index: []\n"
     ]
    },
    {
     "data": {
      "text/plain": "<Figure size 640x480 with 1 Axes>",
      "image/png": "[encoded data removed]"
     },
     "metadata": {},
     "output_type": "display_data"
    }
   ],
   "source": [
    "make_consistent_title(IS_PKL = False, IS_SAVE= False,  frac =1)\n",
    "#merged_title_iter1 = pd.read_pickle(\"merged_title_iter1.pkl\")"
   ],
   "metadata": {
    "collapsed": false,
    "pycharm": {
     "name": "#%%\n"
    }
   }
  },
  {
   "cell_type": "code",
   "execution_count": 16,
   "outputs": [
    {
     "name": "stderr",
     "output_type": "stream",
     "text": [
      "/var/folders/9z/bf6qfjvd695cjkj7s4ss1cxh0000gn/T/ipykernel_32770/1823508363.py:1: DtypeWarning: Columns (1) have mixed types. Specify dtype option on import or set low_memory=False.\n",
      "  mo = pd.read_csv(\"mo_1207.tsv\", sep = '\\t') # drop\n"
     ]
    }
   ],
   "source": [
    "mo = pd.read_csv(\"mo_1207.tsv\", sep = '\\t') # drop"
   ],
   "metadata": {
    "collapsed": false,
    "pycharm": {
     "name": "#%%\n"
    }
   }
  },
  {
   "cell_type": "code",
   "execution_count": 7,
   "outputs": [
    {
     "data": {
      "text/plain": "          Unnamed: 0      old_id                                 title  year  \\\n0                  0  OLD1442752                       Sticky Business  1987   \n1                  1  OLD2352662                            The E.N.D.  2005   \n2                  2  OLD2352662                            The E.N.D.  2005   \n3                  3   OLD446218                         Schone schijn  1999   \n4                  4  OLD1922701  History Undercover: The Doomsday Flu  1998   \n...              ...         ...                                   ...   ...   \n10766288    10766288         NaN           Blindfolded Pizza Challenge  2014   \n10766289    10766289         NaN      Einfach leben - glücklich leben?  2004   \n10766290    10766290         NaN              Louis Riddick/Josh Allen  2020   \n10766291    10766291         NaN                       Episode #1.6451  1981   \n10766292    10766292         NaN                      Der erste Urlaub  2019   \n\n             titleId region  titleType  \n0          tt0819407     US  tvEpisode  \n1          tt1437268     US      movie  \n2          tt1437268     \\N      movie  \n3          tt0575194    NaN  tvEpisode  \n4          tt0414103     US    tvMovie  \n...              ...    ...        ...  \n10766288   tt5524856    NaN  tvEpisode  \n10766289  tt20453860    NaN  tvEpisode  \n10766290  tt13727222    NaN  tvEpisode  \n10766291  tt12720436    NaN  tvEpisode  \n10766292  tt17424226    NaN  tvEpisode  \n\n[10766293 rows x 7 columns]",
      "text/html": "<div>\n<style scoped>\n    .dataframe tbody tr th:only-of-type {\n        vertical-align: middle;\n    }\n\n    .dataframe tbody tr th {\n        vertical-align: top;\n    }\n\n    .dataframe thead th {\n        text-align: right;\n    }\n</style>\n<table border=\"1\" class=\"dataframe\">\n  <thead>\n    <tr style=\"text-align: right;\">\n      <th></th>\n      <th>Unnamed: 0</th>\n      <th>old_id</th>\n      <th>title</th>\n      <th>year</th>\n      <th>titleId</th>\n      <th>region</th>\n      <th>titleType</th>\n    </tr>\n  </thead>\n  <tbody>\n    <tr>\n      <th>0</th>\n      <td>0</td>\n      <td>OLD1442752</td>\n      <td>Sticky Business</td>\n      <td>1987</td>\n      <td>tt0819407</td>\n      <td>US</td>\n      <td>tvEpisode</td>\n    </tr>\n    <tr>\n      <th>1</th>\n      <td>1</td>\n      <td>OLD2352662</td>\n      <td>The E.N.D.</td>\n      <td>2005</td>\n      <td>tt1437268</td>\n      <td>US</td>\n      <td>movie</td>\n    </tr>\n    <tr>\n      <th>2</th>\n      <td>2</td>\n      <td>OLD2352662</td>\n      <td>The E.N.D.</td>\n      <td>2005</td>\n      <td>tt1437268</td>\n      <td>\\N</td>\n      <td>movie</td>\n    </tr>\n    <tr>\n      <th>3</th>\n      <td>3</td>\n      <td>OLD446218</td>\n      <td>Schone schijn</td>\n      <td>1999</td>\n      <td>tt0575194</td>\n      <td>NaN</td>\n      <td>tvEpisode</td>\n    </tr>\n    <tr>\n      <th>4</th>\n      <td>4</td>\n      <td>OLD1922701</td>\n      <td>History Undercover: The Doomsday Flu</td>\n      <td>1998</td>\n      <td>tt0414103</td>\n      <td>US</td>\n      <td>tvMovie</td>\n    </tr>\n    <tr>\n      <th>...</th>\n      <td>...</td>\n      <td>...</td>\n      <td>...</td>\n      <td>...</td>\n      <td>...</td>\n      <td>...</td>\n      <td>...</td>\n    </tr>\n    <tr>\n      <th>10766288</th>\n      <td>10766288</td>\n      <td>NaN</td>\n      <td>Blindfolded Pizza Challenge</td>\n      <td>2014</td>\n      <td>tt5524856</td>\n      <td>NaN</td>\n      <td>tvEpisode</td>\n    </tr>\n    <tr>\n      <th>10766289</th>\n      <td>10766289</td>\n      <td>NaN</td>\n      <td>Einfach leben - glücklich leben?</td>\n      <td>2004</td>\n      <td>tt20453860</td>\n      <td>NaN</td>\n      <td>tvEpisode</td>\n    </tr>\n    <tr>\n      <th>10766290</th>\n      <td>10766290</td>\n      <td>NaN</td>\n      <td>Louis Riddick/Josh Allen</td>\n      <td>2020</td>\n      <td>tt13727222</td>\n      <td>NaN</td>\n      <td>tvEpisode</td>\n    </tr>\n    <tr>\n      <th>10766291</th>\n      <td>10766291</td>\n      <td>NaN</td>\n      <td>Episode #1.6451</td>\n      <td>1981</td>\n      <td>tt12720436</td>\n      <td>NaN</td>\n      <td>tvEpisode</td>\n    </tr>\n    <tr>\n      <th>10766292</th>\n      <td>10766292</td>\n      <td>NaN</td>\n      <td>Der erste Urlaub</td>\n      <td>2019</td>\n      <td>tt17424226</td>\n      <td>NaN</td>\n      <td>tvEpisode</td>\n    </tr>\n  </tbody>\n</table>\n<p>10766293 rows × 7 columns</p>\n</div>"
     },
     "execution_count": 7,
     "metadata": {},
     "output_type": "execute_result"
    }
   ],
   "source": [
    "mo"
   ],
   "metadata": {
    "collapsed": false,
    "pycharm": {
     "name": "#%%\n"
    }
   }
  },
  {
   "cell_type": "code",
   "execution_count": 9,
   "outputs": [],
   "source": [
    "mo_dup = mo[mo.duplicated(subset=['old_id', 'titleId'])]\n",
    "# mo.drop_duplicates(subset=['old_id', 'titleId'], keep='first', inplace=True, ignore_index=True)"
   ],
   "metadata": {
    "collapsed": false,
    "pycharm": {
     "name": "#%%\n"
    }
   }
  },
  {
   "cell_type": "code",
   "execution_count": 10,
   "outputs": [
    {
     "data": {
      "text/plain": "         Unnamed: 0      old_id    title  year    titleId region titleType\n1191284     1191284  OLD1687553  Ajeossi  2010  tt1527788     SE     movie\n1191285     1191285  OLD1687553  Ajeossi  2010  tt1527788     AE     movie\n1191286     1191286  OLD1687553  Ajeossi  2010  tt1527788     KR     movie\n1191287     1191287  OLD1687553  Ajeossi  2010  tt1527788     IN     movie\n1191288     1191288  OLD1687553  Ajeossi  2010  tt1527788     CA     movie",
      "text/html": "<div>\n<style scoped>\n    .dataframe tbody tr th:only-of-type {\n        vertical-align: middle;\n    }\n\n    .dataframe tbody tr th {\n        vertical-align: top;\n    }\n\n    .dataframe thead th {\n        text-align: right;\n    }\n</style>\n<table border=\"1\" class=\"dataframe\">\n  <thead>\n    <tr style=\"text-align: right;\">\n      <th></th>\n      <th>Unnamed: 0</th>\n      <th>old_id</th>\n      <th>title</th>\n      <th>year</th>\n      <th>titleId</th>\n      <th>region</th>\n      <th>titleType</th>\n    </tr>\n  </thead>\n  <tbody>\n    <tr>\n      <th>1191284</th>\n      <td>1191284</td>\n      <td>OLD1687553</td>\n      <td>Ajeossi</td>\n      <td>2010</td>\n      <td>tt1527788</td>\n      <td>SE</td>\n      <td>movie</td>\n    </tr>\n    <tr>\n      <th>1191285</th>\n      <td>1191285</td>\n      <td>OLD1687553</td>\n      <td>Ajeossi</td>\n      <td>2010</td>\n      <td>tt1527788</td>\n      <td>AE</td>\n      <td>movie</td>\n    </tr>\n    <tr>\n      <th>1191286</th>\n      <td>1191286</td>\n      <td>OLD1687553</td>\n      <td>Ajeossi</td>\n      <td>2010</td>\n      <td>tt1527788</td>\n      <td>KR</td>\n      <td>movie</td>\n    </tr>\n    <tr>\n      <th>1191287</th>\n      <td>1191287</td>\n      <td>OLD1687553</td>\n      <td>Ajeossi</td>\n      <td>2010</td>\n      <td>tt1527788</td>\n      <td>IN</td>\n      <td>movie</td>\n    </tr>\n    <tr>\n      <th>1191288</th>\n      <td>1191288</td>\n      <td>OLD1687553</td>\n      <td>Ajeossi</td>\n      <td>2010</td>\n      <td>tt1527788</td>\n      <td>CA</td>\n      <td>movie</td>\n    </tr>\n  </tbody>\n</table>\n</div>"
     },
     "execution_count": 10,
     "metadata": {},
     "output_type": "execute_result"
    }
   ],
   "source": [
    "mo_dup[mo_dup.title == 'Ajeossi']"
   ],
   "metadata": {
    "collapsed": false,
    "pycharm": {
     "name": "#%%\n"
    }
   }
  },
  {
   "cell_type": "code",
   "execution_count": 17,
   "outputs": [],
   "source": [
    "mo1 = mo.drop_duplicates(subset=['old_id', 'titleId'], keep='first', inplace=True, ignore_index=True)"
   ],
   "metadata": {
    "collapsed": false,
    "pycharm": {
     "name": "#%%\n"
    }
   }
  },
  {
   "cell_type": "code",
   "execution_count": 18,
   "outputs": [],
   "source": [
    "mo1"
   ],
   "metadata": {
    "collapsed": false,
    "pycharm": {
     "name": "#%%\n"
    }
   }
  },
  {
   "cell_type": "code",
   "execution_count": 14,
   "outputs": [
    {
     "ename": "AttributeError",
     "evalue": "'NoneType' object has no attribute 'title'",
     "output_type": "error",
     "traceback": [
      "\u001B[0;31m---------------------------------------------------------------------------\u001B[0m",
      "\u001B[0;31mAttributeError\u001B[0m                            Traceback (most recent call last)",
      "Cell \u001B[0;32mIn [14], line 1\u001B[0m\n\u001B[0;32m----> 1\u001B[0m mo1[\u001B[43mmo1\u001B[49m\u001B[38;5;241;43m.\u001B[39;49m\u001B[43mtitle\u001B[49m \u001B[38;5;241m==\u001B[39m \u001B[38;5;124m'\u001B[39m\u001B[38;5;124mAjeossi\u001B[39m\u001B[38;5;124m'\u001B[39m]\n",
      "\u001B[0;31mAttributeError\u001B[0m: 'NoneType' object has no attribute 'title'"
     ]
    }
   ],
   "source": [
    "mo1[mo1.title == 'Ajeossi']"
   ],
   "metadata": {
    "collapsed": false,
    "pycharm": {
     "name": "#%%\n"
    }
   }
  },
  {
   "cell_type": "code",
   "execution_count": 5,
   "outputs": [
    {
     "data": {
      "text/plain": "65879"
     },
     "execution_count": 5,
     "metadata": {},
     "output_type": "execute_result"
    }
   ],
   "source": [
    "mo_eng_us_movie = sel_region_type(sel_title(merged_title_iter1, 1, characters = ['Pilot', 'Finale'])) # 169k -> 65879\n",
    "mo_eng_us_movie.shape[0]"
   ],
   "metadata": {
    "collapsed": false,
    "pycharm": {
     "name": "#%%\n"
    }
   }
  },
  {
   "cell_type": "code",
   "execution_count": 6,
   "outputs": [
    {
     "data": {
      "text/plain": "           index      old_id                    title  year     titleId  \\\n16            16  OLD2439135  The Man Behind the Door  1914   tt0005692   \n19            19  OLD2209006               Safe House  1999   tt0183734   \n76            76  OLD1885719     Diary of a Co-Worker  2005   tt0490892   \n151          151  OLD2479214             The Red Lane  1920   tt0011616   \n247          247  OLD2176487          Love from Paris  1970   tt0143480   \n...          ...         ...                      ...   ...         ...   \n8199548  8199548         NaN                Lady Hyde  2022  tt21001736   \n8199889  8199889         NaN   The Girlfriend Project  2022   tt6385442   \n8200049  8200049         NaN    One Cent Can't Change  2022  tt18311364   \n8202123  8202123         NaN        Bundles the Movie  2022  tt21854866   \n8202789  8202789         NaN   Creatures of the Night  2023  tt17131872   \n\n        region titleType  \n16          US     movie  \n19          US     movie  \n76          US     movie  \n151         US     movie  \n247         US     movie  \n...        ...       ...  \n8199548     US     movie  \n8199889     US     movie  \n8200049     US     movie  \n8202123     US     movie  \n8202789     US     movie  \n\n[65879 rows x 7 columns]",
      "text/html": "<div>\n<style scoped>\n    .dataframe tbody tr th:only-of-type {\n        vertical-align: middle;\n    }\n\n    .dataframe tbody tr th {\n        vertical-align: top;\n    }\n\n    .dataframe thead th {\n        text-align: right;\n    }\n</style>\n<table border=\"1\" class=\"dataframe\">\n  <thead>\n    <tr style=\"text-align: right;\">\n      <th></th>\n      <th>index</th>\n      <th>old_id</th>\n      <th>title</th>\n      <th>year</th>\n      <th>titleId</th>\n      <th>region</th>\n      <th>titleType</th>\n    </tr>\n  </thead>\n  <tbody>\n    <tr>\n      <th>16</th>\n      <td>16</td>\n      <td>OLD2439135</td>\n      <td>The Man Behind the Door</td>\n      <td>1914</td>\n      <td>tt0005692</td>\n      <td>US</td>\n      <td>movie</td>\n    </tr>\n    <tr>\n      <th>19</th>\n      <td>19</td>\n      <td>OLD2209006</td>\n      <td>Safe House</td>\n      <td>1999</td>\n      <td>tt0183734</td>\n      <td>US</td>\n      <td>movie</td>\n    </tr>\n    <tr>\n      <th>76</th>\n      <td>76</td>\n      <td>OLD1885719</td>\n      <td>Diary of a Co-Worker</td>\n      <td>2005</td>\n      <td>tt0490892</td>\n      <td>US</td>\n      <td>movie</td>\n    </tr>\n    <tr>\n      <th>151</th>\n      <td>151</td>\n      <td>OLD2479214</td>\n      <td>The Red Lane</td>\n      <td>1920</td>\n      <td>tt0011616</td>\n      <td>US</td>\n      <td>movie</td>\n    </tr>\n    <tr>\n      <th>247</th>\n      <td>247</td>\n      <td>OLD2176487</td>\n      <td>Love from Paris</td>\n      <td>1970</td>\n      <td>tt0143480</td>\n      <td>US</td>\n      <td>movie</td>\n    </tr>\n    <tr>\n      <th>...</th>\n      <td>...</td>\n      <td>...</td>\n      <td>...</td>\n      <td>...</td>\n      <td>...</td>\n      <td>...</td>\n      <td>...</td>\n    </tr>\n    <tr>\n      <th>8199548</th>\n      <td>8199548</td>\n      <td>NaN</td>\n      <td>Lady Hyde</td>\n      <td>2022</td>\n      <td>tt21001736</td>\n      <td>US</td>\n      <td>movie</td>\n    </tr>\n    <tr>\n      <th>8199889</th>\n      <td>8199889</td>\n      <td>NaN</td>\n      <td>The Girlfriend Project</td>\n      <td>2022</td>\n      <td>tt6385442</td>\n      <td>US</td>\n      <td>movie</td>\n    </tr>\n    <tr>\n      <th>8200049</th>\n      <td>8200049</td>\n      <td>NaN</td>\n      <td>One Cent Can't Change</td>\n      <td>2022</td>\n      <td>tt18311364</td>\n      <td>US</td>\n      <td>movie</td>\n    </tr>\n    <tr>\n      <th>8202123</th>\n      <td>8202123</td>\n      <td>NaN</td>\n      <td>Bundles the Movie</td>\n      <td>2022</td>\n      <td>tt21854866</td>\n      <td>US</td>\n      <td>movie</td>\n    </tr>\n    <tr>\n      <th>8202789</th>\n      <td>8202789</td>\n      <td>NaN</td>\n      <td>Creatures of the Night</td>\n      <td>2023</td>\n      <td>tt17131872</td>\n      <td>US</td>\n      <td>movie</td>\n    </tr>\n  </tbody>\n</table>\n<p>65879 rows × 7 columns</p>\n</div>"
     },
     "execution_count": 6,
     "metadata": {},
     "output_type": "execute_result"
    }
   ],
   "source": [
    "mo_eng_us_movie"
   ],
   "metadata": {
    "collapsed": false,
    "pycharm": {
     "name": "#%%\n"
    }
   }
  },
  {
   "cell_type": "code",
   "execution_count": 7,
   "outputs": [
    {
     "data": {
      "text/plain": "Empty DataFrame\nColumns: [index, old_id, title, year, titleId, region, titleType]\nIndex: []",
      "text/html": "<div>\n<style scoped>\n    .dataframe tbody tr th:only-of-type {\n        vertical-align: middle;\n    }\n\n    .dataframe tbody tr th {\n        vertical-align: top;\n    }\n\n    .dataframe thead th {\n        text-align: right;\n    }\n</style>\n<table border=\"1\" class=\"dataframe\">\n  <thead>\n    <tr style=\"text-align: right;\">\n      <th></th>\n      <th>index</th>\n      <th>old_id</th>\n      <th>title</th>\n      <th>year</th>\n      <th>titleId</th>\n      <th>region</th>\n      <th>titleType</th>\n    </tr>\n  </thead>\n  <tbody>\n  </tbody>\n</table>\n</div>"
     },
     "execution_count": 7,
     "metadata": {},
     "output_type": "execute_result"
    }
   ],
   "source": [
    "mo_eng_us_movie[mo_eng_us_movie.titleId.isnull()]"
   ],
   "metadata": {
    "collapsed": false,
    "pycharm": {
     "name": "#%%\n"
    }
   }
  },
  {
   "cell_type": "code",
   "execution_count": 8,
   "outputs": [
    {
     "data": {
      "text/plain": "           index old_id                                        title  year  \\\n1814411  1814411    NaN                                For the Birds  2016   \n1814414  1814414    NaN                           The Arab Americans  2015   \n1814559  1814559    NaN  Valerian and the City of a Thousand Planets  2017   \n1814713  1814713    NaN                           Love of a Lifetime  2017   \n1817523  1817523    NaN                                 The Callback  2021   \n...          ...    ...                                          ...   ...   \n8199548  8199548    NaN                                    Lady Hyde  2022   \n8199889  8199889    NaN                       The Girlfriend Project  2022   \n8200049  8200049    NaN                        One Cent Can't Change  2022   \n8202123  8202123    NaN                            Bundles the Movie  2022   \n8202789  8202789    NaN                       Creatures of the Night  2023   \n\n            titleId region titleType  \n1814411   tt6017950     US     movie  \n1814414   tt2369365     US     movie  \n1814559   tt2239822     US     movie  \n1814713   tt4478324     US     movie  \n1817523  tt13539840     US     movie  \n...             ...    ...       ...  \n8199548  tt21001736     US     movie  \n8199889   tt6385442     US     movie  \n8200049  tt18311364     US     movie  \n8202123  tt21854866     US     movie  \n8202789  tt17131872     US     movie  \n\n[30672 rows x 7 columns]",
      "text/html": "<div>\n<style scoped>\n    .dataframe tbody tr th:only-of-type {\n        vertical-align: middle;\n    }\n\n    .dataframe tbody tr th {\n        vertical-align: top;\n    }\n\n    .dataframe thead th {\n        text-align: right;\n    }\n</style>\n<table border=\"1\" class=\"dataframe\">\n  <thead>\n    <tr style=\"text-align: right;\">\n      <th></th>\n      <th>index</th>\n      <th>old_id</th>\n      <th>title</th>\n      <th>year</th>\n      <th>titleId</th>\n      <th>region</th>\n      <th>titleType</th>\n    </tr>\n  </thead>\n  <tbody>\n    <tr>\n      <th>1814411</th>\n      <td>1814411</td>\n      <td>NaN</td>\n      <td>For the Birds</td>\n      <td>2016</td>\n      <td>tt6017950</td>\n      <td>US</td>\n      <td>movie</td>\n    </tr>\n    <tr>\n      <th>1814414</th>\n      <td>1814414</td>\n      <td>NaN</td>\n      <td>The Arab Americans</td>\n      <td>2015</td>\n      <td>tt2369365</td>\n      <td>US</td>\n      <td>movie</td>\n    </tr>\n    <tr>\n      <th>1814559</th>\n      <td>1814559</td>\n      <td>NaN</td>\n      <td>Valerian and the City of a Thousand Planets</td>\n      <td>2017</td>\n      <td>tt2239822</td>\n      <td>US</td>\n      <td>movie</td>\n    </tr>\n    <tr>\n      <th>1814713</th>\n      <td>1814713</td>\n      <td>NaN</td>\n      <td>Love of a Lifetime</td>\n      <td>2017</td>\n      <td>tt4478324</td>\n      <td>US</td>\n      <td>movie</td>\n    </tr>\n    <tr>\n      <th>1817523</th>\n      <td>1817523</td>\n      <td>NaN</td>\n      <td>The Callback</td>\n      <td>2021</td>\n      <td>tt13539840</td>\n      <td>US</td>\n      <td>movie</td>\n    </tr>\n    <tr>\n      <th>...</th>\n      <td>...</td>\n      <td>...</td>\n      <td>...</td>\n      <td>...</td>\n      <td>...</td>\n      <td>...</td>\n      <td>...</td>\n    </tr>\n    <tr>\n      <th>8199548</th>\n      <td>8199548</td>\n      <td>NaN</td>\n      <td>Lady Hyde</td>\n      <td>2022</td>\n      <td>tt21001736</td>\n      <td>US</td>\n      <td>movie</td>\n    </tr>\n    <tr>\n      <th>8199889</th>\n      <td>8199889</td>\n      <td>NaN</td>\n      <td>The Girlfriend Project</td>\n      <td>2022</td>\n      <td>tt6385442</td>\n      <td>US</td>\n      <td>movie</td>\n    </tr>\n    <tr>\n      <th>8200049</th>\n      <td>8200049</td>\n      <td>NaN</td>\n      <td>One Cent Can't Change</td>\n      <td>2022</td>\n      <td>tt18311364</td>\n      <td>US</td>\n      <td>movie</td>\n    </tr>\n    <tr>\n      <th>8202123</th>\n      <td>8202123</td>\n      <td>NaN</td>\n      <td>Bundles the Movie</td>\n      <td>2022</td>\n      <td>tt21854866</td>\n      <td>US</td>\n      <td>movie</td>\n    </tr>\n    <tr>\n      <th>8202789</th>\n      <td>8202789</td>\n      <td>NaN</td>\n      <td>Creatures of the Night</td>\n      <td>2023</td>\n      <td>tt17131872</td>\n      <td>US</td>\n      <td>movie</td>\n    </tr>\n  </tbody>\n</table>\n<p>30672 rows × 7 columns</p>\n</div>"
     },
     "execution_count": 8,
     "metadata": {},
     "output_type": "execute_result"
    }
   ],
   "source": [
    "mo_eng_us_movie[mo_eng_us_movie.old_id.isnull()]"
   ],
   "metadata": {
    "collapsed": false,
    "pycharm": {
     "name": "#%%\n"
    }
   }
  },
  {
   "cell_type": "code",
   "execution_count": 9,
   "outputs": [],
   "source": [
    "merged_title_eng_us_movie = pd.read_pickle(\"merged_title_eng_us_movie.pkl\")"
   ],
   "metadata": {
    "collapsed": false,
    "pycharm": {
     "name": "#%%\n"
    }
   }
  },
  {
   "cell_type": "code",
   "execution_count": 10,
   "outputs": [
    {
     "data": {
      "text/plain": "Empty DataFrame\nColumns: [index, old_id, title, year, titleId, region, titleType, soft_eng]\nIndex: []",
      "text/html": "<div>\n<style scoped>\n    .dataframe tbody tr th:only-of-type {\n        vertical-align: middle;\n    }\n\n    .dataframe tbody tr th {\n        vertical-align: top;\n    }\n\n    .dataframe thead th {\n        text-align: right;\n    }\n</style>\n<table border=\"1\" class=\"dataframe\">\n  <thead>\n    <tr style=\"text-align: right;\">\n      <th></th>\n      <th>index</th>\n      <th>old_id</th>\n      <th>title</th>\n      <th>year</th>\n      <th>titleId</th>\n      <th>region</th>\n      <th>titleType</th>\n      <th>soft_eng</th>\n    </tr>\n  </thead>\n  <tbody>\n  </tbody>\n</table>\n</div>"
     },
     "execution_count": 10,
     "metadata": {},
     "output_type": "execute_result"
    }
   ],
   "source": [
    "pd.read_pickle(\"only_old_title.pkl\")"
   ],
   "metadata": {
    "collapsed": false,
    "pycharm": {
     "name": "#%%\n"
    }
   }
  },
  {
   "cell_type": "code",
   "execution_count": 11,
   "outputs": [
    {
     "data": {
      "text/plain": "'/Users/hyunjimoon/Dropbox/tolzul/BayesSD/ContinuousCode/3_Data4DM/empirical_dynamics/cont_code/data/movie'"
     },
     "execution_count": 11,
     "metadata": {},
     "output_type": "execute_result"
    }
   ],
   "source": [
    "os.getcwd()"
   ],
   "metadata": {
    "collapsed": false,
    "pycharm": {
     "name": "#%%\n"
    }
   }
  },
  {
   "cell_type": "code",
   "execution_count": 11,
   "outputs": [],
   "source": [],
   "metadata": {
    "collapsed": false,
    "pycharm": {
     "name": "#%%\n"
    }
   }
  }
 ],
 "metadata": {
  "kernelspec": {
   "display_name": "Python 3",
   "language": "python",
   "name": "python3"
  },
  "language_info": {
   "codemirror_mode": {
    "name": "ipython",
    "version": 2
   },
   "file_extension": ".py",
   "mimetype": "text/x-python",
   "name": "python",
   "nbconvert_exporter": "python",
   "pygments_lexer": "ipython2",
   "version": "2.7.6"
  }
 },
 "nbformat": 4,
 "nbformat_minor": 0
}