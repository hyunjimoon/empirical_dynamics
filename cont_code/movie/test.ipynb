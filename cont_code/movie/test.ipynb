{
 "cells": [
  {
   "cell_type": "code",
   "execution_count": 2,
   "metadata": {
    "collapsed": true,
    "pycharm": {
     "name": "#%%\n"
    }
   },
   "outputs": [],
   "source": [
    "import os\n",
    "#import xarray as xr\n",
    "import pandas as pd\n",
    "from iter0 import set_dir_moviedata\n",
    "from simulation_test import make_consistent_title\n",
    "import numpy as np\n",
    "#from imdb import Cinemagoer\n",
    "# import os\n",
    "# os.chdir(os.getcwd() + \"/data/movie\")\n",
    "# test data: old_movie = pd.read_pickle('data/movie/old_movie.pkl')\n",
    "set_dir_moviedata()\n",
    "import string\n",
    "from langdetect import detect\n",
    "#make_consistent_title(frac =1)\n",
    "from iter import sel_title, sel_year, sel_region_type, sel_rows_random, join_movie, save_iter, compare_mental_material"
   ]
  },
  {
   "cell_type": "code",
   "execution_count": 3,
   "metadata": {
    "pycharm": {
     "name": "#%%\n"
    }
   },
   "outputs": [],
   "source": [
    "join2 = pd.read_pickle(\"2join_merged_title.pkl\")"
   ]
  },
  {
   "cell_type": "code",
   "execution_count": 18,
   "metadata": {
    "pycharm": {
     "name": "#%%\n"
    }
   },
   "outputs": [
    {
     "data": {
      "text/html": [
       "<div>\n",
       "<style scoped>\n",
       "    .dataframe tbody tr th:only-of-type {\n",
       "        vertical-align: middle;\n",
       "    }\n",
       "\n",
       "    .dataframe tbody tr th {\n",
       "        vertical-align: top;\n",
       "    }\n",
       "\n",
       "    .dataframe thead th {\n",
       "        text-align: right;\n",
       "    }\n",
       "</style>\n",
       "<table border=\"1\" class=\"dataframe\">\n",
       "  <thead>\n",
       "    <tr style=\"text-align: right;\">\n",
       "      <th></th>\n",
       "      <th>index</th>\n",
       "      <th>old_id</th>\n",
       "      <th>title</th>\n",
       "      <th>year</th>\n",
       "      <th>titleId</th>\n",
       "      <th>region</th>\n",
       "      <th>titleType</th>\n",
       "      <th>soft_eng</th>\n",
       "    </tr>\n",
       "  </thead>\n",
       "  <tbody>\n",
       "    <tr>\n",
       "      <th>13</th>\n",
       "      <td>13</td>\n",
       "      <td>OLD773454</td>\n",
       "      <td>El próximo verano</td>\n",
       "      <td>1986</td>\n",
       "      <td>NaN</td>\n",
       "      <td>NaN</td>\n",
       "      <td>NaN</td>\n",
       "      <td>False</td>\n",
       "    </tr>\n",
       "    <tr>\n",
       "      <th>52</th>\n",
       "      <td>52</td>\n",
       "      <td>OLD2259020</td>\n",
       "      <td>Sandra Munt y la Sociedad Thule</td>\n",
       "      <td>2015</td>\n",
       "      <td>NaN</td>\n",
       "      <td>NaN</td>\n",
       "      <td>NaN</td>\n",
       "      <td>True</td>\n",
       "    </tr>\n",
       "    <tr>\n",
       "      <th>67</th>\n",
       "      <td>67</td>\n",
       "      <td>OLD2183758</td>\n",
       "      <td>One by One</td>\n",
       "      <td>2012</td>\n",
       "      <td>NaN</td>\n",
       "      <td>NaN</td>\n",
       "      <td>NaN</td>\n",
       "      <td>True</td>\n",
       "    </tr>\n",
       "    <tr>\n",
       "      <th>70</th>\n",
       "      <td>70</td>\n",
       "      <td>OLD2072697</td>\n",
       "      <td>La promesse d'une mère</td>\n",
       "      <td>2013</td>\n",
       "      <td>NaN</td>\n",
       "      <td>NaN</td>\n",
       "      <td>NaN</td>\n",
       "      <td>False</td>\n",
       "    </tr>\n",
       "    <tr>\n",
       "      <th>71</th>\n",
       "      <td>71</td>\n",
       "      <td>OLD1487978</td>\n",
       "      <td>The Wrecker</td>\n",
       "      <td>1968</td>\n",
       "      <td>NaN</td>\n",
       "      <td>NaN</td>\n",
       "      <td>NaN</td>\n",
       "      <td>True</td>\n",
       "    </tr>\n",
       "    <tr>\n",
       "      <th>...</th>\n",
       "      <td>...</td>\n",
       "      <td>...</td>\n",
       "      <td>...</td>\n",
       "      <td>...</td>\n",
       "      <td>...</td>\n",
       "      <td>...</td>\n",
       "      <td>...</td>\n",
       "      <td>...</td>\n",
       "    </tr>\n",
       "    <tr>\n",
       "      <th>1808223</th>\n",
       "      <td>1808223</td>\n",
       "      <td>OLD1648130</td>\n",
       "      <td>Adnan semp-it</td>\n",
       "      <td>2010</td>\n",
       "      <td>NaN</td>\n",
       "      <td>NaN</td>\n",
       "      <td>NaN</td>\n",
       "      <td>True</td>\n",
       "    </tr>\n",
       "    <tr>\n",
       "      <th>1808244</th>\n",
       "      <td>1808244</td>\n",
       "      <td>OLD132045</td>\n",
       "      <td>Murder of the Killer</td>\n",
       "      <td>2007</td>\n",
       "      <td>NaN</td>\n",
       "      <td>NaN</td>\n",
       "      <td>NaN</td>\n",
       "      <td>True</td>\n",
       "    </tr>\n",
       "    <tr>\n",
       "      <th>1808245</th>\n",
       "      <td>1808245</td>\n",
       "      <td>OLD2260318</td>\n",
       "      <td>Ru Lai Ba Gua Gun</td>\n",
       "      <td>1985</td>\n",
       "      <td>NaN</td>\n",
       "      <td>NaN</td>\n",
       "      <td>NaN</td>\n",
       "      <td>True</td>\n",
       "    </tr>\n",
       "    <tr>\n",
       "      <th>1808260</th>\n",
       "      <td>1808260</td>\n",
       "      <td>OLD2104712</td>\n",
       "      <td>Overdrive</td>\n",
       "      <td>1997</td>\n",
       "      <td>NaN</td>\n",
       "      <td>NaN</td>\n",
       "      <td>NaN</td>\n",
       "      <td>True</td>\n",
       "    </tr>\n",
       "    <tr>\n",
       "      <th>1808274</th>\n",
       "      <td>1808274</td>\n",
       "      <td>OLD1398299</td>\n",
       "      <td>Not Now, I'm Dying/Eleanor's Return/Too Young ...</td>\n",
       "      <td>1979</td>\n",
       "      <td>NaN</td>\n",
       "      <td>NaN</td>\n",
       "      <td>NaN</td>\n",
       "      <td>True</td>\n",
       "    </tr>\n",
       "  </tbody>\n",
       "</table>\n",
       "<p>102902 rows × 8 columns</p>\n",
       "</div>"
      ],
      "text/plain": [
       "           index      old_id  \\\n",
       "13            13   OLD773454   \n",
       "52            52  OLD2259020   \n",
       "67            67  OLD2183758   \n",
       "70            70  OLD2072697   \n",
       "71            71  OLD1487978   \n",
       "...          ...         ...   \n",
       "1808223  1808223  OLD1648130   \n",
       "1808244  1808244   OLD132045   \n",
       "1808245  1808245  OLD2260318   \n",
       "1808260  1808260  OLD2104712   \n",
       "1808274  1808274  OLD1398299   \n",
       "\n",
       "                                                     title  year titleId  \\\n",
       "13                                       El próximo verano  1986     NaN   \n",
       "52                         Sandra Munt y la Sociedad Thule  2015     NaN   \n",
       "67                                              One by One  2012     NaN   \n",
       "70                                  La promesse d'une mère  2013     NaN   \n",
       "71                                             The Wrecker  1968     NaN   \n",
       "...                                                    ...   ...     ...   \n",
       "1808223                                      Adnan semp-it  2010     NaN   \n",
       "1808244                               Murder of the Killer  2007     NaN   \n",
       "1808245                                  Ru Lai Ba Gua Gun  1985     NaN   \n",
       "1808260                                          Overdrive  1997     NaN   \n",
       "1808274  Not Now, I'm Dying/Eleanor's Return/Too Young ...  1979     NaN   \n",
       "\n",
       "        region titleType  soft_eng  \n",
       "13         NaN       NaN     False  \n",
       "52         NaN       NaN      True  \n",
       "67         NaN       NaN      True  \n",
       "70         NaN       NaN     False  \n",
       "71         NaN       NaN      True  \n",
       "...        ...       ...       ...  \n",
       "1808223    NaN       NaN      True  \n",
       "1808244    NaN       NaN      True  \n",
       "1808245    NaN       NaN      True  \n",
       "1808260    NaN       NaN      True  \n",
       "1808274    NaN       NaN      True  \n",
       "\n",
       "[102902 rows x 8 columns]"
      ]
     },
     "execution_count": 18,
     "metadata": {},
     "output_type": "execute_result"
    }
   ],
   "source": []
  },
  {
   "cell_type": "code",
   "execution_count": 20,
   "metadata": {
    "pycharm": {
     "name": "#%%\n"
    }
   },
   "outputs": [
    {
     "data": {
      "text/plain": [
       "101261"
      ]
     },
     "execution_count": 20,
     "metadata": {},
     "output_type": "execute_result"
    }
   ],
   "source": [
    "len(join2[join2.titleId.isnull()].title.unique()) #101k"
   ]
  },
  {
   "cell_type": "code",
   "execution_count": 15,
   "metadata": {
    "pycharm": {
     "name": "#%%\n"
    }
   },
   "outputs": [
    {
     "name": "stdout",
     "output_type": "stream",
     "text": [
      "(620019, 8)\n"
     ]
    },
    {
     "data": {
      "text/plain": [
       "509272"
      ]
     },
     "execution_count": 15,
     "metadata": {},
     "output_type": "execute_result"
    }
   ],
   "source": [
    "print(optin3.shape) #620019\n",
    "len(optin3.title.unique()) #509272"
   ]
  },
  {
   "cell_type": "code",
   "execution_count": 13,
   "metadata": {
    "pycharm": {
     "name": "#%%\n"
    }
   },
   "outputs": [
    {
     "data": {
      "text/html": [
       "<div>\n",
       "<style scoped>\n",
       "    .dataframe tbody tr th:only-of-type {\n",
       "        vertical-align: middle;\n",
       "    }\n",
       "\n",
       "    .dataframe tbody tr th {\n",
       "        vertical-align: top;\n",
       "    }\n",
       "\n",
       "    .dataframe thead th {\n",
       "        text-align: right;\n",
       "    }\n",
       "</style>\n",
       "<table border=\"1\" class=\"dataframe\">\n",
       "  <thead>\n",
       "    <tr style=\"text-align: right;\">\n",
       "      <th></th>\n",
       "      <th>index</th>\n",
       "      <th>old_id</th>\n",
       "      <th>title</th>\n",
       "      <th>year</th>\n",
       "      <th>titleId</th>\n",
       "      <th>region</th>\n",
       "      <th>titleType</th>\n",
       "      <th>soft_eng</th>\n",
       "    </tr>\n",
       "  </thead>\n",
       "  <tbody>\n",
       "  </tbody>\n",
       "</table>\n",
       "</div>"
      ],
      "text/plain": [
       "Empty DataFrame\n",
       "Columns: [index, old_id, title, year, titleId, region, titleType, soft_eng]\n",
       "Index: []"
      ]
     },
     "execution_count": 13,
     "metadata": {},
     "output_type": "execute_result"
    }
   ],
   "source": [
    "optin3[optin3.titleId.isnull()] "
   ]
  },
  {
   "cell_type": "code",
   "execution_count": 17,
   "metadata": {
    "pycharm": {
     "name": "#%%\n"
    }
   },
   "outputs": [
    {
     "data": {
      "text/html": [
       "<div>\n",
       "<style scoped>\n",
       "    .dataframe tbody tr th:only-of-type {\n",
       "        vertical-align: middle;\n",
       "    }\n",
       "\n",
       "    .dataframe tbody tr th {\n",
       "        vertical-align: top;\n",
       "    }\n",
       "\n",
       "    .dataframe thead th {\n",
       "        text-align: right;\n",
       "    }\n",
       "</style>\n",
       "<table border=\"1\" class=\"dataframe\">\n",
       "  <thead>\n",
       "    <tr style=\"text-align: right;\">\n",
       "      <th></th>\n",
       "      <th>index</th>\n",
       "      <th>old_id</th>\n",
       "      <th>title</th>\n",
       "      <th>year</th>\n",
       "      <th>titleId</th>\n",
       "      <th>region</th>\n",
       "      <th>soft_eng</th>\n",
       "    </tr>\n",
       "    <tr>\n",
       "      <th>titleType</th>\n",
       "      <th></th>\n",
       "      <th></th>\n",
       "      <th></th>\n",
       "      <th></th>\n",
       "      <th></th>\n",
       "      <th></th>\n",
       "      <th></th>\n",
       "    </tr>\n",
       "  </thead>\n",
       "  <tbody>\n",
       "    <tr>\n",
       "      <th>movie</th>\n",
       "      <td>65451</td>\n",
       "      <td>35071</td>\n",
       "      <td>65451</td>\n",
       "      <td>65451</td>\n",
       "      <td>65451</td>\n",
       "      <td>65451</td>\n",
       "      <td>65451</td>\n",
       "    </tr>\n",
       "    <tr>\n",
       "      <th>short</th>\n",
       "      <td>197717</td>\n",
       "      <td>77377</td>\n",
       "      <td>197717</td>\n",
       "      <td>197717</td>\n",
       "      <td>197717</td>\n",
       "      <td>197717</td>\n",
       "      <td>197717</td>\n",
       "    </tr>\n",
       "    <tr>\n",
       "      <th>tvEpisode</th>\n",
       "      <td>200248</td>\n",
       "      <td>100126</td>\n",
       "      <td>200248</td>\n",
       "      <td>200248</td>\n",
       "      <td>200248</td>\n",
       "      <td>200248</td>\n",
       "      <td>200248</td>\n",
       "    </tr>\n",
       "    <tr>\n",
       "      <th>tvMiniSeries</th>\n",
       "      <td>6005</td>\n",
       "      <td>811</td>\n",
       "      <td>6005</td>\n",
       "      <td>6005</td>\n",
       "      <td>6005</td>\n",
       "      <td>6005</td>\n",
       "      <td>6005</td>\n",
       "    </tr>\n",
       "    <tr>\n",
       "      <th>tvMovie</th>\n",
       "      <td>16203</td>\n",
       "      <td>10114</td>\n",
       "      <td>16203</td>\n",
       "      <td>16203</td>\n",
       "      <td>16203</td>\n",
       "      <td>16203</td>\n",
       "      <td>16203</td>\n",
       "    </tr>\n",
       "    <tr>\n",
       "      <th>tvSeries</th>\n",
       "      <td>35563</td>\n",
       "      <td>11163</td>\n",
       "      <td>35563</td>\n",
       "      <td>35563</td>\n",
       "      <td>35563</td>\n",
       "      <td>35563</td>\n",
       "      <td>35563</td>\n",
       "    </tr>\n",
       "    <tr>\n",
       "      <th>tvShort</th>\n",
       "      <td>2224</td>\n",
       "      <td>797</td>\n",
       "      <td>2224</td>\n",
       "      <td>2224</td>\n",
       "      <td>2224</td>\n",
       "      <td>2224</td>\n",
       "      <td>2224</td>\n",
       "    </tr>\n",
       "    <tr>\n",
       "      <th>tvSpecial</th>\n",
       "      <td>10286</td>\n",
       "      <td>4536</td>\n",
       "      <td>10286</td>\n",
       "      <td>10286</td>\n",
       "      <td>10286</td>\n",
       "      <td>10286</td>\n",
       "      <td>10286</td>\n",
       "    </tr>\n",
       "    <tr>\n",
       "      <th>video</th>\n",
       "      <td>80094</td>\n",
       "      <td>40526</td>\n",
       "      <td>80094</td>\n",
       "      <td>80094</td>\n",
       "      <td>80094</td>\n",
       "      <td>80094</td>\n",
       "      <td>80094</td>\n",
       "    </tr>\n",
       "    <tr>\n",
       "      <th>videoGame</th>\n",
       "      <td>6228</td>\n",
       "      <td>2728</td>\n",
       "      <td>6228</td>\n",
       "      <td>6228</td>\n",
       "      <td>6228</td>\n",
       "      <td>6228</td>\n",
       "      <td>6228</td>\n",
       "    </tr>\n",
       "  </tbody>\n",
       "</table>\n",
       "</div>"
      ],
      "text/plain": [
       "               index  old_id   title    year  titleId  region  soft_eng\n",
       "titleType                                                              \n",
       "movie          65451   35071   65451   65451    65451   65451     65451\n",
       "short         197717   77377  197717  197717   197717  197717    197717\n",
       "tvEpisode     200248  100126  200248  200248   200248  200248    200248\n",
       "tvMiniSeries    6005     811    6005    6005     6005    6005      6005\n",
       "tvMovie        16203   10114   16203   16203    16203   16203     16203\n",
       "tvSeries       35563   11163   35563   35563    35563   35563     35563\n",
       "tvShort         2224     797    2224    2224     2224    2224      2224\n",
       "tvSpecial      10286    4536   10286   10286    10286   10286     10286\n",
       "video          80094   40526   80094   80094    80094   80094     80094\n",
       "videoGame       6228    2728    6228    6228     6228    6228      6228"
      ]
     },
     "execution_count": 17,
     "metadata": {},
     "output_type": "execute_result"
    }
   ],
   "source": [
    "optin3.groupby('titleType').count() "
   ]
  },
  {
   "cell_type": "code",
   "execution_count": null,
   "metadata": {
    "pycharm": {
     "name": "#%%\n"
    }
   },
   "outputs": [],
   "source": [
    "# 1년 차이나는 것"
   ]
  },
  {
   "cell_type": "code",
   "execution_count": 8,
   "metadata": {
    "pycharm": {
     "name": "#%%\n"
    }
   },
   "outputs": [
    {
     "name": "stderr",
     "output_type": "stream",
     "text": [
      "/var/folders/f0/xzz_g2mx5qb8982lmv5jylgc0000gn/T/ipykernel_54325/1155404167.py:7: SettingWithCopyWarning: \n",
      "A value is trying to be set on a copy of a slice from a DataFrame.\n",
      "Try using .loc[row_indexer,col_indexer] = value instead\n",
      "\n",
      "See the caveats in the documentation: https://pandas.pydata.org/pandas-docs/stable/user_guide/indexing.html#returning-a-view-versus-a-copy\n",
      "  df.loc[id, 'strong_eng'] = np.nan\n"
     ]
    },
    {
     "name": "stdout",
     "output_type": "stream",
     "text": [
      "Welcome to Whitechapel District\n",
      "The Rivals\n",
      "For the Love of the Dame\n",
      "Tom Jones\n",
      "Tress, Treat and Tips\n",
      "Bro to Bro/Trick or Trixie\n",
      "Hart of Gold\n",
      "Two Bulls in a Pen\n",
      "5 Handyman Secrets Revealed\n",
      "Johnson Over Jordan\n",
      "Ice My House\n",
      "Hungry for Love\n",
      "Kaun Rokega Mujhe\n"
     ]
    },
    {
     "name": "stderr",
     "output_type": "stream",
     "text": [
      "/var/folders/f0/xzz_g2mx5qb8982lmv5jylgc0000gn/T/ipykernel_54325/1155404167.py:7: SettingWithCopyWarning: \n",
      "A value is trying to be set on a copy of a slice from a DataFrame\n",
      "\n",
      "See the caveats in the documentation: https://pandas.pydata.org/pandas-docs/stable/user_guide/indexing.html#returning-a-view-versus-a-copy\n",
      "  df.loc[id, 'strong_eng'] = np.nan\n"
     ]
    },
    {
     "name": "stdout",
     "output_type": "stream",
     "text": [
      "Sincerity IV\n",
      "The Caffeine File\n",
      "Faith Healer\n",
      "The Strongest Man in the World\n",
      "Buffalo\n",
      "Sarah Maladoror ou la nostalgie de l'utopie\n",
      "Adult Movie Part 2\n",
      "Doggett's Coat and Badge\n",
      "The Press Conference\n",
      "War on Polygamy\n",
      "My Name Is Earl\n",
      "Punk Country\n",
      "Cumming of Age 2\n",
      "Beauty Contest/Baseball\n",
      "Eurovision laulukilpailu 1980 - Suomen karsinta\n",
      "The Bulls**t Detective\n",
      "Der Traum von der Nordostpassage\n",
      "Flamma Flamma\n",
      "Beautiful Scar\n",
      "Sick as a Dog\n",
      "Sick as a Dog\n",
      "Test of Faith\n",
      "Tales of Erotica\n",
      "Shinigami arui wa shichinin misaki zenpen\n",
      "Lewie Does Lou Gossett\n",
      "Incognito\n",
      "Incognito\n",
      "Paradox\n",
      "Paradox\n",
      "Paradox\n",
      "Paradox\n",
      "Paradox\n",
      "Paradox\n",
      "Paradox\n",
      "The Seventh Person\n",
      "Sandra Munt y la Sociedad Thule\n",
      "Ils voulaient tuer de Gaulle\n",
      "Jagko\n",
      "Parfumedamerne\n",
      "Lambaaye\n",
      "Playing God\n",
      "Playing God\n",
      "Epic Cupids\n",
      "Futari no himitsu\n",
      "The Proof Is in the Pudding\n",
      "The Restaurant\n",
      "WMIFF Part I\n",
      "Fix\n",
      "Tam II - vojaska verzija\n",
      "Roskilde-special I\n",
      "One by One\n",
      "The Grant Shuffle\n",
      "Her bor de gale\n",
      "The Wrecker\n",
      "Aflevering 4558\n",
      "Handi-Capable\n",
      "Can-Am Spyder\n",
      "Quartet\n",
      "Roadblock\n",
      "The Cross-Town Hustle\n",
      "Katy Hudson\n",
      "Fast Forward\n",
      "Fast Forward\n",
      "Biggles Follows On: Part 3\n",
      "The Pen of My Aunt\n",
      "The Apartment\n",
      "The Apartment\n",
      "The Apartment\n",
      "The Apartment\n",
      "The Apartment\n",
      "The Apartment\n",
      "The Apartment\n",
      "Tornade blanche\n",
      "Op de natlantische bodem\n",
      "Oni azami\n",
      "Second Skin\n",
      "Second Skin\n",
      "Part 2\n",
      "Part 2\n",
      "Part 2\n"
     ]
    },
    {
     "ename": "KeyboardInterrupt",
     "evalue": "",
     "output_type": "error",
     "traceback": [
      "\u001B[0;31m---------------------------------------------------------------------------\u001B[0m",
      "\u001B[0;31mNameError\u001B[0m                                 Traceback (most recent call last)",
      "\u001B[0;32m/var/folders/f0/xzz_g2mx5qb8982lmv5jylgc0000gn/T/ipykernel_54325/1155404167.py\u001B[0m in \u001B[0;36m<module>\u001B[0;34m\u001B[0m\n\u001B[1;32m      3\u001B[0m     \u001B[0;32mtry\u001B[0m\u001B[0;34m:\u001B[0m\u001B[0;34m\u001B[0m\u001B[0;34m\u001B[0m\u001B[0m\n\u001B[0;32m----> 4\u001B[0;31m         \u001B[0mdf\u001B[0m\u001B[0;34m.\u001B[0m\u001B[0mloc\u001B[0m\u001B[0;34m[\u001B[0m\u001B[0mid\u001B[0m\u001B[0;34m,\u001B[0m \u001B[0;34m'strong_eng'\u001B[0m\u001B[0;34m]\u001B[0m \u001B[0;34m=\u001B[0m \u001B[0mdetect\u001B[0m\u001B[0;34m(\u001B[0m\u001B[0mtitle\u001B[0m\u001B[0;34m)\u001B[0m\u001B[0;34m\u001B[0m\u001B[0;34m\u001B[0m\u001B[0m\n\u001B[0m\u001B[1;32m      5\u001B[0m         \u001B[0mprint\u001B[0m\u001B[0;34m(\u001B[0m\u001B[0mdetect\u001B[0m\u001B[0;34m(\u001B[0m\u001B[0mtitle\u001B[0m\u001B[0;34m)\u001B[0m\u001B[0;34m)\u001B[0m\u001B[0;34m\u001B[0m\u001B[0;34m\u001B[0m\u001B[0m\n",
      "\u001B[0;31mNameError\u001B[0m: name 'detect' is not defined",
      "\nDuring handling of the above exception, another exception occurred:\n",
      "\u001B[0;31mKeyboardInterrupt\u001B[0m                         Traceback (most recent call last)",
      "\u001B[0;32m/var/folders/f0/xzz_g2mx5qb8982lmv5jylgc0000gn/T/ipykernel_54325/1155404167.py\u001B[0m in \u001B[0;36m<module>\u001B[0;34m\u001B[0m\n\u001B[1;32m      5\u001B[0m         \u001B[0mprint\u001B[0m\u001B[0;34m(\u001B[0m\u001B[0mdetect\u001B[0m\u001B[0;34m(\u001B[0m\u001B[0mtitle\u001B[0m\u001B[0;34m)\u001B[0m\u001B[0;34m)\u001B[0m\u001B[0;34m\u001B[0m\u001B[0;34m\u001B[0m\u001B[0m\n\u001B[1;32m      6\u001B[0m     \u001B[0;32mexcept\u001B[0m\u001B[0;34m:\u001B[0m\u001B[0;34m\u001B[0m\u001B[0;34m\u001B[0m\u001B[0m\n\u001B[0;32m----> 7\u001B[0;31m         \u001B[0mdf\u001B[0m\u001B[0;34m.\u001B[0m\u001B[0mloc\u001B[0m\u001B[0;34m[\u001B[0m\u001B[0mid\u001B[0m\u001B[0;34m,\u001B[0m \u001B[0;34m'strong_eng'\u001B[0m\u001B[0;34m]\u001B[0m \u001B[0;34m=\u001B[0m \u001B[0mnp\u001B[0m\u001B[0;34m.\u001B[0m\u001B[0mnan\u001B[0m\u001B[0;34m\u001B[0m\u001B[0;34m\u001B[0m\u001B[0m\n\u001B[0m\u001B[1;32m      8\u001B[0m         \u001B[0mprint\u001B[0m\u001B[0;34m(\u001B[0m\u001B[0mtitle\u001B[0m\u001B[0;34m)\u001B[0m\u001B[0;34m\u001B[0m\u001B[0;34m\u001B[0m\u001B[0m\n",
      "\u001B[0;32m/usr/local/lib/python3.9/site-packages/pandas/core/indexing.py\u001B[0m in \u001B[0;36m__setitem__\u001B[0;34m(self, key, value)\u001B[0m\n\u001B[1;32m    816\u001B[0m \u001B[0;34m\u001B[0m\u001B[0m\n\u001B[1;32m    817\u001B[0m         \u001B[0miloc\u001B[0m \u001B[0;34m=\u001B[0m \u001B[0mself\u001B[0m \u001B[0;32mif\u001B[0m \u001B[0mself\u001B[0m\u001B[0;34m.\u001B[0m\u001B[0mname\u001B[0m \u001B[0;34m==\u001B[0m \u001B[0;34m\"iloc\"\u001B[0m \u001B[0;32melse\u001B[0m \u001B[0mself\u001B[0m\u001B[0;34m.\u001B[0m\u001B[0mobj\u001B[0m\u001B[0;34m.\u001B[0m\u001B[0miloc\u001B[0m\u001B[0;34m\u001B[0m\u001B[0;34m\u001B[0m\u001B[0m\n\u001B[0;32m--> 818\u001B[0;31m         \u001B[0miloc\u001B[0m\u001B[0;34m.\u001B[0m\u001B[0m_setitem_with_indexer\u001B[0m\u001B[0;34m(\u001B[0m\u001B[0mindexer\u001B[0m\u001B[0;34m,\u001B[0m \u001B[0mvalue\u001B[0m\u001B[0;34m,\u001B[0m \u001B[0mself\u001B[0m\u001B[0;34m.\u001B[0m\u001B[0mname\u001B[0m\u001B[0;34m)\u001B[0m\u001B[0;34m\u001B[0m\u001B[0;34m\u001B[0m\u001B[0m\n\u001B[0m\u001B[1;32m    819\u001B[0m \u001B[0;34m\u001B[0m\u001B[0m\n\u001B[1;32m    820\u001B[0m     \u001B[0;32mdef\u001B[0m \u001B[0m_validate_key\u001B[0m\u001B[0;34m(\u001B[0m\u001B[0mself\u001B[0m\u001B[0;34m,\u001B[0m \u001B[0mkey\u001B[0m\u001B[0;34m,\u001B[0m \u001B[0maxis\u001B[0m\u001B[0;34m:\u001B[0m \u001B[0mint\u001B[0m\u001B[0;34m)\u001B[0m\u001B[0;34m:\u001B[0m\u001B[0;34m\u001B[0m\u001B[0;34m\u001B[0m\u001B[0m\n",
      "\u001B[0;32m/usr/local/lib/python3.9/site-packages/pandas/core/indexing.py\u001B[0m in \u001B[0;36m_setitem_with_indexer\u001B[0;34m(self, indexer, value, name)\u001B[0m\n\u001B[1;32m   1772\u001B[0m                     \u001B[0mself\u001B[0m\u001B[0;34m.\u001B[0m\u001B[0mobj\u001B[0m\u001B[0;34m.\u001B[0m\u001B[0m_is_copy\u001B[0m \u001B[0;34m=\u001B[0m \u001B[0;32mNone\u001B[0m\u001B[0;34m\u001B[0m\u001B[0;34m\u001B[0m\u001B[0m\n\u001B[1;32m   1773\u001B[0m \u001B[0;34m\u001B[0m\u001B[0m\n\u001B[0;32m-> 1774\u001B[0;31m                     \u001B[0mnindexer\u001B[0m\u001B[0;34m.\u001B[0m\u001B[0mappend\u001B[0m\u001B[0;34m(\u001B[0m\u001B[0mlabels\u001B[0m\u001B[0;34m.\u001B[0m\u001B[0mget_loc\u001B[0m\u001B[0;34m(\u001B[0m\u001B[0mkey\u001B[0m\u001B[0;34m)\u001B[0m\u001B[0;34m)\u001B[0m\u001B[0;34m\u001B[0m\u001B[0;34m\u001B[0m\u001B[0m\n\u001B[0m\u001B[1;32m   1775\u001B[0m \u001B[0;34m\u001B[0m\u001B[0m\n\u001B[1;32m   1776\u001B[0m                 \u001B[0;32melse\u001B[0m\u001B[0;34m:\u001B[0m\u001B[0;34m\u001B[0m\u001B[0;34m\u001B[0m\u001B[0m\n",
      "\u001B[0;32m/usr/local/lib/python3.9/site-packages/pandas/core/indexes/base.py\u001B[0m in \u001B[0;36mget_loc\u001B[0;34m(self, key, method, tolerance)\u001B[0m\n\u001B[1;32m   3801\u001B[0m             \u001B[0mcasted_key\u001B[0m \u001B[0;34m=\u001B[0m \u001B[0mself\u001B[0m\u001B[0;34m.\u001B[0m\u001B[0m_maybe_cast_indexer\u001B[0m\u001B[0;34m(\u001B[0m\u001B[0mkey\u001B[0m\u001B[0;34m)\u001B[0m\u001B[0;34m\u001B[0m\u001B[0;34m\u001B[0m\u001B[0m\n\u001B[1;32m   3802\u001B[0m             \u001B[0;32mtry\u001B[0m\u001B[0;34m:\u001B[0m\u001B[0;34m\u001B[0m\u001B[0;34m\u001B[0m\u001B[0m\n\u001B[0;32m-> 3803\u001B[0;31m                 \u001B[0;32mreturn\u001B[0m \u001B[0mself\u001B[0m\u001B[0;34m.\u001B[0m\u001B[0m_engine\u001B[0m\u001B[0;34m.\u001B[0m\u001B[0mget_loc\u001B[0m\u001B[0;34m(\u001B[0m\u001B[0mcasted_key\u001B[0m\u001B[0;34m)\u001B[0m\u001B[0;34m\u001B[0m\u001B[0;34m\u001B[0m\u001B[0m\n\u001B[0m\u001B[1;32m   3804\u001B[0m             \u001B[0;32mexcept\u001B[0m \u001B[0mKeyError\u001B[0m \u001B[0;32mas\u001B[0m \u001B[0merr\u001B[0m\u001B[0;34m:\u001B[0m\u001B[0;34m\u001B[0m\u001B[0;34m\u001B[0m\u001B[0m\n\u001B[1;32m   3805\u001B[0m                 \u001B[0;32mraise\u001B[0m \u001B[0mKeyError\u001B[0m\u001B[0;34m(\u001B[0m\u001B[0mkey\u001B[0m\u001B[0;34m)\u001B[0m \u001B[0;32mfrom\u001B[0m \u001B[0merr\u001B[0m\u001B[0;34m\u001B[0m\u001B[0;34m\u001B[0m\u001B[0m\n",
      "\u001B[0;31mKeyboardInterrupt\u001B[0m: "
     ]
    }
   ],
   "source": [
    "df = join2_filter_g\n",
    "for id, title in zip(range(df.shape[0]), df.title):\n",
    "    try:\n",
    "        df.loc[id, 'strong_eng'] = detect(title)\n",
    "        print(detect(title))\n",
    "    except:\n",
    "        df.loc[id, 'strong_eng'] = np.nan\n",
    "        print(title)"
   ]
  },
  {
   "cell_type": "code",
   "execution_count": null,
   "metadata": {
    "pycharm": {
     "name": "#%%\n"
    }
   },
   "outputs": [],
   "source": [
    "\n",
    "print(f\"{string.ascii_lowercase + string.ascii_uppercase}\")"
   ]
  },
  {
   "cell_type": "code",
   "execution_count": 3,
   "metadata": {
    "pycharm": {
     "name": "#%%\n"
    }
   },
   "outputs": [],
   "source": [
    "ITER = 3\n",
    "mo_eng_us_movie = sel_region_type(sel_title(iter2_mt, ITER))"
   ]
  },
  {
   "cell_type": "code",
   "execution_count": 4,
   "metadata": {
    "pycharm": {
     "name": "#%%\n"
    }
   },
   "outputs": [
    {
     "data": {
      "text/html": [
       "<div>\n",
       "<style scoped>\n",
       "    .dataframe tbody tr th:only-of-type {\n",
       "        vertical-align: middle;\n",
       "    }\n",
       "\n",
       "    .dataframe tbody tr th {\n",
       "        vertical-align: top;\n",
       "    }\n",
       "\n",
       "    .dataframe thead th {\n",
       "        text-align: right;\n",
       "    }\n",
       "</style>\n",
       "<table border=\"1\" class=\"dataframe\">\n",
       "  <thead>\n",
       "    <tr style=\"text-align: right;\">\n",
       "      <th></th>\n",
       "      <th>index</th>\n",
       "      <th>old_id</th>\n",
       "      <th>title</th>\n",
       "      <th>year</th>\n",
       "      <th>titleId</th>\n",
       "      <th>region</th>\n",
       "      <th>titleType</th>\n",
       "      <th>soft_eng</th>\n",
       "    </tr>\n",
       "  </thead>\n",
       "  <tbody>\n",
       "    <tr>\n",
       "      <th>18</th>\n",
       "      <td>18</td>\n",
       "      <td>OLD2306248</td>\n",
       "      <td>Ski Ball</td>\n",
       "      <td>1973</td>\n",
       "      <td>tt0128519</td>\n",
       "      <td>US</td>\n",
       "      <td>movie</td>\n",
       "      <td>True</td>\n",
       "    </tr>\n",
       "    <tr>\n",
       "      <th>62</th>\n",
       "      <td>62</td>\n",
       "      <td>OLD1827090</td>\n",
       "      <td>Dirty Looks</td>\n",
       "      <td>1990</td>\n",
       "      <td>tt0135949</td>\n",
       "      <td>US</td>\n",
       "      <td>movie</td>\n",
       "      <td>True</td>\n",
       "    </tr>\n",
       "    <tr>\n",
       "      <th>94</th>\n",
       "      <td>94</td>\n",
       "      <td>OLD2160547</td>\n",
       "      <td>Missed Connections</td>\n",
       "      <td>2012</td>\n",
       "      <td>tt1967560</td>\n",
       "      <td>US</td>\n",
       "      <td>movie</td>\n",
       "      <td>True</td>\n",
       "    </tr>\n",
       "    <tr>\n",
       "      <th>340</th>\n",
       "      <td>340</td>\n",
       "      <td>OLD1700031</td>\n",
       "      <td>Butter</td>\n",
       "      <td>1998</td>\n",
       "      <td>tt0134380</td>\n",
       "      <td>US</td>\n",
       "      <td>movie</td>\n",
       "      <td>True</td>\n",
       "    </tr>\n",
       "    <tr>\n",
       "      <th>366</th>\n",
       "      <td>366</td>\n",
       "      <td>OLD2159926</td>\n",
       "      <td>Midnight Phantom</td>\n",
       "      <td>1935</td>\n",
       "      <td>tt0026711</td>\n",
       "      <td>US</td>\n",
       "      <td>movie</td>\n",
       "      <td>True</td>\n",
       "    </tr>\n",
       "    <tr>\n",
       "      <th>...</th>\n",
       "      <td>...</td>\n",
       "      <td>...</td>\n",
       "      <td>...</td>\n",
       "      <td>...</td>\n",
       "      <td>...</td>\n",
       "      <td>...</td>\n",
       "      <td>...</td>\n",
       "      <td>...</td>\n",
       "    </tr>\n",
       "    <tr>\n",
       "      <th>8194162</th>\n",
       "      <td>8194162</td>\n",
       "      <td>NaN</td>\n",
       "      <td>Sacred Butterflies</td>\n",
       "      <td>2023</td>\n",
       "      <td>tt17633316</td>\n",
       "      <td>US</td>\n",
       "      <td>movie</td>\n",
       "      <td>True</td>\n",
       "    </tr>\n",
       "    <tr>\n",
       "      <th>8195612</th>\n",
       "      <td>8195612</td>\n",
       "      <td>NaN</td>\n",
       "      <td>Kids at Sea</td>\n",
       "      <td>2020</td>\n",
       "      <td>tt10522328</td>\n",
       "      <td>US</td>\n",
       "      <td>movie</td>\n",
       "      <td>True</td>\n",
       "    </tr>\n",
       "    <tr>\n",
       "      <th>8198033</th>\n",
       "      <td>8198033</td>\n",
       "      <td>NaN</td>\n",
       "      <td>Psychic Vampire</td>\n",
       "      <td>2022</td>\n",
       "      <td>tt20850814</td>\n",
       "      <td>US</td>\n",
       "      <td>movie</td>\n",
       "      <td>True</td>\n",
       "    </tr>\n",
       "    <tr>\n",
       "      <th>8198509</th>\n",
       "      <td>8198509</td>\n",
       "      <td>NaN</td>\n",
       "      <td>Foul Mouth</td>\n",
       "      <td>2023</td>\n",
       "      <td>tt19854846</td>\n",
       "      <td>US</td>\n",
       "      <td>movie</td>\n",
       "      <td>True</td>\n",
       "    </tr>\n",
       "    <tr>\n",
       "      <th>8199037</th>\n",
       "      <td>8199037</td>\n",
       "      <td>NaN</td>\n",
       "      <td>Chic-A-Go-Go the Movie!</td>\n",
       "      <td>2008</td>\n",
       "      <td>tt20672796</td>\n",
       "      <td>US</td>\n",
       "      <td>movie</td>\n",
       "      <td>True</td>\n",
       "    </tr>\n",
       "  </tbody>\n",
       "</table>\n",
       "<p>52200 rows × 8 columns</p>\n",
       "</div>"
      ],
      "text/plain": [
       "           index      old_id                    title  year     titleId  \\\n",
       "18            18  OLD2306248                 Ski Ball  1973   tt0128519   \n",
       "62            62  OLD1827090              Dirty Looks  1990   tt0135949   \n",
       "94            94  OLD2160547       Missed Connections  2012   tt1967560   \n",
       "340          340  OLD1700031                   Butter  1998   tt0134380   \n",
       "366          366  OLD2159926         Midnight Phantom  1935   tt0026711   \n",
       "...          ...         ...                      ...   ...         ...   \n",
       "8194162  8194162         NaN       Sacred Butterflies  2023  tt17633316   \n",
       "8195612  8195612         NaN              Kids at Sea  2020  tt10522328   \n",
       "8198033  8198033         NaN          Psychic Vampire  2022  tt20850814   \n",
       "8198509  8198509         NaN               Foul Mouth  2023  tt19854846   \n",
       "8199037  8199037         NaN  Chic-A-Go-Go the Movie!  2008  tt20672796   \n",
       "\n",
       "        region titleType  soft_eng  \n",
       "18          US     movie      True  \n",
       "62          US     movie      True  \n",
       "94          US     movie      True  \n",
       "340         US     movie      True  \n",
       "366         US     movie      True  \n",
       "...        ...       ...       ...  \n",
       "8194162     US     movie      True  \n",
       "8195612     US     movie      True  \n",
       "8198033     US     movie      True  \n",
       "8198509     US     movie      True  \n",
       "8199037     US     movie      True  \n",
       "\n",
       "[52200 rows x 8 columns]"
      ]
     },
     "execution_count": 4,
     "metadata": {},
     "output_type": "execute_result"
    }
   ],
   "source": [
    "mo_eng_us_movie"
   ]
  },
  {
   "cell_type": "code",
   "execution_count": 5,
   "metadata": {
    "pycharm": {
     "name": "#%%\n"
    }
   },
   "outputs": [
    {
     "data": {
      "text/html": [
       "<div>\n",
       "<style scoped>\n",
       "    .dataframe tbody tr th:only-of-type {\n",
       "        vertical-align: middle;\n",
       "    }\n",
       "\n",
       "    .dataframe tbody tr th {\n",
       "        vertical-align: top;\n",
       "    }\n",
       "\n",
       "    .dataframe thead th {\n",
       "        text-align: right;\n",
       "    }\n",
       "</style>\n",
       "<table border=\"1\" class=\"dataframe\">\n",
       "  <thead>\n",
       "    <tr style=\"text-align: right;\">\n",
       "      <th></th>\n",
       "      <th>index</th>\n",
       "      <th>old_id</th>\n",
       "      <th>title</th>\n",
       "      <th>year</th>\n",
       "      <th>titleId</th>\n",
       "      <th>region</th>\n",
       "      <th>titleType</th>\n",
       "      <th>soft_eng</th>\n",
       "    </tr>\n",
       "  </thead>\n",
       "  <tbody>\n",
       "  </tbody>\n",
       "</table>\n",
       "</div>"
      ],
      "text/plain": [
       "Empty DataFrame\n",
       "Columns: [index, old_id, title, year, titleId, region, titleType, soft_eng]\n",
       "Index: []"
      ]
     },
     "execution_count": 5,
     "metadata": {},
     "output_type": "execute_result"
    }
   ],
   "source": [
    "mo_eng_us_movie[mo_eng_us_movie.title == \"What Is God's Eternity?\"]"
   ]
  },
  {
   "cell_type": "code",
   "execution_count": 17,
   "metadata": {
    "pycharm": {
     "name": "#%%\n"
    }
   },
   "outputs": [
    {
     "name": "stdout",
     "output_type": "stream",
     "text": [
      "True\n"
     ]
    }
   ],
   "source": [
    "word = \"What Is God's Eternity?\"\n",
    "\n",
    "def is_english(word):\n",
    "    \"\"\"\n",
    "    is_english(\"A few good mand 2\", \"Wall-e\", \"What Is God's Eternity?\") True\n",
    "    \"\"\"\n",
    "    eng_charc = f\"{string.ascii_lowercase + string.ascii_uppercase}\" + \" 0123456789\" + \"!-@#$%&*()/?+'` \"\n",
    "    return len(set([i for i in word] + [e for e in eng_charc])) == 52 + 10 + 16\n",
    "\n",
    "print(is_english(word))\n",
    "\n"
   ]
  },
  {
   "cell_type": "code",
   "execution_count": 11,
   "metadata": {
    "pycharm": {
     "name": "#%%\n"
    }
   },
   "outputs": [
    {
     "data": {
      "text/plain": [
       "76"
      ]
     },
     "execution_count": 11,
     "metadata": {},
     "output_type": "execute_result"
    }
   ],
   "source": [
    "52 + 10 + 14"
   ]
  },
  {
   "cell_type": "code",
   "execution_count": 10,
   "metadata": {
    "pycharm": {
     "name": "#%%\n"
    }
   },
   "outputs": [
    {
     "data": {
      "text/html": [
       "<div>\n",
       "<style scoped>\n",
       "    .dataframe tbody tr th:only-of-type {\n",
       "        vertical-align: middle;\n",
       "    }\n",
       "\n",
       "    .dataframe tbody tr th {\n",
       "        vertical-align: top;\n",
       "    }\n",
       "\n",
       "    .dataframe thead th {\n",
       "        text-align: right;\n",
       "    }\n",
       "</style>\n",
       "<table border=\"1\" class=\"dataframe\">\n",
       "  <thead>\n",
       "    <tr style=\"text-align: right;\">\n",
       "      <th></th>\n",
       "      <th>index</th>\n",
       "      <th>old_id</th>\n",
       "      <th>title</th>\n",
       "      <th>year</th>\n",
       "      <th>titleId</th>\n",
       "      <th>region</th>\n",
       "      <th>titleType</th>\n",
       "    </tr>\n",
       "  </thead>\n",
       "  <tbody>\n",
       "    <tr>\n",
       "      <th>40</th>\n",
       "      <td>40</td>\n",
       "      <td>OLD289589</td>\n",
       "      <td>What Is God's Eternity?</td>\n",
       "      <td>2012</td>\n",
       "      <td>NaN</td>\n",
       "      <td>NaN</td>\n",
       "      <td>NaN</td>\n",
       "    </tr>\n",
       "    <tr>\n",
       "      <th>6386327</th>\n",
       "      <td>6386327</td>\n",
       "      <td>NaN</td>\n",
       "      <td>What Is God's Eternity?</td>\n",
       "      <td>2013</td>\n",
       "      <td>tt2852528</td>\n",
       "      <td>NaN</td>\n",
       "      <td>tvEpisode</td>\n",
       "    </tr>\n",
       "  </tbody>\n",
       "</table>\n",
       "</div>"
      ],
      "text/plain": [
       "           index     old_id                    title  year    titleId region  \\\n",
       "40            40  OLD289589  What Is God's Eternity?  2012        NaN    NaN   \n",
       "6386327  6386327        NaN  What Is God's Eternity?  2013  tt2852528    NaN   \n",
       "\n",
       "         titleType  \n",
       "40             NaN  \n",
       "6386327  tvEpisode  "
      ]
     },
     "execution_count": 10,
     "metadata": {},
     "output_type": "execute_result"
    }
   ],
   "source": [
    "iter2_mt[iter2_mt.title == \"What Is God's Eternity?\"]"
   ]
  },
  {
   "cell_type": "code",
   "execution_count": 14,
   "metadata": {
    "pycharm": {
     "name": "#%%\n"
    }
   },
   "outputs": [
    {
     "data": {
      "text/html": [
       "<div>\n",
       "<style scoped>\n",
       "    .dataframe tbody tr th:only-of-type {\n",
       "        vertical-align: middle;\n",
       "    }\n",
       "\n",
       "    .dataframe tbody tr th {\n",
       "        vertical-align: top;\n",
       "    }\n",
       "\n",
       "    .dataframe thead th {\n",
       "        text-align: right;\n",
       "    }\n",
       "</style>\n",
       "<table border=\"1\" class=\"dataframe\">\n",
       "  <thead>\n",
       "    <tr style=\"text-align: right;\">\n",
       "      <th></th>\n",
       "      <th>index</th>\n",
       "      <th>old_id</th>\n",
       "      <th>year</th>\n",
       "      <th>titleId</th>\n",
       "      <th>region</th>\n",
       "      <th>titleType</th>\n",
       "    </tr>\n",
       "    <tr>\n",
       "      <th>title</th>\n",
       "      <th></th>\n",
       "      <th></th>\n",
       "      <th></th>\n",
       "      <th></th>\n",
       "      <th></th>\n",
       "      <th></th>\n",
       "    </tr>\n",
       "  </thead>\n",
       "  <tbody>\n",
       "    <tr>\n",
       "      <th>!Next?</th>\n",
       "      <td>1</td>\n",
       "      <td>1</td>\n",
       "      <td>1</td>\n",
       "      <td>1</td>\n",
       "      <td>1</td>\n",
       "      <td>1</td>\n",
       "    </tr>\n",
       "    <tr>\n",
       "      <th>!Que ve el Bisbe!</th>\n",
       "      <td>1</td>\n",
       "      <td>1</td>\n",
       "      <td>1</td>\n",
       "      <td>1</td>\n",
       "      <td>0</td>\n",
       "      <td>1</td>\n",
       "    </tr>\n",
       "    <tr>\n",
       "      <th>\"A Corrida:</th>\n",
       "      <td>1</td>\n",
       "      <td>1</td>\n",
       "      <td>1</td>\n",
       "      <td>0</td>\n",
       "      <td>0</td>\n",
       "      <td>0</td>\n",
       "    </tr>\n",
       "    <tr>\n",
       "      <th>\"Bookstore\" (10 minutes)</th>\n",
       "      <td>1</td>\n",
       "      <td>1</td>\n",
       "      <td>1</td>\n",
       "      <td>0</td>\n",
       "      <td>0</td>\n",
       "      <td>0</td>\n",
       "    </tr>\n",
       "    <tr>\n",
       "      <th>\"Hollywood Regency Meets Country Club Chic</th>\n",
       "      <td>1</td>\n",
       "      <td>1</td>\n",
       "      <td>1</td>\n",
       "      <td>0</td>\n",
       "      <td>0</td>\n",
       "      <td>0</td>\n",
       "    </tr>\n",
       "    <tr>\n",
       "      <th>...</th>\n",
       "      <td>...</td>\n",
       "      <td>...</td>\n",
       "      <td>...</td>\n",
       "      <td>...</td>\n",
       "      <td>...</td>\n",
       "      <td>...</td>\n",
       "    </tr>\n",
       "    <tr>\n",
       "      <th>öregHarcos II</th>\n",
       "      <td>1</td>\n",
       "      <td>0</td>\n",
       "      <td>1</td>\n",
       "      <td>1</td>\n",
       "      <td>0</td>\n",
       "      <td>1</td>\n",
       "    </tr>\n",
       "    <tr>\n",
       "      <th>über den Wolken</th>\n",
       "      <td>1</td>\n",
       "      <td>0</td>\n",
       "      <td>1</td>\n",
       "      <td>1</td>\n",
       "      <td>0</td>\n",
       "      <td>1</td>\n",
       "    </tr>\n",
       "    <tr>\n",
       "      <th>überRICH</th>\n",
       "      <td>1</td>\n",
       "      <td>0</td>\n",
       "      <td>1</td>\n",
       "      <td>1</td>\n",
       "      <td>1</td>\n",
       "      <td>1</td>\n",
       "    </tr>\n",
       "    <tr>\n",
       "      <th>ülker Dankek Reklami</th>\n",
       "      <td>1</td>\n",
       "      <td>0</td>\n",
       "      <td>1</td>\n",
       "      <td>1</td>\n",
       "      <td>0</td>\n",
       "      <td>1</td>\n",
       "    </tr>\n",
       "    <tr>\n",
       "      <th>üç</th>\n",
       "      <td>1</td>\n",
       "      <td>1</td>\n",
       "      <td>1</td>\n",
       "      <td>0</td>\n",
       "      <td>0</td>\n",
       "      <td>0</td>\n",
       "    </tr>\n",
       "  </tbody>\n",
       "</table>\n",
       "<p>4179580 rows × 6 columns</p>\n",
       "</div>"
      ],
      "text/plain": [
       "                                            index  old_id  year  titleId  \\\n",
       "title                                                                      \n",
       "!Next?                                          1       1     1        1   \n",
       "!Que ve el Bisbe!                               1       1     1        1   \n",
       "\"A Corrida:                                     1       1     1        0   \n",
       "\"Bookstore\" (10 minutes)                        1       1     1        0   \n",
       "\"Hollywood Regency Meets Country Club Chic      1       1     1        0   \n",
       "...                                           ...     ...   ...      ...   \n",
       "öregHarcos II                                   1       0     1        1   \n",
       "über den Wolken                                 1       0     1        1   \n",
       "überRICH                                        1       0     1        1   \n",
       "ülker Dankek Reklami                            1       0     1        1   \n",
       "üç                                              1       1     1        0   \n",
       "\n",
       "                                            region  titleType  \n",
       "title                                                          \n",
       "!Next?                                           1          1  \n",
       "!Que ve el Bisbe!                                0          1  \n",
       "\"A Corrida:                                      0          0  \n",
       "\"Bookstore\" (10 minutes)                         0          0  \n",
       "\"Hollywood Regency Meets Country Club Chic       0          0  \n",
       "...                                            ...        ...  \n",
       "öregHarcos II                                    0          1  \n",
       "über den Wolken                                  0          1  \n",
       "überRICH                                         1          1  \n",
       "ülker Dankek Reklami                             0          1  \n",
       "üç                                               0          0  \n",
       "\n",
       "[4179580 rows x 6 columns]"
      ]
     },
     "execution_count": 14,
     "metadata": {},
     "output_type": "execute_result"
    }
   ],
   "source": [
    "mt_title = iter2_mt.groupby('title').count()"
   ]
  },
  {
   "cell_type": "code",
   "execution_count": 12,
   "metadata": {
    "pycharm": {
     "name": "#%%\n"
    }
   },
   "outputs": [
    {
     "data": {
      "text/plain": [
       "4179580"
      ]
     },
     "execution_count": 12,
     "metadata": {},
     "output_type": "execute_result"
    }
   ],
   "source": [
    "len(iter2_mt.title.unique())\n"
   ]
  },
  {
   "cell_type": "code",
   "execution_count": null,
   "metadata": {
    "collapsed": false,
    "pycharm": {
     "name": "#%%\n"
    }
   },
   "outputs": [],
   "source": [
    "for i in iter2_mt.iterrows():\n",
    "    if \n"
   ]
  },
  {
   "cell_type": "code",
   "execution_count": null,
   "metadata": {
    "collapsed": false,
    "pycharm": {
     "name": "#%%\n"
    }
   },
   "outputs": [],
   "source": []
  },
  {
   "cell_type": "code",
   "execution_count": null,
   "metadata": {
    "collapsed": false,
    "pycharm": {
     "name": "#%%\n"
    }
   },
   "outputs": [],
   "source": [
    "xr.concat([iter0_nt.set_coords('titleId'), iter1_mt.set_coords('titleId')], dim = 'titleId')"
   ]
  },
  {
   "cell_type": "code",
   "execution_count": null,
   "metadata": {
    "collapsed": false,
    "pycharm": {
     "name": "#%%\n"
    }
   },
   "outputs": [],
   "source": [
    "xr.concat([iter0_nt, iter1_mt], dims = titleId)"
   ]
  },
  {
   "cell_type": "code",
   "execution_count": null,
   "metadata": {
    "collapsed": false,
    "pycharm": {
     "name": "#%%\n"
    }
   },
   "outputs": [],
   "source": [
    "iter1_mt = pd.read_pickle('iter1_merged_title.pkl').to_xarray()"
   ]
  },
  {
   "cell_type": "code",
   "execution_count": null,
   "metadata": {
    "collapsed": false,
    "pycharm": {
     "name": "#%%\n"
    }
   },
   "outputs": [],
   "source": [
    "\n",
    "# old_columns = ['title', 'year']\n",
    "# new_columns = ['titleId', 'title', 'year', 'region', 'titleType']\n",
    "#\n",
    "# iter0_ot = pd.read_pickle('old_title.pkl').loc[:, old_columns].to_xarray()\n",
    "# iter0_nt = pd.read_pickle('new_title.pkl').loc[:, new_columns].to_xarray()\n",
    "#iter1_mt = pd.read_pickle('iter1_merged_title.pkl').to_xarray()\n",
    "#iter0_ot_xr = iter0_ot.to_xarray()\n",
    "#print(iter0_ot)\n",
    "iter0_nt_stack_f = iter0_nt.stack(tyid = ['title', 'year'], create_index = False).set_coords\n",
    "iter0_nt_stack_f"
   ]
  },
  {
   "cell_type": "code",
   "execution_count": null,
   "metadata": {
    "collapsed": false,
    "pycharm": {
     "name": "#%%\n"
    }
   },
   "outputs": [],
   "source": [
    "iter0_nt_stack_f"
   ]
  },
  {
   "cell_type": "code",
   "execution_count": null,
   "metadata": {
    "collapsed": false,
    "pycharm": {
     "name": "#%%\n"
    }
   },
   "outputs": [],
   "source": [
    "make_consistent_title(frac =.0001)"
   ]
  },
  {
   "cell_type": "code",
   "execution_count": null,
   "metadata": {
    "collapsed": false,
    "pycharm": {
     "name": "#%%\n"
    }
   },
   "outputs": [],
   "source": [
    "iter1_mt"
   ]
  },
  {
   "cell_type": "code",
   "execution_count": null,
   "metadata": {
    "collapsed": false,
    "pycharm": {
     "name": "#%%\n"
    }
   },
   "outputs": [],
   "source": [
    "xr.concat([iter1_mt])"
   ]
  },
  {
   "cell_type": "code",
   "execution_count": null,
   "metadata": {
    "collapsed": false,
    "pycharm": {
     "name": "#%%\n"
    }
   },
   "outputs": [],
   "source": [
    "print(iter0_ot.dims, iter0_nt.dims, iter1_mt.dims)"
   ]
  },
  {
   "cell_type": "code",
   "execution_count": null,
   "metadata": {
    "collapsed": false,
    "pycharm": {
     "name": "#%%\n"
    }
   },
   "outputs": [],
   "source": [
    "iter1_mt"
   ]
  },
  {
   "cell_type": "code",
   "execution_count": null,
   "metadata": {
    "collapsed": false,
    "pycharm": {
     "name": "#%%\n"
    }
   },
   "outputs": [],
   "source": [
    "idata = az.from_netcdf(\"sbc.nc\")"
   ]
  },
  {
   "cell_type": "code",
   "execution_count": null,
   "metadata": {
    "collapsed": false,
    "pycharm": {
     "name": "#%%\n"
    }
   },
   "outputs": [],
   "source": [
    "idata.prior"
   ]
  },
  {
   "cell_type": "code",
   "execution_count": null,
   "metadata": {
    "collapsed": false,
    "pycharm": {
     "name": "#%%\n"
    }
   },
   "outputs": [],
   "source": [
    "iter0_ot_xr = iter0_ot.to_xarray()"
   ]
  },
  {
   "cell_type": "code",
   "execution_count": null,
   "metadata": {
    "collapsed": false,
    "pycharm": {
     "name": "#%%\n"
    }
   },
   "outputs": [],
   "source": [
    "iter0_ot"
   ]
  },
  {
   "cell_type": "code",
   "execution_count": null,
   "metadata": {
    "collapsed": false,
    "pycharm": {
     "name": "#%%\n"
    }
   },
   "outputs": [],
   "source": [
    "iter0_nt.to_xarray()."
   ]
  },
  {
   "cell_type": "code",
   "execution_count": null,
   "metadata": {
    "collapsed": false,
    "pycharm": {
     "name": "#%%\n"
    }
   },
   "outputs": [],
   "source": [
    "iter0_nt_id = iter0_nt.to_xarray().from_nectcdf()\n",
    "#iter1_mt_xr = iter1_mt.to_xarray()"
   ]
  },
  {
   "cell_type": "code",
   "execution_count": null,
   "metadata": {
    "collapsed": false,
    "pycharm": {
     "name": "#%%\n"
    }
   },
   "outputs": [],
   "source": [
    "iter0_nt_xr"
   ]
  },
  {
   "cell_type": "code",
   "execution_count": null,
   "metadata": {
    "collapsed": false,
    "pycharm": {
     "name": "#%%\n"
    }
   },
   "outputs": [],
   "source": [
    "iter1_mt_xr.from_"
   ]
  },
  {
   "cell_type": "code",
   "execution_count": null,
   "metadata": {
    "collapsed": false,
    "pycharm": {
     "name": "#%%\n"
    }
   },
   "outputs": [],
   "source": [
    "xr.concat([iter0_ot,iter0_nt, iter1_mt], dim = )"
   ]
  },
  {
   "cell_type": "code",
   "execution_count": null,
   "metadata": {
    "collapsed": false,
    "pycharm": {
     "name": "#%%\n"
    }
   },
   "outputs": [],
   "source": [
    "az.add_gr\n",
    "xr.concat([iter0_ot,iter0_nt, iter1_mt])\n",
    "\n",
    "\n",
    "draws2data_idata = draws2data_idata_bf.stack(prior_draw=[\"chain\", \"draw\"], groups=\"prior_groups\", create_index = False)\n",
    "\n",
    "\n",
    "post = xr.concat((data2draws_idata_s.posterior for data2draws_idata_s in sbc_list), dim=\"titleId\")\n",
    "post_pred = xr.concat((data2draws_idata_s.posterior_predictive for data2draws_idata_s in sbc_list), dim=\"titleId\")\n",
    "idata_orig.add_groups(posterior=post, posterior_predictive = post_pred, observed_data = draws2data_dataset)"
   ]
  },
  {
   "cell_type": "code",
   "execution_count": null,
   "metadata": {
    "collapsed": false,
    "pycharm": {
     "name": "#%%\n"
    }
   },
   "outputs": [],
   "source": [
    "make_consistent_title(frac=0.0001)"
   ]
  },
  {
   "cell_type": "code",
   "execution_count": null,
   "metadata": {
    "collapsed": false,
    "pycharm": {
     "name": "#%%\n"
    }
   },
   "outputs": [],
   "source": [
    "\n",
    "iter0_old_movie = pd.read_pickle('old_title.pkl').loc[:, old_columns]\n",
    "iter0_new_movie = pd.read_pickle('new_title.pkl').loc[:, new_columns]\n",
    "iter1_merged = pd.read_pickle('iter1_merged_title.pkl')"
   ]
  },
  {
   "cell_type": "code",
   "execution_count": null,
   "metadata": {
    "collapsed": false,
    "pycharm": {
     "name": "#%%\n"
    }
   },
   "outputs": [],
   "source": [
    "iter0_old_movie_xr = iter0_old_movie.to_xarray()\n",
    "iter0_new_movie_xr = iter0_new_movie.to_xarray()\n",
    "iter1_merged_xr = iter1_merged.to_xarray()"
   ]
  },
  {
   "cell_type": "code",
   "execution_count": null,
   "metadata": {
    "collapsed": false,
    "pycharm": {
     "name": "#%%\n"
    }
   },
   "outputs": [],
   "source": [
    "iter0_old_movie"
   ]
  },
  {
   "cell_type": "code",
   "execution_count": null,
   "metadata": {
    "collapsed": false,
    "pycharm": {
     "name": "#%%\n"
    }
   },
   "outputs": [],
   "source": [
    "iter0_old_movie_xr"
   ]
  },
  {
   "cell_type": "code",
   "execution_count": null,
   "metadata": {
    "collapsed": false,
    "pycharm": {
     "name": "#%%\n"
    }
   },
   "outputs": [],
   "source": [
    "iter0_new_movie_xr"
   ]
  },
  {
   "cell_type": "code",
   "execution_count": null,
   "metadata": {
    "collapsed": false,
    "pycharm": {
     "name": "#%%\n"
    }
   },
   "outputs": [],
   "source": [
    "iter1_merged_xr"
   ]
  },
  {
   "cell_type": "markdown",
   "metadata": {
    "collapsed": false,
    "pycharm": {
     "name": "#%% md\n"
    }
   },
   "source": [
    "advantage of grouping dataset (labeled multidim array): module, ccom"
   ]
  },
  {
   "cell_type": "code",
   "execution_count": null,
   "metadata": {
    "collapsed": false,
    "pycharm": {
     "name": "#%%\n"
    }
   },
   "outputs": [],
   "source": [
    "\n",
    "# dimensions are names describing what each axis is representing and coords are data related to datavariables, e.g. it could contain similar named object as some dim\n",
    "# If dim is not found in coords its values are range(0,n)\n",
    "# coords can also contain other (meta)data than dim info\n",
    "output_format = dict(\n",
    "    iter0_om=[\"index\"],\n",
    "    iter0_nm =[\"index\"],\n",
    "    iter1 = [\"index\"],\n",
    "    log_likelihood={\n",
    "        \"loglik\": \"loglik\"\n",
    "    },\n",
    "    coords={\n",
    "        \"year\": [n for n in range(precision['N'])],\n",
    "        \"movie\": setting['target_simulated_vector_names'],\n",
    "        \"region\": [r for r in range(precision['R'])]\n",
    "    },\n",
    "    dims={\n",
    "        'person': [\"name\", \"year\"],\n",
    "        'movie': [\"title\", \"year\"],\n",
    "        'character': [\"movie\", \"person\"],\n",
    "    }\n",
    ")"
   ]
  },
  {
   "cell_type": "code",
   "execution_count": null,
   "metadata": {
    "collapsed": false,
    "pycharm": {
     "name": "#%%\n"
    }
   },
   "outputs": [],
   "source": [
    "iter0_old_movie_id =  az.convert_to_inference_data(iter0_old_movie_xr)"
   ]
  },
  {
   "cell_type": "code",
   "execution_count": null,
   "metadata": {
    "collapsed": false,
    "pycharm": {
     "name": "#%%\n"
    }
   },
   "outputs": [],
   "source": [
    "iter0_old_movie_id"
   ]
  },
  {
   "cell_type": "markdown",
   "metadata": {
    "collapsed": false,
    "pycharm": {
     "name": "#%% md\n"
    }
   },
   "source": [
    "# iter0: file directory\n",
    "\n",
    "#iter1: opt-out selection\n",
    "\n",
    "#iter2: opt-in selection\n",
    "- reference functions from iter0, iter2\n",
    "\n",
    "discussion:\n",
    "\n",
    "  - list of verification check? currently, three checkpoints (after iter1-weak_sel, after join, after iter2-strong_sel)\n",
    "  - list of validation check? (are we building the right product)\n",
    " ```\n",
    " def compare_mental_material(df, iter, is_old=True): #TODO make this as writelines()\n",
    "    if iter ==0:\n",
    "        if is_old:\n",
    "            print(\"###### ITER0 COMPLETE\\n\", df)\n",
    "        else:\n",
    "            print(df)\n",
    "    elif iter == 1:\n",
    "        print(\"###### ITER1 COMPLETE\")\n",
    "        print(\"from merged table, only old's `titleId` is na, only new's `old_id`is na\", df)\n",
    "        print(\"rows with titleId should include nonenglish term\\n\", df)\n",
    "    elif iter == 2:\n",
    "        print(\"###### ITER2 COMPLETE\\n\")\n",
    "        print(\"new_movie deleted na year and include nonmovie type and non us region, nonenglish titiles\", df)\n",
    " ```\n"
   ]
  },
  {
   "cell_type": "code",
   "execution_count": null,
   "metadata": {
    "collapsed": false,
    "pycharm": {
     "name": "#%%\n"
    }
   },
   "outputs": [],
   "source": [
    "set_dir_moviedata()\n",
    "print(os.getcwd())"
   ]
  },
  {
   "cell_type": "code",
   "execution_count": null,
   "metadata": {
    "collapsed": false,
    "pycharm": {
     "name": "#%%\n"
    }
   },
   "outputs": [],
   "source": [
    "old_columns = ['title', 'year']\n",
    "new_columns = ['titleId', 'title', 'year', 'region', 'titleType']\n",
    "iter0_old_movie = pd.read_pickle('old_title.pkl').loc[:, old_columns]\n",
    "iter0_new_movie = pd.read_pickle('new_title.pkl').loc[:, new_columns]\n",
    "\n",
    "iter1_merged = pd.read_csv('iter1_merged_title.tsv', sep = '\\t')"
   ]
  },
  {
   "cell_type": "code",
   "execution_count": null,
   "metadata": {
    "collapsed": false,
    "pycharm": {
     "name": "#%%\n"
    }
   },
   "outputs": [],
   "source": [
    "orphan = ['Ajeossi', 'On the edge of even', 'A day of violence', 'About my father']\n",
    "for o in orphan:\n",
    "    print(o, \"is in old is\", any(iter0_old_movie.title.isin([o])))"
   ]
  },
  {
   "cell_type": "code",
   "execution_count": null,
   "metadata": {
    "collapsed": false,
    "pycharm": {
     "name": "#%%\n"
    }
   },
   "outputs": [],
   "source": [
    "iter1_merged = merged_iter1"
   ]
  },
  {
   "cell_type": "code",
   "execution_count": null,
   "metadata": {
    "collapsed": false,
    "pycharm": {
     "name": "#%%\n"
    }
   },
   "outputs": [],
   "source": [
    "for o in orphan:\n",
    "    print(o, \"is in old is\", any(iter1_merged.title.isin([o])))"
   ]
  },
  {
   "cell_type": "code",
   "execution_count": null,
   "metadata": {
    "collapsed": false,
    "pycharm": {
     "name": "#%%\n"
    }
   },
   "outputs": [],
   "source": [
    "merged_iter1[mergtitle, 'Ajeossi')"
   ]
  },
  {
   "cell_type": "code",
   "execution_count": null,
   "metadata": {
    "collapsed": false,
    "pycharm": {
     "name": "#%%\n"
    }
   },
   "outputs": [],
   "source": [
    "#set_dir_moviedata()\n",
    "make_consistent_title(IS_PKL = False, IS_SAVE= False,  frac =0)\n",
    "# ITER0: DATA READ, CLEANING\n",
    "#old: [2,545,531 rows x 2 columns]\n",
    "#new: [11,578,183 rows x 5 columns]\n",
    "\n",
    "# ITER1: PASSIVE SELECT (OPT OUT) ROWS\n",
    "# remove titles = final, pilot, na / including # or '-0' or '-1'/\n",
    "# outermerge: 8m row, 7 col\n",
    "\n",
    "# ITER 2: ACTIVE SELECT (OPT IN) ROWS: INFER title is ENG or then select ENG\n",
    "# remove titles: df['soft_eng'] = df.title.apply(lambda x: is_english(x))\n",
    "#merged_title_eng_us_movie 50k\n",
    "\n",
    "#ITER 3: INSPECT OLD\\NEW\n",
    "# remove titles: df['strong_eng'] = df.title.apply(lambda x: detect(x)) #\"Anajigoku\" pass iter2, fail iter3 (sw)\n",
    "#none"
   ]
  },
  {
   "cell_type": "code",
   "execution_count": null,
   "metadata": {
    "collapsed": false,
    "pycharm": {
     "name": "#%%\n"
    }
   },
   "outputs": [],
   "source": [
    "old = pd.read_pickle(\"old_title.pkl\")\n",
    "old[old.year == 2006]"
   ]
  },
  {
   "cell_type": "code",
   "execution_count": null,
   "metadata": {
    "collapsed": false,
    "pycharm": {
     "name": "#%%\n"
    }
   },
   "outputs": [],
   "source": [
    "merged_title_iter1 = pd.read_pickle(\"merged_title_iter1.pkl\")\n",
    "merged_title_iter1.shape[0]"
   ]
  },
  {
   "cell_type": "code",
   "execution_count": null,
   "metadata": {
    "collapsed": false,
    "pycharm": {
     "name": "#%%\n"
    }
   },
   "outputs": [],
   "source": [
    "mo_eng_us_movie = sel_region_type(sel_title(merged_title_iter1, 1, characters = ['Pilot', 'Finale'])) # 169k -> 65879\n",
    "mo_eng_us_movie.shape[0]"
   ]
  },
  {
   "cell_type": "code",
   "execution_count": null,
   "metadata": {
    "collapsed": false,
    "pycharm": {
     "name": "#%%\n"
    }
   },
   "outputs": [],
   "source": [
    "mo_eng_us_movie[mo_eng_us_movie.year ==2006]"
   ]
  },
  {
   "cell_type": "code",
   "execution_count": null,
   "metadata": {
    "collapsed": false,
    "pycharm": {
     "name": "#%%\n"
    }
   },
   "outputs": [],
   "source": [
    "mo_eng_us_movie[mo_eng_us_movie.titleId.isnull()]"
   ]
  },
  {
   "cell_type": "code",
   "execution_count": null,
   "metadata": {
    "collapsed": false,
    "pycharm": {
     "name": "#%%\n"
    }
   },
   "outputs": [],
   "source": [
    "merged_title_eng_us_movie = pd.read_pickle('merged_title_eng_us_movie.pkl')\n",
    "merged_title_eng_us_movie"
   ]
  },
  {
   "cell_type": "markdown",
   "metadata": {
    "collapsed": false,
    "pycharm": {
     "name": "#%% md\n"
    }
   },
   "source": [
    "new\\old movies"
   ]
  },
  {
   "cell_type": "code",
   "execution_count": null,
   "metadata": {
    "collapsed": false,
    "pycharm": {
     "name": "#%%\n"
    }
   },
   "outputs": [],
   "source": [
    "new_not_old = mo_eng_us_movie[mo_eng_us_movie.old_id.isnull()]\n",
    "new_not_old"
   ]
  },
  {
   "cell_type": "code",
   "execution_count": null,
   "metadata": {
    "collapsed": false,
    "pycharm": {
     "name": "#%%\n"
    }
   },
   "outputs": [],
   "source": [
    "new_not_old.year.hist()"
   ]
  },
  {
   "cell_type": "code",
   "execution_count": null,
   "metadata": {
    "collapsed": false,
    "pycharm": {
     "name": "#%%\n"
    }
   },
   "outputs": [],
   "source": []
  }
 ],
 "metadata": {
  "kernelspec": {
   "display_name": "Python 3",
   "language": "python",
   "name": "python3"
  },
  "language_info": {
   "codemirror_mode": {
    "name": "ipython",
    "version": 3
   },
   "file_extension": ".py",
   "mimetype": "text/x-python",
   "name": "python",
   "nbconvert_exporter": "python",
   "pygments_lexer": "ipython3",
   "version": "3.9.0"
  }
 },
 "nbformat": 4,
 "nbformat_minor": 0
}